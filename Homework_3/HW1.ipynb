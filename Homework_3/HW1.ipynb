{
 "cells": [
  {
   "cell_type": "code",
   "execution_count": 98,
   "metadata": {
    "collapsed": true
   },
   "outputs": [
    {
     "data": {
      "text/plain": "    Tract  Total poupulation(thousands)  Median school years  \\\n0       1                         5.935                 14.2   \n1       2                         1.523                 13.1   \n2       3                         2.599                 12.7   \n3       4                         4.009                 15.2   \n4       5                         4.687                 14.7   \n5       6                         8.044                 15.6   \n6       7                         2.766                 13.3   \n7       8                         6.538                 17.0   \n8       9                         6.451                 12.9   \n9      10                         3.314                 12.2   \n10     11                         3.777                 13.0   \n11     12                         1.530                 13.8   \n12     13                         2.768                 13.6   \n13     14                         6.585                 14.9   \n\n    Total employment(thousands)  Health services employment(hundreds)  \\\n0                         2.265                                  2.27   \n1                         0.597                                  0.75   \n2                         1.237                                  1.11   \n3                         1.649                                  0.81   \n4                         2.312                                  2.50   \n5                         3.641                                  4.51   \n6                         1.244                                  1.03   \n7                         2.618                                  2.39   \n8                         3.147                                  5.52   \n9                         1.606                                  2.18   \n10                        2.119                                  2.83   \n11                        0.798                                  0.84   \n12                        1.336                                  1.75   \n13                        2.763                                  1.91   \n\n    Median value home($10,000s)  \n0                          2.91  \n1                          2.62  \n2                          1.72  \n3                          3.02  \n4                          2.22  \n5                          2.36  \n6                          1.97  \n7                          1.85  \n8                          2.01  \n9                          1.82  \n10                         1.80  \n11                         4.25  \n12                         2.64  \n13                         3.17  ",
      "text/html": "<div>\n<style scoped>\n    .dataframe tbody tr th:only-of-type {\n        vertical-align: middle;\n    }\n\n    .dataframe tbody tr th {\n        vertical-align: top;\n    }\n\n    .dataframe thead th {\n        text-align: right;\n    }\n</style>\n<table border=\"1\" class=\"dataframe\">\n  <thead>\n    <tr style=\"text-align: right;\">\n      <th></th>\n      <th>Tract</th>\n      <th>Total poupulation(thousands)</th>\n      <th>Median school years</th>\n      <th>Total employment(thousands)</th>\n      <th>Health services employment(hundreds)</th>\n      <th>Median value home($10,000s)</th>\n    </tr>\n  </thead>\n  <tbody>\n    <tr>\n      <th>0</th>\n      <td>1</td>\n      <td>5.935</td>\n      <td>14.2</td>\n      <td>2.265</td>\n      <td>2.27</td>\n      <td>2.91</td>\n    </tr>\n    <tr>\n      <th>1</th>\n      <td>2</td>\n      <td>1.523</td>\n      <td>13.1</td>\n      <td>0.597</td>\n      <td>0.75</td>\n      <td>2.62</td>\n    </tr>\n    <tr>\n      <th>2</th>\n      <td>3</td>\n      <td>2.599</td>\n      <td>12.7</td>\n      <td>1.237</td>\n      <td>1.11</td>\n      <td>1.72</td>\n    </tr>\n    <tr>\n      <th>3</th>\n      <td>4</td>\n      <td>4.009</td>\n      <td>15.2</td>\n      <td>1.649</td>\n      <td>0.81</td>\n      <td>3.02</td>\n    </tr>\n    <tr>\n      <th>4</th>\n      <td>5</td>\n      <td>4.687</td>\n      <td>14.7</td>\n      <td>2.312</td>\n      <td>2.50</td>\n      <td>2.22</td>\n    </tr>\n    <tr>\n      <th>5</th>\n      <td>6</td>\n      <td>8.044</td>\n      <td>15.6</td>\n      <td>3.641</td>\n      <td>4.51</td>\n      <td>2.36</td>\n    </tr>\n    <tr>\n      <th>6</th>\n      <td>7</td>\n      <td>2.766</td>\n      <td>13.3</td>\n      <td>1.244</td>\n      <td>1.03</td>\n      <td>1.97</td>\n    </tr>\n    <tr>\n      <th>7</th>\n      <td>8</td>\n      <td>6.538</td>\n      <td>17.0</td>\n      <td>2.618</td>\n      <td>2.39</td>\n      <td>1.85</td>\n    </tr>\n    <tr>\n      <th>8</th>\n      <td>9</td>\n      <td>6.451</td>\n      <td>12.9</td>\n      <td>3.147</td>\n      <td>5.52</td>\n      <td>2.01</td>\n    </tr>\n    <tr>\n      <th>9</th>\n      <td>10</td>\n      <td>3.314</td>\n      <td>12.2</td>\n      <td>1.606</td>\n      <td>2.18</td>\n      <td>1.82</td>\n    </tr>\n    <tr>\n      <th>10</th>\n      <td>11</td>\n      <td>3.777</td>\n      <td>13.0</td>\n      <td>2.119</td>\n      <td>2.83</td>\n      <td>1.80</td>\n    </tr>\n    <tr>\n      <th>11</th>\n      <td>12</td>\n      <td>1.530</td>\n      <td>13.8</td>\n      <td>0.798</td>\n      <td>0.84</td>\n      <td>4.25</td>\n    </tr>\n    <tr>\n      <th>12</th>\n      <td>13</td>\n      <td>2.768</td>\n      <td>13.6</td>\n      <td>1.336</td>\n      <td>1.75</td>\n      <td>2.64</td>\n    </tr>\n    <tr>\n      <th>13</th>\n      <td>14</td>\n      <td>6.585</td>\n      <td>14.9</td>\n      <td>2.763</td>\n      <td>1.91</td>\n      <td>3.17</td>\n    </tr>\n  </tbody>\n</table>\n</div>"
     },
     "execution_count": 98,
     "metadata": {},
     "output_type": "execute_result"
    }
   ],
   "source": [
    "import pandas as pd\n",
    "\n",
    "Data = pd.read_csv('HW1_census-tract_data.csv')\n",
    "Data.loc[0,:]\n",
    "Data"
   ]
  },
  {
   "cell_type": "code",
   "execution_count": 99,
   "outputs": [
    {
     "data": {
      "text/plain": "array([[  5.935,  14.2  ,   2.265,   2.27 , 291.   ],\n       [  1.523,  13.1  ,   0.597,   0.75 , 262.   ],\n       [  2.599,  12.7  ,   1.237,   1.11 , 172.   ],\n       [  4.009,  15.2  ,   1.649,   0.81 , 302.   ],\n       [  4.687,  14.7  ,   2.312,   2.5  , 222.   ],\n       [  8.044,  15.6  ,   3.641,   4.51 , 236.   ],\n       [  2.766,  13.3  ,   1.244,   1.03 , 197.   ],\n       [  6.538,  17.   ,   2.618,   2.39 , 185.   ],\n       [  6.451,  12.9  ,   3.147,   5.52 , 201.   ],\n       [  3.314,  12.2  ,   1.606,   2.18 , 182.   ],\n       [  3.777,  13.   ,   2.119,   2.83 , 180.   ],\n       [  1.53 ,  13.8  ,   0.798,   0.84 , 425.   ],\n       [  2.768,  13.6  ,   1.336,   1.75 , 264.   ],\n       [  6.585,  14.9  ,   2.763,   1.91 , 317.   ]])"
     },
     "execution_count": 99,
     "metadata": {},
     "output_type": "execute_result"
    }
   ],
   "source": [
    "import numpy as np\n",
    "#Column6_Multiplied_by_100 = Data['Median value home($10,000s)'].apply(lambda x:x*100)\n",
    "Data.loc[:,'Median value home($10,000s)'] *= 100\n",
    "\n",
    "# Drop \"tract\"\n",
    "Drop_Tract = Data.drop(columns=['Tract'])\n",
    "Column6_Multiplied_by_100 = Drop_Tract.to_numpy()\n",
    "Column6_Multiplied_by_100\n",
    "#np.array(Column6_Multiplied_by_100).shape\n",
    "#Column6_Multiplied_by_100 = np.resize(Column6_Multiplied_by_100, [14,1])"
   ],
   "metadata": {
    "collapsed": false,
    "pycharm": {
     "name": "#%%\n"
    }
   }
  },
  {
   "cell_type": "code",
   "execution_count": 100,
   "outputs": [
    {
     "name": "stdout",
     "output_type": "stream",
     "text": [
      "(14, 14)\n"
     ]
    }
   ],
   "source": [
    "Covariance_Matrix_S = np.cov(Column6_Multiplied_by_100)\n",
    "print(np.array(Covariance_Matrix_S).shape)\n"
   ],
   "metadata": {
    "collapsed": false,
    "pycharm": {
     "name": "#%%\n"
    }
   }
  },
  {
   "cell_type": "markdown",
   "source": [
    "##### Test"
   ],
   "metadata": {
    "collapsed": false,
    "pycharm": {
     "name": "#%% md\n"
    }
   }
  },
  {
   "cell_type": "code",
   "execution_count": null,
   "outputs": [],
   "source": [
    "A = [1,2]\n",
    "B = [3,4]\n",
    "S = np.cov(A,B)\n",
    "print(S)"
   ],
   "metadata": {
    "collapsed": false,
    "pycharm": {
     "name": "#%%\n"
    }
   }
  }
 ],
 "metadata": {
  "kernelspec": {
   "display_name": "Python 3",
   "language": "python",
   "name": "python3"
  },
  "language_info": {
   "codemirror_mode": {
    "name": "ipython",
    "version": 2
   },
   "file_extension": ".py",
   "mimetype": "text/x-python",
   "name": "python",
   "nbconvert_exporter": "python",
   "pygments_lexer": "ipython2",
   "version": "2.7.6"
  }
 },
 "nbformat": 4,
 "nbformat_minor": 0
}