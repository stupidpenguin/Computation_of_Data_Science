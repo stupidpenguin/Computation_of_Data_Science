{
 "cells": [
  {
   "cell_type": "code",
   "execution_count": 7,
   "metadata": {
    "collapsed": true
   },
   "outputs": [
    {
     "data": {
      "text/plain": "    Tract  Total poupulation(thousands)  Median school years  \\\n0       1                         5.935                 14.2   \n1       2                         1.523                 13.1   \n2       3                         2.599                 12.7   \n3       4                         4.009                 15.2   \n4       5                         4.687                 14.7   \n5       6                         8.044                 15.6   \n6       7                         2.766                 13.3   \n7       8                         6.538                 17.0   \n8       9                         6.451                 12.9   \n9      10                         3.314                 12.2   \n10     11                         3.777                 13.0   \n11     12                         1.530                 13.8   \n12     13                         2.768                 13.6   \n13     14                         6.585                 14.9   \n\n    Total employment(thousands)  Health services employment(hundreds)  \\\n0                         2.265                                  2.27   \n1                         0.597                                  0.75   \n2                         1.237                                  1.11   \n3                         1.649                                  0.81   \n4                         2.312                                  2.50   \n5                         3.641                                  4.51   \n6                         1.244                                  1.03   \n7                         2.618                                  2.39   \n8                         3.147                                  5.52   \n9                         1.606                                  2.18   \n10                        2.119                                  2.83   \n11                        0.798                                  0.84   \n12                        1.336                                  1.75   \n13                        2.763                                  1.91   \n\n    Median value home($10,000s)  \n0                          2.91  \n1                          2.62  \n2                          1.72  \n3                          3.02  \n4                          2.22  \n5                          2.36  \n6                          1.97  \n7                          1.85  \n8                          2.01  \n9                          1.82  \n10                         1.80  \n11                         4.25  \n12                         2.64  \n13                         3.17  ",
      "text/html": "<div>\n<style scoped>\n    .dataframe tbody tr th:only-of-type {\n        vertical-align: middle;\n    }\n\n    .dataframe tbody tr th {\n        vertical-align: top;\n    }\n\n    .dataframe thead th {\n        text-align: right;\n    }\n</style>\n<table border=\"1\" class=\"dataframe\">\n  <thead>\n    <tr style=\"text-align: right;\">\n      <th></th>\n      <th>Tract</th>\n      <th>Total poupulation(thousands)</th>\n      <th>Median school years</th>\n      <th>Total employment(thousands)</th>\n      <th>Health services employment(hundreds)</th>\n      <th>Median value home($10,000s)</th>\n    </tr>\n  </thead>\n  <tbody>\n    <tr>\n      <th>0</th>\n      <td>1</td>\n      <td>5.935</td>\n      <td>14.2</td>\n      <td>2.265</td>\n      <td>2.27</td>\n      <td>2.91</td>\n    </tr>\n    <tr>\n      <th>1</th>\n      <td>2</td>\n      <td>1.523</td>\n      <td>13.1</td>\n      <td>0.597</td>\n      <td>0.75</td>\n      <td>2.62</td>\n    </tr>\n    <tr>\n      <th>2</th>\n      <td>3</td>\n      <td>2.599</td>\n      <td>12.7</td>\n      <td>1.237</td>\n      <td>1.11</td>\n      <td>1.72</td>\n    </tr>\n    <tr>\n      <th>3</th>\n      <td>4</td>\n      <td>4.009</td>\n      <td>15.2</td>\n      <td>1.649</td>\n      <td>0.81</td>\n      <td>3.02</td>\n    </tr>\n    <tr>\n      <th>4</th>\n      <td>5</td>\n      <td>4.687</td>\n      <td>14.7</td>\n      <td>2.312</td>\n      <td>2.50</td>\n      <td>2.22</td>\n    </tr>\n    <tr>\n      <th>5</th>\n      <td>6</td>\n      <td>8.044</td>\n      <td>15.6</td>\n      <td>3.641</td>\n      <td>4.51</td>\n      <td>2.36</td>\n    </tr>\n    <tr>\n      <th>6</th>\n      <td>7</td>\n      <td>2.766</td>\n      <td>13.3</td>\n      <td>1.244</td>\n      <td>1.03</td>\n      <td>1.97</td>\n    </tr>\n    <tr>\n      <th>7</th>\n      <td>8</td>\n      <td>6.538</td>\n      <td>17.0</td>\n      <td>2.618</td>\n      <td>2.39</td>\n      <td>1.85</td>\n    </tr>\n    <tr>\n      <th>8</th>\n      <td>9</td>\n      <td>6.451</td>\n      <td>12.9</td>\n      <td>3.147</td>\n      <td>5.52</td>\n      <td>2.01</td>\n    </tr>\n    <tr>\n      <th>9</th>\n      <td>10</td>\n      <td>3.314</td>\n      <td>12.2</td>\n      <td>1.606</td>\n      <td>2.18</td>\n      <td>1.82</td>\n    </tr>\n    <tr>\n      <th>10</th>\n      <td>11</td>\n      <td>3.777</td>\n      <td>13.0</td>\n      <td>2.119</td>\n      <td>2.83</td>\n      <td>1.80</td>\n    </tr>\n    <tr>\n      <th>11</th>\n      <td>12</td>\n      <td>1.530</td>\n      <td>13.8</td>\n      <td>0.798</td>\n      <td>0.84</td>\n      <td>4.25</td>\n    </tr>\n    <tr>\n      <th>12</th>\n      <td>13</td>\n      <td>2.768</td>\n      <td>13.6</td>\n      <td>1.336</td>\n      <td>1.75</td>\n      <td>2.64</td>\n    </tr>\n    <tr>\n      <th>13</th>\n      <td>14</td>\n      <td>6.585</td>\n      <td>14.9</td>\n      <td>2.763</td>\n      <td>1.91</td>\n      <td>3.17</td>\n    </tr>\n  </tbody>\n</table>\n</div>"
     },
     "execution_count": 7,
     "metadata": {},
     "output_type": "execute_result"
    }
   ],
   "source": [
    "import pandas as pd\n",
    "from numpy import linalg as LA\n",
    "from sklearn import decomposition, preprocessing\n",
    "\n",
    "Data = pd.read_csv('HW1_census-tract_data.csv')\n",
    "Data.loc[0,:]\n",
    "Data"
   ]
  },
  {
   "cell_type": "code",
   "execution_count": 8,
   "outputs": [],
   "source": [
    "import numpy as np\n",
    "np.set_printoptions(precision=3)\n",
    "# Change the unit of 'Medina value home\" from ten thousands to hundred.\n",
    "# Data.loc[:,'Median value home($10,000s)'] *= 100 # (10,000/100)\n",
    "\n",
    "# Convert Dataframe to numpy array, drop the irrelevant column \"tract\".\n",
    "Drop_Tract = Data.drop(columns=['Tract'])\n",
    "# Convert Dataframe to numpy\n",
    "Column6_Multiplied_by_100 = Drop_Tract.to_numpy()\n",
    "# Transpose the data for covariance matrix computation.\n",
    "Column6_Multiplied_by_100 = np.transpose(Column6_Multiplied_by_100)\n",
    "\n",
    "# Check the shape of data after converting.\n",
    "#np.array(Column6_Multiplied_by_100).shape\n",
    "\n",
    "MSY = Data[\"Median school years\"]\n",
    "HSE = Data[\"Health services employment(hundreds)\"]"
   ],
   "metadata": {
    "collapsed": false,
    "pycharm": {
     "name": "#%%\n"
    }
   }
  },
  {
   "cell_type": "code",
   "execution_count": 9,
   "outputs": [
    {
     "name": "stdout",
     "output_type": "stream",
     "text": [
      "shape of the Covariance Matrix: (5, 5)\n",
      "Covariance Matrix:\n"
     ]
    },
    {
     "data": {
      "text/plain": "array([[ 4.308,  1.684,  1.803,  2.155, -0.253],\n       [ 1.684,  1.767,  0.588,  0.178,  0.176],\n       [ 1.803,  0.588,  0.801,  1.065, -0.158],\n       [ 2.155,  0.178,  1.065,  1.969, -0.357],\n       [-0.253,  0.176, -0.158, -0.357,  0.504]])"
     },
     "execution_count": 9,
     "metadata": {},
     "output_type": "execute_result"
    }
   ],
   "source": [
    "Covariance_Matrix_S = np.cov(Column6_Multiplied_by_100)\n",
    "print(f'shape of the Covariance Matrix: {np.array(Covariance_Matrix_S).shape}')\n",
    "print(f'Covariance Matrix:')\n",
    "Covariance_Matrix_S"
   ],
   "metadata": {
    "collapsed": false,
    "pycharm": {
     "name": "#%%\n"
    }
   }
  },
  {
   "cell_type": "markdown",
   "source": [
    "##### (b)-1, Obtain eigenvalue-eigenvector pairs"
   ],
   "metadata": {
    "collapsed": false,
    "pycharm": {
     "name": "#%% md\n"
    }
   }
  },
  {
   "cell_type": "code",
   "execution_count": 10,
   "outputs": [
    {
     "name": "stdout",
     "output_type": "stream",
     "text": [
      "eigenvalues:\n",
      "[6.931 1.785 0.39  0.23  0.014]\n",
      "eigenvectors:\n",
      "[[-0.781 -0.071  0.004 -0.542  0.302]\n",
      " [-0.306 -0.764 -0.162  0.545  0.009]\n",
      " [-0.334  0.083  0.015 -0.051 -0.937]\n",
      " [-0.426  0.579  0.22   0.636  0.172]\n",
      " [ 0.054 -0.262  0.962 -0.051 -0.025]]\n"
     ]
    }
   ],
   "source": [
    "eigenvalues, eigenvectors = LA.eig(Covariance_Matrix_S)\n",
    "\n",
    "# sort the eigenvalues in ascending order.\n",
    "index = np.flip(np.argsort(eigenvalues))\n",
    "eigenvalues = eigenvalues[index]\n",
    "eigenvectors = eigenvectors[:,index]\n",
    "\n",
    "print(f'eigenvalues:\\n{eigenvalues}')\n",
    "print(f'eigenvectors:\\n{eigenvectors}')\n",
    "\n",
    "# a = eigenvectors[0,:]\n",
    "# b = eigenvectors[1,:]\n",
    "# print(a)\n",
    "# print(b)\n",
    "# print(np.inner(a,b))"
   ],
   "metadata": {
    "collapsed": false,
    "pycharm": {
     "name": "#%%\n"
    }
   }
  },
  {
   "cell_type": "markdown",
   "source": [
    "---\n",
    "##### (b)-2, Obtain the first two sample principal components for the covariance matrix.\n",
    "* reference: https://stackoverflow.com/questions/43355044/cumulative-explained-variance-for-pca-in-python"
   ],
   "metadata": {
    "collapsed": false,
    "pycharm": {
     "name": "#%% md\n"
    }
   }
  },
  {
   "cell_type": "code",
   "execution_count": 11,
   "outputs": [
    {
     "name": "stdout",
     "output_type": "stream",
     "text": [
      "PCA(n_components=5, svd_solver='full')\n",
      "Components:\n",
      "  [[ 0.781  0.306  0.334  0.426 -0.054]\n",
      " [-0.071 -0.764  0.083  0.579 -0.262]\n",
      " [ 0.004 -0.162  0.015  0.22   0.962]\n",
      " [ 0.542 -0.545  0.051 -0.636  0.051]\n",
      " [-0.302 -0.009  0.937 -0.172  0.025]]\n",
      "(explained) Variance:\n",
      "  [6.931 1.785 0.39  0.23  0.014]\n",
      "Ratio of (explained) Variance:\n",
      "  [0.741 0.191 0.042 0.025 0.002]\n",
      "Cumulative percentage of total variance:\n",
      "  [0.7413268330424228, 0.9322605150253773, 0.9739363013351573, 0.9984860254881521, 0.9999999999999999]\n"
     ]
    }
   ],
   "source": [
    "# Normalize the covariance matrix\n",
    "# pca_data = Covariance_Matrix_S\n",
    "# pca_data = preprocessing.normalize(Column6_Multiplied_by_100)\n",
    "Column6_Multiplied_by_100 = np.transpose(Column6_Multiplied_by_100)\n",
    "pca_data = Column6_Multiplied_by_100\n",
    "#print(pca_data)\n",
    "\n",
    "# Principal_Components = pca.transform(pca_data)\n",
    "\n",
    "pca = decomposition.PCA(n_components=5, svd_solver=\"full\")\n",
    "print(pca)\n",
    "pca.fit(pca_data)\n",
    "print(f'Components:\\n  {pca.components_}')\n",
    "print(f'(explained) Variance:\\n  {pca.explained_variance_}')\n",
    "print(f'Ratio of (explained) Variance:\\n  {pca.explained_variance_ratio_}')\n",
    "\n",
    "cum_explained_var = []\n",
    "for i in range(0, len(pca.explained_variance_ratio_)):\n",
    "    if i == 0:\n",
    "        cum_explained_var.append(pca.explained_variance_ratio_[i])\n",
    "    else:\n",
    "        cum_explained_var.append(pca.explained_variance_ratio_[i]\n",
    "                                 + cum_explained_var[i-1])\n",
    "\n",
    "print(f'Cumulative percentage of total variance:\\n  {cum_explained_var}')"
   ],
   "metadata": {
    "collapsed": false,
    "pycharm": {
     "name": "#%%\n"
    }
   }
  },
  {
   "cell_type": "code",
   "source": [
    "# Calculate the correlation coefficients\n",
    "Correlation_coefficients_matrix = np.corrcoef(Column6_Multiplied_by_100)\n",
    "print(Correlation_coefficients_matrix)\n",
    "\n",
    "MSY_var = np.var(MSY)   #1.6412\n",
    "HSE_var = np.var(HSE)   #1.8288\n",
    "\n",
    "# print(HSE_var)"
   ],
   "metadata": {
    "collapsed": false,
    "pycharm": {
     "name": "#%%\n"
    }
   },
   "execution_count": 12,
   "outputs": [
    {
     "name": "stdout",
     "output_type": "stream",
     "text": [
      "[[1.    0.956 0.982 0.987 0.992 0.978 0.983 0.996 0.942 0.985 0.98  0.926\n",
      "  0.974 0.998]\n",
      " [0.956 1.    0.99  0.987 0.972 0.895 0.992 0.944 0.871 0.98  0.97  0.993\n",
      "  0.996 0.947]\n",
      " [0.982 0.99  1.    0.994 0.995 0.946 1.    0.979 0.922 0.997 0.992 0.968\n",
      "  0.998 0.975]\n",
      " [0.987 0.987 0.994 1.    0.988 0.938 0.996 0.977 0.897 0.987 0.978 0.971\n",
      "  0.992 0.985]\n",
      " [0.992 0.972 0.995 0.988 1.    0.974 0.993 0.994 0.953 0.998 0.997 0.939\n",
      "  0.988 0.985]\n",
      " [0.978 0.895 0.946 0.938 0.974 1.    0.943 0.99  0.983 0.963 0.969 0.842\n",
      "  0.929 0.973]\n",
      " [0.983 0.992 1.    0.996 0.993 0.943 1.    0.978 0.916 0.995 0.99  0.971\n",
      "  0.998 0.976]\n",
      " [0.996 0.944 0.979 0.977 0.994 0.99  0.978 1.    0.96  0.986 0.986 0.904\n",
      "  0.967 0.993]\n",
      " [0.942 0.871 0.922 0.897 0.953 0.983 0.916 0.96  1.    0.949 0.961 0.811\n",
      "  0.909 0.926]\n",
      " [0.985 0.98  0.997 0.987 0.998 0.963 0.995 0.986 0.949 1.    0.999 0.95\n",
      "  0.993 0.975]\n",
      " [0.98  0.97  0.992 0.978 0.997 0.969 0.99  0.986 0.961 0.999 1.    0.935\n",
      "  0.987 0.969]\n",
      " [0.926 0.993 0.968 0.971 0.939 0.842 0.971 0.904 0.811 0.95  0.935 1.\n",
      "  0.98  0.917]\n",
      " [0.974 0.996 0.998 0.992 0.988 0.929 0.998 0.967 0.909 0.993 0.987 0.98\n",
      "  1.    0.964]\n",
      " [0.998 0.947 0.975 0.985 0.985 0.973 0.976 0.993 0.926 0.975 0.969 0.917\n",
      "  0.964 1.   ]]\n"
     ]
    }
   ]
  }
 ],
 "metadata": {
  "kernelspec": {
   "display_name": "Python 3",
   "language": "python",
   "name": "python3"
  },
  "language_info": {
   "codemirror_mode": {
    "name": "ipython",
    "version": 2
   },
   "file_extension": ".py",
   "mimetype": "text/x-python",
   "name": "python",
   "nbconvert_exporter": "python",
   "pygments_lexer": "ipython2",
   "version": "2.7.6"
  }
 },
 "nbformat": 4,
 "nbformat_minor": 0
}