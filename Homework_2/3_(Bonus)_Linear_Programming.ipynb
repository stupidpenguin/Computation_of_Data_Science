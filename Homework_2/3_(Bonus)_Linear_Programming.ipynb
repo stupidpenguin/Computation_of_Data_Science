{
 "cells": [
  {
   "cell_type": "markdown",
   "metadata": {
    "collapsed": true,
    "pycharm": {
     "name": "#%% md\n"
    }
   },
   "source": [
    "#### Question 1 with SA"
   ]
  },
  {
   "cell_type": "code",
   "execution_count": 10,
   "outputs": [
    {
     "name": "stdout",
     "output_type": "stream",
     "text": [
      "init_temp = -23.0\n"
     ]
    }
   ],
   "source": [
    "# hyperparameters:\n",
    "NO_UPDATE_TIMES = 10e4 #10e4\n",
    "\n",
    "# Define iteration numbers\n",
    "n = 2 #2\n",
    "\n",
    "# Set temperature reduction factor\n",
    "c = 0.5\n",
    "\n",
    "import numpy as np\n",
    "\n",
    "def f(x):\n",
    "    return -(x**5)+5*(x**3)+20*x-5\n",
    "\n",
    "def get_random(low, high, unit):\n",
    "    return np.random.uniform(low, high, unit)\n",
    "\n",
    "selected_4pts = [-2, 0, 1, 3]\n",
    "rand_4pts = []\n",
    "for i in range(len(selected_4pts)):\n",
    "    rand_4pts.append(f(selected_4pts[i]))\n",
    "init_temp = np.mean(rand_4pts)\n",
    "\n",
    "# set initial design point\n",
    "x = 0\n",
    "SA = []\n",
    "\n",
    "## Some Initializations\n",
    "no_update_times = 0\n",
    "des_x = x\n",
    "temp = init_temp\n",
    "print(f'init_temp = {init_temp}')\n",
    "iters_sum = 0\n",
    "while(no_update_times<=NO_UPDATE_TIMES):\n",
    "\n",
    "    iter = 0\n",
    "\n",
    "    while((iter<=n)&(no_update_times<=NO_UPDATE_TIMES)):\n",
    "        # Compute current_state\n",
    "        current_state = f(des_x)\n",
    "\n",
    "        # randomly select an uniformly distributed r.v.\n",
    "        u = get_random(0, 1, 1)\n",
    "\n",
    "        # set ranges as +- 6\n",
    "        r = des_x+u*12-6\n",
    "        while(np.abs(r)>4):\n",
    "            #print(f'r={r}>4')\n",
    "            u = get_random(0, 1, 1)\n",
    "            r = des_x+u*12-6\n",
    "        attempt_state = f(r)\n",
    "\n",
    "        # Step 3 and Step 4\n",
    "        del_f = attempt_state - current_state\n",
    "\n",
    "        if del_f>0:\n",
    "            #print(f'del_f:{del_f}')\n",
    "            c = get_random(0, 1, 1)\n",
    "            Prob_of_X_2 = np.exp(-del_f/(1*temp))\n",
    "            #print(f' r = {r} , $P(X_2)$ = {Prob_of_X_2}')\n",
    "            if Prob_of_X_2 > c:\n",
    "                des_x = r\n",
    "                #print(f'! assign new design (x) = {des_x}')\n",
    "                SA.append(float(f(des_x)))\n",
    "                current_state = attempt_state\n",
    "                temp = c*temp\n",
    "                no_update_times = 0\n",
    "        else:\n",
    "            no_update_times +=1\n",
    "\n",
    "        iter += 1\n",
    "        iters_sum += 1"
   ],
   "metadata": {
    "collapsed": false,
    "pycharm": {
     "name": "#%%\n"
    }
   }
  },
  {
   "cell_type": "markdown",
   "source": [
    "#### FE plot"
   ],
   "metadata": {
    "collapsed": false,
    "pycharm": {
     "name": "#%% md\n"
    }
   }
  },
  {
   "cell_type": "code",
   "execution_count": 11,
   "outputs": [
    {
     "data": {
      "text/plain": "<Figure size 432x288 with 1 Axes>",
      "image/png": "[encoded data removed]"
     },
     "metadata": {
      "needs_background": "light"
     },
     "output_type": "display_data"
    }
   ],
   "source": [
    "import matplotlib.pyplot as plt\n",
    "plt.stairs(SA, label='Simulated Annealing', baseline=None)\n",
    "\n",
    "plt.xlabel('Iterations')\n",
    "plt.ylabel('Objective Function Value')\n",
    "plt.title('FE plot')\n",
    "# plt.xlim()\n",
    "# plt.ylim()\n",
    "plt.grid(axis='y', color='0.95')\n",
    "\n",
    "plt.legend(loc=4)\n",
    "\n",
    "plt.show()\n"
   ],
   "metadata": {
    "collapsed": false,
    "pycharm": {
     "name": "#%%\n"
    }
   }
  }
 ],
 "metadata": {
  "kernelspec": {
   "display_name": "Python 3",
   "language": "python",
   "name": "python3"
  },
  "language_info": {
   "codemirror_mode": {
    "name": "ipython",
    "version": 2
   },
   "file_extension": ".py",
   "mimetype": "text/x-python",
   "name": "python",
   "nbconvert_exporter": "python",
   "pygments_lexer": "ipython2",
   "version": "2.7.6"
  }
 },
 "nbformat": 4,
 "nbformat_minor": 0
}