{
 "cells": [
  {
   "cell_type": "code",
   "execution_count": 128,
   "outputs": [],
   "source": [
    "# Hyperparameters\n",
    "POPULATION_SIZE = 8\n",
    "MAXIMUM_WEIGHT = 450    #529"
   ],
   "metadata": {
    "collapsed": false,
    "pycharm": {
     "name": "#%%\n"
    }
   }
  },
  {
   "cell_type": "markdown",
   "source": [
    "### GA的順序\n",
    "evalutation $\\rightarrow$ selection $\\rightarrow$ crossover $\\rightarrow$ mutation\n",
    "### 要注意的地方\n",
    "1. 除了 Equipment, 每種 Type 只能選一個 Item.\n",
    "2. Maximum weight 529 units. (後暫時更改為450)\n",
    "3. At least one knife, one pistol and one equipment in inventory bag.\n",
    "4. 指定GA內部operators - 使用 roulette-wheel selection, uniform crossover (p=0.1), multi bit flip\n",
    "5.\n",
    "\n",
    "* 下列組合 - extra credits (依 主武器、副武器、小刀 及 裝備 排序）\n",
    "    * (Leone YG1265, Desert Eagle, - , shield) S.P. +25\n",
    "    * (Krieg 500, Desert Eagle, - , shield) S.P. +25\n",
    "    * All three equipments packed (Gas Mask + NV Goggle + Shield) S.P. +70"
   ],
   "metadata": {
    "collapsed": false
   }
  },
  {
   "cell_type": "markdown",
   "source": [
    "#### Data Processing"
   ],
   "metadata": {
    "collapsed": false,
    "pycharm": {
     "name": "#%% md\n"
    }
   }
  },
  {
   "cell_type": "code",
   "execution_count": 129,
   "outputs": [
    {
     "data": {
      "text/plain": "                         Item       Type  Weight  Survival_Points\n0              Shadow_Daggers      Knife     3.3                7\n1              Huntsman_Knife      Knife     3.4                8\n2                   Gut_Knife      Knife     6.0               13\n3         228_Compact_Handgun    Pistols    26.1               29\n4                  Night_Hawk    Pistols    37.6               48\n5         Desert_Eagle_Magnum    Pistols    62.5               99\n6           Ingram_MAC-10_SMG    Primary   100.2              177\n7   Leone_YG1265_Auto_Shotgun    Primary   141.1              213\n8                M4A1_Carbine    Primary   119.2              202\n9                 AK-47_Rifle    Primary   122.4              210\n10    Krieg_550_Sniper_Rifles    Primary   247.6              380\n11           M249_Machine_Gun    Primary   352.0              485\n12                   Gas_Mask  Equipment    24.2                9\n13        Night-Vision_Goggle  Equipment    32.1               12\n14            Tactical_Shield  Equipment    42.5               15",
      "text/html": "<div>\n<style scoped>\n    .dataframe tbody tr th:only-of-type {\n        vertical-align: middle;\n    }\n\n    .dataframe tbody tr th {\n        vertical-align: top;\n    }\n\n    .dataframe thead th {\n        text-align: right;\n    }\n</style>\n<table border=\"1\" class=\"dataframe\">\n  <thead>\n    <tr style=\"text-align: right;\">\n      <th></th>\n      <th>Item</th>\n      <th>Type</th>\n      <th>Weight</th>\n      <th>Survival_Points</th>\n    </tr>\n  </thead>\n  <tbody>\n    <tr>\n      <th>0</th>\n      <td>Shadow_Daggers</td>\n      <td>Knife</td>\n      <td>3.3</td>\n      <td>7</td>\n    </tr>\n    <tr>\n      <th>1</th>\n      <td>Huntsman_Knife</td>\n      <td>Knife</td>\n      <td>3.4</td>\n      <td>8</td>\n    </tr>\n    <tr>\n      <th>2</th>\n      <td>Gut_Knife</td>\n      <td>Knife</td>\n      <td>6.0</td>\n      <td>13</td>\n    </tr>\n    <tr>\n      <th>3</th>\n      <td>228_Compact_Handgun</td>\n      <td>Pistols</td>\n      <td>26.1</td>\n      <td>29</td>\n    </tr>\n    <tr>\n      <th>4</th>\n      <td>Night_Hawk</td>\n      <td>Pistols</td>\n      <td>37.6</td>\n      <td>48</td>\n    </tr>\n    <tr>\n      <th>5</th>\n      <td>Desert_Eagle_Magnum</td>\n      <td>Pistols</td>\n      <td>62.5</td>\n      <td>99</td>\n    </tr>\n    <tr>\n      <th>6</th>\n      <td>Ingram_MAC-10_SMG</td>\n      <td>Primary</td>\n      <td>100.2</td>\n      <td>177</td>\n    </tr>\n    <tr>\n      <th>7</th>\n      <td>Leone_YG1265_Auto_Shotgun</td>\n      <td>Primary</td>\n      <td>141.1</td>\n      <td>213</td>\n    </tr>\n    <tr>\n      <th>8</th>\n      <td>M4A1_Carbine</td>\n      <td>Primary</td>\n      <td>119.2</td>\n      <td>202</td>\n    </tr>\n    <tr>\n      <th>9</th>\n      <td>AK-47_Rifle</td>\n      <td>Primary</td>\n      <td>122.4</td>\n      <td>210</td>\n    </tr>\n    <tr>\n      <th>10</th>\n      <td>Krieg_550_Sniper_Rifles</td>\n      <td>Primary</td>\n      <td>247.6</td>\n      <td>380</td>\n    </tr>\n    <tr>\n      <th>11</th>\n      <td>M249_Machine_Gun</td>\n      <td>Primary</td>\n      <td>352.0</td>\n      <td>485</td>\n    </tr>\n    <tr>\n      <th>12</th>\n      <td>Gas_Mask</td>\n      <td>Equipment</td>\n      <td>24.2</td>\n      <td>9</td>\n    </tr>\n    <tr>\n      <th>13</th>\n      <td>Night-Vision_Goggle</td>\n      <td>Equipment</td>\n      <td>32.1</td>\n      <td>12</td>\n    </tr>\n    <tr>\n      <th>14</th>\n      <td>Tactical_Shield</td>\n      <td>Equipment</td>\n      <td>42.5</td>\n      <td>15</td>\n    </tr>\n  </tbody>\n</table>\n</div>"
     },
     "execution_count": 129,
     "metadata": {},
     "output_type": "execute_result"
    }
   ],
   "source": [
    "#### read csv files as dataframe\n",
    "import pandas as pd\n",
    "import numpy as np\n",
    "\n",
    "List_of_Gear = pd.read_csv('List_of_gear.csv')\n",
    "List_of_Gear"
   ],
   "metadata": {
    "collapsed": false,
    "pycharm": {
     "name": "#%%\n"
    }
   }
  },
  {
   "cell_type": "markdown",
   "source": [
    "#### Pre-work for later data processing"
   ],
   "metadata": {
    "collapsed": false,
    "pycharm": {
     "name": "#%% md\n"
    }
   }
  },
  {
   "cell_type": "code",
   "execution_count": 130,
   "outputs": [],
   "source": [
    "## Create an Item - Weight mapping\n",
    "Weight_Map = List_of_Gear.iloc[:,2].to_numpy()\n",
    "#print(Weight_Map)\n",
    "## Create an Item - Survival_Points mapping\n",
    "Survival_Points_Map = List_of_Gear.iloc[:,3].to_numpy()\n",
    "#print(Survival_Points_Map)"
   ],
   "metadata": {
    "collapsed": false,
    "pycharm": {
     "name": "#%%\n"
    }
   }
  },
  {
   "cell_type": "markdown",
   "source": [
    "#### Some Methods"
   ],
   "metadata": {
    "collapsed": false,
    "pycharm": {
     "name": "#%% md\n"
    }
   }
  },
  {
   "cell_type": "code",
   "execution_count": 136,
   "outputs": [
    {
     "name": "stdout",
     "output_type": "stream",
     "text": [
      "Population successfully created.\n",
      "Population shape:(8, 15)\n",
      "A:[247, 359, 374, 257, 315, 226, 272, 277]\n",
      "max:374\n",
      "[247, 606, 980, 1237, 1552, 1778, 2050, 2327]\n",
      "Matepool:\n",
      "[array([1., 0., 0., 0., 1., 0., 0., 1., 0., 0., 0., 0., 1., 0., 0.]), array([0., 0., 1., 0., 0., 1., 0., 1., 0., 0., 0., 0., 1., 0., 1.]), array([1., 0., 0., 0., 0., 1., 0., 1., 0., 0., 0., 0., 0., 0., 1.]), array([0., 1., 0., 1., 0., 0., 1., 0., 0., 0., 0., 0., 0., 1., 0.])]\n",
      "shape of Matepool: (4, 15)\n",
      "Population: [array([1., 0., 0., 0., 1., 0., 1., 0., 0., 0., 0., 0., 0., 0., 1.]), array([1., 0., 0., 0., 0., 1., 0., 1., 0., 0., 0., 0., 0., 0., 1.]), array([0., 0., 1., 0., 0., 1., 0., 1., 0., 0., 0., 0., 1., 0., 1.]), array([0., 1., 0., 0., 1., 0., 1., 0., 0., 0., 0., 0., 1., 0., 1.]), array([1., 0., 0., 0., 0., 1., 1., 0., 0., 0., 0., 0., 0., 1., 1.]), array([0., 1., 0., 1., 0., 0., 1., 0., 0., 0., 0., 0., 0., 1., 0.]), array([1., 0., 0., 0., 1., 0., 0., 0., 1., 0., 0., 0., 0., 0., 0.]), array([1., 0., 0., 0., 1., 0., 0., 1., 0., 0., 0., 0., 1., 0., 0.])]\n",
      "len(Population): 8\n",
      "Population[0]: [1. 0. 0. 0. 1. 0. 1. 0. 0. 0. 0. 0. 0. 0. 1.]\n",
      "183.6\n"
     ]
    }
   ],
   "source": [
    "import numpy as np\n",
    "\n",
    "def Check_Overweight(Given_Array):\n",
    "    Weight = Weight_Mapping(Given_Array)\n",
    "    if Weight <= MAXIMUM_WEIGHT:\n",
    "        return 0\n",
    "    else:\n",
    "        return 1\n",
    "\n",
    "def Survival_Points_Mapping(Given_Array):\n",
    "    Sum_of_Survival_Points = 0\n",
    "    for i in range(len(Given_Array)):\n",
    "        if Given_Array[i] == 1:\n",
    "            Sum_of_Survival_Points += Survival_Points_Map[i]\n",
    "    # Extra Points\n",
    "        ## YG1265 or Krieg 500 + Desert Eagle + tactical shield, survival points +25\n",
    "    if(((Given_Array[7]==1)|(Given_Array[10]==1))&(Given_Array[5]==Given_Array[14]==1)):\n",
    "        Sum_of_Survival_Points += 25\n",
    "        ## shadow dagger + desert eagle, survival points +5\n",
    "    elif(Given_Array[0]==Given_Array[5]==1):\n",
    "        Sum_of_Survival_Points += 5\n",
    "        ## 228 Compact + AK-47 or M4A1, survival points +15\n",
    "    elif(((Given_Array[8]==1)|(Given_Array[9]==1))&(Given_Array[4]==1)):\n",
    "        Sum_of_Survival_Points += 15\n",
    "    elif(Given_Array[12]==Given_Array[13]==Given_Array[14]==1):\n",
    "        Sum_of_Survival_Points += 70\n",
    "    else:\n",
    "        pass\n",
    "    return Sum_of_Survival_Points\n",
    "\n",
    "def Weight_Mapping(Given_Array):\n",
    "    Sum_of_weight = 0\n",
    "    for i in range(len(Given_Array)):\n",
    "        if Given_Array[i] == 1:\n",
    "            Sum_of_weight += Weight_Map[i]\n",
    "    return Sum_of_weight\n",
    "\n",
    "def Randomly_Select_A_Row_from_Matrix(Given_Matrix):\n",
    "    number_of_rows = Given_Matrix.shape[0]\n",
    "    random_indicies = np.random.choice(number_of_rows, size=1, replace=False)\n",
    "    Selected_Row = Given_Matrix[random_indicies, :]\n",
    "    Selected_Row = np.squeeze(Selected_Row)\n",
    "    return Selected_Row\n",
    "\n",
    "def Generate_Single_Creature():\n",
    "# Except equipments, we can only choose one item in each type.\n",
    "# I will set the initial choice of each items by utilizing np.eye matrix,\\\n",
    "# \\then randomly select a row in order to represent the collection of items chosen.\n",
    "    Knife = np.eye(3); Pistols = np.eye(3); Primary = np.eye(6);\n",
    "    Selected_Knife = Randomly_Select_A_Row_from_Matrix(Knife)\n",
    "    Selected_Pistols = Randomly_Select_A_Row_from_Matrix(Pistols)\n",
    "    Selected_Primary = Randomly_Select_A_Row_from_Matrix(Primary)\n",
    "    Equipments = np.random.randint(2, size=3)\n",
    "    Items_in_Bag = np.concatenate((Selected_Knife, Selected_Pistols, Selected_Primary, Equipments))\n",
    "\n",
    "    if Check_Overweight(Items_in_Bag)==0:\n",
    "        return Items_in_Bag\n",
    "    else:\n",
    "        return Generate_Single_Creature()   #Recursive Call till no overweight\n",
    "\n",
    "def Generate_Population():\n",
    "    Population = []\n",
    "    for i  in range(POPULATION_SIZE):\n",
    "        Single_Creature = Generate_Single_Creature()\n",
    "        #Single_Creature = np.array(Single_Creature)\n",
    "        Population.append(Single_Creature)\n",
    "    print(f'Population successfully created.')\n",
    "    print(f'Population shape:{np.array(Population).shape}')\n",
    "    return Population\n",
    "\n",
    "def Roulete_Wheel_Selection(Given_Matrix):\n",
    "\n",
    "    A = []\n",
    "    max = -np.inf\n",
    "    for i in range(len(Population)):\n",
    "        survial_point = Survival_Points_Mapping(Population[i])\n",
    "        A.append(survial_point)\n",
    "        if survial_point > max:\n",
    "            max = survial_point\n",
    "    print(f'A:{A}')\n",
    "    print(f'max:{max}')\n",
    "\n",
    "    sum = 0\n",
    "    for j in range(len(Population)):\n",
    "        #sum = sum + np.max([1,max-A[j]])\n",
    "        sum += A[j]\n",
    "        A[j] = sum\n",
    "    print(A)\n",
    "\n",
    "    Matepool = []\n",
    "    for k in range(int(len(Population)/2)):\n",
    "        a = np.random.randint(sum)\n",
    "        #print(f'a:{a}')\n",
    "        i=0\n",
    "        while(a>A[i]):\n",
    "            i += 1\n",
    "        Matepool.append(Population[i])\n",
    "\n",
    "    print(f'Matepool:\\n{Matepool}')\n",
    "    print(f'shape of Matepool: {np.array(Matepool).shape}')\n",
    "\n",
    "    return 0\n",
    "\n",
    "Population = Generate_Population()\n",
    "a = Roulete_Wheel_Selection(Population)\n",
    "print(f'Population: {Population}')\n",
    "print(f'len(Population): {len(Population)}')\n",
    "\n",
    "# 檢查 Popultaion 中，第一個 creatrue 的資訊\n",
    "print(f'Population[0]: {Population[0]}')\n",
    "x = Weight_Mapping(Population[0])\n",
    "print(x)"
   ],
   "metadata": {
    "collapsed": false,
    "pycharm": {
     "name": "#%%\n"
    }
   }
  },
  {
   "cell_type": "markdown",
   "source": [
    "#### Let's Start"
   ],
   "metadata": {
    "collapsed": false,
    "pycharm": {
     "name": "#%% md\n"
    }
   }
  },
  {
   "cell_type": "code",
   "execution_count": 131,
   "outputs": [],
   "source": [],
   "metadata": {
    "collapsed": false,
    "pycharm": {
     "name": "#%%\n"
    }
   }
  },
  {
   "cell_type": "markdown",
   "source": [
    "#### Test"
   ],
   "metadata": {
    "collapsed": false,
    "pycharm": {
     "name": "#%% md\n"
    }
   }
  },
  {
   "cell_type": "code",
   "execution_count": 132,
   "outputs": [
    {
     "name": "stdout",
     "output_type": "stream",
     "text": [
      "-inf\n",
      "49\n",
      "2\n",
      "[-3  8 19 30]\n"
     ]
    }
   ],
   "source": [
    "import numpy as np\n",
    "x = -np.inf\n",
    "print(x)\n",
    "\n",
    "y = np.random.randint(100)\n",
    "print(y)\n",
    "\n",
    "A = [1,1,1]\n",
    "\n",
    "if (A[0]==A[1]==1):\n",
    "    print(2)\n",
    "\n",
    "B = np.array([12, 23, 34, 45])\n",
    "C = B-15\n",
    "print(C)"
   ],
   "metadata": {
    "collapsed": false,
    "pycharm": {
     "name": "#%%\n"
    }
   }
  }
 ],
 "metadata": {
  "kernelspec": {
   "display_name": "Python 3",
   "language": "python",
   "name": "python3"
  },
  "language_info": {
   "codemirror_mode": {
    "name": "ipython",
    "version": 2
   },
   "file_extension": ".py",
   "mimetype": "text/x-python",
   "name": "python",
   "nbconvert_exporter": "python",
   "pygments_lexer": "ipython2",
   "version": "2.7.6"
  }
 },
 "nbformat": 4,
 "nbformat_minor": 0
}