{
 "cells": [
  {
   "cell_type": "code",
   "execution_count": 211,
   "outputs": [],
   "source": [
    "# Hyperparameters\n",
    "POPULATION_SIZE = 8\n",
    "MAXIMUM_WEIGHT = 529    #529\n",
    "NUMBER_OF_PAIRS_OF_MULTI_BIT_FLIP = 3\n",
    "CROSSOVER_PROBABILITY = 0.1\n",
    "ITERATIONS = 20\n",
    "EACH_TYPE_ONE_ELEMENT = 0 #False"
   ],
   "metadata": {
    "collapsed": false,
    "pycharm": {
     "name": "#%%\n"
    }
   }
  },
  {
   "cell_type": "markdown",
   "source": [
    "### GA的順序\n",
    "evalutation $\\rightarrow$ selection $\\rightarrow$ crossover $\\rightarrow$ mutation\n",
    "### 要注意的地方\n",
    "1. 除了 Equipment, 每種 Type 只能選一個 Item.\n",
    "2. Maximum weight 529 units. (後暫時更改為450)\n",
    "3. At least one knife, one pistol and one equipment in inventory bag.\n",
    "4. 指定GA內部operators - 使用 roulette-wheel selection, uniform crossover (p=0.1), multi bit flip\n",
    "5.\n",
    "\n",
    "* 下列組合 - extra credits (依 主武器、副武器、小刀 及 裝備 排序）\n",
    "    * (Leone YG1265, Desert Eagle, - , shield) S.P. +25\n",
    "    * (Krieg 500, Desert Eagle, - , shield) S.P. +25\n",
    "    * All three equipments packed (Gas Mask + NV Goggle + Shield) S.P. +70"
   ],
   "metadata": {
    "collapsed": false
   }
  },
  {
   "cell_type": "markdown",
   "source": [
    "#### Data Processing"
   ],
   "metadata": {
    "collapsed": false,
    "pycharm": {
     "name": "#%% md\n"
    }
   }
  },
  {
   "cell_type": "code",
   "execution_count": 212,
   "outputs": [
    {
     "data": {
      "text/plain": "                         Item       Type  Weight  Survival_Points\n0              Shadow_Daggers      Knife     3.3                7\n1              Huntsman_Knife      Knife     3.4                8\n2                   Gut_Knife      Knife     6.0               13\n3         228_Compact_Handgun    Pistols    26.1               29\n4                  Night_Hawk    Pistols    37.6               48\n5         Desert_Eagle_Magnum    Pistols    62.5               99\n6           Ingram_MAC-10_SMG    Primary   100.2              177\n7   Leone_YG1265_Auto_Shotgun    Primary   141.1              213\n8                M4A1_Carbine    Primary   119.2              202\n9                 AK-47_Rifle    Primary   122.4              210\n10    Krieg_550_Sniper_Rifles    Primary   247.6              380\n11           M249_Machine_Gun    Primary   352.0              485\n12                   Gas_Mask  Equipment    24.2                9\n13        Night-Vision_Goggle  Equipment    32.1               12\n14            Tactical_Shield  Equipment    42.5               15",
      "text/html": "<div>\n<style scoped>\n    .dataframe tbody tr th:only-of-type {\n        vertical-align: middle;\n    }\n\n    .dataframe tbody tr th {\n        vertical-align: top;\n    }\n\n    .dataframe thead th {\n        text-align: right;\n    }\n</style>\n<table border=\"1\" class=\"dataframe\">\n  <thead>\n    <tr style=\"text-align: right;\">\n      <th></th>\n      <th>Item</th>\n      <th>Type</th>\n      <th>Weight</th>\n      <th>Survival_Points</th>\n    </tr>\n  </thead>\n  <tbody>\n    <tr>\n      <th>0</th>\n      <td>Shadow_Daggers</td>\n      <td>Knife</td>\n      <td>3.3</td>\n      <td>7</td>\n    </tr>\n    <tr>\n      <th>1</th>\n      <td>Huntsman_Knife</td>\n      <td>Knife</td>\n      <td>3.4</td>\n      <td>8</td>\n    </tr>\n    <tr>\n      <th>2</th>\n      <td>Gut_Knife</td>\n      <td>Knife</td>\n      <td>6.0</td>\n      <td>13</td>\n    </tr>\n    <tr>\n      <th>3</th>\n      <td>228_Compact_Handgun</td>\n      <td>Pistols</td>\n      <td>26.1</td>\n      <td>29</td>\n    </tr>\n    <tr>\n      <th>4</th>\n      <td>Night_Hawk</td>\n      <td>Pistols</td>\n      <td>37.6</td>\n      <td>48</td>\n    </tr>\n    <tr>\n      <th>5</th>\n      <td>Desert_Eagle_Magnum</td>\n      <td>Pistols</td>\n      <td>62.5</td>\n      <td>99</td>\n    </tr>\n    <tr>\n      <th>6</th>\n      <td>Ingram_MAC-10_SMG</td>\n      <td>Primary</td>\n      <td>100.2</td>\n      <td>177</td>\n    </tr>\n    <tr>\n      <th>7</th>\n      <td>Leone_YG1265_Auto_Shotgun</td>\n      <td>Primary</td>\n      <td>141.1</td>\n      <td>213</td>\n    </tr>\n    <tr>\n      <th>8</th>\n      <td>M4A1_Carbine</td>\n      <td>Primary</td>\n      <td>119.2</td>\n      <td>202</td>\n    </tr>\n    <tr>\n      <th>9</th>\n      <td>AK-47_Rifle</td>\n      <td>Primary</td>\n      <td>122.4</td>\n      <td>210</td>\n    </tr>\n    <tr>\n      <th>10</th>\n      <td>Krieg_550_Sniper_Rifles</td>\n      <td>Primary</td>\n      <td>247.6</td>\n      <td>380</td>\n    </tr>\n    <tr>\n      <th>11</th>\n      <td>M249_Machine_Gun</td>\n      <td>Primary</td>\n      <td>352.0</td>\n      <td>485</td>\n    </tr>\n    <tr>\n      <th>12</th>\n      <td>Gas_Mask</td>\n      <td>Equipment</td>\n      <td>24.2</td>\n      <td>9</td>\n    </tr>\n    <tr>\n      <th>13</th>\n      <td>Night-Vision_Goggle</td>\n      <td>Equipment</td>\n      <td>32.1</td>\n      <td>12</td>\n    </tr>\n    <tr>\n      <th>14</th>\n      <td>Tactical_Shield</td>\n      <td>Equipment</td>\n      <td>42.5</td>\n      <td>15</td>\n    </tr>\n  </tbody>\n</table>\n</div>"
     },
     "execution_count": 212,
     "metadata": {},
     "output_type": "execute_result"
    }
   ],
   "source": [
    "#### read csv files as dataframe\n",
    "import pandas as pd\n",
    "import numpy as np\n",
    "\n",
    "List_of_Gear = pd.read_csv('List_of_gear.csv')\n",
    "List_of_Gear"
   ],
   "metadata": {
    "collapsed": false,
    "pycharm": {
     "name": "#%%\n"
    }
   }
  },
  {
   "cell_type": "code",
   "execution_count": 213,
   "outputs": [],
   "source": [
    "df = List_of_Gear.iloc[:,0]\n",
    "#print(df)"
   ],
   "metadata": {
    "collapsed": false,
    "pycharm": {
     "name": "#%%\n"
    }
   }
  },
  {
   "cell_type": "markdown",
   "source": [
    "#### Pre-work for later data processing"
   ],
   "metadata": {
    "collapsed": false,
    "pycharm": {
     "name": "#%% md\n"
    }
   }
  },
  {
   "cell_type": "code",
   "execution_count": 214,
   "outputs": [],
   "source": [
    "## Create an Item - Weight mapping\n",
    "Weight_Map = List_of_Gear.iloc[:,2].to_numpy()\n",
    "#print(Weight_Map)\n",
    "## Create an Item - Survival_Points mapping\n",
    "Survival_Points_Map = List_of_Gear.iloc[:,3].to_numpy()\n",
    "#print(Survival_Points_Map)"
   ],
   "metadata": {
    "collapsed": false,
    "pycharm": {
     "name": "#%%\n"
    }
   }
  },
  {
   "cell_type": "markdown",
   "source": [
    "#### Some Methods"
   ],
   "metadata": {
    "collapsed": false,
    "pycharm": {
     "name": "#%% md\n"
    }
   }
  },
  {
   "cell_type": "code",
   "execution_count": 215,
   "outputs": [],
   "source": [
    "import numpy as np\n",
    "\n",
    "def Weight_Mapping(Given_Array):\n",
    "    Sum_of_weight = 0\n",
    "    for i in range(len(Given_Array)):\n",
    "        if Given_Array[i] == 1:\n",
    "            Sum_of_weight += Weight_Map[i]\n",
    "    return Sum_of_weight\n",
    "\n",
    "def Survival_Points_Mapping(Given_Array):\n",
    "    Sum_of_Survival_Points = 0\n",
    "    for i in range(len(Given_Array)):\n",
    "        if Given_Array[i] == 1:\n",
    "            Sum_of_Survival_Points += Survival_Points_Map[i]\n",
    "    # Extra Points\n",
    "        ## YG1265 or Krieg 500 + Desert Eagle + tactical shield, survival points +25\n",
    "    if(((Given_Array[7]==1)|(Given_Array[10]==1))&(Given_Array[5]==Given_Array[14]==1)):\n",
    "        Sum_of_Survival_Points += 25\n",
    "        ## shadow dagger + desert eagle, survival points +5\n",
    "    if(Given_Array[0]==Given_Array[5]==1):\n",
    "        Sum_of_Survival_Points += 5\n",
    "        ## 228 Compact + AK-47 or M4A1, survival points +15\n",
    "    if(((Given_Array[8]==1)|(Given_Array[9]==1))&(Given_Array[3]==1)):\n",
    "        Sum_of_Survival_Points += 15\n",
    "        ## Carry all three equipments, survial points +70\n",
    "    if(Given_Array[12]==Given_Array[13]==Given_Array[14]==1):\n",
    "        Sum_of_Survival_Points += 70\n",
    "    return Sum_of_Survival_Points\n",
    "\n",
    "def Check_Overweight(Given_Array):\n",
    "    Weight = Weight_Mapping(Given_Array)\n",
    "    if (Weight <= MAXIMUM_WEIGHT):\n",
    "        return 0\n",
    "    else:\n",
    "        #print(f'Overweight!, weight={Weight}')\n",
    "        return 1\n",
    "\n",
    "def Check_Inventory_Requirement(Given_Array):\n",
    "    Copy_with_padding = np.pad(Given_Array,\n",
    "                               (0, 15-len(Given_Array)),\n",
    "                               'constant',\n",
    "                               constant_values=0)\n",
    "    if((sum(Copy_with_padding[0:3])>0)\n",
    "            &(sum(Copy_with_padding[3:6])>0)\n",
    "            &(sum(Copy_with_padding[12:15])>0)):\n",
    "        return 1\n",
    "    else:\n",
    "        return 0\n",
    "\n",
    "def Return_Cobinations_of_Additional_Survival_Points(Given_Array):\n",
    "    Sum_of_Survival_Points = 0\n",
    "    for i in range(len(Given_Array)):\n",
    "        if Given_Array[i] == 1:\n",
    "            Sum_of_Survival_Points += Survival_Points_Map[i]\n",
    "    # Extra Points\n",
    "        ## YG1265 or Krieg 500 + Desert Eagle + tactical shield, survival points +25\n",
    "    if(((Given_Array[7]==1)|(Given_Array[10]==1))&(Given_Array[5]==Given_Array[14]==1)):\n",
    "        print(f'YG1265 or Krieg 500 + Desert Eagle + tactical shield')\n",
    "        Sum_of_Survival_Points += 25\n",
    "        ## shadow dagger + desert eagle, survival points +5\n",
    "    if(Given_Array[0]==Given_Array[5]==1):\n",
    "        print(f'shadow dagger + desert eagle')\n",
    "        Sum_of_Survival_Points += 5\n",
    "        ## 228 Compact + AK-47 or M4A1, survival points +15\n",
    "    if(((Given_Array[8]==1)|(Given_Array[9]==1))&(Given_Array[3]==1)):\n",
    "        print(f'228 Compact + AK-47 or M4A1')\n",
    "        Sum_of_Survival_Points += 15\n",
    "        ## Carry all three equipments, survial points +70\n",
    "    if(Given_Array[12]==Given_Array[13]==Given_Array[14]==1):\n",
    "        print(f'Carry all three equipments')\n",
    "        Sum_of_Survival_Points += 70\n",
    "    return Sum_of_Survival_Points\n",
    "\n",
    "def Randomly_Select_A_Row_from_Matrix(Given_Matrix):\n",
    "    number_of_rows = Given_Matrix.shape[0]\n",
    "    random_indicies = np.random.choice(number_of_rows, size=1, replace=False)\n",
    "    Selected_Row = Given_Matrix[random_indicies, :]\n",
    "    Selected_Row = np.squeeze(Selected_Row)\n",
    "    return Selected_Row\n",
    "\n",
    "def Generate_Single_Creature(Each_Type_One_Element):\n",
    "\n",
    "    # The goal of the following part is to constraint the inventory bag to \\\n",
    "    # \\\"one item in each type\" settings. However, it seems that\\\n",
    "    # \\this settings were not required, thus the part was aborted.\n",
    "\n",
    "    # if(Each_Type_One_Element==1):\n",
    "    # # Except equipments, we can only choose one item in each type.\n",
    "    # # I will set the initial choice of each items by utilizing np.eye matrix,\\\n",
    "    # # \\then randomly select a row in order to represent the collection of items chosen.\n",
    "    #     Knife = np.eye(3, dtype=int); Pistols = np.eye(3, dtype=int); Primary = np.eye(6, dtype=int);\n",
    "    #     Selected_Knife = Randomly_Select_A_Row_from_Matrix(Knife)\n",
    "    #     Selected_Pistols = Randomly_Select_A_Row_from_Matrix(Pistols)\n",
    "    #     Selected_Primary = Randomly_Select_A_Row_from_Matrix(Primary)\n",
    "    #     Equipments = np.random.randint(2, size=3, dtype=int)\n",
    "    #     Items_in_Bag = np.concatenate((Selected_Knife, Selected_Pistols, Selected_Primary, Equipments))\n",
    "\n",
    "    # else:\n",
    "    Items_in_Bag = np.random.randint(2, size=15)\n",
    "\n",
    "    # Conforming to the inventory bag settings of 'carry at least one knife,\\\n",
    "    # \\one pistol and one equipment.\n",
    "    while(Check_Inventory_Requirement(Items_in_Bag)==0):\n",
    "        Items_in_Bag = np.random.randint(2, size=15)\n",
    "\n",
    "    if Check_Overweight(Items_in_Bag)==0:\n",
    "        return Items_in_Bag\n",
    "    else:\n",
    "        return Generate_Single_Creature(Each_Type_One_Element)   #Recursive Call till no overweight\n",
    "\n",
    "def Generate_Population(Each_Type_One_Element):\n",
    "    Population = []\n",
    "    for i  in range(POPULATION_SIZE):\n",
    "        Single_Creature = Generate_Single_Creature(Each_Type_One_Element)\n",
    "        #Single_Creature = np.array(Single_Creature)\n",
    "        Population.append(Single_Creature)\n",
    "    #print(f'Population successfully created.')\n",
    "    #print(f'Population shape:{np.array(Population).shape}')\n",
    "    return Population\n",
    "\n",
    "def Roulete_Wheel_Selection(Given_Matrix):\n",
    "\n",
    "    A = []\n",
    "    max = -np.inf\n",
    "    for i in range(len(Given_Matrix)):\n",
    "        survial_point = Survival_Points_Mapping(Given_Matrix[i])\n",
    "        A.append(survial_point)\n",
    "        if survial_point > max:\n",
    "            max = survial_point\n",
    "    #print(f'A:{A}')\n",
    "    #print(f'max:{max}')\n",
    "\n",
    "    sum = 0\n",
    "    for j in range(len(Given_Matrix)):\n",
    "        #sum = sum + np.max([1,max-A[j]])\n",
    "        sum += A[j]\n",
    "        A[j] = sum\n",
    "    #print(A)\n",
    "\n",
    "    Matepool = []\n",
    "    for k in range(int(len(Given_Matrix)/2)):\n",
    "        a = np.random.randint(sum)\n",
    "        #print(f'a:{a}')\n",
    "        i=0\n",
    "        while(a>A[i]):\n",
    "            i += 1\n",
    "        Matepool.append(Given_Matrix[i])\n",
    "    #print(f'Matepool:\\n{Matepool}')\n",
    "    #print(f'shape of Matepool: {np.array(Matepool).shape}')\n",
    "\n",
    "    return Matepool\n",
    "\n",
    "def Uniform_Crossover(Given_Matrix):\n",
    "    Test_Matrix = Given_Matrix\n",
    "    for i in range(int(len(Test_Matrix)/2)):\n",
    "\n",
    "        for j in range(int(len(Test_Matrix[i]))):\n",
    "            a = np.random.uniform(0,1,1)\n",
    "            if a >= CROSSOVER_PROBABILITY:\n",
    "                # SWAP the elements among two weapons lists.\n",
    "                Test_Matrix[2*i][j], Test_Matrix[2*i+1][j] = Test_Matrix[2*i+1][j], Test_Matrix[2*i][j]\n",
    "\n",
    "    number_of_weapon_lists_overweight = 0\n",
    "\n",
    "    # Check any of the weapon lists are overweight\n",
    "    for i in range(int(len(Test_Matrix))):\n",
    "        number_of_weapon_lists_overweight += Check_Overweight(Test_Matrix[i])\n",
    "\n",
    "    if number_of_weapon_lists_overweight == 0:\n",
    "        return Test_Matrix\n",
    "    else:\n",
    "        return Uniform_Crossover(Given_Matrix)\n",
    "        #If there is an weapon lists exceed pack weight constraint, \\\n",
    "        # \\then we'll do the Uniform_Crossover step again.\n",
    "\n",
    "def Multi_Bit_Flip_Mutation(Given_Matrix, Number_of_Pairs_of_Multi_Bit_Flip):\n",
    "    Test_Matrix = Given_Matrix\n",
    "    # Doubling the population size in the step\\\n",
    "    # \\to make the amount of creatures fixed in each generations.\n",
    "    Test_Matrix = np.concatenate((Test_Matrix, Test_Matrix))\n",
    "\n",
    "    #\n",
    "    for i in range(int(len(Test_Matrix)/2)):\n",
    "        for j in range(Number_of_Pairs_of_Multi_Bit_Flip):\n",
    "            interchange_location = np.random.randint(int(len(Test_Matrix[i])),size=2)\n",
    "            Test_Matrix[i][interchange_location[0]], Test_Matrix[i][interchange_location[1]] =\\\n",
    "            Test_Matrix[i][interchange_location[1]], Test_Matrix[i][interchange_location[0]]\n",
    "\n",
    "    number_of_weapon_lists_overweight = 0\n",
    "\n",
    "    # Check any of the weapon lists are overweight\n",
    "    for i in range(int(len(Test_Matrix))):\n",
    "        number_of_weapon_lists_overweight += Check_Overweight(Test_Matrix[i])\n",
    "\n",
    "    if number_of_weapon_lists_overweight == 0:\n",
    "        return Test_Matrix\n",
    "    else:\n",
    "        return Multi_Bit_Flip_Mutation(Given_Matrix, NUMBER_OF_PAIRS_OF_MULTI_BIT_FLIP)\n",
    "        #If there is an weapon lists exceed pack weight constraint, \\\n",
    "        # \\then we'll do the \"Multi_Bit_Flip_Mutation\" step again.\n",
    "\n",
    "def Get_the_Best_Combination(Given_Matrix, print_result):\n",
    "    max = -np.inf\n",
    "    for i in range(len(Given_Matrix)):\n",
    "        if Survival_Points_Mapping(Given_Matrix[i]) > max:\n",
    "            max = Survival_Points_Mapping(Given_Matrix[i])\n",
    "            best_combination = Given_Matrix[i]\n",
    "\n",
    "    if (print_result):\n",
    "        print(f'   The best combination in the current generation is: {best_combination}'\n",
    "              f'\\n    with maximum survival points: {max}'\n",
    "              f', and total weight: {Weight_Mapping(best_combination):.1f}')\n",
    "    return max, best_combination\n",
    "    #return 0"
   ],
   "metadata": {
    "collapsed": false,
    "pycharm": {
     "name": "#%%\n"
    }
   }
  },
  {
   "cell_type": "markdown",
   "source": [
    "#### Let's Start"
   ],
   "metadata": {
    "collapsed": false,
    "pycharm": {
     "name": "#%% md\n"
    }
   }
  },
  {
   "cell_type": "code",
   "execution_count": 216,
   "outputs": [
    {
     "name": "stdout",
     "output_type": "stream",
     "text": [
      "   The best combination over all generations is: [1 1 1 1 1 1 0 1 1 1 0 0 0 0 0]\n",
      "    with correspond items:  Shadow_Daggers + Huntsman_Knife + Gut_Knife + 228_Compact_Handgun + Night_Hawk + Desert_Eagle_Magnum + Leone_YG1265_Auto_Shotgun + M4A1_Carbine + AK-47_Rifle + \n",
      "    and maximum survival points: 849, total weight: 521.6\n"
     ]
    }
   ],
   "source": [
    "GA = []\n",
    "max_SP_over_all_generation = -np.inf\n",
    "Population = Generate_Population(Each_Type_One_Element=EACH_TYPE_ONE_ELEMENT)\n",
    "\n",
    "for iters in range(ITERATIONS):\n",
    "    #print(f'\\n===== Generation: {iters+1} =====')\n",
    "    Selected_Creatures = Roulete_Wheel_Selection(Population)\n",
    "    Syngamy = Uniform_Crossover(Selected_Creatures)\n",
    "    Next_Generation = Multi_Bit_Flip_Mutation(Syngamy,\n",
    "                                              NUMBER_OF_PAIRS_OF_MULTI_BIT_FLIP)\n",
    "    Population = Next_Generation\n",
    "    max_SP_of_current_generation,\\\n",
    "    best_combination_of_current_generation = Get_the_Best_Combination(Next_Generation,\n",
    "                                                                      print_result=0)\n",
    "\n",
    "    if (max_SP_of_current_generation > max_SP_over_all_generation):\n",
    "        best_combination_over_all_generation = best_combination_of_current_generation\n",
    "        max_SP_over_all_generation = max_SP_of_current_generation\n",
    "    GA.append(max_SP_over_all_generation)\n",
    "\n",
    "print(f'   The best combination over all generations is: {best_combination_over_all_generation}'\n",
    "      f'\\n    with corresponding items: ', end=\" \")\n",
    "for i in range(len(best_combination_over_all_generation)):\n",
    "    if best_combination_over_all_generation[i] == 1:\n",
    "        print(f'{df[i]} +', end=\" \")\n",
    "print(f'\\n    and maximum survival points: {max_SP_over_all_generation}'\n",
    "        f', total weight: {Weight_Mapping(best_combination_over_all_generation):.1f}')\n",
    "\n",
    "#print(best_combination_over_all_generation)\n",
    "#x = Return_Cobinations_of_Additional_Survival_Points(best_combination_over_all_generation)"
   ],
   "metadata": {
    "collapsed": false,
    "pycharm": {
     "name": "#%%\n"
    }
   }
  },
  {
   "cell_type": "markdown",
   "source": [
    "---\n",
    "#### 2_(e)\n",
    "\n",
    "* Use the hill climbing and random walk algorithms with the mutation operator defined by your own on this problem..."
   ],
   "metadata": {
    "collapsed": false,
    "pycharm": {
     "name": "#%% md\n"
    }
   }
  },
  {
   "cell_type": "code",
   "execution_count": 217,
   "outputs": [],
   "source": [
    "### Hill Climbing\n",
    "max = -np.inf\n",
    "HC = []\n",
    "for i in range(200):\n",
    "    Attempt = Generate_Single_Creature(Each_Type_One_Element=EACH_TYPE_ONE_ELEMENT)\n",
    "    for j in range(len(Attempt)):\n",
    "        Neighborhood_of_Attempt = Attempt\n",
    "        # reverse the boolean value of j_th element of weapons list\n",
    "        Neighborhood_of_Attempt[j] = not Neighborhood_of_Attempt[j]\n",
    "        if (Check_Overweight(Neighborhood_of_Attempt)==0):  # test weather the list is overweight.\n",
    "            if max < Survival_Points_Mapping(Neighborhood_of_Attempt):\n",
    "                max = Survival_Points_Mapping(Neighborhood_of_Attempt)\n",
    "    HC.append(max)\n",
    "\n",
    "\n",
    "\n",
    "### Random Walk\n",
    "max = -np.inf\n",
    "RW = []\n",
    "for i in range(200):\n",
    "    Attempt = Generate_Single_Creature(Each_Type_One_Element=EACH_TYPE_ONE_ELEMENT)\n",
    "    if Check_Overweight(Attempt)==0:\n",
    "        if max < Survival_Points_Mapping(Attempt):\n",
    "            max = Survival_Points_Mapping(Attempt)\n",
    "    RW.append(max)\n"
   ],
   "metadata": {
    "collapsed": false,
    "pycharm": {
     "name": "#%%\n"
    }
   }
  },
  {
   "cell_type": "markdown",
   "source": [
    "#### 2_(f) Plot the result of GA"
   ],
   "metadata": {
    "collapsed": false
   }
  },
  {
   "cell_type": "code",
   "execution_count": 218,
   "outputs": [
    {
     "data": {
      "text/plain": "<Figure size 432x288 with 1 Axes>",
      "image/png": "[encoded data removed]"
     },
     "metadata": {
      "needs_background": "light"
     },
     "output_type": "display_data"
    }
   ],
   "source": [
    "import matplotlib.pyplot as plt\n",
    "plt.stairs(GA, label=f'Genetic Algorithm, Final Result:{GA[-1]}', baseline=None)\n",
    "plt.stairs(RW, label=f'Random Walk, Final Result:{RW[-1]}', baseline=None)\n",
    "plt.stairs(HC, label=f'Hill Climbing, Final Result:{HC[-1]}', baseline=None)\n",
    "\n",
    "plt.xlabel('Generations')\n",
    "plt.ylabel('Survival Points')\n",
    "plt.ylim([600,900])\n",
    "\n",
    "plt.grid()\n",
    "\n",
    "plt.legend(loc=4)\n",
    "\n",
    "plt.show()"
   ],
   "metadata": {
    "collapsed": false,
    "pycharm": {
     "name": "#%%\n"
    }
   }
  },
  {
   "cell_type": "markdown",
   "source": [
    "##### 2 (b): Calculate the maximum number of possible combinations of inventory bags.\n",
    "* To calculate the number of possible combinations of inventory bags,\n",
    "I implemented the idea with binary tree data structure and DFS searching strategy.\n",
    "* The time complexity is proportional to  $O(2^{\\text{#weapons}})=O(2^{15})$，\n",
    "However, the space complexity is proportional to $O(\\text{#weapons}) = O(15)$.\n",
    "Pretty much better than the method of exhaustion to get all possible combinations."
   ],
   "metadata": {
    "collapsed": false,
    "pycharm": {
     "name": "#%% md\n"
    }
   }
  },
  {
   "cell_type": "code",
   "execution_count": 219,
   "outputs": [
    {
     "name": "stdout",
     "output_type": "stream",
     "text": [
      "Possible Combinations of Inventory Bags: 6455\n",
      "Possible Combinations of Inventory Bags: 6455\n"
     ]
    }
   ],
   "source": [
    "A = []\n",
    "count = 0\n",
    "DEPTH = 15\n",
    "def Binary_Tree(A, count):\n",
    "\n",
    "    # Left_Child\n",
    "    B = np.append(A,[0])\n",
    "    if((Check_Inventory_Requirement(B)==1)\n",
    "            &(Check_Overweight(B)==0)\n",
    "            &(len(B)==DEPTH)):\n",
    "        count += 1\n",
    "    if(len(B)<DEPTH):\n",
    "        count = Binary_Tree(B, count)\n",
    "\n",
    "    # Right_Child\n",
    "    B = np.append(A,[1])\n",
    "    if((Check_Inventory_Requirement(B)==1)\n",
    "            &(Check_Overweight(B)==0)\n",
    "            &(len(B)==DEPTH)):\n",
    "        count += 1\n",
    "    if(len(B)<DEPTH):\n",
    "        count = Binary_Tree(B, count)\n",
    "\n",
    "    return count\n",
    "\n",
    "x= Binary_Tree(A, count)\n",
    "print(f'Possible Combinations of Inventory Bags: {x}')"
   ],
   "metadata": {
    "collapsed": false,
    "pycharm": {
     "name": "#%%\n"
    }
   }
  },
  {
   "cell_type": "markdown",
   "source": [
    "#### Test"
   ],
   "metadata": {
    "collapsed": false,
    "pycharm": {
     "name": "#%% md\n"
    }
   }
  },
  {
   "cell_type": "code",
   "execution_count": 220,
   "outputs": [
    {
     "name": "stdout",
     "output_type": "stream",
     "text": [
      "[1.]\n",
      "[1. 0.]\n",
      "[1. 0.]\n",
      "1\n",
      "2021 10 28T12:34:56Z\n",
      "28 12:34:56Z\n",
      "12 34\n",
      "22\n",
      "[1.]\n",
      "[1. 0.]\n",
      "[1. 0.]\n",
      "1\n",
      "2021 10 28T12:34:56Z\n",
      "28 12:34:56Z\n",
      "12 34\n",
      "22\n"
     ]
    }
   ],
   "source": [
    "A = np.ones(1)\n",
    "print(A)\n",
    "B = np.append(A,[0])\n",
    "print(B)\n",
    "\n",
    "C = np.pad(B, (0,0), 'constant', constant_values=0)\n",
    "print(C)\n",
    "\n",
    "X = 'X'\n",
    "Y = 'X'\n",
    "\n",
    "if X == Y:\n",
    "    print(1)\n",
    "\n",
    "clock=\"2021-10-28T12:34:56Z\"\n",
    "year = int(clock.split('-')[0])\n",
    "month = int(clock.split('-')[1])\n",
    "date = clock.split('-')[2]\n",
    "print(year, month, date)\n",
    "\n",
    "time = date.split('T')[1]\n",
    "date = int(date.split('T')[0])\n",
    "print(date, time)\n",
    "hour = int(time.split(':')[0])\n",
    "minute = int(time.split(':')[1])\n",
    "print(hour, minute)\n",
    "print(minute-hour)"
   ],
   "metadata": {
    "collapsed": false,
    "pycharm": {
     "name": "#%%\n"
    }
   }
  }
 ],
 "metadata": {
  "kernelspec": {
   "display_name": "Python 3",
   "language": "python",
   "name": "python3"
  },
  "language_info": {
   "codemirror_mode": {
    "name": "ipython",
    "version": 2
   },
   "file_extension": ".py",
   "mimetype": "text/x-python",
   "name": "python",
   "nbconvert_exporter": "python",
   "pygments_lexer": "ipython2",
   "version": "2.7.6"
  }
 },
 "nbformat": 4,
 "nbformat_minor": 0
}