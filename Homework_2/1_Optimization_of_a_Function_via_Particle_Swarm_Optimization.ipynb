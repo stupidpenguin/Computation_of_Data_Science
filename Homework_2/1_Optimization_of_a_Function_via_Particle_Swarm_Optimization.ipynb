{
 "cells": [
  {
   "cell_type": "code",
   "execution_count": 317,
   "outputs": [],
   "source": [
    "ITERATIONS = 20\n",
    "import numpy as np"
   ],
   "metadata": {
    "collapsed": false,
    "pycharm": {
     "name": "#%%\n"
    }
   }
  },
  {
   "cell_type": "markdown",
   "source": [
    "### Define Function f(x)"
   ],
   "metadata": {
    "collapsed": false
   }
  },
  {
   "cell_type": "code",
   "execution_count": 318,
   "outputs": [],
   "source": [
    "def f(x):\n",
    "    return -(x**5)+5*(x**3)+20*x-5"
   ],
   "metadata": {
    "collapsed": false,
    "pycharm": {
     "name": "#%%\n"
    }
   }
  },
  {
   "cell_type": "markdown",
   "source": [
    "---\n",
    "### Some methods"
   ],
   "metadata": {
    "collapsed": false,
    "pycharm": {
     "name": "#%% md\n"
    }
   }
  },
  {
   "cell_type": "code",
   "execution_count": 319,
   "outputs": [],
   "source": [
    "### Initialize Position List\n",
    "def Initialize_Position(List):\n",
    "    return List\n",
    "\n",
    "### Initialize Velocities\n",
    "def Initialize_Velocities():\n",
    "    return [0, 0, 0, 0]\n",
    "\n",
    "### Get Local Best Position\n",
    "def Get_Local_Best_Position(List, Current_Local_Best_Position):\n",
    "    for i in range(4):\n",
    "        if( f(List[i]) > f(Current_Local_Best_Position[i])):\n",
    "            Current_Local_Best_Position[i] = List[i]\n",
    "    return Current_Local_Best_Position\n",
    "\n",
    "### Get Global Best Position\n",
    "def Get_Global_Best_Position(List, Global_Best_Position):\n",
    "    for i in range(4):\n",
    "        if( f(List[i]) > Global_Best_Position):\n",
    "            Global_Best_Position = List[i]\n",
    "    return Global_Best_Position\n",
    "\n",
    "### Get Velocities of Particles\n",
    "def Get_Velocities_of_Particles(Local_Best_Position,\n",
    "                                Global_Best_Position,\n",
    "                                Current_Velocities,\n",
    "                                Current_Position):\n",
    "    New_Velocities = Initialize_Velocities() # ?\n",
    "    w = 0.2; c_1 = 0.4; c_2 = 0.4\n",
    "    r_1 = np.random.uniform(0, 1, 1)\n",
    "    r_2 = np.random.uniform(0, 1, 1)\n",
    "\n",
    "    for i in range(4):\n",
    "        New_Velocities[i] = w*Current_Velocities[i]\\\n",
    "                            + c_1*r_1*(Local_Best_Position[i]-Current_Position[i])\\\n",
    "                            + c_2*r_2*(Global_Best_Position-Current_Position[i])\n",
    "        New_Velocities[i] = float(New_Velocities[i])\n",
    "    print(f'New Velocities : {New_Velocities}')\n",
    "    return New_Velocities\n",
    "\n",
    "def Get_New_Positions(Velocities, Current_Position):\n",
    "    New_Positions = Current_Position\n",
    "    for i in range(4):\n",
    "        New_Positions[i] = Velocities[i] + Current_Position[i]\n",
    "    print(f'New Positions : {New_Positions}')\n",
    "    return New_Positions\n"
   ],
   "metadata": {
    "collapsed": false,
    "pycharm": {
     "name": "#%%\n"
    }
   }
  },
  {
   "cell_type": "markdown",
   "source": [
    "## Let's Start"
   ],
   "metadata": {
    "collapsed": false,
    "pycharm": {
     "name": "#%% md\n"
    }
   }
  },
  {
   "cell_type": "markdown",
   "source": [
    "### Initialization"
   ],
   "metadata": {
    "collapsed": false
   }
  },
  {
   "cell_type": "code",
   "execution_count": 320,
   "outputs": [
    {
     "name": "stdout",
     "output_type": "stream",
     "text": [
      "[-2, 0, 1, 3]\n"
     ]
    }
   ],
   "source": [
    "# Set Initial Positions\n",
    "x = [-2, 0, 1, 3]\n",
    "print(x)\n",
    "\n",
    "Current_Position = Initialize_Position(x)\n",
    "Current_Velocities = Initialize_Velocities()\n",
    "\n",
    "# Initialize Local Best Position\n",
    "Local_Best_Position = Current_Position\n",
    "\n",
    "# Initialize Global Best Position\n",
    "Global_Best_Position = Current_Position[0]\n",
    "### Arbitrarily set a position as Global Best Position from Current_Position\n",
    "\n",
    "# Claim a list to store historical positions, for plotting.\n",
    "History_Position = []\n",
    "History_Position = np.concatenate((History_Position, Current_Position), axis=0)\n",
    "New_Position = Initialize_Position(x)"
   ],
   "metadata": {
    "collapsed": false,
    "pycharm": {
     "name": "#%%\n"
    }
   }
  },
  {
   "cell_type": "code",
   "execution_count": 321,
   "outputs": [
    {
     "name": "stdout",
     "output_type": "stream",
     "text": [
      "\n",
      " Iters 0\n",
      "New Velocities : [0.3445312439070471, 0.1148437479690157, 0.0, -0.2296874959380314]\n",
      "Current_Position:[-2, 0, 1, 3]\n",
      "\n",
      " Iters 1\n",
      "New Velocities : [0.4720199264904701, 0.15733997549682338, 0.0, -0.31467995099364676]\n",
      "Current_Position:[-1.6554687560929529, 0.1148437479690157, 1.0, 2.7703125040619687]\n",
      "\n",
      " Iters 2\n",
      "New Velocities : [0.37922535833324483, 0.20236081892045518, 0.11392854921406033, -0.06293599019872935]\n",
      "Current_Position:[-1.1834488296024828, 0.2721837234658391, 1.0, 2.455632553068322]\n",
      "\n",
      " Iters 3\n",
      "New Velocities : [0.753829962966808, 0.44726309856418645, 0.29397966636287576, -0.01258719803974587]\n",
      "Current_Position:[-0.804223471269238, 0.4745445423862943, 1.1139285492140603, 2.3926965628695926]\n",
      "\n",
      " Iters 4\n",
      "New Velocities : [0.6815590643217375, 0.4079284627498628, 0.2711131619639255, -0.0025174396079491743]\n",
      "Current_Position:[-0.050393508302429946, 0.9218076409504807, 1.407908215576936, 2.380109364829847]\n",
      "\n",
      " Iters 5\n",
      "New Velocities : [0.8265482336377434, 0.49572754501401023, 0.33031720070214354, -0.0005034879215898349]\n",
      "Current_Position:[0.6311655560193076, 1.3297361037003435, 1.6790213775408616, 2.3775919252218976]\n",
      "\n",
      " Iters 6\n",
      "New Velocities : [0.2270142219228115, 0.13616825411995975, 0.09074527021853382, -0.00010069758431796698]\n",
      "Current_Position:[1.457713789657051, 1.8254636487143536, 2.009338578243005, 2.3770884373003076]\n",
      "\n",
      " Iters 7\n",
      "New Velocities : [0.17260906553592234, 0.10355738351480795, 0.06903154250425074, -2.0139516863593396e-05]\n",
      "Current_Position:[1.6847280115798624, 1.9616319028343134, 2.100083848461539, 2.3769877397159895]\n",
      "\n",
      " Iters 8\n",
      "New Velocities : [0.18995825793644672, 0.11397334360051886, 0.07598088643255499, -4.0279033727186795e-06]\n",
      "Current_Position:[1.8573370771157847, 2.0651892863491215, 2.1691153909657896, 2.376967600199126]\n",
      "\n",
      " Iters 9\n",
      "New Velocities : [0.13052999299823417, 0.07831767356667066, 0.05221151385088896, -8.055806745437359e-07]\n",
      "Current_Position:[2.0472953350522314, 2.1791626299496403, 2.2450962773983445, 2.3769635722957534]\n",
      "\n",
      " Iters 10\n",
      "New Velocities : [0.07720847613826168, 0.04632502123650299, 0.030883293785623774, -1.611161349087472e-07]\n",
      "Current_Position:[2.1778253280504654, 2.257480303516311, 2.2973077912492332, 2.376962766715079]\n",
      "\n",
      " Iters 11\n",
      "New Velocities : [0.06299024738763348, 0.03779413554328918, 0.025196079621117314, -3.222322698174944e-08]\n",
      "Current_Position:[2.2550338041887272, 2.303805324752814, 2.328191085034857, 2.3769626055989437]\n",
      "\n",
      " Iters 12\n",
      "New Velocities : [0.029236402522041516, 0.01754183893536663, 0.011694557142029365, -6.444645396349888e-09]\n",
      "Current_Position:[2.318024051576361, 2.3415994602961034, 2.3533871646559743, 2.3769625733757165]\n",
      "\n",
      " Iters 13\n",
      "New Velocities : [0.010469552520766694, 0.006281730996888347, 0.004187820234949243, -1.2889290792699776e-09]\n",
      "Current_Position:[2.3472604540984023, 2.35914129923147, 2.3650817217980036, 2.376962566931071]\n",
      "\n",
      " Iters 14\n",
      "New Velocities : [0.007886248958371568, 0.004731749271908579, 0.0031544994286771665, -2.5778581585399555e-10]\n",
      "Current_Position:[2.357730006619169, 2.3654230302283583, 2.369269542032953, 2.3769625656421423]\n",
      "\n",
      " Iters 15\n",
      "New Velocities : [0.0017875852136610224, 0.0010725511075737428, 0.0007150340545301234, -5.1557163170799114e-11]\n",
      "Current_Position:[2.3656162555775406, 2.370154779500267, 2.3724240414616298, 2.3769625653843565]\n",
      "\n",
      " Iters 16\n",
      "New Velocities : [0.0004570676304963725, 0.00027424057417325216, 0.00018282704601169374, -1.0311432634159823e-11]\n",
      "Current_Position:[2.3674038407912015, 2.3712273306078404, 2.37313907551616, 2.3769625653327995]\n",
      "\n",
      " Iters 17\n",
      "New Velocities : [0.0006469572902652546, 0.0003881743733342602, 0.0002587829148687362, -2.062286526831965e-12]\n",
      "Current_Position:[2.3678609084216977, 2.3715015711820135, 2.373321902562172, 2.376962565322488]\n",
      "\n",
      " Iters 18\n",
      "New Velocities : [0.0031673684179967785, 0.0019004210506333122, 0.0012669473669513342, -4.12457305366393e-13]\n",
      "Current_Position:[2.368507865711963, 2.3718897455553476, 2.3735806854770405, 2.376962565320426]\n",
      "\n",
      " Iters 19\n",
      "New Velocities : [0.0009013184918661207, 0.0005407910950867349, 0.00036052739669698177, -8.249146107327861e-14]\n",
      "Current_Position:[2.37167523412996, 2.373790166605981, 2.374847632843992, 2.3769625653200133]\n"
     ]
    }
   ],
   "source": [
    "for i in range(ITERATIONS):\n",
    "    print(f'\\n Iters {i}')\n",
    "    Local_Best_Position = Get_Local_Best_Position(Current_Position,\n",
    "                                                  Local_Best_Position)\n",
    "    Global_Best_Position = Get_Global_Best_Position(Current_Position,\n",
    "                                                    Global_Best_Position)\n",
    "    New_Velocities = Get_Velocities_of_Particles(Local_Best_Position,\n",
    "                                                Global_Best_Position,\n",
    "                                                Current_Velocities,\n",
    "                                                Current_Position)\n",
    "    print(f'Current_Position:{Current_Position}')\n",
    "    for j in range(4):\n",
    "        New_Position[j] = New_Velocities[j] + Current_Position[j]\n",
    "\n",
    "    while((max(New_Position)>4)|(min(New_Position)<-4)):\n",
    "        print(f'\\n!!! New_Position out of range!')\n",
    "        for k in range(4):\n",
    "            Current_Position[k] = Current_Position[k] - New_Velocities[k]\n",
    "        New_Velocities = Get_Velocities_of_Particles(Local_Best_Position,\n",
    "                                                    Global_Best_Position,\n",
    "                                                    Current_Velocities,\n",
    "                                                    Current_Position)\n",
    "        New_Position = Get_New_Positions(New_Velocities, Current_Position)\n",
    "\n",
    "    Current_Position = New_Position\n",
    "    Current_Velocities = New_Velocities\n",
    "    #print(f'Current Position: \\n {Current_Position}')\n",
    "    History_Position = np.concatenate((History_Position, Current_Position), axis=0)"
   ],
   "metadata": {
    "collapsed": false,
    "pycharm": {
     "name": "#%%\n"
    }
   }
  },
  {
   "cell_type": "markdown",
   "source": [
    "### Plot the Movement of Particles"
   ],
   "metadata": {
    "collapsed": false,
    "pycharm": {
     "name": "#%% md\n"
    }
   }
  },
  {
   "cell_type": "code",
   "execution_count": 322,
   "outputs": [
    {
     "data": {
      "text/plain": "<Figure size 432x288 with 1 Axes>",
      "image/png": "[encoded data removed]"
     },
     "metadata": {
      "needs_background": "light"
     },
     "output_type": "display_data"
    }
   ],
   "source": [
    "import matplotlib.pyplot as plt\n",
    "import numpy as np\n",
    "from IPython import display\n",
    "%matplotlib inline\n",
    "\n",
    "fig = plt.figure()\n",
    "# plt.ion()\n",
    "\n",
    "for index in range(ITERATIONS+1):\n",
    "    fig.clf()\n",
    "    plt.title(\"Recommend to run the code on Jupyter Notebook for the animation. \")\n",
    "\n",
    "    x = np.arange(-4, 4, 0.01)\n",
    "    function = -(x**5)+5*(x**3)+20*x-5\n",
    "    particles_location_x = History_Position[index*4:index*4+4]\n",
    "    particles_location_y = f(History_Position[index*4:index*4+4])\n",
    "\n",
    "    plt.scatter(particles_location_x,particles_location_y,c='magenta')\n",
    "\n",
    "    # np.set_printoptions(precision=8)\n",
    "    plt.xlabel(f\"Stage {index}\\nParticles' Positions {particles_location_x}\")\n",
    "    plt.ylabel(\"f(x)\")\n",
    "\n",
    "    LB = -4; UB = 4;\n",
    "    # LB = 2*min(History_Position[index*4:index*4+4])\\\n",
    "    #          -max(History_Position[index*4:index*4+4])\n",
    "    # UB = 2*max(History_Position[index*4:index*4+4])\\\n",
    "    #         -min(History_Position[index*4:index*4+4])\n",
    "\n",
    "    plt.xlim(LB, UB)\n",
    "    plt.plot(x, function)\n",
    "    plt.grid()\n",
    "\n",
    "    display.clear_output(wait=True)\n",
    "    plt.pause(0.4)\n",
    "\n",
    "# plt.ioff()\n",
    "\n",
    "plt.show()\n"
   ],
   "metadata": {
    "collapsed": false,
    "pycharm": {
     "name": "#%%\n"
    }
   }
  }
 ],
 "metadata": {
  "kernelspec": {
   "display_name": "Python 3",
   "language": "python",
   "name": "python3"
  },
  "language_info": {
   "codemirror_mode": {
    "name": "ipython",
    "version": 2
   },
   "file_extension": ".py",
   "mimetype": "text/x-python",
   "name": "python",
   "nbconvert_exporter": "python",
   "pygments_lexer": "ipython2",
   "version": "2.7.6"
  }
 },
 "nbformat": 4,
 "nbformat_minor": 0
}