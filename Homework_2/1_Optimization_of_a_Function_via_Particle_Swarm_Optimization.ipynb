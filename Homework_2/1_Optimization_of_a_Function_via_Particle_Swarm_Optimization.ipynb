{
 "cells": [
  {
   "cell_type": "code",
   "execution_count": 397,
   "outputs": [],
   "source": [
    "ITERATIONS = 20\n",
    "import numpy as np"
   ],
   "metadata": {
    "collapsed": false,
    "pycharm": {
     "name": "#%%\n"
    }
   }
  },
  {
   "cell_type": "markdown",
   "source": [
    "### Define Function f(x)"
   ],
   "metadata": {
    "collapsed": false
   }
  },
  {
   "cell_type": "code",
   "execution_count": 398,
   "outputs": [],
   "source": [
    "def f(x):\n",
    "    return -(x**5)+5*(x**3)+20*x-5"
   ],
   "metadata": {
    "collapsed": false,
    "pycharm": {
     "name": "#%%\n"
    }
   }
  },
  {
   "cell_type": "markdown",
   "source": [
    "---\n",
    "### Some methods"
   ],
   "metadata": {
    "collapsed": false,
    "pycharm": {
     "name": "#%% md\n"
    }
   }
  },
  {
   "cell_type": "code",
   "execution_count": 399,
   "outputs": [],
   "source": [
    "### Initialize Position List\n",
    "def Initialize_Position(List):\n",
    "    return List\n",
    "\n",
    "### Initialize Velocities\n",
    "def Initialize_Velocities():\n",
    "    return [0, 0, 0, 0]\n",
    "\n",
    "### Get Local Best Position\n",
    "def Get_Local_Best_Position(List, Current_Local_Best_Position):\n",
    "    for i in range(4):\n",
    "        if( f(List[i]) > f(Current_Local_Best_Position[i])):\n",
    "            Current_Local_Best_Position[i] = List[i]\n",
    "    return Current_Local_Best_Position\n",
    "\n",
    "### Get Global Best Position\n",
    "def Get_Global_Best_Position(List, Global_Best_Position):\n",
    "    for i in range(4):\n",
    "        if( f(List[i]) > Global_Best_Position):\n",
    "            Global_Best_Position = List[i]\n",
    "    return Global_Best_Position\n",
    "\n",
    "### Get Velocities of Particles\n",
    "def Get_Velocities_of_Particles(Local_Best_Position,\n",
    "                                Global_Best_Position,\n",
    "                                Current_Velocities,\n",
    "                                Current_Position):\n",
    "    New_Velocities = Initialize_Velocities() # ?\n",
    "    w = c_1 = c_2 = 1\n",
    "    r_1 = np.random.uniform(0, 1, 1)\n",
    "    r_2 = np.random.uniform(0, 1, 1)\n",
    "\n",
    "    for i in range(4):\n",
    "        New_Velocities[i] = w*Current_Velocities[i]\\\n",
    "                            + c_1*r_1*(Local_Best_Position[i]-Current_Position[i])\\\n",
    "                            + c_2*r_2*(Global_Best_Position-Current_Position[i])\n",
    "        New_Velocities[i] = float(New_Velocities[i])\n",
    "    return New_Velocities\n",
    "\n",
    "def Get_New_Positions(Velocities, Current_Position):\n",
    "    New_Positions = Current_Position\n",
    "    for i in range(4):\n",
    "        New_Positions[i] = Velocities[i] + Current_Position[i]\n",
    "    return New_Positions\n"
   ],
   "metadata": {
    "collapsed": false,
    "pycharm": {
     "name": "#%%\n"
    }
   }
  },
  {
   "cell_type": "markdown",
   "source": [
    "## Let's Start"
   ],
   "metadata": {
    "collapsed": false,
    "pycharm": {
     "name": "#%% md\n"
    }
   }
  },
  {
   "cell_type": "markdown",
   "source": [
    "### Initialization"
   ],
   "metadata": {
    "collapsed": false
   }
  },
  {
   "cell_type": "code",
   "execution_count": 400,
   "outputs": [
    {
     "name": "stdout",
     "output_type": "stream",
     "text": [
      "[-2, 0, 1, 3]\n"
     ]
    }
   ],
   "source": [
    "#x_1 = -2; x_2 = 0; x_3 = 1; x_4 = 3\n",
    "#print(x_1)\n",
    "#print(x_4)\n",
    "\n",
    "# Set Initial Positions\n",
    "x = [-2, 0, 1, 3]\n",
    "print(x)\n",
    "\n",
    "# Set weights vector\n",
    "wcc = [1, 1, 1] # c_1 = c_2 = w = 1\n",
    "\n",
    "Current_Position = Initialize_Position(x)\n",
    "Current_Velocities = Initialize_Velocities()\n",
    "\n",
    "# Initialize Local Best Position\n",
    "Local_Best_Position = Current_Position\n",
    "\n",
    "# Initialize Global Best Position\n",
    "Global_Best_Position = Current_Position[0]\n",
    "### Arbitrarily set a position as Global Best Position from Current_Position\n",
    "\n",
    "# Claim a list to store historical positions, for plotting.\n",
    "History_Position = []"
   ],
   "metadata": {
    "collapsed": false,
    "pycharm": {
     "name": "#%%\n"
    }
   }
  },
  {
   "cell_type": "code",
   "execution_count": 401,
   "outputs": [
    {
     "name": "stdout",
     "output_type": "stream",
     "text": [
      "Current Position: \n",
      " [-1.8999807321216102, 0.03333975595946326, 1.0, 2.9333204880810735]\n",
      "Current Position: \n",
      " [0.7049833697828292, 0.901661123260943, 1.0, 1.196677753478114]\n",
      "Current Position: \n",
      " [0.8817206505691406, 1.0077034917327299, 1.0706949123145246, 1.196677753478114]\n",
      "Current Position: \n",
      " [1.0332086363116084, 1.0985962831782106, 1.1312901066115117, 1.196677753478114]\n",
      "Current Position: \n",
      " [1.1323312006352286, 1.1580698217723828, 1.17093913234096, 1.196677753478114]\n",
      "Current Position: \n",
      " [1.1680547936657113, 1.1795039775906724, 1.1852285695531528, 1.196677753478114]\n",
      "Current Position: \n",
      " [1.1853082608423668, 1.1898560578966657, 1.192129956423815, 1.196677753478114]\n",
      "Current Position: \n",
      " [1.1884144391120706, 1.1917197648584879, 1.1933724277316966, 1.196677753478114]\n",
      "Current Position: \n",
      " [1.1923103760076665, 1.1940573269958454, 1.194930802489935, 1.196677753478114]\n",
      "Current Position: \n",
      " [1.1946844179701495, 1.1954817521733352, 1.1958804192749282, 1.196677753478114]\n",
      "Current Position: \n",
      " [1.1956038435121457, 1.196033407498533, 1.1962481894917267, 1.196677753478114]\n",
      "Current Position: \n",
      " [1.1963513394999319, 1.1964819050912048, 1.1965471878868412, 1.196677753478114]\n",
      "Current Position: \n",
      " [1.1964680366420304, 1.1965519233764639, 1.1965938667436806, 1.196677753478114]\n",
      "Current Position: \n",
      " [1.1965963065266751, 1.1966288853072506, 1.1966451746975384, 1.196677753478114]\n",
      "Current Position: \n",
      " [1.1966515424816655, 1.1966620268802448, 1.1966672690795346, 1.196677753478114]\n",
      "Current Position: \n",
      " [1.1966588771338, 1.1966664276715255, 1.1966702029403884, 1.196677753478114]\n",
      "Current Position: \n",
      " [1.1966618345041327, 1.1966682020937252, 1.1966713858885214, 1.196677753478114]\n",
      "Current Position: \n",
      " [1.1966732721889282, 1.1966750647046025, 1.1966759609624396, 1.196677753478114]\n",
      "Current Position: \n",
      " [1.1966759839273478, 1.1966766917476543, 1.1966770456578075, 1.196677753478114]\n",
      "Current Position: \n",
      " [1.1966763281425385, 1.1966768982767688, 1.1966771833438838, 1.196677753478114]\n"
     ]
    }
   ],
   "source": [
    "for i in range(ITERATIONS):\n",
    "    Local_Best_Position = Get_Local_Best_Position(Current_Position, Local_Best_Position)\n",
    "    Global_Best_Position = Get_Global_Best_Position(Current_Position, Global_Best_Position)\n",
    "    New_Velocities = Get_Velocities_of_Particles(Local_Best_Position,\n",
    "                                                Global_Best_Position,\n",
    "                                                Current_Velocities,\n",
    "                                                Current_Position)\n",
    "    Current_Position = Get_New_Positions(New_Velocities, Current_Position)\n",
    "    print(f'Current Position: \\n {Current_Position}')\n",
    "    #print(np.array(Current_Position).shape)\n",
    "    #History_Position.append(Current_Position)\n",
    "    History_Position = np.concatenate((History_Position, Current_Position), axis=0)\n",
    "    #print(f'History Position: \\n {History_Position}\\n')"
   ],
   "metadata": {
    "collapsed": false,
    "pycharm": {
     "name": "#%%\n"
    }
   }
  },
  {
   "cell_type": "markdown",
   "source": [
    "### Plot the Movement of Particles"
   ],
   "metadata": {
    "collapsed": false,
    "pycharm": {
     "name": "#%% md\n"
    }
   }
  },
  {
   "cell_type": "code",
   "execution_count": 402,
   "outputs": [
    {
     "data": {
      "text/plain": "<Figure size 432x288 with 1 Axes>",
      "image/png": "[encoded data removed]"
     },
     "metadata": {
      "needs_background": "light"
     },
     "output_type": "display_data"
    }
   ],
   "source": [
    "import matplotlib.pyplot as plt\n",
    "import numpy as np\n",
    "from IPython import display\n",
    "%matplotlib inline\n",
    "\n",
    "fig = plt.figure()\n",
    "# plt.ion()\n",
    "\n",
    "for index in range(ITERATIONS):\n",
    "    fig.clf()\n",
    "    plt.title(\"Everybody says Kung Fu Fighting\")\n",
    "\n",
    "    x = np.arange(-4, 4, 0.01)\n",
    "    function = -(x**5)+5*(x**3)+20*x-5\n",
    "    particles_location_x = History_Position[index*4:index*4+4]\n",
    "    particles_location_y = f(History_Position[index*4:index*4+4])\n",
    "\n",
    "    plt.scatter(particles_location_x,particles_location_y,c='magenta')\n",
    "\n",
    "    # np.set_printoptions(precision=8)\n",
    "    plt.xlabel(f\"\\nx (position){particles_location_x}\")\n",
    "    plt.ylabel(\"f(x)\")\n",
    "\n",
    "    LB = 2*min(History_Position[index*4:index*4+4])\\\n",
    "             -max(History_Position[index*4:index*4+4])\n",
    "    UB = 2*max(History_Position[index*4:index*4+4])\\\n",
    "            -min(History_Position[index*4:index*4+4])\n",
    "\n",
    "    plt.xlim(LB, UB)\n",
    "    plt.plot(x, function)\n",
    "    plt.grid()\n",
    "\n",
    "    display.clear_output(wait=True)\n",
    "    plt.pause(0.2)\n",
    "\n",
    "# plt.ioff()\n",
    "\n",
    "plt.show()\n"
   ],
   "metadata": {
    "collapsed": false,
    "pycharm": {
     "name": "#%%\n"
    }
   }
  }
 ],
 "metadata": {
  "kernelspec": {
   "display_name": "Python 3",
   "language": "python",
   "name": "python3"
  },
  "language_info": {
   "codemirror_mode": {
    "name": "ipython",
    "version": 2
   },
   "file_extension": ".py",
   "mimetype": "text/x-python",
   "name": "python",
   "nbconvert_exporter": "python",
   "pygments_lexer": "ipython2",
   "version": "2.7.6"
  }
 },
 "nbformat": 4,
 "nbformat_minor": 0
}