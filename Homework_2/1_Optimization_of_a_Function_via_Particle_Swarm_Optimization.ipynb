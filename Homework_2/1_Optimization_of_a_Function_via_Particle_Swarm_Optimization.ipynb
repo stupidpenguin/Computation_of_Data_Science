{
 "cells": [
  {
   "cell_type": "code",
   "execution_count": 407,
   "outputs": [],
   "source": [
    "ITERATIONS = 20\n",
    "import numpy as np"
   ],
   "metadata": {
    "collapsed": false,
    "pycharm": {
     "name": "#%%\n"
    }
   }
  },
  {
   "cell_type": "markdown",
   "source": [
    "### Define Function f(x)"
   ],
   "metadata": {
    "collapsed": false
   }
  },
  {
   "cell_type": "code",
   "execution_count": 408,
   "outputs": [],
   "source": [
    "def f(x):\n",
    "    return -(x**5)+5*(x**3)+20*x-5"
   ],
   "metadata": {
    "collapsed": false,
    "pycharm": {
     "name": "#%%\n"
    }
   }
  },
  {
   "cell_type": "markdown",
   "source": [
    "---\n",
    "### Some methods"
   ],
   "metadata": {
    "collapsed": false,
    "pycharm": {
     "name": "#%% md\n"
    }
   }
  },
  {
   "cell_type": "code",
   "execution_count": 409,
   "outputs": [],
   "source": [
    "### Initialize Position List\n",
    "def Initialize_Position(List):\n",
    "    return List\n",
    "\n",
    "### Initialize Velocities\n",
    "def Initialize_Velocities():\n",
    "    return [0, 0, 0, 0]\n",
    "\n",
    "### Get Local Best Position\n",
    "def Get_Local_Best_Position(List, Current_Local_Best_Position):\n",
    "    for i in range(4):\n",
    "        if( f(List[i]) > f(Current_Local_Best_Position[i])):\n",
    "            Current_Local_Best_Position[i] = List[i]\n",
    "    # print(f'===== Get_Local_Best_Position =====')\n",
    "    # print(f'Current_Local_Best_Position : {Current_Local_Best_Position}')\n",
    "    # for j in range(4):\n",
    "    #     print(f'Local_Best_Position_Value[{j}] : {f(Local_Best_Position[j])}')\n",
    "    return Current_Local_Best_Position\n",
    "\n",
    "### Get Global Best Position\n",
    "def Get_Global_Best_Position(List, Global_Best_Position):\n",
    "    # print(f'===== Get_Global_Best_Position =====')\n",
    "    for i in range(4):\n",
    "        if( f(List[i]) > f(Global_Best_Position)):\n",
    "            Global_Best_Position = List[i]\n",
    "    # print(f'Global_Best_Position : {Global_Best_Position}')\n",
    "    # print(f'Global_Best_Position_Value : {f(Global_Best_Position)}')\n",
    "    return Global_Best_Position\n",
    "\n",
    "### Get Velocities of Particles\n",
    "def Get_Velocities_of_Particles(Local_Best_Position,\n",
    "                                Global_Best_Position,\n",
    "                                Current_Velocities,\n",
    "                                Current_Position):\n",
    "    New_Velocities = Initialize_Velocities() # ?\n",
    "    w = 0.2; c_1 = 0.4; c_2 = 0.4   # (original) w = c_1 = c_2 = 1\n",
    "                                    # Somehow, the original assumption make\\\n",
    "                                    # \\my algorithm failed when adding\n",
    "                                    # \\range constraint to the nodes.\n",
    "                                    # Therefore, I adopt another settings.\n",
    "    r_1 = np.random.uniform(0, 1, 1)\n",
    "    r_2 = np.random.uniform(0, 1, 1)\n",
    "    # print(f'===== Get_Velocities_of_Particles =====')\n",
    "    # print(f'Local_Best_Position : {Local_Best_Position}')\n",
    "    # print(f'Global_Best_Position : {Global_Best_Position}')\n",
    "    # print(f'Current_Velocities : {Current_Velocities}')\n",
    "    # print(f'Current_Position : {Current_Position}')\n",
    "    # print(f'r_1, r_2: {r_1, r_2}')\n",
    "    for i in range(4):\n",
    "        New_Velocities[i] = w*Current_Velocities[i]\\\n",
    "                            + c_1*r_1*(Local_Best_Position[i]-Current_Position[i])\\\n",
    "                            + c_2*r_2*(Global_Best_Position-Current_Position[i])\n",
    "        New_Velocities[i] = float(New_Velocities[i])\n",
    "    print(f'New Velocities : {New_Velocities}')\n",
    "    return New_Velocities\n",
    "\n",
    "def Get_New_Positions(Velocities, Current_Position):\n",
    "    # print(f'  ===== Get New Positions =====')\n",
    "    # # print(f'xCurrent_Position : {Current_Position}')\n",
    "    New_Positions = Current_Position\n",
    "    for i in range(4):\n",
    "        New_Positions[i] = Velocities[i] + Current_Position[i]\n",
    "    print(f'New Positions : {New_Positions}')\n",
    "    return New_Positions\n"
   ],
   "metadata": {
    "collapsed": false,
    "pycharm": {
     "name": "#%%\n"
    }
   }
  },
  {
   "cell_type": "markdown",
   "source": [
    "## Let's Start"
   ],
   "metadata": {
    "collapsed": false,
    "pycharm": {
     "name": "#%% md\n"
    }
   }
  },
  {
   "cell_type": "markdown",
   "source": [
    "### Initialization"
   ],
   "metadata": {
    "collapsed": false
   }
  },
  {
   "cell_type": "code",
   "execution_count": 410,
   "outputs": [
    {
     "name": "stdout",
     "output_type": "stream",
     "text": [
      "[-2, 0, 1, 3]\n"
     ]
    }
   ],
   "source": [
    "# Set Initial Positions\n",
    "x = [-2, 0, 1, 3]\n",
    "print(x)\n",
    "\n",
    "Current_Position = Initialize_Position(x)\n",
    "Current_Velocities = Initialize_Velocities()\n",
    "\n",
    "# Initialize Local Best Position\n",
    "Local_Best_Position = Current_Position\n",
    "\n",
    "# Initialize Global Best Position\n",
    "Global_Best_Position = Current_Position[0]\n",
    "### Arbitrarily set a position as Global Best Position from Current_Position\n",
    "\n",
    "# Claim a list to store historical positions, for plotting.\n",
    "History_Position = []\n",
    "History_Position = np.concatenate((History_Position, Current_Position), axis=0)\n",
    "New_Position = Initialize_Position(x)"
   ],
   "metadata": {
    "collapsed": false,
    "pycharm": {
     "name": "#%%\n"
    }
   }
  },
  {
   "cell_type": "code",
   "execution_count": 411,
   "outputs": [
    {
     "name": "stdout",
     "output_type": "stream",
     "text": [
      "\n",
      " Iters 0\n",
      "New Velocities : [0.05673488516576293, 0.018911628388587644, 0.0, -0.03782325677717529]\n",
      "\n",
      " Iters 1\n",
      "New Velocities : [1.0941325816056304, 0.36471086053521007, 0.0, -0.7294217210704201]\n",
      "\n",
      " Iters 2\n",
      "New Velocities : [0.8019215237859894, 0.42279917658595995, 0.2332380029859453, -0.14588434421408403]\n",
      "\n",
      " Iters 3\n",
      "New Velocities : [0.9582625565311855, 0.5632867863815846, 0.36579890130678405, -0.029176868842816808]\n",
      "\n",
      " Iters 4\n",
      "New Velocities : [0.30984751177063896, 0.18357435755495805, 0.12043778044711753, -0.005835373768563362]\n",
      "\n",
      " Iters 5\n",
      "New Velocities : [0.3168832554215221, 0.18966312335142824, 0.12605305731638122, -0.0011670747537126725]\n",
      "\n",
      " Iters 6\n",
      "New Velocities : [0.13390447120373994, 0.08024931674194696, 0.053421739511050455, -0.00023341495074253452]\n",
      "\n",
      " Iters 7\n",
      "New Velocities : [0.11296936762666557, 0.06776294737993996, 0.04515973725657711, -4.6682990148506905e-05]\n",
      "\n",
      " Iters 8\n",
      "New Velocities : [0.037075658023340244, 0.02224166017479227, 0.014824661250518272, -9.336598029701382e-06]\n",
      "\n",
      " Iters 9\n",
      "New Velocities : [0.03027571723209742, 0.012068527244101578, 0.002964932250103655, -0.015242257737892147]\n",
      "\n",
      " Iters 10\n",
      "New Velocities : [0.06311564043317955, 0.03665000364087629, 0.023417185244724692, -0.0030484515475784294]\n",
      "\n",
      " Iters 11\n",
      "New Velocities : [0.020492151827919747, 0.009953008641936528, 0.004683437048944939, -0.0058557061370382016]\n",
      "\n",
      " Iters 12\n",
      "New Velocities : [0.004134571872407827, 0.002002648897328598, 0.0009366874097889877, -0.0011952355652902246]\n",
      "\n",
      " Iters 13\n",
      "New Velocities : [0.0137254466546787, 0.0047000405395313935, 0.00018733748195779755, -0.008838068633189337]\n",
      "\n",
      " Iters 14\n",
      "New Velocities : [0.010612230361776364, 0.0035623884515198047, 3.7467496391559515e-05, -0.007012374413864873]\n",
      "\n",
      " Iters 15\n",
      "New Velocities : [0.011203800737126353, 0.0037395959118942963, 7.493499278311903e-06, -0.00745671132595357]\n",
      "\n",
      " Iters 16\n",
      "New Velocities : [0.00341854732348141, 0.001454591488012543, 0.00047261357027810825, -0.001491342265190714]\n",
      "\n",
      " Iters 17\n",
      "New Velocities : [0.00861725178858164, 0.005051043691933707, 0.0032679396436096995, -0.00029826845303814283]\n",
      "\n",
      " Iters 18\n",
      "New Velocities : [0.0018853988811190845, 0.0011073778524283942, 0.0007183673380830407, -5.965369060762857e-05]\n",
      "\n",
      " Iters 19\n",
      "New Velocities : [0.004085634903511593, 0.002454839702561697, 0.0016394421020867473, 8.646901136932339e-06]\n",
      "\n",
      "PSO converges at :1.9966031914327933, with optimal value : 42.999424455016886\n"
     ]
    }
   ],
   "source": [
    "for i in range(ITERATIONS):\n",
    "    print(f'\\n Iters {i}')\n",
    "    Local_Best_Position = Get_Local_Best_Position(Current_Position,\n",
    "                                                  Local_Best_Position)\n",
    "    Global_Best_Position = Get_Global_Best_Position(Current_Position,\n",
    "                                                    Global_Best_Position)\n",
    "    New_Velocities = Get_Velocities_of_Particles(Local_Best_Position,\n",
    "                                                Global_Best_Position,\n",
    "                                                Current_Velocities,\n",
    "                                                Current_Position)\n",
    "    # print(f'Current_Position:{Current_Position}')\n",
    "    for j in range(4):\n",
    "        New_Position[j] = New_Velocities[j] + Current_Position[j]\n",
    "\n",
    "    while((max(New_Position)>4)|(min(New_Position)<-4)):\n",
    "        # print(f'\\n!!! New_Position out of range!')\n",
    "        for k in range(4):\n",
    "            Current_Position[k] = Current_Position[k] - New_Velocities[k]\n",
    "        New_Velocities = Get_Velocities_of_Particles(Local_Best_Position,\n",
    "                                                    Global_Best_Position,\n",
    "                                                    Current_Velocities,\n",
    "                                                    Current_Position)\n",
    "        New_Position = Get_New_Positions(New_Velocities, Current_Position)\n",
    "\n",
    "    Current_Position = New_Position\n",
    "    Current_Velocities = New_Velocities\n",
    "    #print(f'Current Position: \\n {Current_Position}')\n",
    "    History_Position = np.concatenate((History_Position, Current_Position), axis=0)\n",
    "print(f'\\nPSO converges at :{np.mean(History_Position[-5:-1])}, with optimal value : {f(np.mean(History_Position[-5:-1]))}')"
   ],
   "metadata": {
    "collapsed": false,
    "pycharm": {
     "name": "#%%\n"
    }
   }
  },
  {
   "cell_type": "markdown",
   "source": [
    "### Plot the Movement of Particles"
   ],
   "metadata": {
    "collapsed": false,
    "pycharm": {
     "name": "#%% md\n"
    }
   }
  },
  {
   "cell_type": "code",
   "execution_count": 412,
   "outputs": [
    {
     "data": {
      "text/plain": "<Figure size 432x288 with 1 Axes>",
      "image/png": "[encoded data removed]"
     },
     "metadata": {
      "needs_background": "light"
     },
     "output_type": "display_data"
    }
   ],
   "source": [
    "import matplotlib.pyplot as plt\n",
    "import numpy as np\n",
    "from IPython import display\n",
    "%matplotlib inline\n",
    "\n",
    "fig = plt.figure()\n",
    "# plt.ion()\n",
    "\n",
    "for index in range(ITERATIONS+1):\n",
    "    fig.clf()\n",
    "    plt.title(\"Recommend to run the code on Jupyter Notebook for the animation. \")\n",
    "\n",
    "    x = np.arange(-4, 4, 0.01)\n",
    "    function = -(x**5)+5*(x**3)+20*x-5\n",
    "    particles_location_x = History_Position[index*4:index*4+4]\n",
    "    particles_location_y = f(History_Position[index*4:index*4+4])\n",
    "\n",
    "    plt.scatter(particles_location_x,particles_location_y,c='magenta')\n",
    "\n",
    "    # np.set_printoptions(precision=8)\n",
    "    plt.xlabel(f\"Stage {index}\\nParticles' Positions{particles_location_x}\")\n",
    "    plt.ylabel(\"f(x)\")\n",
    "\n",
    "    LB = -4; UB = 4;\n",
    "    # LB = 2*min(History_Position[index*4:index*4+4])\\\n",
    "    #          -max(History_Position[index*4:index*4+4])\n",
    "    # UB = 2*max(History_Position[index*4:index*4+4])\\\n",
    "    #         -min(History_Position[index*4:index*4+4])\n",
    "\n",
    "    plt.xlim(LB, UB)\n",
    "    plt.plot(x, function)\n",
    "    plt.grid()\n",
    "\n",
    "    display.clear_output(wait=True)\n",
    "    plt.pause(0.4)\n",
    "\n",
    "# plt.ioff()\n",
    "\n",
    "plt.show()\n"
   ],
   "metadata": {
    "collapsed": false,
    "pycharm": {
     "name": "#%%\n"
    }
   }
  }
 ],
 "metadata": {
  "kernelspec": {
   "display_name": "Python 3",
   "language": "python",
   "name": "python3"
  },
  "language_info": {
   "codemirror_mode": {
    "name": "ipython",
    "version": 2
   },
   "file_extension": ".py",
   "mimetype": "text/x-python",
   "name": "python",
   "nbconvert_exporter": "python",
   "pygments_lexer": "ipython2",
   "version": "2.7.6"
  }
 },
 "nbformat": 4,
 "nbformat_minor": 0
}