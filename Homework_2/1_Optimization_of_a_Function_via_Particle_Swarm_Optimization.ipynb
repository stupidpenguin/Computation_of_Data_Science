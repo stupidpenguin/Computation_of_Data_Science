{
 "cells": [
  {
   "cell_type": "code",
   "execution_count": 405,
   "outputs": [],
   "source": [
    "ITERATIONS = 20\n",
    "import numpy as np"
   ],
   "metadata": {
    "collapsed": false,
    "pycharm": {
     "name": "#%%\n"
    }
   }
  },
  {
   "cell_type": "markdown",
   "source": [
    "### Define Function f(x)"
   ],
   "metadata": {
    "collapsed": false
   }
  },
  {
   "cell_type": "code",
   "execution_count": 406,
   "outputs": [],
   "source": [
    "def f(x):\n",
    "    return -(x**5)+5*(x**3)+20*x-5"
   ],
   "metadata": {
    "collapsed": false,
    "pycharm": {
     "name": "#%%\n"
    }
   }
  },
  {
   "cell_type": "markdown",
   "source": [
    "---\n",
    "### Some methods"
   ],
   "metadata": {
    "collapsed": false,
    "pycharm": {
     "name": "#%% md\n"
    }
   }
  },
  {
   "cell_type": "code",
   "execution_count": 407,
   "outputs": [],
   "source": [
    "### Initialize Position List\n",
    "def Initialize_Position(List):\n",
    "    return List\n",
    "\n",
    "### Initialize Velocities\n",
    "def Initialize_Velocities():\n",
    "    return [0, 0, 0, 0]\n",
    "\n",
    "### Get Local Best Position\n",
    "def Get_Local_Best_Position(List, Current_Local_Best_Position):\n",
    "    for i in range(4):\n",
    "        if( f(List[i]) > f(Current_Local_Best_Position[i])):\n",
    "            Current_Local_Best_Position[i] = List[i]\n",
    "    return Current_Local_Best_Position\n",
    "\n",
    "### Get Global Best Position\n",
    "def Get_Global_Best_Position(List, Global_Best_Position):\n",
    "    for i in range(4):\n",
    "        if( f(List[i]) > Global_Best_Position):\n",
    "            Global_Best_Position = List[i]\n",
    "    return Global_Best_Position\n",
    "\n",
    "### Get Velocities of Particles\n",
    "def Get_Velocities_of_Particles(Local_Best_Position,\n",
    "                                Global_Best_Position,\n",
    "                                Current_Velocities,\n",
    "                                Current_Position):\n",
    "    New_Velocities = Initialize_Velocities() # ?\n",
    "    w = c_1 = c_2 = 1\n",
    "    r_1 = np.random.uniform(0, 1, 1)\n",
    "    r_2 = np.random.uniform(0, 1, 1)\n",
    "\n",
    "    for i in range(4):\n",
    "        New_Velocities[i] = w*Current_Velocities[i]\\\n",
    "                            + c_1*r_1*(Local_Best_Position[i]-Current_Position[i])\\\n",
    "                            + c_2*r_2*(Global_Best_Position-Current_Position[i])\n",
    "        New_Velocities[i] = float(New_Velocities[i])\n",
    "    return New_Velocities\n",
    "\n",
    "def Get_New_Positions(Velocities, Current_Position):\n",
    "    New_Positions = Current_Position\n",
    "    for i in range(4):\n",
    "        New_Positions[i] = Velocities[i] + Current_Position[i]\n",
    "    return New_Positions\n"
   ],
   "metadata": {
    "collapsed": false,
    "pycharm": {
     "name": "#%%\n"
    }
   }
  },
  {
   "cell_type": "markdown",
   "source": [
    "## Let's Start"
   ],
   "metadata": {
    "collapsed": false,
    "pycharm": {
     "name": "#%% md\n"
    }
   }
  },
  {
   "cell_type": "markdown",
   "source": [
    "### Initialization"
   ],
   "metadata": {
    "collapsed": false
   }
  },
  {
   "cell_type": "code",
   "execution_count": 408,
   "outputs": [
    {
     "name": "stdout",
     "output_type": "stream",
     "text": [
      "[-2, 0, 1, 3]\n"
     ]
    }
   ],
   "source": [
    "#x_1 = -2; x_2 = 0; x_3 = 1; x_4 = 3\n",
    "#print(x_1)\n",
    "#print(x_4)\n",
    "\n",
    "# Set Initial Positions\n",
    "x = [-2, 0, 1, 3]\n",
    "print(x)\n",
    "\n",
    "# Set weights vector\n",
    "wcc = [1, 1, 1] # c_1 = c_2 = w = 1\n",
    "\n",
    "Current_Position = Initialize_Position(x)\n",
    "Current_Velocities = Initialize_Velocities()\n",
    "\n",
    "# Initialize Local Best Position\n",
    "Local_Best_Position = Current_Position\n",
    "\n",
    "# Initialize Global Best Position\n",
    "Global_Best_Position = Current_Position[0]\n",
    "### Arbitrarily set a position as Global Best Position from Current_Position\n",
    "\n",
    "# Claim a list to store historical positions, for plotting.\n",
    "History_Position = []"
   ],
   "metadata": {
    "collapsed": false,
    "pycharm": {
     "name": "#%%\n"
    }
   }
  },
  {
   "cell_type": "code",
   "execution_count": 409,
   "outputs": [],
   "source": [
    "for i in range(ITERATIONS):\n",
    "    Local_Best_Position = Get_Local_Best_Position(Current_Position, Local_Best_Position)\n",
    "    Global_Best_Position = Get_Global_Best_Position(Current_Position, Global_Best_Position)\n",
    "    New_Velocities = Get_Velocities_of_Particles(Local_Best_Position,\n",
    "                                                Global_Best_Position,\n",
    "                                                Current_Velocities,\n",
    "                                                Current_Position)\n",
    "    Current_Position = Get_New_Positions(New_Velocities, Current_Position)\n",
    "    #print(f'Current Position: \\n {Current_Position}')\n",
    "    History_Position = np.concatenate((History_Position, Current_Position), axis=0)\n",
    "    #print(f'History Position: \\n {History_Position}\\n')"
   ],
   "metadata": {
    "collapsed": false,
    "pycharm": {
     "name": "#%%\n"
    }
   }
  },
  {
   "cell_type": "markdown",
   "source": [
    "### Plot the Movement of Particles"
   ],
   "metadata": {
    "collapsed": false,
    "pycharm": {
     "name": "#%% md\n"
    }
   }
  },
  {
   "cell_type": "code",
   "execution_count": 410,
   "outputs": [
    {
     "data": {
      "text/plain": "<Figure size 432x288 with 1 Axes>",
      "image/png": "[encoded data removed]"
     },
     "metadata": {
      "needs_background": "light"
     },
     "output_type": "display_data"
    }
   ],
   "source": [
    "import matplotlib.pyplot as plt\n",
    "import numpy as np\n",
    "from IPython import display\n",
    "%matplotlib inline\n",
    "\n",
    "fig = plt.figure()\n",
    "# plt.ion()\n",
    "\n",
    "for index in range(ITERATIONS):\n",
    "    fig.clf()\n",
    "    plt.title(\"Recommend to run the code on Jupyter Notebook for the animation. \")\n",
    "\n",
    "    x = np.arange(-4, 4, 0.01)\n",
    "    function = -(x**5)+5*(x**3)+20*x-5\n",
    "    particles_location_x = History_Position[index*4:index*4+4]\n",
    "    particles_location_y = f(History_Position[index*4:index*4+4])\n",
    "\n",
    "    plt.scatter(particles_location_x,particles_location_y,c='magenta')\n",
    "\n",
    "    # np.set_printoptions(precision=8)\n",
    "    plt.xlabel(f\"\\nx (position){particles_location_x}\")\n",
    "    plt.ylabel(\"f(x)\")\n",
    "\n",
    "    LB = 2*min(History_Position[index*4:index*4+4])\\\n",
    "             -max(History_Position[index*4:index*4+4])\n",
    "    UB = 2*max(History_Position[index*4:index*4+4])\\\n",
    "            -min(History_Position[index*4:index*4+4])\n",
    "\n",
    "    plt.xlim(LB, UB)\n",
    "    plt.plot(x, function)\n",
    "    plt.grid()\n",
    "\n",
    "    display.clear_output(wait=True)\n",
    "    plt.pause(0.2)\n",
    "\n",
    "# plt.ioff()\n",
    "\n",
    "plt.show()\n"
   ],
   "metadata": {
    "collapsed": false,
    "pycharm": {
     "name": "#%%\n"
    }
   }
  }
 ],
 "metadata": {
  "kernelspec": {
   "display_name": "Python 3",
   "language": "python",
   "name": "python3"
  },
  "language_info": {
   "codemirror_mode": {
    "name": "ipython",
    "version": 2
   },
   "file_extension": ".py",
   "mimetype": "text/x-python",
   "name": "python",
   "nbconvert_exporter": "python",
   "pygments_lexer": "ipython2",
   "version": "2.7.6"
  }
 },
 "nbformat": 4,
 "nbformat_minor": 0
}