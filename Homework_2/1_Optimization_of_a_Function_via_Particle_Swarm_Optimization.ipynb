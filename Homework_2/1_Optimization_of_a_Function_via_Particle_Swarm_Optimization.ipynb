{
 "cells": [
  {
   "cell_type": "code",
   "execution_count": 401,
   "outputs": [],
   "source": [
    "ITERATIONS = 20\n",
    "import numpy as np"
   ],
   "metadata": {
    "collapsed": false,
    "pycharm": {
     "name": "#%%\n"
    }
   }
  },
  {
   "cell_type": "markdown",
   "source": [
    "### Define Function f(x)"
   ],
   "metadata": {
    "collapsed": false
   }
  },
  {
   "cell_type": "code",
   "execution_count": 402,
   "outputs": [],
   "source": [
    "def f(x):\n",
    "    return -(x**5)+5*(x**3)+20*x-5"
   ],
   "metadata": {
    "collapsed": false,
    "pycharm": {
     "name": "#%%\n"
    }
   }
  },
  {
   "cell_type": "markdown",
   "source": [
    "---\n",
    "### Some methods"
   ],
   "metadata": {
    "collapsed": false,
    "pycharm": {
     "name": "#%% md\n"
    }
   }
  },
  {
   "cell_type": "code",
   "execution_count": 403,
   "outputs": [],
   "source": [
    "### Initialize Position List\n",
    "def Initialize_Position(List):\n",
    "    return List\n",
    "\n",
    "### Initialize Velocities\n",
    "def Initialize_Velocities():\n",
    "    return [0, 0, 0, 0]\n",
    "\n",
    "### Get Local Best Position\n",
    "def Get_Local_Best_Position(List, Current_Local_Best_Position):\n",
    "    for i in range(4):\n",
    "        if( f(List[i]) > f(Current_Local_Best_Position[i])):\n",
    "            Current_Local_Best_Position[i] = List[i]\n",
    "    # print(f'===== Get_Local_Best_Position =====')\n",
    "    # print(f'Current_Local_Best_Position : {Current_Local_Best_Position}')\n",
    "    # for j in range(4):\n",
    "    #     print(f'Local_Best_Position_Value[{j}] : {f(Local_Best_Position[j])}')\n",
    "    return Current_Local_Best_Position\n",
    "\n",
    "### Get Global Best Position\n",
    "def Get_Global_Best_Position(List, Global_Best_Position):\n",
    "    # print(f'===== Get_Global_Best_Position =====')\n",
    "    for i in range(4):\n",
    "        if( f(List[i]) > f(Global_Best_Position)):\n",
    "            Global_Best_Position = List[i]\n",
    "    # print(f'Global_Best_Position : {Global_Best_Position}')\n",
    "    # print(f'Global_Best_Position_Value : {f(Global_Best_Position)}')\n",
    "    return Global_Best_Position\n",
    "\n",
    "### Get Velocities of Particles\n",
    "def Get_Velocities_of_Particles(Local_Best_Position,\n",
    "                                Global_Best_Position,\n",
    "                                Current_Velocities,\n",
    "                                Current_Position):\n",
    "    New_Velocities = Initialize_Velocities() # ?\n",
    "    w = 0.2; c_1 = 0.4; c_2 = 0.4   # (original) w = c_1 = c_2 = 1\n",
    "                                    # Somehow, the original assumption make\\\n",
    "                                    # \\my algorithm failed when adding\n",
    "                                    # \\range constraint to the nodes.\n",
    "                                    # Therefore, I adopt another settings.\n",
    "    r_1 = np.random.uniform(0, 1, 1)\n",
    "    r_2 = np.random.uniform(0, 1, 1)\n",
    "    # print(f'===== Get_Velocities_of_Particles =====')\n",
    "    # print(f'Local_Best_Position : {Local_Best_Position}')\n",
    "    # print(f'Global_Best_Position : {Global_Best_Position}')\n",
    "    # print(f'Current_Velocities : {Current_Velocities}')\n",
    "    # print(f'Current_Position : {Current_Position}')\n",
    "    # print(f'r_1, r_2: {r_1, r_2}')\n",
    "    for i in range(4):\n",
    "        New_Velocities[i] = w*Current_Velocities[i]\\\n",
    "                            + c_1*r_1*(Local_Best_Position[i]-Current_Position[i])\\\n",
    "                            + c_2*r_2*(Global_Best_Position-Current_Position[i])\n",
    "        New_Velocities[i] = float(New_Velocities[i])\n",
    "    print(f'New Velocities : {New_Velocities}')\n",
    "    return New_Velocities\n",
    "\n",
    "def Get_New_Positions(Velocities, Current_Position):\n",
    "    # print(f'  ===== Get New Positions =====')\n",
    "    # # print(f'xCurrent_Position : {Current_Position}')\n",
    "    New_Positions = Current_Position\n",
    "    for i in range(4):\n",
    "        New_Positions[i] = Velocities[i] + Current_Position[i]\n",
    "    print(f'New Positions : {New_Positions}')\n",
    "    return New_Positions\n"
   ],
   "metadata": {
    "collapsed": false,
    "pycharm": {
     "name": "#%%\n"
    }
   }
  },
  {
   "cell_type": "markdown",
   "source": [
    "## Let's Start"
   ],
   "metadata": {
    "collapsed": false,
    "pycharm": {
     "name": "#%% md\n"
    }
   }
  },
  {
   "cell_type": "markdown",
   "source": [
    "### Initialization"
   ],
   "metadata": {
    "collapsed": false
   }
  },
  {
   "cell_type": "code",
   "execution_count": 404,
   "outputs": [
    {
     "name": "stdout",
     "output_type": "stream",
     "text": [
      "[-2, 0, 1, 3]\n"
     ]
    }
   ],
   "source": [
    "# Set Initial Positions\n",
    "x = [-2, 0, 1, 3]\n",
    "print(x)\n",
    "\n",
    "Current_Position = Initialize_Position(x)\n",
    "Current_Velocities = Initialize_Velocities()\n",
    "\n",
    "# Initialize Local Best Position\n",
    "Local_Best_Position = Current_Position\n",
    "\n",
    "# Initialize Global Best Position\n",
    "Global_Best_Position = Current_Position[0]\n",
    "### Arbitrarily set a position as Global Best Position from Current_Position\n",
    "\n",
    "# Claim a list to store historical positions, for plotting.\n",
    "History_Position = []\n",
    "History_Position = np.concatenate((History_Position, Current_Position), axis=0)\n",
    "New_Position = Initialize_Position(x)"
   ],
   "metadata": {
    "collapsed": false,
    "pycharm": {
     "name": "#%%\n"
    }
   }
  },
  {
   "cell_type": "code",
   "execution_count": 405,
   "outputs": [
    {
     "name": "stdout",
     "output_type": "stream",
     "text": [
      "\n",
      " Iters 0\n",
      "New Velocities : [0.738364739342148, 0.24612157978071597, 0.0, -0.49224315956143194]\n",
      "\n",
      " Iters 1\n",
      "New Velocities : [0.681708020170049, 0.3696453593371149, 0.2136140289206478, -0.0984486319122864]\n",
      "\n",
      " Iters 2\n",
      "New Velocities : [1.2347917853894792, 0.7329991806807048, 0.4821028783263174, -0.01968972638245728]\n",
      "\n",
      " Iters 3\n",
      "New Velocities : [0.29288589520933495, 0.16190901551328732, 0.09642057566526348, -0.03455630403078418]\n",
      "\n",
      " Iters 4\n",
      "New Velocities : [0.2834835569077815, 0.10735059572462886, 0.0192841151330527, -0.1568488460500998]\n",
      "\n",
      " Iters 5\n",
      "New Velocities : [0.17117555716715432, 0.05962973440679174, 0.00385682302661054, -0.10768899973375193]\n",
      "\n",
      " Iters 6\n",
      "New Velocities : [0.06226690783275698, 0.028745024720954006, 0.011984083165052553, -0.021537799946750386]\n",
      "\n",
      " Iters 7\n",
      "New Velocities : [0.15241614259575184, 0.08972666156171101, 0.05838192104469065, -0.004307559989350077]\n",
      "\n",
      " Iters 8\n",
      "New Velocities : [0.12657169638958385, 0.07559841303460224, 0.05011177135711144, -0.0008615119978700155]\n",
      "\n",
      " Iters 9\n",
      "New Velocities : [0.042557177015723896, 0.02086729518618948, 0.010022354271422288, -0.011667527558112033]\n",
      "\n",
      " Iters 10\n",
      "New Velocities : [0.10159242229743645, 0.06002205117381281, 0.03923686561200099, -0.002333505511622407]\n",
      "\n",
      " Iters 11\n",
      "New Velocities : [0.02949177481761519, 0.01506217368747187, 0.007847373122400197, -0.006582228007743031]\n",
      "\n",
      " Iters 12\n",
      "New Velocities : [0.02006690747936936, 0.007735285576109829, 0.0015694746244800395, -0.01076214727877935]\n",
      "\n",
      " Iters 13\n",
      "New Velocities : [0.007129235524238879, 0.0025856751246769684, 0.0003138949248960079, -0.004229665474665826]\n",
      "\n",
      " Iters 14\n",
      "New Velocities : [0.012269058329904553, 0.0041315387666210025, 6.277898497920158e-05, -0.008074740578304238]\n",
      "\n",
      " Iters 15\n",
      "New Velocities : [0.013401811263391919, 0.004475640952461225, 1.2555796995840317e-05, -0.008913614513934768]\n",
      "\n",
      " Iters 16\n",
      "New Velocities : [0.0046147733891665575, 0.0015399319026549695, 2.5111593991680636e-06, -0.003072330327112403]\n",
      "\n",
      " Iters 17\n",
      "New Velocities : [0.0072024940833590794, 0.0024011661823728934, 5.022318798336127e-07, -0.0048008256691064195]\n",
      "\n",
      " Iters 18\n",
      "New Velocities : [0.006789577772915452, 0.0036896806102207826, 0.0021397320288734545, -0.0009601651338212839]\n",
      "\n",
      " Iters 19\n",
      "New Velocities : [0.002024213988388642, 0.001137715182327494, 0.0006944657792969159, -0.0001920330267642568]\n",
      "\n",
      "PSO converges at :1.9965642203970917, with optimal value : 42.999411189060915\n"
     ]
    }
   ],
   "source": [
    "for i in range(ITERATIONS):\n",
    "    print(f'\\n Iters {i}')\n",
    "    Local_Best_Position = Get_Local_Best_Position(Current_Position,\n",
    "                                                  Local_Best_Position)\n",
    "    Global_Best_Position = Get_Global_Best_Position(Current_Position,\n",
    "                                                    Global_Best_Position)\n",
    "    New_Velocities = Get_Velocities_of_Particles(Local_Best_Position,\n",
    "                                                Global_Best_Position,\n",
    "                                                Current_Velocities,\n",
    "                                                Current_Position)\n",
    "    # print(f'Current_Position:{Current_Position}')\n",
    "    for j in range(4):\n",
    "        New_Position[j] = New_Velocities[j] + Current_Position[j]\n",
    "\n",
    "    while((max(New_Position)>4)|(min(New_Position)<-4)):\n",
    "        # print(f'\\n!!! New_Position out of range!')\n",
    "        for k in range(4):\n",
    "            Current_Position[k] = Current_Position[k] - New_Velocities[k]\n",
    "        New_Velocities = Get_Velocities_of_Particles(Local_Best_Position,\n",
    "                                                    Global_Best_Position,\n",
    "                                                    Current_Velocities,\n",
    "                                                    Current_Position)\n",
    "        New_Position = Get_New_Positions(New_Velocities, Current_Position)\n",
    "\n",
    "    Current_Position = New_Position\n",
    "    Current_Velocities = New_Velocities\n",
    "    #print(f'Current Position: \\n {Current_Position}')\n",
    "    History_Position = np.concatenate((History_Position, Current_Position), axis=0)\n",
    "print(f'\\nPSO converges at :{np.mean(History_Position[-5:-1])}, with optimal value : {f(np.mean(History_Position[-5:-1]))}')"
   ],
   "metadata": {
    "collapsed": false,
    "pycharm": {
     "name": "#%%\n"
    }
   }
  },
  {
   "cell_type": "markdown",
   "source": [
    "### Plot the Movement of Particles"
   ],
   "metadata": {
    "collapsed": false,
    "pycharm": {
     "name": "#%% md\n"
    }
   }
  },
  {
   "cell_type": "code",
   "execution_count": 406,
   "outputs": [
    {
     "data": {
      "text/plain": "<Figure size 432x288 with 1 Axes>",
      "image/png": "[encoded data removed]"
     },
     "metadata": {
      "needs_background": "light"
     },
     "output_type": "display_data"
    }
   ],
   "source": [
    "import matplotlib.pyplot as plt\n",
    "import numpy as np\n",
    "from IPython import display\n",
    "%matplotlib inline\n",
    "\n",
    "fig = plt.figure()\n",
    "# plt.ion()\n",
    "\n",
    "for index in range(ITERATIONS+1):\n",
    "    fig.clf()\n",
    "    plt.title(\"Recommend to run the code on Jupyter Notebook for the animation. \")\n",
    "\n",
    "    x = np.arange(-4, 4, 0.01)\n",
    "    function = -(x**5)+5*(x**3)+20*x-5\n",
    "    particles_location_x = History_Position[index*4:index*4+4]\n",
    "    particles_location_y = f(History_Position[index*4:index*4+4])\n",
    "\n",
    "    plt.scatter(particles_location_x,particles_location_y,c='magenta')\n",
    "\n",
    "    # np.set_printoptions(precision=8)\n",
    "    plt.xlabel(f\"Stage {index}\\nParticles' Positions{particles_location_x}\")\n",
    "    plt.ylabel(\"f(x)\")\n",
    "\n",
    "    LB = -4; UB = 4;\n",
    "    # LB = 2*min(History_Position[index*4:index*4+4])\\\n",
    "    #          -max(History_Position[index*4:index*4+4])\n",
    "    # UB = 2*max(History_Position[index*4:index*4+4])\\\n",
    "    #         -min(History_Position[index*4:index*4+4])\n",
    "\n",
    "    plt.xlim(LB, UB)\n",
    "    plt.plot(x, function)\n",
    "    plt.grid()\n",
    "\n",
    "    display.clear_output(wait=True)\n",
    "    plt.pause(0.4)\n",
    "\n",
    "# plt.ioff()\n",
    "\n",
    "plt.show()\n"
   ],
   "metadata": {
    "collapsed": false,
    "pycharm": {
     "name": "#%%\n"
    }
   }
  }
 ],
 "metadata": {
  "kernelspec": {
   "display_name": "Python 3",
   "language": "python",
   "name": "python3"
  },
  "language_info": {
   "codemirror_mode": {
    "name": "ipython",
    "version": 2
   },
   "file_extension": ".py",
   "mimetype": "text/x-python",
   "name": "python",
   "nbconvert_exporter": "python",
   "pygments_lexer": "ipython2",
   "version": "2.7.6"
  }
 },
 "nbformat": 4,
 "nbformat_minor": 0
}