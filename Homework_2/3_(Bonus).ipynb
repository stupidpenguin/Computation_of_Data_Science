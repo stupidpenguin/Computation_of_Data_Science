{
 "cells": [
  {
   "cell_type": "markdown",
   "source": [
    "#### Question 2 with SA"
   ],
   "metadata": {
    "collapsed": false
   }
  },
  {
   "cell_type": "markdown",
   "source": [
    "---\n",
    "#### Some Hyperparmeteres"
   ],
   "metadata": {
    "collapsed": false,
    "pycharm": {
     "name": "#%% md\n"
    }
   }
  },
  {
   "cell_type": "code",
   "execution_count": 22,
   "outputs": [],
   "source": [
    "# Hyperparameters\n",
    "MAXIMUM_WEIGHT = 529    #529\n",
    "EACH_TYPE_ONE_ELEMENT = 0 #False\n",
    "NO_UPDATE_TIMES = 10e4 #10e4"
   ],
   "metadata": {
    "collapsed": false,
    "pycharm": {
     "name": "#%%\n"
    }
   }
  },
  {
   "cell_type": "markdown",
   "source": [
    "#### Load Data"
   ],
   "metadata": {
    "collapsed": false,
    "pycharm": {
     "name": "#%% md\n"
    }
   }
  },
  {
   "cell_type": "code",
   "execution_count": 23,
   "outputs": [],
   "source": [
    "import pandas as pd\n",
    "List_of_Gear = pd.read_csv('List_of_gear.csv')\n",
    "\n",
    "# Setup Row & Weapon name mapping\n",
    "df = List_of_Gear.iloc[:,0]\n",
    "\n",
    "# Setup Weight & Survival Points mapping\n",
    "Weight_Map = List_of_Gear.iloc[:,2].to_numpy()\n",
    "Survival_Points_Map = List_of_Gear.iloc[:,3].to_numpy()"
   ],
   "metadata": {
    "collapsed": false,
    "pycharm": {
     "name": "#%%\n"
    }
   }
  },
  {
   "cell_type": "markdown",
   "source": [
    "#### Some methods"
   ],
   "metadata": {
    "collapsed": false,
    "pycharm": {
     "name": "#%% md\n"
    }
   }
  },
  {
   "cell_type": "code",
   "execution_count": 24,
   "outputs": [],
   "source": [
    "import numpy as np\n",
    "def Weight_Mapping(Given_Array):\n",
    "    Sum_of_weight = 0\n",
    "    for i in range(len(Given_Array)):\n",
    "        if Given_Array[i] == 1:\n",
    "            Sum_of_weight += Weight_Map[i]\n",
    "    return Sum_of_weight\n",
    "\n",
    "def Survival_Points_Mapping(Given_Array):\n",
    "    Sum_of_Survival_Points = 0\n",
    "    for i in range(len(Given_Array)):\n",
    "        if Given_Array[i] == 1:\n",
    "            Sum_of_Survival_Points += Survival_Points_Map[i]\n",
    "    # Extra Points\n",
    "        ## YG1265 or Krieg 500 + Desert Eagle + tactical shield, survival points +25\n",
    "    if(((Given_Array[7]==1)|(Given_Array[10]==1))&(Given_Array[5]==Given_Array[14]==1)):\n",
    "        Sum_of_Survival_Points += 25\n",
    "        ## shadow dagger + desert eagle, survival points +5\n",
    "    if(Given_Array[0]==Given_Array[5]==1):\n",
    "        Sum_of_Survival_Points += 5\n",
    "        ## 228 Compact + AK-47 or M4A1, survival points +15\n",
    "    if(((Given_Array[8]==1)|(Given_Array[9]==1))&(Given_Array[3]==1)):\n",
    "        Sum_of_Survival_Points += 15\n",
    "        ## Carry all three equipments, survial points +70\n",
    "    if(Given_Array[12]==Given_Array[13]==Given_Array[14]==1):\n",
    "        Sum_of_Survival_Points += 70\n",
    "    return Sum_of_Survival_Points\n",
    "\n",
    "def Check_Overweight(Given_Array):\n",
    "    Weight = Weight_Mapping(Given_Array)\n",
    "    if (Weight <= MAXIMUM_WEIGHT):\n",
    "        return 0\n",
    "    else:\n",
    "        #print(f'Overweight!, weight={Weight}')\n",
    "        return 1\n",
    "\n",
    "def Check_Inventory_Requirement(Given_Array):\n",
    "    Copy_with_padding = np.pad(Given_Array,\n",
    "                               (0, 15-len(Given_Array)),\n",
    "                               'constant',\n",
    "                               constant_values=0)\n",
    "    if((sum(Copy_with_padding[0:3])>0)\n",
    "            &(sum(Copy_with_padding[3:6])>0)\n",
    "            &(sum(Copy_with_padding[12:15])>0)):\n",
    "        return 1\n",
    "    else:\n",
    "        return 0\n",
    "\n",
    "def Generate_Single_Creature(Each_Type_One_Element):\n",
    "\n",
    "    # The goal of the following part is to constraint the inventory bag to \\\n",
    "    # \\\"one item in each type\" settings. However, it seems that\\\n",
    "    # \\this settings were not required, thus the part was aborted.\n",
    "\n",
    "    # if(Each_Type_One_Element==1):\n",
    "    # # Except equipments, we can only choose one item in each type.\n",
    "    # # I will set the initial choice of each items by utilizing np.eye matrix,\\\n",
    "    # # \\then randomly select a row in order to represent the collection of items chosen.\n",
    "    #     Knife = np.eye(3, dtype=int); Pistols = np.eye(3, dtype=int); Primary = np.eye(6, dtype=int);\n",
    "    #     Selected_Knife = Randomly_Select_A_Row_from_Matrix(Knife)\n",
    "    #     Selected_Pistols = Randomly_Select_A_Row_from_Matrix(Pistols)\n",
    "    #     Selected_Primary = Randomly_Select_A_Row_from_Matrix(Primary)\n",
    "    #     Equipments = np.random.randint(2, size=3, dtype=int)\n",
    "    #     Items_in_Bag = np.concatenate((Selected_Knife, Selected_Pistols, Selected_Primary, Equipments))\n",
    "\n",
    "    # else:\n",
    "    Items_in_Bag = np.random.randint(2, size=15)\n",
    "\n",
    "    # Conforming to the inventory bag settings of 'carry at least one knife,\\\n",
    "    # \\one pistol and one equipment.\n",
    "    while(Check_Inventory_Requirement(Items_in_Bag)==0):\n",
    "        Items_in_Bag = np.random.randint(2, size=15)\n",
    "\n",
    "    if Check_Overweight(Items_in_Bag)==0:\n",
    "        return Items_in_Bag\n",
    "    else:\n",
    "        return Generate_Single_Creature(Each_Type_One_Element)   #Recursive Call till no overweight"
   ],
   "metadata": {
    "collapsed": false,
    "pycharm": {
     "name": "#%%\n"
    }
   }
  },
  {
   "cell_type": "code",
   "execution_count": 25,
   "outputs": [
    {
     "name": "stdout",
     "output_type": "stream",
     "text": [
      "   The best combination over all generations is: [0 1 0 0 0 1 1 1 1 0 0 0 1 1 1]\n",
      "    with correspond items:  Huntsman_Knife + Desert_Eagle_Magnum + Ingram_MAC-10_SMG + Leone_YG1265_Auto_Shotgun + M4A1_Carbine + Gas_Mask + Night-Vision_Goggle + Tactical_Shield + \n",
      "    and maximum survival points: 830, total weight: 525.2\n"
     ]
    }
   ],
   "source": [
    "# Generate Initial Temperature\n",
    "rand_4pts = []\n",
    "for i in range(4):\n",
    "    Creature = Generate_Single_Creature(Each_Type_One_Element=0)\n",
    "    rand_4pts.append(Survival_Points_Mapping(Creature))\n",
    "\n",
    "init_temp = np.average(rand_4pts)\n",
    "\n",
    "# Set Initial Weapons List\n",
    "x = Generate_Single_Creature(Each_Type_One_Element=0)\n",
    "SA = []\n",
    "\n",
    "## Some Initializations\n",
    "n = 2 # iterations\n",
    "c = 0.5 # temperature reduction factor\n",
    "no_update_times = 0\n",
    "des_x = x\n",
    "temp = init_temp\n",
    "iters_sum = 0\n",
    "\n",
    "while(no_update_times<=NO_UPDATE_TIMES):\n",
    "\n",
    "    iter = 0\n",
    "\n",
    "    while((iter<=n)&(no_update_times<=NO_UPDATE_TIMES)):\n",
    "        # Compute current_state\n",
    "        current_state = Survival_Points_Mapping(des_x)\n",
    "\n",
    "        r = Generate_Single_Creature(Each_Type_One_Element=0)\n",
    "        attempt_state = Survival_Points_Mapping(r)\n",
    "\n",
    "        # Step 3 and Step 4\n",
    "        del_f = attempt_state - current_state\n",
    "\n",
    "        if del_f>0:\n",
    "            #print(f'del_f:{del_f}')\n",
    "            c = np.random.uniform(0, 1, 1)\n",
    "            Prob_of_X_2 = np.exp(-del_f/(1*temp))\n",
    "            #print(f' r = {r} , $P(X_2)$ = {Prob_of_X_2}')\n",
    "            if Prob_of_X_2 > c:\n",
    "                des_x = r\n",
    "                #print(f'! assign new design (x) = {des_x}')\n",
    "                SA.append(float(Survival_Points_Mapping(r)))\n",
    "                current_state = attempt_state\n",
    "                temp = c*temp\n",
    "                no_update_times = 0\n",
    "        else:\n",
    "            no_update_times +=1\n",
    "\n",
    "        iter += 1\n",
    "        iters_sum += 1\n",
    "\n",
    "print(f'   The best combination over all generations is: {des_x}'\n",
    "      f'\\n    with corresponding items: ', end=\" \")\n",
    "for i in range(len(des_x)):\n",
    "    if des_x[i] == 1:\n",
    "        print(f'{df[i]} +', end=\" \")\n",
    "print(f'\\n    and maximum survival points: {current_state}'\n",
    "        f', total weight: {Weight_Mapping(des_x):.1f}')"
   ],
   "metadata": {
    "collapsed": false,
    "pycharm": {
     "name": "#%%\n"
    }
   }
  },
  {
   "cell_type": "markdown",
   "source": [
    "#### FE plot"
   ],
   "metadata": {
    "collapsed": false
   }
  },
  {
   "cell_type": "code",
   "execution_count": 26,
   "outputs": [
    {
     "data": {
      "text/plain": "<Figure size 432x288 with 1 Axes>",
      "image/png": "[encoded data removed]"
     },
     "metadata": {
      "needs_background": "light"
     },
     "output_type": "display_data"
    }
   ],
   "source": [
    "import matplotlib.pyplot as plt\n",
    "plt.stairs(SA, label=f'Simulated Annealing, Final Result: {SA[-1]}', baseline=None)\n",
    "\n",
    "plt.xlabel('Iterations')\n",
    "plt.ylabel('Objective Function Value')\n",
    "plt.title('FE plot')\n",
    "# plt.xlim()\n",
    "# plt.ylim()\n",
    "plt.grid(axis='y', color='0.95')\n",
    "\n",
    "plt.legend(loc=4)\n",
    "\n",
    "plt.show()"
   ],
   "metadata": {
    "collapsed": false,
    "pycharm": {
     "name": "#%%\n"
    }
   }
  }
 ],
 "metadata": {
  "kernelspec": {
   "display_name": "Python 3",
   "language": "python",
   "name": "python3"
  },
  "language_info": {
   "codemirror_mode": {
    "name": "ipython",
    "version": 2
   },
   "file_extension": ".py",
   "mimetype": "text/x-python",
   "name": "python",
   "nbconvert_exporter": "python",
   "pygments_lexer": "ipython2",
   "version": "2.7.6"
  }
 },
 "nbformat": 4,
 "nbformat_minor": 0
}