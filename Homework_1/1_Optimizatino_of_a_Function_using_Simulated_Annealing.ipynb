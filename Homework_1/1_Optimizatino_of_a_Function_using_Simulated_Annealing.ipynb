{
 "cells": [
  {
   "cell_type": "markdown",
   "metadata": {
    "collapsed": true,
    "pycharm": {
     "name": "#%% md\n"
    }
   },
   "source": [
    "### Some prerequisite"
   ]
  },
  {
   "cell_type": "code",
   "execution_count": 1,
   "outputs": [],
   "source": [
    "# set random seed\n",
    "import random\n",
    "random.seed(10)\n"
   ],
   "metadata": {
    "collapsed": false,
    "pycharm": {
     "name": "#%%\n"
    }
   }
  },
  {
   "cell_type": "markdown",
   "source": [
    "### Setting Hyperparameters"
   ],
   "metadata": {
    "collapsed": false
   }
  },
  {
   "cell_type": "code",
   "execution_count": 2,
   "outputs": [],
   "source": [
    "# hyperparameters:\n",
    "LB = -5\n",
    "UB = 5\n",
    "UNIT = 1\n",
    "NO_UPDATE_TIMES = 10e4\n",
    "DECREASE_RATE = 0.95\n",
    "\n",
    "# Define iteration numbers\n",
    "n = 2\n",
    "\n",
    "# Set temperature reduction factor\n",
    "c = 0.5"
   ],
   "metadata": {
    "collapsed": false,
    "pycharm": {
     "name": "#%%\n"
    }
   }
  },
  {
   "cell_type": "markdown",
   "source": [
    "### Define Objective Function"
   ],
   "metadata": {
    "collapsed": false
   }
  },
  {
   "cell_type": "code",
   "execution_count": 3,
   "outputs": [
    {
     "name": "stdout",
     "output_type": "stream",
     "text": [
      "objective function declaration succeed\n"
     ]
    }
   ],
   "source": [
    "import numpy as np\n",
    "\n",
    "# Define the objective function\n",
    "def f(x_1, x_2):\n",
    "    return 6*(x_1**2)-6*x_1*x_2+2*(x_2**2)-x_1-2*x_2\n",
    "\n",
    "print('objective function declaration succeed')"
   ],
   "metadata": {
    "collapsed": false,
    "pycharm": {
     "name": "#%%\n"
    }
   }
  },
  {
   "cell_type": "markdown",
   "source": [
    "---\n",
    "### Define method \"get_random\": In order to sample form uniform distribution"
   ],
   "metadata": {
    "collapsed": false
   }
  },
  {
   "cell_type": "code",
   "execution_count": 4,
   "outputs": [],
   "source": [
    "def get_random(low, high, unit):\n",
    "    return np.random.uniform(low, high, unit)"
   ],
   "metadata": {
    "collapsed": false,
    "pycharm": {
     "name": "#%%\n"
    }
   }
  },
  {
   "cell_type": "markdown",
   "source": [
    "---\n",
    "### Generating Initial Temperature, Initial points"
   ],
   "metadata": {
    "collapsed": false
   }
  },
  {
   "cell_type": "code",
   "execution_count": 5,
   "outputs": [
    {
     "name": "stdout",
     "output_type": "stream",
     "text": [
      "The mean objective value of four sample pts is: 200.5\n",
      "randomly select an initial design point: (-4, 4)\n"
     ]
    }
   ],
   "source": [
    "# Initialization\n",
    "HC = []; RW = []; SA = [];\n",
    "\n",
    "# Define Initial Temperature\n",
    "## randomly generate four points,\n",
    "## and set initial temperature as their mean of objective function values.\n",
    "\n",
    "import numpy as np\n",
    "rand_4pts = []\n",
    "selected_4pts = [[3, 2], [8, 4], [-6, 5], [-1,7]]\n",
    "for j in range(4):\n",
    "\n",
    "    rand_4pts.append(f(selected_4pts[j][0],selected_4pts[j][1]))\n",
    "\n",
    "init_temp = np.mean(rand_4pts)\n",
    "print(f'The mean objective value of four sample pts is: {init_temp}')\n",
    "\n",
    "# select an initial design point\n",
    "# x_1 = get_random(LB, UB+0.1 ,1)\n",
    "# x_2 = get_random(LB, UB+0.1 ,1)\n",
    "x_1 = -4\n",
    "x_2 = 4\n",
    "\n",
    "HC.append(float(f(x_1, x_2)))\n",
    "RW.append(float(f(x_1, x_2)))\n",
    "SA.append(float(f(x_1, x_2)))\n",
    "\n",
    "SA_X = []; HC_X = []; RW_X = []\n",
    "SA_X.append([x_1, x_2])\n",
    "HC_X.append([x_1, x_2])\n",
    "RW_X.append([x_1, x_2])\n",
    "\n",
    "print(f'randomly select an initial design point: {x_1, x_2}')"
   ],
   "metadata": {
    "collapsed": false,
    "pycharm": {
     "name": "#%%\n"
    }
   }
  },
  {
   "cell_type": "markdown",
   "source": [
    "---\n",
    "### Main body of Hill Climbing process, start iterating\n",
    "* Select the state in the neighborhoods of current state which best fit the objective function as the new design state.\n",
    "* In this implementation, the neighborhoods are set as $(x\\pm1\\times(0.95)^{\\text{update times}},\n",
    "y\\pm1\\times(0.95)^{\\text{update times}})$."
   ],
   "metadata": {
    "collapsed": false
   }
  },
  {
   "cell_type": "code",
   "execution_count": 6,
   "outputs": [],
   "source": [
    "no_update_times = 0\n",
    "update_times = 0\n",
    "current_x_1 = x_1\n",
    "current_x_2 = x_2\n",
    "value = f(x_1, x_2)\n",
    "\n",
    "while(no_update_times < NO_UPDATE_TIMES):\n",
    "    for i in range(3):\n",
    "        for j in range(3):\n",
    "            if (f(current_x_1+(i-1)*(DECREASE_RATE**update_times),\n",
    "                  current_x_2+(j-1))*(DECREASE_RATE**update_times) <value):\n",
    "                value = f(current_x_1+i-1,current_x_2+j-1)\n",
    "                new_x_1 = current_x_1+i-1\n",
    "                new_x_2 = current_x_1+j-1\n",
    "\n",
    "    if(f(new_x_1, new_x_2) < f(current_x_1, current_x_2)):\n",
    "        HC_X.append([new_x_1, new_x_2])\n",
    "        HC.append(float(f(new_x_1, new_x_2)))\n",
    "        current_x_1 = new_x_1\n",
    "        current_x_2 = new_x_2\n",
    "        no_update_times = 0\n",
    "        update_times += 1\n",
    "    else:\n",
    "        no_update_times += 1"
   ],
   "metadata": {
    "collapsed": false,
    "pycharm": {
     "name": "#%%\n"
    }
   }
  },
  {
   "cell_type": "markdown",
   "source": [
    "---\n",
    "### Main body of Random Walk process, start iterating"
   ],
   "metadata": {
    "collapsed": false
   }
  },
  {
   "cell_type": "code",
   "execution_count": 7,
   "outputs": [],
   "source": [
    "no_update_times = 0\n",
    "current_x_1 = x_1\n",
    "current_x_2 = x_2\n",
    "while(no_update_times < NO_UPDATE_TIMES):\n",
    "    attempt_x_1 = get_random(LB, UB+0.1 ,1)\n",
    "    attempt_x_2 = get_random(LB, UB+0.1 ,1)\n",
    "\n",
    "    if (f(attempt_x_1,attempt_x_2)<f(current_x_1, current_x_2)):\n",
    "        RW_X.append([attempt_x_1, attempt_x_2])\n",
    "        RW.append(float(f(attempt_x_1, attempt_x_2)))\n",
    "        current_x_1 = attempt_x_1\n",
    "        current_x_2 = attempt_x_2\n",
    "\n",
    "    else:\n",
    "        no_update_times += 1"
   ],
   "metadata": {
    "collapsed": false,
    "pycharm": {
     "name": "#%%\n"
    }
   }
  },
  {
   "cell_type": "markdown",
   "source": [
    "---\n",
    "### Main body of SA process, start iterating"
   ],
   "metadata": {
    "collapsed": false
   }
  },
  {
   "cell_type": "code",
   "execution_count": 8,
   "outputs": [
    {
     "name": "stdout",
     "output_type": "stream",
     "text": [
      "init_temp = 200.5\n"
     ]
    }
   ],
   "source": [
    "# Step 2\n",
    "\n",
    "## Some Initializations\n",
    "no_update_times = 0\n",
    "des_x_1 = x_1\n",
    "des_x_2 = x_2\n",
    "temp = init_temp\n",
    "print(f'init_temp = {init_temp}')\n",
    "iters_sum = 0\n",
    "while(no_update_times<=NO_UPDATE_TIMES):\n",
    "\n",
    "    iter = 0\n",
    "\n",
    "    while((iter<=n)&(no_update_times<=NO_UPDATE_TIMES)):\n",
    "        # Compute current_state\n",
    "        current_state = f(des_x_1, des_x_2)\n",
    "\n",
    "        # randomly select two uniformly distributed r.v.\n",
    "        u_1 = get_random(0, 1, 1)\n",
    "        u_2 = get_random(0, 1, 1)\n",
    "\n",
    "        # set ranges as +- 6\n",
    "        r_1 = des_x_1+u_1*12-6\n",
    "        r_2 = des_x_2+u_2*12-6\n",
    "        attempt_state = f(r_1, r_2)\n",
    "\n",
    "        # Step 3 and Step 4\n",
    "        del_f = attempt_state - current_state\n",
    "\n",
    "        if (del_f)<0:\n",
    "            r = get_random(0, 1, 1)\n",
    "            Prob_of_X_2 = np.exp(-del_f/(1*temp))\n",
    "            #print(f' r = {r} , $P(X_2)$ = {Prob_of_X_2}')\n",
    "            if Prob_of_X_2>r:\n",
    "                des_x_1 = r_1\n",
    "                des_x_2 = r_2\n",
    "                #print(f'! assign new design (x_1, x_2) = {(des_x_1, des_x_2)}')\n",
    "                SA_X.append([r_1, r_2])\n",
    "                SA.append(float(f(r_1,r_2)))\n",
    "                current_state = attempt_state\n",
    "                temp = c*temp\n",
    "                no_update_times = 0\n",
    "        else:\n",
    "            no_update_times +=1\n",
    "\n",
    "        iter += 1\n",
    "        iters_sum += 1"
   ],
   "metadata": {
    "collapsed": false,
    "pycharm": {
     "name": "#%%\n"
    }
   }
  },
  {
   "cell_type": "markdown",
   "source": [
    "---\n",
    "### Print the objective function values at each step\n",
    "* In order to check the solution is descending."
   ],
   "metadata": {
    "collapsed": false
   }
  },
  {
   "cell_type": "code",
   "execution_count": 9,
   "outputs": [
    {
     "name": "stdout",
     "output_type": "stream",
     "text": [
      "[220.0, 27.0, 14.0, 5.0, 0.0, -1.0, -3.0]\n",
      "[220.0, 89.85413153722763, 57.84908748423991, 27.42009882521409, 12.649816872176569, -1.4954784893852575, -2.049316576534024, -2.9393062152115066, -3.059001469774289, -3.125384000484167, -3.12634237088566, -3.160415063806335, -3.1642010623188073, -3.164576544900487, -3.166224418660926]\n",
      "[220.0, 84.97664945697908, 24.316539436881705, 5.970568225669258, 2.079234595081875, -2.734514822394919, -2.9546704035596436, -3.0486633340047993, -3.1615300970023332, -3.165171251339399, -3.166321041411348]\n",
      "7\n",
      "15\n",
      "11\n",
      "[[-4, 4], [-3, -5], [-2, -2], [-1, -1], [0, 0], [1, 1], [1, 2]]\n",
      "[[-4, 4], [array([2.83388967]), array([-1.94406259])], [array([-3.62606911]), array([-1.46619097])], [array([-0.67194518]), array([2.99601236])], [array([-1.68451374]), array([-0.98865163])], [array([0.40347138]), array([0.67264303])], [array([1.97311421]), array([2.95798878])], [array([1.07192858]), array([1.85803113])], [array([1.44200909]), array([2.87508623])], [array([1.1685246]), array([2.26921537])], [array([1.40482857]), array([2.73502576])], [array([1.32215841]), array([2.42817272])], [array([1.36614084]), array([2.52858233])], [array([1.30502323]), array([2.43646438])], [array([1.33432354]), array([2.48663982])]]\n",
      "[[-4, 4], [array([-2.55692191]), array([2.3848526])], [array([-0.9728115]), array([2.16374209])], [array([3.70313757]), array([6.65189842])], [array([3.07906944]), array([4.53786781])], [array([1.36355154]), array([2.08122488])], [array([1.35748901]), array([2.86113428])], [array([1.51059959]), array([2.57765972])], [array([1.36670837]), array([2.50843485])], [array([1.35705485]), array([2.51753582])], [array([1.34771001]), array([2.52578355])]]\n"
     ]
    }
   ],
   "source": [
    "print(HC)\n",
    "print(RW)\n",
    "print(SA)\n",
    "print(len(HC))\n",
    "print(len(RW))\n",
    "print(len(SA))\n",
    "print(HC_X)\n",
    "print(RW_X)\n",
    "print(SA_X)"
   ],
   "metadata": {
    "collapsed": false,
    "pycharm": {
     "name": "#%%\n"
    }
   }
  },
  {
   "cell_type": "markdown",
   "source": [
    "### FE plot"
   ],
   "metadata": {
    "collapsed": false
   }
  },
  {
   "cell_type": "code",
   "execution_count": 11,
   "outputs": [
    {
     "ename": "AttributeError",
     "evalue": "module 'matplotlib.pyplot' has no attribute 'stairs'",
     "output_type": "error",
     "traceback": [
      "\u001B[1;31m---------------------------------------------------------------------------\u001B[0m",
      "\u001B[1;31mAttributeError\u001B[0m                            Traceback (most recent call last)",
      "\u001B[1;32m<ipython-input-11-35a6157bcd12>\u001B[0m in \u001B[0;36m<module>\u001B[1;34m\u001B[0m\n\u001B[0;32m      1\u001B[0m \u001B[1;32mimport\u001B[0m \u001B[0mmatplotlib\u001B[0m\u001B[1;33m.\u001B[0m\u001B[0mpyplot\u001B[0m \u001B[1;32mas\u001B[0m \u001B[0mplt\u001B[0m\u001B[1;33m\u001B[0m\u001B[1;33m\u001B[0m\u001B[0m\n\u001B[1;32m----> 2\u001B[1;33m \u001B[0mplt\u001B[0m\u001B[1;33m.\u001B[0m\u001B[0mstairs\u001B[0m\u001B[1;33m(\u001B[0m\u001B[0mHC\u001B[0m\u001B[1;33m,\u001B[0m \u001B[0mlabel\u001B[0m\u001B[1;33m=\u001B[0m\u001B[1;34m'Hill Climbing'\u001B[0m\u001B[1;33m,\u001B[0m \u001B[0mbaseline\u001B[0m\u001B[1;33m=\u001B[0m\u001B[1;32mNone\u001B[0m\u001B[1;33m)\u001B[0m\u001B[1;33m\u001B[0m\u001B[1;33m\u001B[0m\u001B[0m\n\u001B[0m\u001B[0;32m      3\u001B[0m \u001B[0mplt\u001B[0m\u001B[1;33m.\u001B[0m\u001B[0mstairs\u001B[0m\u001B[1;33m(\u001B[0m\u001B[0mRW\u001B[0m\u001B[1;33m,\u001B[0m \u001B[0mlabel\u001B[0m\u001B[1;33m=\u001B[0m\u001B[1;34m'Random Walk'\u001B[0m\u001B[1;33m,\u001B[0m \u001B[0mbaseline\u001B[0m\u001B[1;33m=\u001B[0m\u001B[1;32mNone\u001B[0m\u001B[1;33m)\u001B[0m\u001B[1;33m\u001B[0m\u001B[1;33m\u001B[0m\u001B[0m\n\u001B[0;32m      4\u001B[0m \u001B[0mplt\u001B[0m\u001B[1;33m.\u001B[0m\u001B[0mstairs\u001B[0m\u001B[1;33m(\u001B[0m\u001B[0mSA\u001B[0m\u001B[1;33m,\u001B[0m \u001B[0mlabel\u001B[0m\u001B[1;33m=\u001B[0m\u001B[1;34m'Simulated Annealing'\u001B[0m\u001B[1;33m,\u001B[0m \u001B[0mbaseline\u001B[0m\u001B[1;33m=\u001B[0m\u001B[1;32mNone\u001B[0m\u001B[1;33m)\u001B[0m\u001B[1;33m\u001B[0m\u001B[1;33m\u001B[0m\u001B[0m\n\u001B[0;32m      5\u001B[0m \u001B[1;33m\u001B[0m\u001B[0m\n",
      "\u001B[1;31mAttributeError\u001B[0m: module 'matplotlib.pyplot' has no attribute 'stairs'"
     ]
    }
   ],
   "source": [
    "import matplotlib.pyplot as plt\n",
    "plt.stairs(HC, label='Hill Climbing', baseline=None)\n",
    "plt.stairs(RW, label='Random Walk', baseline=None)\n",
    "plt.stairs(SA, label='Simulated Annealing', baseline=None)\n",
    "\n",
    "plt.xlabel('Iterations')\n",
    "plt.ylabel('Obejective Function Value')\n",
    "plt.title('FE plot of the comparison of three algorithms')\n",
    "# plt.xlim()\n",
    "# plt.ylim()\n",
    "plt.grid(axis='y', color='0.95')\n",
    "\n",
    "plt.legend(loc=1)\n",
    "\n",
    "plt.show()"
   ],
   "metadata": {
    "collapsed": false,
    "pycharm": {
     "name": "#%%\n"
    }
   }
  },
  {
   "cell_type": "code",
   "execution_count": null,
   "outputs": [],
   "source": [
    "import json\n",
    "\n",
    "with open('result\\First_Part\\RW.json', 'w') as f:\n",
    "    json.dump(RW, f)\n",
    "\n",
    "with open('result\\First_Part\\HC.json', 'w') as f:\n",
    "    json.dump(HC, f)\n",
    "\n",
    "with open('result\\First_Part\\SA.json', 'w') as f:\n",
    "    json.dump(SA, f)"
   ],
   "metadata": {
    "collapsed": false,
    "pycharm": {
     "name": "#%%\n"
    }
   }
  }
 ],
 "metadata": {
  "kernelspec": {
   "display_name": "Python 3",
   "language": "python",
   "name": "python3"
  },
  "language_info": {
   "codemirror_mode": {
    "name": "ipython",
    "version": 2
   },
   "file_extension": ".py",
   "mimetype": "text/x-python",
   "name": "python",
   "nbconvert_exporter": "python",
   "pygments_lexer": "ipython2",
   "version": "2.7.6"
  }
 },
 "nbformat": 4,
 "nbformat_minor": 0
}