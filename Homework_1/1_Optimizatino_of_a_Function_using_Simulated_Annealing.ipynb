{
 "cells": [
  {
   "cell_type": "markdown",
   "metadata": {
    "collapsed": true,
    "pycharm": {
     "name": "#%% md\n"
    }
   },
   "source": [
    "### Some prerequisite"
   ]
  },
  {
   "cell_type": "code",
   "execution_count": 229,
   "outputs": [],
   "source": [
    "# set random seed\n",
    "import random\n",
    "random.seed(10)\n"
   ],
   "metadata": {
    "collapsed": false,
    "pycharm": {
     "name": "#%%\n"
    }
   }
  },
  {
   "cell_type": "markdown",
   "source": [
    "### Setting Hyperparameters"
   ],
   "metadata": {
    "collapsed": false
   }
  },
  {
   "cell_type": "code",
   "execution_count": 230,
   "outputs": [],
   "source": [
    "# hyperparameters:\n",
    "LB = -5\n",
    "UB = 5\n",
    "UNIT = 1\n",
    "NO_UPDATE_TIMES = 10e4\n",
    "DECREASE_RATE = 0.95\n",
    "\n",
    "# Define iteration numbers\n",
    "n = 2\n",
    "\n",
    "# Set temperature reduction factor\n",
    "c = 0.5"
   ],
   "metadata": {
    "collapsed": false,
    "pycharm": {
     "name": "#%%\n"
    }
   }
  },
  {
   "cell_type": "markdown",
   "source": [
    "### Define Objective Function"
   ],
   "metadata": {
    "collapsed": false
   }
  },
  {
   "cell_type": "code",
   "execution_count": 231,
   "outputs": [
    {
     "name": "stdout",
     "output_type": "stream",
     "text": [
      "objective function declaration succeed\n"
     ]
    }
   ],
   "source": [
    "import numpy as np\n",
    "\n",
    "# Define the objective function\n",
    "def f(x_1, x_2):\n",
    "    return 6*(x_1**2)-6*x_1*x_2+2*(x_2**2)-x_1-2*x_2\n",
    "\n",
    "print('objective function declaration succeed')"
   ],
   "metadata": {
    "collapsed": false,
    "pycharm": {
     "name": "#%%\n"
    }
   }
  },
  {
   "cell_type": "markdown",
   "source": [
    "---\n",
    "### Define method \"get_random\": In order to sample form uniform distribution"
   ],
   "metadata": {
    "collapsed": false
   }
  },
  {
   "cell_type": "code",
   "execution_count": 232,
   "outputs": [],
   "source": [
    "def get_random(low, high, unit):\n",
    "    return np.random.uniform(low, high, unit)"
   ],
   "metadata": {
    "collapsed": false,
    "pycharm": {
     "name": "#%%\n"
    }
   }
  },
  {
   "cell_type": "markdown",
   "source": [
    "---\n",
    "### Generating Initial Temperature, Initial points"
   ],
   "metadata": {
    "collapsed": false
   }
  },
  {
   "cell_type": "code",
   "execution_count": 233,
   "outputs": [
    {
     "name": "stdout",
     "output_type": "stream",
     "text": [
      "The mean objective value of four sample pts is: 200.5\n",
      "randomly select an initial design point: (-4, 4)\n"
     ]
    }
   ],
   "source": [
    "# Initialization\n",
    "HC = []; RW = []; SA = [];\n",
    "\n",
    "# Define Initial Temperature\n",
    "## randomly generate four points,\n",
    "## and set initial temperature as their mean of objective function values.\n",
    "\n",
    "import numpy as np\n",
    "rand_4pts = []\n",
    "selected_4pts = [[3, 2], [8, 4], [-6, 5], [-1,7]]\n",
    "for j in range(4):\n",
    "\n",
    "    rand_4pts.append(f(selected_4pts[j][0],selected_4pts[j][1]))\n",
    "\n",
    "init_temp = np.mean(rand_4pts)\n",
    "print(f'The mean objective value of four sample pts is: {init_temp}')\n",
    "\n",
    "# select an initial design point\n",
    "# x_1 = get_random(LB, UB+0.1 ,1)\n",
    "# x_2 = get_random(LB, UB+0.1 ,1)\n",
    "x_1 = -4\n",
    "x_2 = 4\n",
    "\n",
    "HC.append(float(f(x_1, x_2)))\n",
    "RW.append(float(f(x_1, x_2)))\n",
    "SA.append(float(f(x_1, x_2)))\n",
    "\n",
    "SA_X = []; HC_X = []; RW_X = []\n",
    "SA_X.append([x_1, x_2])\n",
    "HC_X.append([x_1, x_2])\n",
    "RW_X.append([x_1, x_2])\n",
    "\n",
    "print(f'randomly select an initial design point: {x_1, x_2}')"
   ],
   "metadata": {
    "collapsed": false,
    "pycharm": {
     "name": "#%%\n"
    }
   }
  },
  {
   "cell_type": "markdown",
   "source": [
    "---\n",
    "### Main body of Hill Climbing process, start iterating\n",
    "* Select the state in the neighborhoods of current state which best fit the objective function as the new design state.\n",
    "* In this implementation, the neighborhoods are set as $(x\\pm1\\times(0.95)^{\\text{update times}},\n",
    "y\\pm1\\times(0.95)^{\\text{update times}})$."
   ],
   "metadata": {
    "collapsed": false
   }
  },
  {
   "cell_type": "code",
   "execution_count": 234,
   "outputs": [],
   "source": [
    "no_update_times = 0\n",
    "update_times = 0\n",
    "current_x_1 = x_1\n",
    "current_x_2 = x_2\n",
    "value = f(x_1, x_2)\n",
    "\n",
    "while(no_update_times < NO_UPDATE_TIMES):\n",
    "    for i in range(3):\n",
    "        for j in range(3):\n",
    "            if (f(current_x_1+(i-1)*(DECREASE_RATE**update_times),\n",
    "                  current_x_2+(j-1))*(DECREASE_RATE**update_times) <value):\n",
    "                value = f(current_x_1+i-1,current_x_2+j-1)\n",
    "                new_x_1 = current_x_1+i-1\n",
    "                new_x_2 = current_x_1+j-1\n",
    "\n",
    "    if(f(new_x_1, new_x_2) < f(current_x_1, current_x_2)):\n",
    "        HC_X.append([new_x_1, new_x_2])\n",
    "        HC.append(float(f(new_x_1, new_x_2)))\n",
    "        current_x_1 = new_x_1\n",
    "        current_x_2 = new_x_2\n",
    "        no_update_times = 0\n",
    "        update_times += 1\n",
    "    else:\n",
    "        no_update_times += 1"
   ],
   "metadata": {
    "collapsed": false,
    "pycharm": {
     "name": "#%%\n"
    }
   }
  },
  {
   "cell_type": "markdown",
   "source": [
    "---\n",
    "### Main body of Random Walk process, start iterating"
   ],
   "metadata": {
    "collapsed": false
   }
  },
  {
   "cell_type": "code",
   "execution_count": 235,
   "outputs": [],
   "source": [
    "no_update_times = 0\n",
    "current_x_1 = x_1\n",
    "current_x_2 = x_2\n",
    "while(no_update_times < NO_UPDATE_TIMES):\n",
    "    attempt_x_1 = get_random(LB, UB+0.1 ,1)\n",
    "    attempt_x_2 = get_random(LB, UB+0.1 ,1)\n",
    "\n",
    "    if (f(attempt_x_1,attempt_x_2)<f(current_x_1, current_x_2)):\n",
    "        RW_X.append([attempt_x_1, attempt_x_2])\n",
    "        RW.append(float(f(attempt_x_1, attempt_x_2)))\n",
    "        current_x_1 = attempt_x_1\n",
    "        current_x_2 = attempt_x_2\n",
    "\n",
    "    else:\n",
    "        no_update_times += 1"
   ],
   "metadata": {
    "collapsed": false,
    "pycharm": {
     "name": "#%%\n"
    }
   }
  },
  {
   "cell_type": "markdown",
   "source": [
    "---\n",
    "### Main body of SA process, start iterating"
   ],
   "metadata": {
    "collapsed": false
   }
  },
  {
   "cell_type": "code",
   "execution_count": 236,
   "outputs": [
    {
     "name": "stdout",
     "output_type": "stream",
     "text": [
      "init_temp = 200.5\n"
     ]
    }
   ],
   "source": [
    "# Step 2\n",
    "\n",
    "## Some Initializations\n",
    "no_update_times = 0\n",
    "des_x_1 = x_1\n",
    "des_x_2 = x_2\n",
    "temp = init_temp\n",
    "print(f'init_temp = {init_temp}')\n",
    "iters_sum = 0\n",
    "while(no_update_times<=NO_UPDATE_TIMES):\n",
    "\n",
    "    iter = 0\n",
    "\n",
    "    while((iter<=n)&(no_update_times<=NO_UPDATE_TIMES)):\n",
    "        # Compute current_state\n",
    "        current_state = f(des_x_1, des_x_2)\n",
    "\n",
    "        # randomly select two uniformly distributed r.v.\n",
    "        u_1 = get_random(0, 1, 1)\n",
    "        u_2 = get_random(0, 1, 1)\n",
    "\n",
    "        # set ranges as +- 6\n",
    "        r_1 = des_x_1+u_1*12-6\n",
    "        r_2 = des_x_2+u_2*12-6\n",
    "        attempt_state = f(r_1, r_2)\n",
    "\n",
    "        # Step 3 and Step 4\n",
    "        del_f = attempt_state - current_state\n",
    "\n",
    "        if (del_f)<0:\n",
    "            r = get_random(0, 1, 1)\n",
    "            Prob_of_X_2 = np.exp(-del_f/(1*temp))\n",
    "            #print(f' r = {r} , $P(X_2)$ = {Prob_of_X_2}')\n",
    "            if Prob_of_X_2>r:\n",
    "                des_x_1 = r_1\n",
    "                des_x_2 = r_2\n",
    "                #print(f'! assign new design (x_1, x_2) = {(des_x_1, des_x_2)}')\n",
    "                SA_X.append([r_1, r_2])\n",
    "                SA.append(float(f(r_1,r_2)))\n",
    "                current_state = attempt_state\n",
    "                temp = c*temp\n",
    "                no_update_times = 0\n",
    "        else:\n",
    "            no_update_times +=1\n",
    "\n",
    "        iter += 1\n",
    "        iters_sum += 1"
   ],
   "metadata": {
    "collapsed": false,
    "pycharm": {
     "name": "#%%\n"
    }
   }
  },
  {
   "cell_type": "markdown",
   "source": [
    "---\n",
    "### Print the objective function values at each step\n",
    "* In order to check the solution is descending."
   ],
   "metadata": {
    "collapsed": false
   }
  },
  {
   "cell_type": "code",
   "execution_count": 240,
   "outputs": [
    {
     "name": "stdout",
     "output_type": "stream",
     "text": [
      "[220.0, 27.0, 14.0, 5.0, 0.0, -1.0, -3.0]\n",
      "[220.0, 24.33337791770569, 4.364499932665746, 3.8537923728954393, -0.9880376243205635, -2.934719544445322, -2.9784807412992507, -3.1367953891576335, -3.1390224957068042, -3.1455976963175303, -3.1524492108491957, -3.157219289579758, -3.1610262755244047, -3.1634387734842697, -3.1649286401267904, -3.165021302947376, -3.1653424668494656, -3.1659632214765336, -3.166541734371033]\n",
      "[220.0, 104.9451180008982, 61.55974401346624, 55.991553959777676, 21.060751001441496, 18.401210607737156, 3.596142657042975, 0.140179582993742, -2.627179115572262, -2.721960593694541, -2.844422273886165, -2.8962733539884615, -3.156554467900823, -3.1611963756053045, -3.1666651573837212]\n",
      "7\n",
      "19\n",
      "15\n",
      "[[-4, 4], [-3, -5], [-2, -2], [-1, -1], [0, 0], [1, 1], [1, 2]]\n",
      "[[-4, 4], [array([-2.06841021]), array([-4.85453182])], [array([2.9266887]), array([3.52566606])], [array([-0.14305288]), array([-1.08404722])], [array([0.45527406]), array([1.89780511])], [array([1.10145821]), array([2.42723096])], [array([1.02761201]), array([2.1963174])], [array([1.19221705]), array([2.28885988])], [array([1.39768454]), array([2.49300736])], [array([1.43601134]), array([2.70527523])], [array([1.41106594]), array([2.56583514])], [array([1.41166501]), array([2.6064612])], [array([1.27353671]), array([2.42207234])], [array([1.3093801]), array([2.42966625])], [array([1.34014066]), array([2.53909452])], [array([1.36569405]), array([2.55464599])], [array([1.33099769]), array([2.47084486])], [array([1.34160528]), array([2.49507575])], [array([1.33022836]), array([2.48791048])]]\n",
      "[[-4, 4], [array([0.64566841]), array([8.79661492])], [array([3.20109909]), array([10.75571076])], [array([5.45346877]), array([12.78477052])], [array([5.21002641]), array([7.39735399])], [array([3.72549825]), array([3.54028762])], [array([2.97968907]), array([3.80826737])], [array([2.09432091]), array([4.74560842])], [array([1.48314765]), array([2.22181937])], [array([0.88965456]), array([1.56114158])], [array([1.1531734]), array([2.59959654])], [array([1.09392408]), array([1.83722667])], [array([1.30899902]), array([2.53141009])], [array([1.32894908]), array([2.44126301])], [array([1.33429856]), array([2.50168426])]]\n"
     ]
    }
   ],
   "source": [
    "print(HC)\n",
    "print(RW)\n",
    "print(SA)\n",
    "print(len(HC))\n",
    "print(len(RW))\n",
    "print(len(SA))\n",
    "print(HC_X)\n",
    "print(RW_X)\n",
    "print(SA_X)"
   ],
   "metadata": {
    "collapsed": false,
    "pycharm": {
     "name": "#%%\n"
    }
   }
  },
  {
   "cell_type": "markdown",
   "source": [
    "### FE plot"
   ],
   "metadata": {
    "collapsed": false
   }
  },
  {
   "cell_type": "code",
   "execution_count": 238,
   "outputs": [
    {
     "data": {
      "text/plain": "<Figure size 432x288 with 1 Axes>",
      "image/png": "[encoded data removed]"
     },
     "metadata": {
      "needs_background": "light"
     },
     "output_type": "display_data"
    }
   ],
   "source": [
    "import matplotlib.pyplot as plt\n",
    "plt.stairs(HC, label='Hill Climbing', baseline=None)\n",
    "plt.stairs(RW, label='Random Walk', baseline=None)\n",
    "plt.stairs(SA, label='Simulated Annealing', baseline=None)\n",
    "\n",
    "plt.xlabel('Iterations')\n",
    "plt.ylabel('Obejective Function Value')\n",
    "plt.title('FE plot of the comparison of three algorithms')\n",
    "# plt.xlim()\n",
    "# plt.ylim()\n",
    "plt.grid(axis='y', color='0.95')\n",
    "\n",
    "plt.legend(loc=1)\n",
    "\n",
    "plt.show()"
   ],
   "metadata": {
    "collapsed": false,
    "pycharm": {
     "name": "#%%\n"
    }
   }
  },
  {
   "cell_type": "code",
   "execution_count": 239,
   "outputs": [],
   "source": [
    "import json\n",
    "\n",
    "with open('result\\First_Part\\RW.json', 'w') as f:\n",
    "    json.dump(RW, f)\n",
    "\n",
    "with open('result\\First_Part\\HC.json', 'w') as f:\n",
    "    json.dump(HC, f)\n",
    "\n",
    "with open('result\\First_Part\\SA.json', 'w') as f:\n",
    "    json.dump(SA, f)"
   ],
   "metadata": {
    "collapsed": false,
    "pycharm": {
     "name": "#%%\n"
    }
   }
  }
 ],
 "metadata": {
  "kernelspec": {
   "display_name": "Python 3",
   "language": "python",
   "name": "python3"
  },
  "language_info": {
   "codemirror_mode": {
    "name": "ipython",
    "version": 2
   },
   "file_extension": ".py",
   "mimetype": "text/x-python",
   "name": "python",
   "nbconvert_exporter": "python",
   "pygments_lexer": "ipython2",
   "version": "2.7.6"
  }
 },
 "nbformat": 4,
 "nbformat_minor": 0
}