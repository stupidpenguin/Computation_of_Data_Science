{
 "cells": [
  {
   "cell_type": "markdown",
   "metadata": {
    "collapsed": true,
    "pycharm": {
     "name": "#%% md\n"
    }
   },
   "source": [
    "### Some prerequisite"
   ]
  },
  {
   "cell_type": "code",
   "execution_count": 103,
   "outputs": [],
   "source": [
    "# set random seed\n",
    "import random\n",
    "random.seed(10)\n"
   ],
   "metadata": {
    "collapsed": false,
    "pycharm": {
     "name": "#%%\n"
    }
   }
  },
  {
   "cell_type": "markdown",
   "source": [
    "### Setting Hyperparameters"
   ],
   "metadata": {
    "collapsed": false
   }
  },
  {
   "cell_type": "code",
   "execution_count": 104,
   "outputs": [],
   "source": [
    "# hyperparameters:\n",
    "LB = -3\n",
    "UB = 3\n",
    "UNIT = 1\n",
    "NO_UPDATE_TIMES = 10e2\n",
    "DECREASE_RATE = 0.8\n",
    "\n",
    "# Define iteration numbers\n",
    "n = 2\n",
    "\n",
    "# Set temperature reduction factor\n",
    "c = 0.5"
   ],
   "metadata": {
    "collapsed": false,
    "pycharm": {
     "name": "#%%\n"
    }
   }
  },
  {
   "cell_type": "markdown",
   "source": [
    "### Define Objective Function"
   ],
   "metadata": {
    "collapsed": false
   }
  },
  {
   "cell_type": "code",
   "execution_count": 105,
   "outputs": [
    {
     "name": "stdout",
     "output_type": "stream",
     "text": [
      "objective function declaration succeed\n"
     ]
    }
   ],
   "source": [
    "import numpy as np\n",
    "\n",
    "# Define the objective function\n",
    "def f(x_1, x_2):\n",
    "    return 6*(x_1**2)-6*x_1*x_2+2*(x_2**2)-x_1-2*x_2\n",
    "\n",
    "print('objective function declaration succeed')"
   ],
   "metadata": {
    "collapsed": false,
    "pycharm": {
     "name": "#%%\n"
    }
   }
  },
  {
   "cell_type": "markdown",
   "source": [
    "---\n",
    "### Define method \"get_random\": In order to sample form uniform distribution"
   ],
   "metadata": {
    "collapsed": false
   }
  },
  {
   "cell_type": "code",
   "execution_count": 106,
   "outputs": [],
   "source": [
    "def get_random(low, high, unit):\n",
    "    return np.random.uniform(low, high, unit)"
   ],
   "metadata": {
    "collapsed": false,
    "pycharm": {
     "name": "#%%\n"
    }
   }
  },
  {
   "cell_type": "markdown",
   "source": [
    "---\n",
    "### Generating Initial Temperature, Initial points"
   ],
   "metadata": {
    "collapsed": false
   }
  },
  {
   "cell_type": "code",
   "execution_count": 107,
   "outputs": [
    {
     "name": "stdout",
     "output_type": "stream",
     "text": [
      "The mean objective value of four sample pts is: 37.35758364162911\n",
      "randomly select an initial design point: (array([1.25876093]), array([-2.327341]))\n"
     ]
    }
   ],
   "source": [
    "# Initialization\n",
    "HC = []; RW = []; SA = [];\n",
    "\n",
    "# Define Initial Temperature\n",
    "## randomly generate four points,\n",
    "## and set initial temperature as their mean of objective function values.\n",
    "\n",
    "import numpy as np\n",
    "rand_4pts = []\n",
    "for j in range(4):\n",
    "    x_1 = get_random(LB, UB+0.1 ,1)\n",
    "    x_2 = get_random(LB, UB+0.1 ,1)\n",
    "    rand_4pts.append(f(x_1, x_2))\n",
    "\n",
    "init_temp = np.mean(rand_4pts)\n",
    "print(f'The mean objective value of four sample pts is: {init_temp}')\n",
    "\n",
    "# select an initial design point\n",
    "x_1 = get_random(LB, UB+0.1 ,1)\n",
    "x_2 = get_random(LB, UB+0.1 ,1)\n",
    "\n",
    "HC.append(float(f(x_1, x_2)))\n",
    "RW.append(float(f(x_1, x_2)))\n",
    "SA.append(float(f(x_1, x_2)))\n",
    "\n",
    "SA_X = []; HC_X = []; RW_X = []\n",
    "SA_X.append([x_1, x_2])\n",
    "HC_X.append([x_1, x_2])\n",
    "RW_X.append([x_1, x_2])\n",
    "\n",
    "print(f'randomly select an initial design point: {x_1, x_2}')"
   ],
   "metadata": {
    "collapsed": false,
    "pycharm": {
     "name": "#%%\n"
    }
   }
  },
  {
   "cell_type": "markdown",
   "source": [
    "---\n",
    "### Main body of Hill Climbing process, start iterating\n",
    "* Select the state in the neighborhoods of current state which best fit the objective function as the new design state.\n",
    "* In this implementation, the neighborhoods are set as $(x\\pm1\\times(0.95)^{\\text{update times}},\n",
    "y\\pm1\\times(0.95)^{\\text{update times}})$."
   ],
   "metadata": {
    "collapsed": false
   }
  },
  {
   "cell_type": "code",
   "execution_count": 108,
   "outputs": [],
   "source": [
    "no_update_times = 0\n",
    "update_times = 0\n",
    "current_x_1 = x_1\n",
    "current_x_2 = x_2\n",
    "value = f(x_1, x_2)\n",
    "\n",
    "while(no_update_times < NO_UPDATE_TIMES):\n",
    "    for i in range(3):\n",
    "        for j in range(3):\n",
    "            if (f(current_x_1+(i-1)*(DECREASE_RATE**update_times),\n",
    "                  current_x_2+(j-1))*(DECREASE_RATE**update_times) <value):\n",
    "                value = f(current_x_1+i-1,current_x_2+j-1)\n",
    "                new_x_1 = current_x_1+i-1\n",
    "                new_x_2 = current_x_1+j-1\n",
    "\n",
    "    if(f(new_x_1, new_x_2) < f(current_x_1, current_x_2)):\n",
    "        HC_X.append([new_x_1, new_x_2])\n",
    "        HC.append(float(f(new_x_1, new_x_2)))\n",
    "        current_x_1 = new_x_1\n",
    "        current_x_2 = new_x_2\n",
    "        no_update_times = 0\n",
    "        update_times += 1\n",
    "    else:\n",
    "        no_update_times += 1"
   ],
   "metadata": {
    "collapsed": false,
    "pycharm": {
     "name": "#%%\n"
    }
   }
  },
  {
   "cell_type": "markdown",
   "source": [
    "---\n",
    "### Main body of Random Walk process, start iterating"
   ],
   "metadata": {
    "collapsed": false
   }
  },
  {
   "cell_type": "code",
   "execution_count": 109,
   "outputs": [],
   "source": [
    "no_update_times = 0\n",
    "current_x_1 = x_1\n",
    "current_x_2 = x_2\n",
    "while(no_update_times < NO_UPDATE_TIMES):\n",
    "    attempt_x_1 = get_random(LB, UB+0.1 ,1)\n",
    "    attempt_x_2 = get_random(LB, UB+0.1 ,1)\n",
    "\n",
    "    if (f(attempt_x_1,attempt_x_2)<f(current_x_1, current_x_2)):\n",
    "        RW_X.append([attempt_x_1, attempt_x_2])\n",
    "        RW.append(float(f(attempt_x_1, attempt_x_2)))\n",
    "        current_x_1 = attempt_x_1\n",
    "        current_x_2 = attempt_x_2\n",
    "\n",
    "    else:\n",
    "        no_update_times += 1"
   ],
   "metadata": {
    "collapsed": false,
    "pycharm": {
     "name": "#%%\n"
    }
   }
  },
  {
   "cell_type": "markdown",
   "source": [
    "---\n",
    "### Main body of SA process, start iterating"
   ],
   "metadata": {
    "collapsed": false
   }
  },
  {
   "cell_type": "code",
   "execution_count": 110,
   "outputs": [
    {
     "name": "stdout",
     "output_type": "stream",
     "text": [
      "init_temp = 37.35758364162911\n"
     ]
    }
   ],
   "source": [
    "# Step 2\n",
    "\n",
    "## Some Initializations\n",
    "no_update_times = 0\n",
    "des_x_1 = x_1\n",
    "des_x_2 = x_2\n",
    "temp = init_temp\n",
    "print(f'init_temp = {init_temp}')\n",
    "iters_sum = 0\n",
    "while(no_update_times<=NO_UPDATE_TIMES):\n",
    "\n",
    "    iter = 0\n",
    "\n",
    "    while((iter<=n)&(no_update_times<=NO_UPDATE_TIMES)):\n",
    "        # Compute current_state\n",
    "        current_state = f(des_x_1, des_x_2)\n",
    "\n",
    "        # randomly select two uniformly distributed r.v.\n",
    "        u_1 = get_random(0, 1, 1)\n",
    "        u_2 = get_random(0, 1, 1)\n",
    "\n",
    "        # set ranges as +- 6\n",
    "        r_1 = des_x_1+u_1*12-6\n",
    "        r_2 = des_x_2+u_2*12-6\n",
    "        attempt_state = f(r_1, r_2)\n",
    "\n",
    "        # Step 3 and Step 4\n",
    "        del_f = attempt_state - current_state\n",
    "\n",
    "        if (del_f)<0:\n",
    "            r = get_random(0, 1, 1)\n",
    "            Prob_of_X_2 = np.exp(-del_f/(1*temp))\n",
    "            #print(f' r = {r} , $P(X_2)$ = {Prob_of_X_2}')\n",
    "            if Prob_of_X_2>r:\n",
    "                des_x_1 = r_1\n",
    "                des_x_2 = r_2\n",
    "                #print(f'! assign new design (x_1, x_2) = {(des_x_1, des_x_2)}')\n",
    "                SA_X.append([r_1, r_2])\n",
    "                SA.append(float(f(r_1,r_2)))\n",
    "                current_state = attempt_state\n",
    "                temp = c*temp\n",
    "                no_update_times = 0\n",
    "        else:\n",
    "            no_update_times +=1\n",
    "\n",
    "        iter += 1\n",
    "        iters_sum += 1"
   ],
   "metadata": {
    "collapsed": false,
    "pycharm": {
     "name": "#%%\n"
    }
   }
  },
  {
   "cell_type": "markdown",
   "source": [
    "---\n",
    "### Print the objective function values at each step\n",
    "* In order to check the solution is descending."
   ],
   "metadata": {
    "collapsed": false
   }
  },
  {
   "cell_type": "code",
   "execution_count": 111,
   "outputs": [
    {
     "name": "stdout",
     "output_type": "stream",
     "text": [
      "[41.31322325298523, 2.322587941727585]\n",
      "[41.31322325298523, 32.966117234727804, 28.265947701195806, 15.236849916130268, 3.059756299082272, 2.8811129557767727, 2.4103699980927953, 2.0081676495489273, 1.709809247144992, -0.04032370078925007, -0.6153252363162989, -1.316249862277422, -2.543981863950772, -2.9875939781902323, -2.9972785223109364, -3.117965050574309]\n",
      "[41.31322325298523, 24.672965464209113, 14.51385002237709, 3.9684931075212537, 1.5538763498106185, 1.1457359355584127, -0.20175764864991308, -2.964774547747286, -3.0039283626355058, -3.140929339855724, -3.154904458744726]\n"
     ]
    }
   ],
   "source": [
    "print(HC)\n",
    "print(RW)\n",
    "print(SA)"
   ],
   "metadata": {
    "collapsed": false,
    "pycharm": {
     "name": "#%%\n"
    }
   }
  },
  {
   "cell_type": "markdown",
   "source": [
    "### FE plot"
   ],
   "metadata": {
    "collapsed": false
   }
  },
  {
   "cell_type": "code",
   "execution_count": 112,
   "outputs": [
    {
     "data": {
      "text/plain": "<Figure size 432x288 with 1 Axes>",
      "image/png": "[encoded data removed]"
     },
     "metadata": {
      "needs_background": "light"
     },
     "output_type": "display_data"
    }
   ],
   "source": [
    "import matplotlib.pyplot as plt\n",
    "plt.stairs(HC, label='Hill Climbing', baseline=None)\n",
    "plt.stairs(RW, label='Random Walk', baseline=None)\n",
    "plt.stairs(SA, label='Simulated Annealing', baseline=None)\n",
    "\n",
    "plt.xlabel('Iterations')\n",
    "plt.ylabel('Obejective Function Value')\n",
    "plt.title('FE plot of the comparison of three algorithms')\n",
    "# plt.xlim()\n",
    "# plt.ylim()\n",
    "plt.grid(axis='y', color='0.95')\n",
    "\n",
    "plt.legend(loc=1)\n",
    "\n",
    "plt.show()"
   ],
   "metadata": {
    "collapsed": false,
    "pycharm": {
     "name": "#%%\n"
    }
   }
  },
  {
   "cell_type": "code",
   "execution_count": 113,
   "outputs": [],
   "source": [
    "import json\n",
    "\n",
    "with open('result\\First_Part\\RW.json', 'w') as f:\n",
    "    json.dump(RW, f)\n",
    "\n",
    "with open('result\\First_Part\\HC.json', 'w') as f:\n",
    "    json.dump(HC, f)\n",
    "\n",
    "with open('result\\First_Part\\SA.json', 'w') as f:\n",
    "    json.dump(SA, f)"
   ],
   "metadata": {
    "collapsed": false,
    "pycharm": {
     "name": "#%%\n"
    }
   }
  }
 ],
 "metadata": {
  "kernelspec": {
   "display_name": "Python 3",
   "language": "python",
   "name": "python3"
  },
  "language_info": {
   "codemirror_mode": {
    "name": "ipython",
    "version": 2
   },
   "file_extension": ".py",
   "mimetype": "text/x-python",
   "name": "python",
   "nbconvert_exporter": "python",
   "pygments_lexer": "ipython2",
   "version": "2.7.6"
  }
 },
 "nbformat": 4,
 "nbformat_minor": 0
}