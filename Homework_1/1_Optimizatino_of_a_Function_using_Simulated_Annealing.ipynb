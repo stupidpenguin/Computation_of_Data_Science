{
 "cells": [
  {
   "cell_type": "markdown",
   "metadata": {
    "collapsed": true,
    "pycharm": {
     "name": "#%% md\n"
    }
   },
   "source": [
    "### Some prerequisite"
   ]
  },
  {
   "cell_type": "code",
   "execution_count": 323,
   "outputs": [],
   "source": [
    "# set random seed\n",
    "import random\n",
    "random.seed(10)\n"
   ],
   "metadata": {
    "collapsed": false,
    "pycharm": {
     "name": "#%%\n"
    }
   }
  },
  {
   "cell_type": "markdown",
   "source": [
    "### Setting Hyperparameters"
   ],
   "metadata": {
    "collapsed": false
   }
  },
  {
   "cell_type": "code",
   "execution_count": 324,
   "outputs": [],
   "source": [
    "# hyperparameters:\n",
    "LB = -5\n",
    "UB = 5\n",
    "UNIT = 1\n",
    "NO_UPDATE_TIMES = 10e4\n",
    "DECREASE_RATE = 0.95\n",
    "\n",
    "# Define iteration numbers\n",
    "n = 2\n",
    "\n",
    "# Set temperature reduction factor\n",
    "c = 0.5"
   ],
   "metadata": {
    "collapsed": false,
    "pycharm": {
     "name": "#%%\n"
    }
   }
  },
  {
   "cell_type": "markdown",
   "source": [
    "### Define Objective Function"
   ],
   "metadata": {
    "collapsed": false
   }
  },
  {
   "cell_type": "code",
   "execution_count": 325,
   "outputs": [
    {
     "name": "stdout",
     "output_type": "stream",
     "text": [
      "objective function declaration succeed\n"
     ]
    }
   ],
   "source": [
    "import numpy as np\n",
    "\n",
    "# Define the objective function\n",
    "def f(x_1, x_2):\n",
    "    return 6*(x_1**2)-6*x_1*x_2+2*(x_2**2)-x_1-2*x_2\n",
    "\n",
    "print('objective function declaration succeed')"
   ],
   "metadata": {
    "collapsed": false,
    "pycharm": {
     "name": "#%%\n"
    }
   }
  },
  {
   "cell_type": "markdown",
   "source": [
    "---\n",
    "### Define method \"get_random\": In order to sample form uniform distribution"
   ],
   "metadata": {
    "collapsed": false
   }
  },
  {
   "cell_type": "code",
   "execution_count": 327,
   "outputs": [],
   "source": [
    "def get_random(low, high, unit):\n",
    "    return np.random.uniform(low, high, unit)"
   ],
   "metadata": {
    "collapsed": false,
    "pycharm": {
     "name": "#%%\n"
    }
   }
  },
  {
   "cell_type": "markdown",
   "source": [
    "---\n",
    "### Generating Initial Temperature, Initial points"
   ],
   "metadata": {
    "collapsed": false
   }
  },
  {
   "cell_type": "code",
   "execution_count": 328,
   "outputs": [
    {
     "name": "stdout",
     "output_type": "stream",
     "text": [
      "The mean objective value of four sample pts is: 200.5\n",
      "randomly select an initial design point: (-4, 4)\n"
     ]
    }
   ],
   "source": [
    "# Initialization\n",
    "HC = []; RW = []; SA = [];\n",
    "\n",
    "# Define Initial Temperature\n",
    "## randomly generate four points,\n",
    "## and set initial temperature as their mean of objective function values.\n",
    "\n",
    "import numpy as np\n",
    "rand_4pts = []\n",
    "selected_4pts = [[3, 2], [8, 4], [-6, 5], [-1,7]]\n",
    "for j in range(4):\n",
    "\n",
    "    rand_4pts.append(f(selected_4pts[j][0],selected_4pts[j][1]))\n",
    "\n",
    "init_temp = np.mean(rand_4pts)\n",
    "print(f'The mean objective value of four sample pts is: {init_temp}')\n",
    "\n",
    "# select an initial design point\n",
    "# x_1 = get_random(LB, UB+0.1 ,1)\n",
    "# x_2 = get_random(LB, UB+0.1 ,1)\n",
    "x_1 = -4\n",
    "x_2 = 4\n",
    "\n",
    "HC.append(float(f(x_1, x_2)))\n",
    "RW.append(float(f(x_1, x_2)))\n",
    "SA.append(float(f(x_1, x_2)))\n",
    "\n",
    "SA_X = []; HC_X = []; RW_X = []\n",
    "SA_X.append([x_1, x_2])\n",
    "HC_X.append([x_1, x_2])\n",
    "RW_X.append([x_1, x_2])\n",
    "\n",
    "print(f'randomly select an initial design point: {x_1, x_2}')"
   ],
   "metadata": {
    "collapsed": false,
    "pycharm": {
     "name": "#%%\n"
    }
   }
  },
  {
   "cell_type": "markdown",
   "source": [
    "---\n",
    "### Main body of Hill Climbing process, start iterating\n",
    "* Select the state in the neighborhoods of current state which best fit the objective function as the new design state.\n",
    "* In this implementation, the neighborhoods are set as $(x\\pm1\\times(0.95)^{\\text{update times}},\n",
    "y\\pm1\\times(0.95)^{\\text{update times}})$."
   ],
   "metadata": {
    "collapsed": false
   }
  },
  {
   "cell_type": "code",
   "execution_count": 329,
   "outputs": [],
   "source": [
    "no_update_times = 0\n",
    "update_times = 0\n",
    "current_x_1 = x_1\n",
    "current_x_2 = x_2\n",
    "value = f(x_1, x_2)\n",
    "\n",
    "while(no_update_times < NO_UPDATE_TIMES):\n",
    "    for i in range(3):\n",
    "        for j in range(3):\n",
    "            if (f(current_x_1+(i-1)*(DECREASE_RATE**update_times),\n",
    "                  current_x_2+(j-1))*(DECREASE_RATE**update_times) <value):\n",
    "                value = f(current_x_1+i-1,current_x_2+j-1)\n",
    "                new_x_1 = current_x_1+i-1\n",
    "                new_x_2 = current_x_1+j-1\n",
    "\n",
    "    if(f(new_x_1, new_x_2) < f(current_x_1, current_x_2)):\n",
    "        HC_X.append([new_x_1, new_x_2])\n",
    "        HC.append(float(f(new_x_1, new_x_2)))\n",
    "        current_x_1 = new_x_1\n",
    "        current_x_2 = new_x_2\n",
    "        no_update_times = 0\n",
    "        update_times += 1\n",
    "    else:\n",
    "        no_update_times += 1"
   ],
   "metadata": {
    "collapsed": false,
    "pycharm": {
     "name": "#%%\n"
    }
   }
  },
  {
   "cell_type": "markdown",
   "source": [
    "---\n",
    "### Main body of Random Walk process, start iterating"
   ],
   "metadata": {
    "collapsed": false
   }
  },
  {
   "cell_type": "code",
   "execution_count": 330,
   "outputs": [],
   "source": [
    "no_update_times = 0\n",
    "current_x_1 = x_1\n",
    "current_x_2 = x_2\n",
    "while(no_update_times < NO_UPDATE_TIMES):\n",
    "    attempt_x_1 = get_random(LB, UB+0.1 ,1)\n",
    "    attempt_x_2 = get_random(LB, UB+0.1 ,1)\n",
    "\n",
    "    if (f(attempt_x_1,attempt_x_2)<f(current_x_1, current_x_2)):\n",
    "        RW_X.append([attempt_x_1, attempt_x_2])\n",
    "        RW.append(float(f(attempt_x_1, attempt_x_2)))\n",
    "        current_x_1 = attempt_x_1\n",
    "        current_x_2 = attempt_x_2\n",
    "\n",
    "    else:\n",
    "        no_update_times += 1"
   ],
   "metadata": {
    "collapsed": false,
    "pycharm": {
     "name": "#%%\n"
    }
   }
  },
  {
   "cell_type": "markdown",
   "source": [
    "---\n",
    "### Main body of SA process, start iterating"
   ],
   "metadata": {
    "collapsed": false
   }
  },
  {
   "cell_type": "code",
   "execution_count": 331,
   "outputs": [
    {
     "name": "stdout",
     "output_type": "stream",
     "text": [
      "init_temp = 200.5\n"
     ]
    }
   ],
   "source": [
    "# Step 2\n",
    "\n",
    "## Some Initializations\n",
    "no_update_times = 0\n",
    "des_x_1 = x_1\n",
    "des_x_2 = x_2\n",
    "temp = init_temp\n",
    "print(f'init_temp = {init_temp}')\n",
    "iters_sum = 0\n",
    "while(no_update_times<=NO_UPDATE_TIMES):\n",
    "\n",
    "    iter = 0\n",
    "\n",
    "    while((iter<=n)&(no_update_times<=NO_UPDATE_TIMES)):\n",
    "        # Compute current_state\n",
    "        current_state = f(des_x_1, des_x_2)\n",
    "\n",
    "        # randomly select two uniformly distributed r.v.\n",
    "        u_1 = get_random(0, 1, 1)\n",
    "        u_2 = get_random(0, 1, 1)\n",
    "\n",
    "        # set ranges as +- 6\n",
    "        r_1 = des_x_1+u_1*12-6\n",
    "        r_2 = des_x_2+u_2*12-6\n",
    "        attempt_state = f(r_1, r_2)\n",
    "\n",
    "        # Step 3 and Step 4\n",
    "        del_f = attempt_state - current_state\n",
    "\n",
    "        if (del_f)<0:\n",
    "            r = get_random(0, 1, 1)\n",
    "            Prob_of_X_2 = np.exp(-del_f/(1*temp))\n",
    "\n",
    "            if Prob_of_X_2>r:\n",
    "                des_x_1 = r_1\n",
    "                des_x_2 = r_2\n",
    "\n",
    "                SA_X.append([r_1, r_2])\n",
    "                SA.append(float(f(r_1,r_2)))\n",
    "                current_state = attempt_state\n",
    "                temp = c*temp\n",
    "                no_update_times = 0\n",
    "        else:\n",
    "            no_update_times +=1\n",
    "\n",
    "        iter += 1\n",
    "        iters_sum += 1"
   ],
   "metadata": {
    "collapsed": false,
    "pycharm": {
     "name": "#%%\n"
    }
   }
  },
  {
   "cell_type": "markdown",
   "source": [
    "---\n",
    "### Print the objective function values at each step\n",
    "* In order to check the solution is descending."
   ],
   "metadata": {
    "collapsed": false
   }
  },
  {
   "cell_type": "code",
   "execution_count": 332,
   "outputs": [
    {
     "name": "stdout",
     "output_type": "stream",
     "text": [
      "[220.0, 27.0, 14.0, 5.0, 0.0, -1.0, -3.0]\n",
      "[220.0, 117.96236234077548, 63.18724353861933, 32.184856171639495, -1.3486583224661888, -3.075606028061036, -3.1462397909589095, -3.158463220358433, -3.1632612964880735, -3.166226584643063, -3.166278578696353]\n",
      "[220.0, 103.24505593800257, -3.147665784526258, -3.1625929120236282, -3.1640674698901705, -3.1660166493958606, -3.1662428750302283]\n",
      "7\n",
      "11\n",
      "7\n",
      "[[-4, 4], [-3, -5], [-2, -2], [-1, -1], [0, 0], [1, 1], [1, 2]]\n",
      "[[-4, 4], [array([4.99063236]), array([0.87731735])], [array([0.47258161]), array([-4.5026322])], [array([-3.51730744]), array([-4.94691282])], [array([0.23242675]), array([0.85141489])], [array([1.26091468]), array([2.59532539])], [array([1.33611804]), array([2.40314428])], [array([1.3953701]), array([2.62791634])], [array([1.28583041]), array([2.43195332])], [array([1.34969068]), array([2.52013499])], [array([1.3220237]), array([2.49294076])]]\n",
      "[[-4, 4], [array([-2.02218509]), array([4.15710601])], [array([1.22451554]), array([2.31188442])], [array([1.2993193]), array([2.41478594])], [array([1.30045227]), array([2.47278554])], [array([1.34068937]), array([2.52789897])], [array([1.3169681]), array([2.47877333])]]\n"
     ]
    }
   ],
   "source": [
    "print(HC)\n",
    "print(RW)\n",
    "print(SA)\n",
    "print(len(HC))\n",
    "print(len(RW))\n",
    "print(len(SA))\n",
    "print(HC_X)\n",
    "print(RW_X)\n",
    "print(SA_X)"
   ],
   "metadata": {
    "collapsed": false,
    "pycharm": {
     "name": "#%%\n"
    }
   }
  },
  {
   "cell_type": "markdown",
   "source": [
    "### FE plot"
   ],
   "metadata": {
    "collapsed": false
   }
  },
  {
   "cell_type": "code",
   "execution_count": 333,
   "outputs": [
    {
     "ename": "TypeError",
     "evalue": "'str' object is not callable",
     "output_type": "error",
     "traceback": [
      "\u001B[1;31m---------------------------------------------------------------------------\u001B[0m",
      "\u001B[1;31mTypeError\u001B[0m                                 Traceback (most recent call last)",
      "\u001B[1;32m<ipython-input-333-916d28b05a69>\u001B[0m in \u001B[0;36m<module>\u001B[1;34m\u001B[0m\n\u001B[0;32m      4\u001B[0m \u001B[0mplot1\u001B[0m \u001B[1;33m=\u001B[0m \u001B[0mplt\u001B[0m\u001B[1;33m.\u001B[0m\u001B[0mstairs\u001B[0m\u001B[1;33m(\u001B[0m\u001B[0mSA\u001B[0m\u001B[1;33m,\u001B[0m \u001B[0mlabel\u001B[0m\u001B[1;33m=\u001B[0m\u001B[1;34m'Simulated Annealing'\u001B[0m\u001B[1;33m,\u001B[0m \u001B[0mbaseline\u001B[0m\u001B[1;33m=\u001B[0m\u001B[1;32mNone\u001B[0m\u001B[1;33m)\u001B[0m\u001B[1;33m\u001B[0m\u001B[1;33m\u001B[0m\u001B[0m\n\u001B[0;32m      5\u001B[0m \u001B[1;33m\u001B[0m\u001B[0m\n\u001B[1;32m----> 6\u001B[1;33m \u001B[0mplot1\u001B[0m \u001B[1;33m=\u001B[0m \u001B[0mplt\u001B[0m\u001B[1;33m.\u001B[0m\u001B[0mxlabel\u001B[0m\u001B[1;33m(\u001B[0m\u001B[1;34m'Iterations'\u001B[0m\u001B[1;33m)\u001B[0m\u001B[1;33m\u001B[0m\u001B[1;33m\u001B[0m\u001B[0m\n\u001B[0m\u001B[0;32m      7\u001B[0m \u001B[0mplot1\u001B[0m \u001B[1;33m=\u001B[0m \u001B[0mplt\u001B[0m\u001B[1;33m.\u001B[0m\u001B[0mylabel\u001B[0m\u001B[1;33m(\u001B[0m\u001B[1;34m'Obejective Function Value'\u001B[0m\u001B[1;33m)\u001B[0m\u001B[1;33m\u001B[0m\u001B[1;33m\u001B[0m\u001B[0m\n\u001B[0;32m      8\u001B[0m \u001B[0mplot1\u001B[0m \u001B[1;33m=\u001B[0m \u001B[0mplt\u001B[0m\u001B[1;33m.\u001B[0m\u001B[0mtitle\u001B[0m\u001B[1;33m(\u001B[0m\u001B[1;34m'FE plot of the comparison of three algorithms'\u001B[0m\u001B[1;33m)\u001B[0m\u001B[1;33m\u001B[0m\u001B[1;33m\u001B[0m\u001B[0m\n",
      "\u001B[1;31mTypeError\u001B[0m: 'str' object is not callable"
     ]
    },
    {
     "data": {
      "text/plain": "<Figure size 432x288 with 1 Axes>",
      "image/png": "[encoded data removed]"
     },
     "metadata": {
      "needs_background": "light"
     },
     "output_type": "display_data"
    }
   ],
   "source": [
    "import matplotlib.pyplot as plt\n",
    "plot1 = plt.stairs(HC, label='Hill Climbing', baseline=None)\n",
    "plot1 = plt.stairs(RW, label='Random Walk', baseline=None)\n",
    "plot1 = plt.stairs(SA, label='Simulated Annealing', baseline=None)\n",
    "\n",
    "plot1 = plt.xlabel('Iterations')\n",
    "plot1 = plt.ylabel('Obejective Function Value')\n",
    "plot1 = plt.title('FE plot of the comparison of three algorithms')\n",
    "# plt.xlim()\n",
    "# plt.ylim()\n",
    "plot1 = plt.grid(axis='y', color='0.95')\n",
    "\n",
    "plot1 = plt.legend(loc=1)\n",
    "\n",
    "plot1 = plt.show()"
   ],
   "metadata": {
    "collapsed": false,
    "pycharm": {
     "name": "#%%\n"
    }
   }
  },
  {
   "cell_type": "markdown",
   "source": [
    "### Save the result"
   ],
   "metadata": {
    "collapsed": false,
    "pycharm": {
     "name": "#%% md\n"
    }
   }
  },
  {
   "cell_type": "code",
   "execution_count": null,
   "outputs": [],
   "source": [
    "import json\n",
    "\n",
    "with open('result\\First_Part\\RW.json', 'w') as f:\n",
    "    json.dump(RW, f)\n",
    "\n",
    "with open('result\\First_Part\\HC.json', 'w') as f:\n",
    "    json.dump(HC, f)\n",
    "\n",
    "with open('result\\First_Part\\SA.json', 'w') as f:\n",
    "    json.dump(SA, f)"
   ],
   "metadata": {
    "collapsed": false,
    "pycharm": {
     "name": "#%%\n"
    }
   }
  }
 ],
 "metadata": {
  "kernelspec": {
   "display_name": "Python 3",
   "language": "python",
   "name": "python3"
  },
  "language_info": {
   "codemirror_mode": {
    "name": "ipython",
    "version": 2
   },
   "file_extension": ".py",
   "mimetype": "text/x-python",
   "name": "python",
   "nbconvert_exporter": "python",
   "pygments_lexer": "ipython2",
   "version": "2.7.6"
  }
 },
 "nbformat": 4,
 "nbformat_minor": 0
}