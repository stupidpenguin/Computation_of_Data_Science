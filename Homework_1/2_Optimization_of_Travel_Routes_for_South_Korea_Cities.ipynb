{
 "cells": [
  {
   "cell_type": "markdown",
   "metadata": {},
   "source": [
    "### Data Processing"
   ]
  },
  {
   "cell_type": "code",
   "execution_count": 1,
   "metadata": {
    "pycharm": {
     "name": "#%%\n"
    }
   },
   "outputs": [
    {
     "data": {
      "text/html": [
       "<div>\n",
       "<style scoped>\n",
       "    .dataframe tbody tr th:only-of-type {\n",
       "        vertical-align: middle;\n",
       "    }\n",
       "\n",
       "    .dataframe tbody tr th {\n",
       "        vertical-align: top;\n",
       "    }\n",
       "\n",
       "    .dataframe thead th {\n",
       "        text-align: right;\n",
       "    }\n",
       "</style>\n",
       "<table border=\"1\" class=\"dataframe\">\n",
       "  <thead>\n",
       "    <tr style=\"text-align: right;\">\n",
       "      <th></th>\n",
       "      <th>Incheon</th>\n",
       "      <th>Seoul</th>\n",
       "      <th>Busan</th>\n",
       "      <th>Daegu</th>\n",
       "      <th>Daejeon</th>\n",
       "      <th>Gwangju</th>\n",
       "      <th>Suwon-si</th>\n",
       "      <th>Ulsan</th>\n",
       "      <th>Jeonju</th>\n",
       "      <th>Cheongju-si</th>\n",
       "      <th>Changwon</th>\n",
       "      <th>Jeju-si</th>\n",
       "      <th>Chuncheon</th>\n",
       "      <th>Hongsung</th>\n",
       "      <th>Muan</th>\n",
       "    </tr>\n",
       "  </thead>\n",
       "  <tbody>\n",
       "    <tr>\n",
       "      <th>Incheon</th>\n",
       "      <td>0.0</td>\n",
       "      <td>27.0</td>\n",
       "      <td>335.0</td>\n",
       "      <td>244.0</td>\n",
       "      <td>141.0</td>\n",
       "      <td>257.0</td>\n",
       "      <td>33.0</td>\n",
       "      <td>316.0</td>\n",
       "      <td>186.0</td>\n",
       "      <td>115.0</td>\n",
       "      <td>304.0</td>\n",
       "      <td>439.0</td>\n",
       "      <td>102.0</td>\n",
       "      <td>95.0</td>\n",
       "      <td>275.0</td>\n",
       "    </tr>\n",
       "    <tr>\n",
       "      <th>Seoul</th>\n",
       "      <td>27.0</td>\n",
       "      <td>0.0</td>\n",
       "      <td>330.0</td>\n",
       "      <td>237.0</td>\n",
       "      <td>144.0</td>\n",
       "      <td>268.0</td>\n",
       "      <td>31.0</td>\n",
       "      <td>307.0</td>\n",
       "      <td>195.0</td>\n",
       "      <td>113.0</td>\n",
       "      <td>301.0</td>\n",
       "      <td>453.0</td>\n",
       "      <td>75.0</td>\n",
       "      <td>111.0</td>\n",
       "      <td>290.0</td>\n",
       "    </tr>\n",
       "    <tr>\n",
       "      <th>Busan</th>\n",
       "      <td>335.0</td>\n",
       "      <td>330.0</td>\n",
       "      <td>0.0</td>\n",
       "      <td>95.0</td>\n",
       "      <td>199.0</td>\n",
       "      <td>193.0</td>\n",
       "      <td>304.0</td>\n",
       "      <td>54.0</td>\n",
       "      <td>189.0</td>\n",
       "      <td>221.0</td>\n",
       "      <td>35.0</td>\n",
       "      <td>291.0</td>\n",
       "      <td>330.0</td>\n",
       "      <td>271.0</td>\n",
       "      <td>233.0</td>\n",
       "    </tr>\n",
       "    <tr>\n",
       "      <th>Daegu</th>\n",
       "      <td>244.0</td>\n",
       "      <td>237.0</td>\n",
       "      <td>95.0</td>\n",
       "      <td>0.0</td>\n",
       "      <td>117.0</td>\n",
       "      <td>171.0</td>\n",
       "      <td>212.0</td>\n",
       "      <td>75.0</td>\n",
       "      <td>130.0</td>\n",
       "      <td>130.0</td>\n",
       "      <td>72.0</td>\n",
       "      <td>324.0</td>\n",
       "      <td>236.0</td>\n",
       "      <td>191.0</td>\n",
       "      <td>215.0</td>\n",
       "    </tr>\n",
       "    <tr>\n",
       "      <th>Daejeon</th>\n",
       "      <td>141.0</td>\n",
       "      <td>144.0</td>\n",
       "      <td>199.0</td>\n",
       "      <td>117.0</td>\n",
       "      <td>0.0</td>\n",
       "      <td>137.0</td>\n",
       "      <td>114.0</td>\n",
       "      <td>192.0</td>\n",
       "      <td>61.0</td>\n",
       "      <td>36.0</td>\n",
       "      <td>167.0</td>\n",
       "      <td>323.0</td>\n",
       "      <td>175.0</td>\n",
       "      <td>74.0</td>\n",
       "      <td>171.0</td>\n",
       "    </tr>\n",
       "    <tr>\n",
       "      <th>Gwangju</th>\n",
       "      <td>257.0</td>\n",
       "      <td>268.0</td>\n",
       "      <td>193.0</td>\n",
       "      <td>171.0</td>\n",
       "      <td>137.0</td>\n",
       "      <td>0.0</td>\n",
       "      <td>238.0</td>\n",
       "      <td>222.0</td>\n",
       "      <td>77.0</td>\n",
       "      <td>173.0</td>\n",
       "      <td>161.0</td>\n",
       "      <td>186.0</td>\n",
       "      <td>311.0</td>\n",
       "      <td>162.0</td>\n",
       "      <td>44.0</td>\n",
       "    </tr>\n",
       "    <tr>\n",
       "      <th>Suwon-si</th>\n",
       "      <td>33.0</td>\n",
       "      <td>31.0</td>\n",
       "      <td>304.0</td>\n",
       "      <td>212.0</td>\n",
       "      <td>114.0</td>\n",
       "      <td>238.0</td>\n",
       "      <td>0.0</td>\n",
       "      <td>284.0</td>\n",
       "      <td>164.0</td>\n",
       "      <td>84.0</td>\n",
       "      <td>274.0</td>\n",
       "      <td>423.0</td>\n",
       "      <td>91.0</td>\n",
       "      <td>83.0</td>\n",
       "      <td>260.0</td>\n",
       "    </tr>\n",
       "    <tr>\n",
       "      <th>Ulsan</th>\n",
       "      <td>316.0</td>\n",
       "      <td>307.0</td>\n",
       "      <td>54.0</td>\n",
       "      <td>75.0</td>\n",
       "      <td>192.0</td>\n",
       "      <td>222.0</td>\n",
       "      <td>284.0</td>\n",
       "      <td>0.0</td>\n",
       "      <td>198.0</td>\n",
       "      <td>205.0</td>\n",
       "      <td>67.0</td>\n",
       "      <td>341.0</td>\n",
       "      <td>296.0</td>\n",
       "      <td>266.0</td>\n",
       "      <td>265.0</td>\n",
       "    </tr>\n",
       "    <tr>\n",
       "      <th>Jeonju</th>\n",
       "      <td>186.0</td>\n",
       "      <td>195.0</td>\n",
       "      <td>189.0</td>\n",
       "      <td>130.0</td>\n",
       "      <td>61.0</td>\n",
       "      <td>77.0</td>\n",
       "      <td>164.0</td>\n",
       "      <td>198.0</td>\n",
       "      <td>0.0</td>\n",
       "      <td>96.0</td>\n",
       "      <td>154.0</td>\n",
       "      <td>264.0</td>\n",
       "      <td>234.0</td>\n",
       "      <td>97.0</td>\n",
       "      <td>111.0</td>\n",
       "    </tr>\n",
       "    <tr>\n",
       "      <th>Cheongju-si</th>\n",
       "      <td>115.0</td>\n",
       "      <td>113.0</td>\n",
       "      <td>221.0</td>\n",
       "      <td>130.0</td>\n",
       "      <td>36.0</td>\n",
       "      <td>173.0</td>\n",
       "      <td>84.0</td>\n",
       "      <td>205.0</td>\n",
       "      <td>96.0</td>\n",
       "      <td>0.0</td>\n",
       "      <td>190.0</td>\n",
       "      <td>359.0</td>\n",
       "      <td>139.0</td>\n",
       "      <td>74.0</td>\n",
       "      <td>205.0</td>\n",
       "    </tr>\n",
       "    <tr>\n",
       "      <th>Changwon</th>\n",
       "      <td>304.0</td>\n",
       "      <td>301.0</td>\n",
       "      <td>35.0</td>\n",
       "      <td>72.0</td>\n",
       "      <td>167.0</td>\n",
       "      <td>161.0</td>\n",
       "      <td>274.0</td>\n",
       "      <td>67.0</td>\n",
       "      <td>154.0</td>\n",
       "      <td>190.0</td>\n",
       "      <td>0.0</td>\n",
       "      <td>275.0</td>\n",
       "      <td>306.0</td>\n",
       "      <td>237.0</td>\n",
       "      <td>202.0</td>\n",
       "    </tr>\n",
       "    <tr>\n",
       "      <th>Jeju-si</th>\n",
       "      <td>439.0</td>\n",
       "      <td>453.0</td>\n",
       "      <td>291.0</td>\n",
       "      <td>324.0</td>\n",
       "      <td>323.0</td>\n",
       "      <td>186.0</td>\n",
       "      <td>423.0</td>\n",
       "      <td>341.0</td>\n",
       "      <td>264.0</td>\n",
       "      <td>359.0</td>\n",
       "      <td>275.0</td>\n",
       "      <td>0.0</td>\n",
       "      <td>498.0</td>\n",
       "      <td>344.0</td>\n",
       "      <td>165.0</td>\n",
       "    </tr>\n",
       "    <tr>\n",
       "      <th>Chuncheon</th>\n",
       "      <td>102.0</td>\n",
       "      <td>75.0</td>\n",
       "      <td>330.0</td>\n",
       "      <td>236.0</td>\n",
       "      <td>175.0</td>\n",
       "      <td>311.0</td>\n",
       "      <td>91.0</td>\n",
       "      <td>296.0</td>\n",
       "      <td>234.0</td>\n",
       "      <td>139.0</td>\n",
       "      <td>306.0</td>\n",
       "      <td>498.0</td>\n",
       "      <td>0.0</td>\n",
       "      <td>170.0</td>\n",
       "      <td>340.0</td>\n",
       "    </tr>\n",
       "    <tr>\n",
       "      <th>Hongsung</th>\n",
       "      <td>95.0</td>\n",
       "      <td>111.0</td>\n",
       "      <td>271.0</td>\n",
       "      <td>191.0</td>\n",
       "      <td>74.0</td>\n",
       "      <td>162.0</td>\n",
       "      <td>83.0</td>\n",
       "      <td>266.0</td>\n",
       "      <td>97.0</td>\n",
       "      <td>74.0</td>\n",
       "      <td>237.0</td>\n",
       "      <td>344.0</td>\n",
       "      <td>170.0</td>\n",
       "      <td>0.0</td>\n",
       "      <td>180.0</td>\n",
       "    </tr>\n",
       "    <tr>\n",
       "      <th>Muan</th>\n",
       "      <td>275.0</td>\n",
       "      <td>290.0</td>\n",
       "      <td>233.0</td>\n",
       "      <td>215.0</td>\n",
       "      <td>171.0</td>\n",
       "      <td>44.0</td>\n",
       "      <td>260.0</td>\n",
       "      <td>265.0</td>\n",
       "      <td>111.0</td>\n",
       "      <td>205.0</td>\n",
       "      <td>202.0</td>\n",
       "      <td>165.0</td>\n",
       "      <td>340.0</td>\n",
       "      <td>180.0</td>\n",
       "      <td>0.0</td>\n",
       "    </tr>\n",
       "  </tbody>\n",
       "</table>\n",
       "</div>"
      ],
      "text/plain": [
       "             Incheon  Seoul  Busan  Daegu  Daejeon  Gwangju  Suwon-si  Ulsan  \\\n",
       "Incheon          0.0   27.0  335.0  244.0    141.0    257.0      33.0  316.0   \n",
       "Seoul           27.0    0.0  330.0  237.0    144.0    268.0      31.0  307.0   \n",
       "Busan          335.0  330.0    0.0   95.0    199.0    193.0     304.0   54.0   \n",
       "Daegu          244.0  237.0   95.0    0.0    117.0    171.0     212.0   75.0   \n",
       "Daejeon        141.0  144.0  199.0  117.0      0.0    137.0     114.0  192.0   \n",
       "Gwangju        257.0  268.0  193.0  171.0    137.0      0.0     238.0  222.0   \n",
       "Suwon-si        33.0   31.0  304.0  212.0    114.0    238.0       0.0  284.0   \n",
       "Ulsan          316.0  307.0   54.0   75.0    192.0    222.0     284.0    0.0   \n",
       "Jeonju         186.0  195.0  189.0  130.0     61.0     77.0     164.0  198.0   \n",
       "Cheongju-si    115.0  113.0  221.0  130.0     36.0    173.0      84.0  205.0   \n",
       "Changwon       304.0  301.0   35.0   72.0    167.0    161.0     274.0   67.0   \n",
       "Jeju-si        439.0  453.0  291.0  324.0    323.0    186.0     423.0  341.0   \n",
       "Chuncheon      102.0   75.0  330.0  236.0    175.0    311.0      91.0  296.0   \n",
       "Hongsung        95.0  111.0  271.0  191.0     74.0    162.0      83.0  266.0   \n",
       "Muan           275.0  290.0  233.0  215.0    171.0     44.0     260.0  265.0   \n",
       "\n",
       "             Jeonju  Cheongju-si  Changwon  Jeju-si  Chuncheon  Hongsung  \\\n",
       "Incheon       186.0        115.0     304.0    439.0      102.0      95.0   \n",
       "Seoul         195.0        113.0     301.0    453.0       75.0     111.0   \n",
       "Busan         189.0        221.0      35.0    291.0      330.0     271.0   \n",
       "Daegu         130.0        130.0      72.0    324.0      236.0     191.0   \n",
       "Daejeon        61.0         36.0     167.0    323.0      175.0      74.0   \n",
       "Gwangju        77.0        173.0     161.0    186.0      311.0     162.0   \n",
       "Suwon-si      164.0         84.0     274.0    423.0       91.0      83.0   \n",
       "Ulsan         198.0        205.0      67.0    341.0      296.0     266.0   \n",
       "Jeonju          0.0         96.0     154.0    264.0      234.0      97.0   \n",
       "Cheongju-si    96.0          0.0     190.0    359.0      139.0      74.0   \n",
       "Changwon      154.0        190.0       0.0    275.0      306.0     237.0   \n",
       "Jeju-si       264.0        359.0     275.0      0.0      498.0     344.0   \n",
       "Chuncheon     234.0        139.0     306.0    498.0        0.0     170.0   \n",
       "Hongsung       97.0         74.0     237.0    344.0      170.0       0.0   \n",
       "Muan          111.0        205.0     202.0    165.0      340.0     180.0   \n",
       "\n",
       "              Muan  \n",
       "Incheon      275.0  \n",
       "Seoul        290.0  \n",
       "Busan        233.0  \n",
       "Daegu        215.0  \n",
       "Daejeon      171.0  \n",
       "Gwangju       44.0  \n",
       "Suwon-si     260.0  \n",
       "Ulsan        265.0  \n",
       "Jeonju       111.0  \n",
       "Cheongju-si  205.0  \n",
       "Changwon     202.0  \n",
       "Jeju-si      165.0  \n",
       "Chuncheon    340.0  \n",
       "Hongsung     180.0  \n",
       "Muan           0.0  "
      ]
     },
     "execution_count": 1,
     "metadata": {},
     "output_type": "execute_result"
    }
   ],
   "source": [
    "import pandas as pd\n",
    "import numpy as np\n",
    "from numpy import array\n",
    "\n",
    "Raw_Cities_Distance = pd.read_excel('Korea-Distance.xlsx', index_col=0)\n",
    "Label = pd.read_excel('Korea-Distance.xlsx')\n",
    "Raw_Cities_Distance = Raw_Cities_Distance.fillna(0)\n",
    "\n",
    "Raw_Cities_Distance\n",
    "# Label"
   ]
  },
  {
   "cell_type": "code",
   "execution_count": 2,
   "metadata": {
    "pycharm": {
     "name": "#%%\n"
    }
   },
   "outputs": [],
   "source": [
    "# transform to numpy\n",
    "Cities_Distance = Raw_Cities_Distance.to_numpy()"
   ]
  },
  {
   "cell_type": "markdown",
   "metadata": {
    "pycharm": {
     "name": "#%% md\n"
    }
   },
   "source": [
    "### Generate a list for cities <-> index mapping"
   ]
  },
  {
   "cell_type": "code",
   "execution_count": 3,
   "metadata": {
    "pycharm": {
     "name": "#%%\n"
    }
   },
   "outputs": [
    {
     "name": "stdout",
     "output_type": "stream",
     "text": [
      "0         Incheon\n",
      "1           Seoul\n",
      "2           Busan\n",
      "3           Daegu\n",
      "4         Daejeon\n",
      "5         Gwangju\n",
      "6        Suwon-si\n",
      "7           Ulsan\n",
      "8          Jeonju\n",
      "9     Cheongju-si\n",
      "10       Changwon\n",
      "11        Jeju-si\n",
      "12      Chuncheon\n",
      "13       Hongsung\n",
      "14           Muan\n",
      "Name: Unnamed: 0, dtype: object\n"
     ]
    }
   ],
   "source": [
    "df = Label.iloc[:,0]\n",
    "print(df)\n"
   ]
  },
  {
   "cell_type": "markdown",
   "metadata": {
    "pycharm": {
     "name": "#%% md\n"
    }
   },
   "source": [
    "### Generate all possible cities permutation"
   ]
  },
  {
   "cell_type": "code",
   "execution_count": 4,
   "metadata": {
    "pycharm": {
     "name": "#%%\n"
    }
   },
   "outputs": [],
   "source": [
    "\n",
    "initial_schedule = list(range(len(Cities_Distance)))\n",
    "\n",
    "def get_permutation(current_schedule):\n",
    "    permutation = []\n",
    "    for i in range(len(current_schedule)):\n",
    "        for j in range(i+1, len(current_schedule)):\n",
    "            neighbor = current_schedule.copy()\n",
    "            neighbor[i] = current_schedule[j]\n",
    "            neighbor[j] = current_schedule[i]\n",
    "\n",
    "            # to convenient the work, I set the data structure of permutation matrix as follow\n",
    "            # i, j will memorized which cities were swapped in the current route.\n",
    "            # example:\n",
    "            #   0   1   2      3    ...   15       16      17      18\n",
    "            #   i   j   City1  City2      City14   City15  City1   0 (the place to fill in total travel distance)\n",
    "            #   .   .   .      .    ...   .        .       .       .\n",
    "            #   .   .   .      .    ...   .        .       .       .\n",
    "            #   .   .   .      .    ...   .        .       .       .\n",
    "\n",
    "            loc = [i, j]    # correspond to boolean table\n",
    "            loc.extend(neighbor)    # schedule after randomly swapping two cities\n",
    "            loc.extend([0,0])   # a place to memorized the city we start and another for total distance\n",
    "            permutation.append(loc)\n",
    "\n",
    "    permutation = np.array(permutation)\n",
    "\n",
    "    return permutation"
   ]
  },
  {
   "cell_type": "markdown",
   "metadata": {
    "pycharm": {
     "name": "#%% md\n"
    }
   },
   "source": [
    "### Method to get the distance of input schedule"
   ]
  },
  {
   "cell_type": "code",
   "execution_count": 5,
   "metadata": {
    "pycharm": {
     "name": "#%%\n"
    }
   },
   "outputs": [],
   "source": [
    "def get_schedule_length(arbitrary_array):\n",
    "    sum = 0\n",
    "    for j in range(len(arbitrary_array)-1):\n",
    "        sum += Cities_Distance[arbitrary_array[j],arbitrary_array[j+1]]\n",
    "    return sum"
   ]
  },
  {
   "cell_type": "markdown",
   "metadata": {
    "pycharm": {
     "name": "#%% md\n"
    }
   },
   "source": [
    "### Method to get a new schedule from inout permutation matrix"
   ]
  },
  {
   "cell_type": "code",
   "execution_count": 6,
   "metadata": {
    "pycharm": {
     "name": "#%%\n"
    }
   },
   "outputs": [],
   "source": [
    "def get_new_schedule(permutation, best_result, boolean_table):\n",
    "    # declaration\n",
    "    store_i = 0\n",
    "    store_j = 0\n",
    "    current_schedule = []\n",
    "\n",
    "    # compare all possibilities route in permutation matirx, and choose the best.\n",
    "    for i in range(len(permutation)):\n",
    "        sum = 0\n",
    "        sum = get_schedule_length(permutation[i,2:18])\n",
    "\n",
    "        if boolean_table[permutation[i,0], permutation[i,1]]!=1:\n",
    "            permutation[i,18] = int(sum)\n",
    "            if (sum < best_result):\n",
    "                best_result = sum\n",
    "                store_i = permutation[i,0]\n",
    "                store_j = permutation[i,1]\n",
    "                current_schedule = permutation[i,2:17]\n",
    "\n",
    "    # mark the cities that have been swapped\n",
    "    boolean_table[store_i, store_j] = 1\n",
    "    boolean_table[store_j, store_i] = 1\n",
    "\n",
    "    return current_schedule, best_result, boolean_table"
   ]
  },
  {
   "cell_type": "markdown",
   "metadata": {},
   "source": [
    "---\n",
    "### Part II. (c) Run Random Walk to find the optimal path\n"
   ]
  },
  {
   "cell_type": "code",
   "execution_count": 7,
   "metadata": {
    "pycharm": {
     "name": "#%%\n"
    }
   },
   "outputs": [],
   "source": [
    "# Initialization\n",
    "best_result = get_schedule_length(np.append(initial_schedule, initial_schedule[0]))\n",
    "best_schedule = initial_schedule\n",
    "RW = []\n",
    "RW.append(best_result)\n",
    "\n",
    "for i in range(100):\n",
    "    # random select an route from the permutation of old schedule\n",
    "    current_schedule = np.random.permutation(best_schedule)\n",
    "    current_schedule_with_start_pt = np.append(current_schedule,current_schedule[0])\n",
    "    if(get_schedule_length(current_schedule_with_start_pt)<best_result):\n",
    "        best_schedule = current_schedule\n",
    "        best_result = get_schedule_length(current_schedule_with_start_pt)\n",
    "    RW.append(best_result)\n",
    "\n",
    "RW_best_schedule = best_schedule"
   ]
  },
  {
   "cell_type": "markdown",
   "metadata": {
    "pycharm": {
     "name": "#%% md\n"
    }
   },
   "source": [
    "---\n",
    "### Part II. (d) Run Hill Climbing to find the optimal path"
   ]
  },
  {
   "cell_type": "code",
   "execution_count": 8,
   "metadata": {
    "pycharm": {
     "name": "#%%\n"
    }
   },
   "outputs": [],
   "source": [
    "# Initialization\n",
    "best_schedule = initial_schedule\n",
    "best_result = 10e6\n",
    "HC = []\n",
    "HC.append(get_schedule_length(np.append(initial_schedule, initial_schedule[0])))\n",
    "\n",
    "# Start Iterations\n",
    "for i in range(100):\n",
    "    for j in range(1000): # try 1000 possible route in each iteration. (much less than 15!)\n",
    "        current_schedule = np.random.permutation(best_schedule)\n",
    "        current_schedule_with_start_pt = np.append(current_schedule,current_schedule[0])\n",
    "        if(get_schedule_length(current_schedule_with_start_pt)<best_result):\n",
    "            best_schedule = current_schedule\n",
    "            best_result = get_schedule_length(current_schedule_with_start_pt)\n",
    "    HC.append(best_result)\n",
    "# print(HC)\n",
    "HC_best_schedule = best_schedule"
   ]
  },
  {
   "cell_type": "markdown",
   "metadata": {
    "pycharm": {
     "name": "#%% md\n"
    }
   },
   "source": [
    "---\n",
    "### Part II. (e) Run Tabular Search to find the optimal path"
   ]
  },
  {
   "cell_type": "code",
   "execution_count": 9,
   "metadata": {
    "pycharm": {
     "name": "#%%\n"
    }
   },
   "outputs": [],
   "source": [
    "# build a boolean table for TS, to determine whether swap or not\n",
    "size = len(Cities_Distance)\n",
    "TS_boolean_table = np.zeros((size, size), dtype=bool)\n",
    "for i in range(size):\n",
    "    TS_boolean_table[0, i] = TS_boolean_table[i, 0] = 1"
   ]
  },
  {
   "cell_type": "code",
   "execution_count": 10,
   "metadata": {
    "pycharm": {
     "name": "#%%\n"
    }
   },
   "outputs": [
    {
     "name": "stderr",
     "output_type": "stream",
     "text": [
      "C:\\Users\\woody\\Desktop\\(Wed_234)_Computation_of_Data_Science\\Homework\\venv\\lib\\site-packages\\ipykernel_launcher.py:14: DeprecationWarning: elementwise comparison failed; this will raise an error in the future.\n",
      "  \n"
     ]
    }
   ],
   "source": [
    "# Initialization\n",
    "best_result = 10e6\n",
    "TS = []\n",
    "TS.append(get_schedule_length(np.append(initial_schedule, [0])))\n",
    "best_schedule = initial_schedule\n",
    "\n",
    "# iteration\n",
    "for i in range(100):\n",
    "    # print(f'Step:{i}')\n",
    "    permutation = get_permutation(best_schedule)\n",
    "    current_schedule, best_result, TS_boolean_table = get_new_schedule(permutation,\n",
    "                                                                       best_result,\n",
    "                                                                       TS_boolean_table)\n",
    "    if current_schedule != []:\n",
    "        best_schedule = current_schedule\n",
    "    else:\n",
    "        pass\n",
    "\n",
    "    best_schedule_with_start_pt = np.append(best_schedule, best_schedule[0])\n",
    "    TS.append(get_schedule_length(best_schedule_with_start_pt))\n",
    "\n",
    "best_schedule = np.append(best_schedule, best_schedule[0])\n",
    "best_result = get_schedule_length(best_schedule)\n",
    "TS_best_schedule = best_schedule"
   ]
  },
  {
   "cell_type": "markdown",
   "metadata": {
    "pycharm": {
     "name": "#%% md\n"
    }
   },
   "source": [
    "---\n",
    "### Part III. (a) SA on travel route problem"
   ]
  },
  {
   "cell_type": "code",
   "execution_count": 11,
   "metadata": {
    "pycharm": {
     "name": "#%%\n"
    }
   },
   "outputs": [
    {
     "name": "stdout",
     "output_type": "stream",
     "text": [
      "The init_temp is: 2951.75\n"
     ]
    }
   ],
   "source": [
    "# Define iteration numbers\n",
    "n = 2\n",
    "# Set temperature reduction factor\n",
    "c = 0.5\n",
    "NO_UPDATE_TIMES = 10e4\n",
    "\n",
    "SA = []\n",
    "SA.append(get_schedule_length(np.append(initial_schedule, initial_schedule[0])))\n",
    "\n",
    "# Main\n",
    "best_schedule = initial_schedule\n",
    "import numpy as np\n",
    "rand_4pts = []\n",
    "for j in range(4):\n",
    "    rand_schedule = np.random.permutation(initial_schedule)\n",
    "    rand_4pts.append(get_schedule_length(np.append(rand_schedule, rand_schedule[0])))\n",
    "\n",
    "init_temp = np.mean(rand_4pts)\n",
    "print(f'The init_temp is: {init_temp}')\n",
    "\n",
    "temp = init_temp\n",
    "no_update_times = 0\n",
    "update_times = 0\n",
    "\n",
    "# set terminating condition\n",
    "while((update_times<100)&(no_update_times<=NO_UPDATE_TIMES)):\n",
    "    iter = 0\n",
    "    while((iter<=n)&(no_update_times<=NO_UPDATE_TIMES)):\n",
    "        current_schedule = best_schedule\n",
    "\n",
    "        # randomly select an new_schedule\n",
    "        new_schedule = np.random.permutation(current_schedule)\n",
    "\n",
    "        current_schedule_distance = get_schedule_length(np.append(current_schedule, current_schedule[0]))\n",
    "        new_schedule_distance = get_schedule_length(np.append(new_schedule, new_schedule[0]))\n",
    "        del_f = new_schedule_distance - current_schedule_distance\n",
    "\n",
    "        if (del_f)<0:\n",
    "            r = np.random.uniform(0, 1, 1)\n",
    "            Prob_of_X_2 = np.exp(-del_f/(1*temp))\n",
    "\n",
    "            if Prob_of_X_2>r:\n",
    "                best_schedule = new_schedule\n",
    "                SA.append(float(get_schedule_length(np.append(best_schedule, best_schedule[0]))))\n",
    "                # print(SA)\n",
    "                temp = c*temp\n",
    "                update_times +=1\n",
    "                no_update_times = 0\n",
    "        else:\n",
    "            no_update_times +=1\n",
    "\n",
    "        iter += 1\n",
    "\n",
    "# append value to the rest of elements in the list\n",
    "for i in range(update_times+1, 101):\n",
    "    SA.append(float(get_schedule_length(np.append(best_schedule, best_schedule[0]))))\n",
    "SA_best_schedule = best_schedule"
   ]
  },
  {
   "cell_type": "markdown",
   "metadata": {
    "pycharm": {
     "name": "#%% md\n"
    }
   },
   "source": [
    "---\n",
    "### FE plot\n",
    "\n",
    "#### FE plot for Part II."
   ]
  },
  {
   "cell_type": "code",
   "execution_count": 12,
   "metadata": {
    "pycharm": {
     "name": "#%%\n"
    }
   },
   "outputs": [
    {
     "data": {
      "image/png": "[encoded data removed]",
      "text/plain": [
       "<Figure size 432x288 with 1 Axes>"
      ]
     },
     "metadata": {
      "needs_background": "light"
     },
     "output_type": "display_data"
    }
   ],
   "source": [
    "import matplotlib.pyplot as plt\n",
    "plot1 = plt.stairs(RW, label='Random Walk', baseline=None)\n",
    "plot1 = plt.stairs(HC, label='Hill Climbing', baseline=None)\n",
    "plot1 = plt.stairs(TS, label='Tabular Search', baseline=None)\n",
    "\n",
    "plot1 = plt.xlabel('Iterations')\n",
    "plot1 = plt.ylabel('Travel Distances')\n",
    "plot1 = plt.title('FE plot of the comparison of three algorithms')\n",
    "# plt.xlim()\n",
    "plot1 = plt.ylim(1000, 3500)\n",
    "plot1 = plt.grid(axis='both', color='0.95')\n",
    "\n",
    "plot1 = plt.legend(loc=1)\n",
    "\n",
    "plot1 = plt.show()"
   ]
  },
  {
   "cell_type": "markdown",
   "metadata": {
    "pycharm": {
     "name": "#%% md\n"
    }
   },
   "source": [
    "#### FE plot for bonus"
   ]
  },
  {
   "cell_type": "code",
   "execution_count": 13,
   "metadata": {
    "pycharm": {
     "name": "#%%\n"
    }
   },
   "outputs": [
    {
     "data": {
      "image/png": "[encoded data removed]",
      "text/plain": [
       "<Figure size 432x288 with 1 Axes>"
      ]
     },
     "metadata": {
      "needs_background": "light"
     },
     "output_type": "display_data"
    }
   ],
   "source": [
    "plot2 = plt.stairs(RW, label='Random Walk', baseline=None)\n",
    "plot2 = plt.stairs(HC, label='Hill Climbing', baseline=None)\n",
    "plot2 = plt.stairs(TS, label='Tabular Search', baseline=None)\n",
    "plot2 = plt.stairs(SA, label='Simulated Annealing', baseline=None)\n",
    "\n",
    "plot2 = plt.xlabel('Iterations')\n",
    "plot2 = plt.ylabel('Travel Distances')\n",
    "plot2 = plt.title('FE plot of the comparison of three algorithms')\n",
    "# plt.xlim()\n",
    "plot2 = plt.ylim(1000, 3500)\n",
    "plot2 = plt.grid(axis='both', color='0.95')\n",
    "\n",
    "plot2 = plt.legend(loc=1)\n",
    "\n",
    "plot2 = plt.show()"
   ]
  },
  {
   "cell_type": "markdown",
   "metadata": {
    "pycharm": {
     "name": "#%% md\n"
    }
   },
   "source": [
    "---\n",
    "### Save the result"
   ]
  },
  {
   "cell_type": "code",
   "execution_count": 14,
   "metadata": {
    "pycharm": {
     "name": "#%%\n"
    }
   },
   "outputs": [],
   "source": [
    "import json\n",
    "\n",
    "with open('result\\Second_Part\\RW.json', 'w') as f:\n",
    "    json.dump(RW, f)\n",
    "\n",
    "with open('result\\Second_Part\\HC.json', 'w') as f:\n",
    "    json.dump(HC, f)\n",
    "\n",
    "with open('result\\Second_Part\\TS.json', 'w') as f:\n",
    "    json.dump(TS, f)"
   ]
  },
  {
   "cell_type": "markdown",
   "metadata": {
    "pycharm": {
     "name": "#%% md\n"
    }
   },
   "source": [
    "### Print out travel distances and travel path"
   ]
  },
  {
   "cell_type": "code",
   "execution_count": 15,
   "metadata": {
    "pycharm": {
     "name": "#%%\n"
    }
   },
   "outputs": [
    {
     "name": "stdout",
     "output_type": "stream",
     "text": [
      "1953.0 1794.0 1370.0 1576.0\n",
      "Gwangju,  Daejeon,  Changwon,  Busan,  Ulsan,  Daegu,  Hongsung,  Jeonju,  Seoul,  Cheongju-si,  Chuncheon,  Suwon-si,  Incheon,  Muan,  Jeju-si,  \n",
      "\n",
      "Gwangju,  Daegu,  Cheongju-si,  Suwon-si,  Incheon,  Seoul,  Chuncheon,  Hongsung,  Ulsan,  Busan,  Changwon,  Jeju-si,  Muan,  Daejeon,  Jeonju,  \n",
      "\n",
      "Incheon,  Seoul,  Chuncheon,  Cheongju-si,  Daejeon,  Jeonju,  Gwangju,  Muan,  Jeju-si,  Changwon,  Busan,  Ulsan,  Daegu,  Hongsung,  Suwon-si,  Incheon,  \n",
      "\n",
      "Chuncheon,  Seoul,  Incheon,  Suwon-si,  Cheongju-si,  Jeonju,  Daejeon,  Changwon,  Daegu,  Ulsan,  Busan,  Jeju-si,  Muan,  Gwangju,  Hongsung,  \n",
      "\n"
     ]
    }
   ],
   "source": [
    "print(RW[100], HC[100], TS[100], SA[100])\n",
    "for i in range(len(RW_best_schedule)):\n",
    "    print(f'{df[RW_best_schedule[i]]}, ', end = \" \" )\n",
    "print('\\n')\n",
    "\n",
    "for i in range(len(HC_best_schedule)):\n",
    "    print(f'{df[HC_best_schedule[i]]}, ', end = \" \" )\n",
    "print('\\n')\n",
    "\n",
    "\n",
    "for i in range(len(TS_best_schedule)):\n",
    "    print(f'{df[TS_best_schedule[i]]}, ', end = \" \" )\n",
    "print('\\n')\n",
    "\n",
    "for i in range(len(SA_best_schedule)):\n",
    "    print(f'{df[SA_best_schedule[i]]}, ', end = \" \" )\n",
    "print('\\n')"
   ]
  }
 ],
 "metadata": {
  "kernelspec": {
   "display_name": "PyCharm (Homework)",
   "language": "python",
   "name": "pycharm-c2fc6036"
  },
  "language_info": {
   "codemirror_mode": {
    "name": "ipython",
    "version": 3
   },
   "file_extension": ".py",
   "mimetype": "text/x-python",
   "name": "python",
   "nbconvert_exporter": "python",
   "pygments_lexer": "ipython3",
   "version": "3.7.8"
  }
 },
 "nbformat": 4,
 "nbformat_minor": 1
}
