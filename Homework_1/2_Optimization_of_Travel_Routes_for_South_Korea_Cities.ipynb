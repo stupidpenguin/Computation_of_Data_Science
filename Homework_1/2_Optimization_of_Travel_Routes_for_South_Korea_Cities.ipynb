{
 "cells": [
  {
   "cell_type": "markdown",
   "source": [
    "### Data Processing"
   ],
   "metadata": {
    "collapsed": false
   }
  },
  {
   "cell_type": "code",
   "execution_count": 114,
   "outputs": [
    {
     "data": {
      "text/plain": "             Incheon  Seoul  Busan  Daegu  Daejeon  Gwangju  Suwon-si  Ulsan  \\\nIncheon          0.0   27.0  335.0  244.0    141.0    257.0      33.0  316.0   \nSeoul           27.0    0.0  330.0  237.0    144.0    268.0      31.0  307.0   \nBusan          335.0  330.0    0.0   95.0    199.0    193.0     304.0   54.0   \nDaegu          244.0  237.0   95.0    0.0    117.0    171.0     212.0   75.0   \nDaejeon        141.0  144.0  199.0  117.0      0.0    137.0     114.0  192.0   \nGwangju        257.0  268.0  193.0  171.0    137.0      0.0     238.0  222.0   \nSuwon-si        33.0   31.0  304.0  212.0    114.0    238.0       0.0  284.0   \nUlsan          316.0  307.0   54.0   75.0    192.0    222.0     284.0    0.0   \nJeonju         186.0  195.0  189.0  130.0     61.0     77.0     164.0  198.0   \nCheongju-si    115.0  113.0  221.0  130.0     36.0    173.0      84.0  205.0   \nChangwon       304.0  301.0   35.0   72.0    167.0    161.0     274.0   67.0   \nJeju-si        439.0  453.0  291.0  324.0    323.0    186.0     423.0  341.0   \nChuncheon      102.0   75.0  330.0  236.0    175.0    311.0      91.0  296.0   \nHongsung        95.0  111.0  271.0  191.0     74.0    162.0      83.0  266.0   \nMuan           275.0  290.0  233.0  215.0    171.0     44.0     260.0  265.0   \n\n             Jeonju  Cheongju-si  Changwon  Jeju-si  Chuncheon  Hongsung  \\\nIncheon       186.0        115.0     304.0    439.0      102.0      95.0   \nSeoul         195.0        113.0     301.0    453.0       75.0     111.0   \nBusan         189.0        221.0      35.0    291.0      330.0     271.0   \nDaegu         130.0        130.0      72.0    324.0      236.0     191.0   \nDaejeon        61.0         36.0     167.0    323.0      175.0      74.0   \nGwangju        77.0        173.0     161.0    186.0      311.0     162.0   \nSuwon-si      164.0         84.0     274.0    423.0       91.0      83.0   \nUlsan         198.0        205.0      67.0    341.0      296.0     266.0   \nJeonju          0.0         96.0     154.0    264.0      234.0      97.0   \nCheongju-si    96.0          0.0     190.0    359.0      139.0      74.0   \nChangwon      154.0        190.0       0.0    275.0      306.0     237.0   \nJeju-si       264.0        359.0     275.0      0.0      498.0     344.0   \nChuncheon     234.0        139.0     306.0    498.0        0.0     170.0   \nHongsung       97.0         74.0     237.0    344.0      170.0       0.0   \nMuan          111.0        205.0     202.0    165.0      340.0     180.0   \n\n              Muan  \nIncheon      275.0  \nSeoul        290.0  \nBusan        233.0  \nDaegu        215.0  \nDaejeon      171.0  \nGwangju       44.0  \nSuwon-si     260.0  \nUlsan        265.0  \nJeonju       111.0  \nCheongju-si  205.0  \nChangwon     202.0  \nJeju-si      165.0  \nChuncheon    340.0  \nHongsung     180.0  \nMuan           0.0  ",
      "text/html": "<div>\n<style scoped>\n    .dataframe tbody tr th:only-of-type {\n        vertical-align: middle;\n    }\n\n    .dataframe tbody tr th {\n        vertical-align: top;\n    }\n\n    .dataframe thead th {\n        text-align: right;\n    }\n</style>\n<table border=\"1\" class=\"dataframe\">\n  <thead>\n    <tr style=\"text-align: right;\">\n      <th></th>\n      <th>Incheon</th>\n      <th>Seoul</th>\n      <th>Busan</th>\n      <th>Daegu</th>\n      <th>Daejeon</th>\n      <th>Gwangju</th>\n      <th>Suwon-si</th>\n      <th>Ulsan</th>\n      <th>Jeonju</th>\n      <th>Cheongju-si</th>\n      <th>Changwon</th>\n      <th>Jeju-si</th>\n      <th>Chuncheon</th>\n      <th>Hongsung</th>\n      <th>Muan</th>\n    </tr>\n  </thead>\n  <tbody>\n    <tr>\n      <th>Incheon</th>\n      <td>0.0</td>\n      <td>27.0</td>\n      <td>335.0</td>\n      <td>244.0</td>\n      <td>141.0</td>\n      <td>257.0</td>\n      <td>33.0</td>\n      <td>316.0</td>\n      <td>186.0</td>\n      <td>115.0</td>\n      <td>304.0</td>\n      <td>439.0</td>\n      <td>102.0</td>\n      <td>95.0</td>\n      <td>275.0</td>\n    </tr>\n    <tr>\n      <th>Seoul</th>\n      <td>27.0</td>\n      <td>0.0</td>\n      <td>330.0</td>\n      <td>237.0</td>\n      <td>144.0</td>\n      <td>268.0</td>\n      <td>31.0</td>\n      <td>307.0</td>\n      <td>195.0</td>\n      <td>113.0</td>\n      <td>301.0</td>\n      <td>453.0</td>\n      <td>75.0</td>\n      <td>111.0</td>\n      <td>290.0</td>\n    </tr>\n    <tr>\n      <th>Busan</th>\n      <td>335.0</td>\n      <td>330.0</td>\n      <td>0.0</td>\n      <td>95.0</td>\n      <td>199.0</td>\n      <td>193.0</td>\n      <td>304.0</td>\n      <td>54.0</td>\n      <td>189.0</td>\n      <td>221.0</td>\n      <td>35.0</td>\n      <td>291.0</td>\n      <td>330.0</td>\n      <td>271.0</td>\n      <td>233.0</td>\n    </tr>\n    <tr>\n      <th>Daegu</th>\n      <td>244.0</td>\n      <td>237.0</td>\n      <td>95.0</td>\n      <td>0.0</td>\n      <td>117.0</td>\n      <td>171.0</td>\n      <td>212.0</td>\n      <td>75.0</td>\n      <td>130.0</td>\n      <td>130.0</td>\n      <td>72.0</td>\n      <td>324.0</td>\n      <td>236.0</td>\n      <td>191.0</td>\n      <td>215.0</td>\n    </tr>\n    <tr>\n      <th>Daejeon</th>\n      <td>141.0</td>\n      <td>144.0</td>\n      <td>199.0</td>\n      <td>117.0</td>\n      <td>0.0</td>\n      <td>137.0</td>\n      <td>114.0</td>\n      <td>192.0</td>\n      <td>61.0</td>\n      <td>36.0</td>\n      <td>167.0</td>\n      <td>323.0</td>\n      <td>175.0</td>\n      <td>74.0</td>\n      <td>171.0</td>\n    </tr>\n    <tr>\n      <th>Gwangju</th>\n      <td>257.0</td>\n      <td>268.0</td>\n      <td>193.0</td>\n      <td>171.0</td>\n      <td>137.0</td>\n      <td>0.0</td>\n      <td>238.0</td>\n      <td>222.0</td>\n      <td>77.0</td>\n      <td>173.0</td>\n      <td>161.0</td>\n      <td>186.0</td>\n      <td>311.0</td>\n      <td>162.0</td>\n      <td>44.0</td>\n    </tr>\n    <tr>\n      <th>Suwon-si</th>\n      <td>33.0</td>\n      <td>31.0</td>\n      <td>304.0</td>\n      <td>212.0</td>\n      <td>114.0</td>\n      <td>238.0</td>\n      <td>0.0</td>\n      <td>284.0</td>\n      <td>164.0</td>\n      <td>84.0</td>\n      <td>274.0</td>\n      <td>423.0</td>\n      <td>91.0</td>\n      <td>83.0</td>\n      <td>260.0</td>\n    </tr>\n    <tr>\n      <th>Ulsan</th>\n      <td>316.0</td>\n      <td>307.0</td>\n      <td>54.0</td>\n      <td>75.0</td>\n      <td>192.0</td>\n      <td>222.0</td>\n      <td>284.0</td>\n      <td>0.0</td>\n      <td>198.0</td>\n      <td>205.0</td>\n      <td>67.0</td>\n      <td>341.0</td>\n      <td>296.0</td>\n      <td>266.0</td>\n      <td>265.0</td>\n    </tr>\n    <tr>\n      <th>Jeonju</th>\n      <td>186.0</td>\n      <td>195.0</td>\n      <td>189.0</td>\n      <td>130.0</td>\n      <td>61.0</td>\n      <td>77.0</td>\n      <td>164.0</td>\n      <td>198.0</td>\n      <td>0.0</td>\n      <td>96.0</td>\n      <td>154.0</td>\n      <td>264.0</td>\n      <td>234.0</td>\n      <td>97.0</td>\n      <td>111.0</td>\n    </tr>\n    <tr>\n      <th>Cheongju-si</th>\n      <td>115.0</td>\n      <td>113.0</td>\n      <td>221.0</td>\n      <td>130.0</td>\n      <td>36.0</td>\n      <td>173.0</td>\n      <td>84.0</td>\n      <td>205.0</td>\n      <td>96.0</td>\n      <td>0.0</td>\n      <td>190.0</td>\n      <td>359.0</td>\n      <td>139.0</td>\n      <td>74.0</td>\n      <td>205.0</td>\n    </tr>\n    <tr>\n      <th>Changwon</th>\n      <td>304.0</td>\n      <td>301.0</td>\n      <td>35.0</td>\n      <td>72.0</td>\n      <td>167.0</td>\n      <td>161.0</td>\n      <td>274.0</td>\n      <td>67.0</td>\n      <td>154.0</td>\n      <td>190.0</td>\n      <td>0.0</td>\n      <td>275.0</td>\n      <td>306.0</td>\n      <td>237.0</td>\n      <td>202.0</td>\n    </tr>\n    <tr>\n      <th>Jeju-si</th>\n      <td>439.0</td>\n      <td>453.0</td>\n      <td>291.0</td>\n      <td>324.0</td>\n      <td>323.0</td>\n      <td>186.0</td>\n      <td>423.0</td>\n      <td>341.0</td>\n      <td>264.0</td>\n      <td>359.0</td>\n      <td>275.0</td>\n      <td>0.0</td>\n      <td>498.0</td>\n      <td>344.0</td>\n      <td>165.0</td>\n    </tr>\n    <tr>\n      <th>Chuncheon</th>\n      <td>102.0</td>\n      <td>75.0</td>\n      <td>330.0</td>\n      <td>236.0</td>\n      <td>175.0</td>\n      <td>311.0</td>\n      <td>91.0</td>\n      <td>296.0</td>\n      <td>234.0</td>\n      <td>139.0</td>\n      <td>306.0</td>\n      <td>498.0</td>\n      <td>0.0</td>\n      <td>170.0</td>\n      <td>340.0</td>\n    </tr>\n    <tr>\n      <th>Hongsung</th>\n      <td>95.0</td>\n      <td>111.0</td>\n      <td>271.0</td>\n      <td>191.0</td>\n      <td>74.0</td>\n      <td>162.0</td>\n      <td>83.0</td>\n      <td>266.0</td>\n      <td>97.0</td>\n      <td>74.0</td>\n      <td>237.0</td>\n      <td>344.0</td>\n      <td>170.0</td>\n      <td>0.0</td>\n      <td>180.0</td>\n    </tr>\n    <tr>\n      <th>Muan</th>\n      <td>275.0</td>\n      <td>290.0</td>\n      <td>233.0</td>\n      <td>215.0</td>\n      <td>171.0</td>\n      <td>44.0</td>\n      <td>260.0</td>\n      <td>265.0</td>\n      <td>111.0</td>\n      <td>205.0</td>\n      <td>202.0</td>\n      <td>165.0</td>\n      <td>340.0</td>\n      <td>180.0</td>\n      <td>0.0</td>\n    </tr>\n  </tbody>\n</table>\n</div>"
     },
     "execution_count": 114,
     "metadata": {},
     "output_type": "execute_result"
    }
   ],
   "source": [
    "import pandas as pd\n",
    "import numpy as np\n",
    "from numpy import array\n",
    "\n",
    "Raw_Cities_Distance = pd.read_excel('Korea-Distance.xlsx', index_col=0)\n",
    "Raw_Cities_Distance = Raw_Cities_Distance.fillna(0)\n",
    "# Sometimes, there's a bug to exclude index column of xlsx files during reading,\n",
    "# even adding the 'index_col = None' statement.\n",
    "\n",
    "Raw_Cities_Distance"
   ],
   "metadata": {
    "collapsed": false,
    "pycharm": {
     "name": "#%%\n"
    }
   }
  },
  {
   "cell_type": "code",
   "execution_count": 115,
   "outputs": [],
   "source": [
    "# transform to numpy\n",
    "Cities_Distance = Raw_Cities_Distance.to_numpy()"
   ],
   "metadata": {
    "collapsed": false,
    "pycharm": {
     "name": "#%%\n"
    }
   }
  },
  {
   "cell_type": "markdown",
   "source": [
    "### Generate all possible cities permutation"
   ],
   "metadata": {
    "collapsed": false,
    "pycharm": {
     "name": "#%% md\n"
    }
   }
  },
  {
   "cell_type": "code",
   "execution_count": 116,
   "outputs": [],
   "source": [
    "\n",
    "initial_schedule = list(range(len(Cities_Distance)))\n",
    "#print(current_schedule)\n",
    "\n",
    "def get_permutation(current_schedule):\n",
    "    permutation = []\n",
    "    for i in range(len(current_schedule)):\n",
    "        for j in range(i+1, len(current_schedule)):\n",
    "            neighbor = current_schedule.copy()\n",
    "            neighbor[i] = current_schedule[j]\n",
    "            neighbor[j] = current_schedule[i]\n",
    "            loc = [i, j]\n",
    "            loc.extend(neighbor)\n",
    "            loc.extend([0,0])\n",
    "            permutation.append(loc)\n",
    "    permutation = np.array(permutation)\n",
    "\n",
    "    return permutation"
   ],
   "metadata": {
    "collapsed": false,
    "pycharm": {
     "name": "#%%\n"
    }
   }
  },
  {
   "cell_type": "code",
   "execution_count": 117,
   "outputs": [],
   "source": [
    "def get_schedule_length(arbitrary_array):\n",
    "    sum = 0\n",
    "    for j in range(len(arbitrary_array)-1):\n",
    "        sum += Cities_Distance[arbitrary_array[j],arbitrary_array[j+1]]\n",
    "    return sum\n",
    "\n",
    "def get_new_schedule(permutation, best_result, boolean_table):\n",
    "    store_i = 0\n",
    "    store_j = 0\n",
    "    current_schedule = []\n",
    "    for i in range(len(permutation)):\n",
    "        sum = 0\n",
    "        sum = get_schedule_length(permutation[i,2:18])\n",
    "\n",
    "        if boolean_table[permutation[i,0], permutation[i,1]]!=1:\n",
    "            permutation[i,18] = int(sum)\n",
    "            if (sum < best_result):\n",
    "                best_result = sum\n",
    "                store_i = permutation[i,0]\n",
    "                store_j = permutation[i,1]\n",
    "                current_schedule = permutation[i,2:17]\n",
    "\n",
    "    boolean_table[store_i, store_j] = 1\n",
    "    boolean_table[store_j, store_i] = 1\n",
    "\n",
    "    return current_schedule, best_result, boolean_table"
   ],
   "metadata": {
    "collapsed": false,
    "pycharm": {
     "name": "#%%\n"
    }
   }
  },
  {
   "cell_type": "markdown",
   "source": [
    "### (c) Run Random Walk to find the optimal path\n"
   ],
   "metadata": {
    "collapsed": false
   }
  },
  {
   "cell_type": "code",
   "execution_count": 118,
   "outputs": [
    {
     "name": "stdout",
     "output_type": "stream",
     "text": [
      "[3110.0, 2729.0, 2729.0, 2729.0, 2729.0, 2698.0, 2698.0, 2698.0, 2698.0, 2698.0, 2698.0, 2698.0, 2698.0, 2698.0, 2698.0, 2698.0, 2698.0, 2698.0, 2698.0, 2698.0, 2698.0, 2698.0, 2698.0, 2698.0, 2589.0, 2589.0, 2589.0, 2589.0, 2589.0, 2589.0, 2501.0, 2212.0, 2212.0, 2212.0, 2212.0, 2212.0, 2212.0, 2212.0, 2212.0, 2212.0, 2212.0, 2212.0, 2212.0, 2212.0, 2212.0, 2212.0, 2212.0, 2212.0, 2212.0, 2212.0, 2212.0, 2212.0, 2212.0, 2212.0, 2212.0, 2212.0, 2212.0, 2212.0, 2212.0, 2212.0, 2212.0, 2212.0, 2212.0, 2212.0, 2212.0, 2212.0, 2126.0, 2126.0, 2126.0, 2126.0, 2126.0, 2126.0, 2126.0, 2126.0, 2126.0, 2126.0, 2126.0, 2126.0, 2126.0, 2126.0, 2126.0, 2126.0, 2126.0, 2126.0, 2126.0, 2126.0, 2126.0, 2126.0, 2126.0, 2126.0, 2126.0, 2126.0, 2126.0, 2126.0, 2126.0, 2126.0, 2126.0, 2126.0, 2126.0, 2126.0, 2126.0]\n"
     ]
    }
   ],
   "source": [
    "best_result = get_schedule_length(np.append(initial_schedule, [0]))\n",
    "best_schedule = initial_schedule\n",
    "RW = []\n",
    "RW.append(best_result)\n",
    "for i in range(100):\n",
    "    current_schedule = np.random.permutation(best_schedule)\n",
    "    current_schedule_plus_0 = np.append(current_schedule,[0])\n",
    "    if(get_schedule_length(current_schedule_plus_0)<best_result):\n",
    "        best_schedule = current_schedule\n",
    "        best_result = get_schedule_length(current_schedule_plus_0)\n",
    "    RW.append(best_result)\n",
    "\n",
    "print(RW)"
   ],
   "metadata": {
    "collapsed": false,
    "pycharm": {
     "name": "#%%\n"
    }
   }
  },
  {
   "cell_type": "markdown",
   "source": [
    "### (d) Run Hill Climbing to find the optimal path"
   ],
   "metadata": {
    "collapsed": false,
    "pycharm": {
     "name": "#%% md\n"
    }
   }
  },
  {
   "cell_type": "code",
   "execution_count": 119,
   "outputs": [
    {
     "name": "stdout",
     "output_type": "stream",
     "text": [
      "[3110.0, 1949.0, 1936.0, 1908.0, 1837.0, 1837.0, 1800.0, 1800.0, 1643.0, 1629.0, 1629.0, 1629.0, 1629.0, 1629.0, 1629.0, 1629.0, 1629.0, 1629.0, 1536.0, 1536.0, 1536.0, 1536.0, 1536.0, 1536.0, 1536.0, 1536.0, 1536.0, 1536.0, 1536.0, 1536.0, 1536.0, 1536.0, 1536.0, 1536.0, 1536.0, 1536.0, 1536.0, 1536.0, 1536.0, 1536.0, 1536.0, 1536.0, 1536.0, 1536.0, 1536.0, 1536.0, 1536.0, 1536.0, 1536.0, 1536.0, 1536.0, 1536.0, 1536.0, 1536.0, 1536.0, 1536.0, 1536.0, 1536.0, 1536.0, 1536.0, 1536.0, 1536.0, 1536.0, 1536.0, 1536.0, 1536.0, 1536.0, 1536.0, 1536.0, 1536.0, 1536.0, 1536.0, 1536.0, 1536.0, 1536.0, 1536.0, 1536.0, 1536.0, 1536.0, 1536.0, 1536.0, 1536.0, 1536.0, 1536.0, 1536.0, 1536.0, 1536.0, 1536.0, 1536.0, 1536.0, 1536.0, 1536.0, 1536.0, 1536.0, 1536.0, 1536.0, 1536.0, 1536.0, 1536.0, 1536.0, 1536.0]\n"
     ]
    }
   ],
   "source": [
    "# build a boolean table for HC\n",
    "size = len(Cities_Distance)\n",
    "HC_boolean_table = np.zeros((size, size), dtype=bool)\n",
    "for i in range(size):\n",
    "    HC_boolean_table[0, i] = HC_boolean_table[i, 0] = 1\n",
    "\n",
    "### Start Iterations\n",
    "best_schedule = initial_schedule\n",
    "best_result = 10e6\n",
    "HC = []\n",
    "HC.append(get_schedule_length(np.append(initial_schedule, [0])))\n",
    "for i in range(100):\n",
    "    for j in range(1000):\n",
    "        current_schedule = np.random.permutation(best_schedule)\n",
    "        current_schedule_plus_0 = np.append(current_schedule,[0])\n",
    "        if(get_schedule_length(current_schedule_plus_0)<best_result):\n",
    "            best_schedule = current_schedule\n",
    "            best_result = get_schedule_length(current_schedule_plus_0)\n",
    "    HC.append(best_result)\n",
    "print(HC)"
   ],
   "metadata": {
    "collapsed": false,
    "pycharm": {
     "name": "#%%\n"
    }
   }
  },
  {
   "cell_type": "markdown",
   "source": [
    "### (e) Run Tabular Search to find the optimal path"
   ],
   "metadata": {
    "collapsed": false,
    "pycharm": {
     "name": "#%% md\n"
    }
   }
  },
  {
   "cell_type": "code",
   "execution_count": 120,
   "outputs": [],
   "source": [
    "# build a boolean table for TS\n",
    "size = len(Cities_Distance)\n",
    "TS_boolean_table = np.zeros((size, size), dtype=bool)\n",
    "for i in range(size):\n",
    "    TS_boolean_table[0, i] = TS_boolean_table[i, 0] = 1"
   ],
   "metadata": {
    "collapsed": false,
    "pycharm": {
     "name": "#%%\n"
    }
   }
  },
  {
   "cell_type": "code",
   "execution_count": 121,
   "outputs": [
    {
     "name": "stdout",
     "output_type": "stream",
     "text": [
      "[3110.0, 2558.0, 2114.0, 1859.0, 1597.0, 1551.0, 1477.0, 1432.0, 1425.0, 1370.0, 1370.0, 1370.0, 1370.0, 1370.0, 1370.0, 1370.0, 1370.0, 1370.0, 1370.0, 1370.0, 1370.0, 1370.0, 1370.0, 1370.0, 1370.0, 1370.0, 1370.0, 1370.0, 1370.0, 1370.0, 1370.0, 1370.0, 1370.0, 1370.0, 1370.0, 1370.0, 1370.0, 1370.0, 1370.0, 1370.0, 1370.0, 1370.0, 1370.0, 1370.0, 1370.0, 1370.0, 1370.0, 1370.0, 1370.0, 1370.0, 1370.0, 1370.0, 1370.0, 1370.0, 1370.0, 1370.0, 1370.0, 1370.0, 1370.0, 1370.0, 1370.0, 1370.0, 1370.0, 1370.0, 1370.0, 1370.0, 1370.0, 1370.0, 1370.0, 1370.0, 1370.0, 1370.0, 1370.0, 1370.0, 1370.0, 1370.0, 1370.0, 1370.0, 1370.0, 1370.0, 1370.0, 1370.0, 1370.0, 1370.0, 1370.0, 1370.0, 1370.0, 1370.0, 1370.0, 1370.0, 1370.0, 1370.0, 1370.0, 1370.0, 1370.0, 1370.0, 1370.0, 1370.0, 1370.0, 1370.0, 1370.0]\n"
     ]
    },
    {
     "name": "stderr",
     "output_type": "stream",
     "text": [
      "C:\\Users\\woody\\Desktop\\(Wed_234)_Computation_of_Data_Science\\Homework\\venv\\lib\\site-packages\\ipykernel_launcher.py:11: DeprecationWarning: elementwise comparison failed; this will raise an error in the future.\n",
      "  # This is added back by InteractiveShellApp.init_path()\n"
     ]
    }
   ],
   "source": [
    "best_result = 10e6\n",
    "TS = []\n",
    "TS.append(get_schedule_length(np.append(initial_schedule, [0])))\n",
    "best_schedule = initial_schedule\n",
    "for i in range(100):\n",
    "    # print(f'Step:{i}')\n",
    "    permutation = get_permutation(best_schedule)\n",
    "    current_schedule, best_result, TS_boolean_table = get_new_schedule(permutation,\n",
    "                                                                       best_result,\n",
    "                                                                       TS_boolean_table)\n",
    "    if current_schedule != []:\n",
    "        best_schedule = current_schedule\n",
    "    else:\n",
    "        pass\n",
    "    best_schedule_plus_0 = np.append(best_schedule, [0])\n",
    "    TS.append(get_schedule_length(best_schedule_plus_0))\n",
    "\n",
    "best_schedule = np.append(best_schedule, [0])\n",
    "best_result = get_schedule_length(best_schedule)\n",
    "# print(f'The best_result is: {best_result}')\n",
    "print(TS)\n",
    "# print(f'Travel distances in each iterations {np.array(TS).shape}')"
   ],
   "metadata": {
    "collapsed": false,
    "pycharm": {
     "name": "#%%\n"
    }
   }
  },
  {
   "cell_type": "markdown",
   "source": [
    "---\n",
    "### 3.(a) SA on travel route problem"
   ],
   "metadata": {
    "collapsed": false,
    "pycharm": {
     "name": "#%% md\n"
    }
   }
  },
  {
   "cell_type": "code",
   "execution_count": 122,
   "outputs": [
    {
     "name": "stdout",
     "output_type": "stream",
     "text": [
      "The init_temp is: 3091.0\n",
      "[3110.0, 3030.0, 2999.0, 2762.0, 2111.0, 1973.0, 1954.0, 1949.0, 1939.0, 1924.0, 1922.0, 1857.0, 1655.0, 1623.0, 1389.0, 1389.0, 1389.0, 1389.0, 1389.0, 1389.0, 1389.0, 1389.0, 1389.0, 1389.0, 1389.0, 1389.0, 1389.0, 1389.0, 1389.0, 1389.0, 1389.0, 1389.0, 1389.0, 1389.0, 1389.0, 1389.0, 1389.0, 1389.0, 1389.0, 1389.0, 1389.0, 1389.0, 1389.0, 1389.0, 1389.0, 1389.0, 1389.0, 1389.0, 1389.0, 1389.0, 1389.0, 1389.0, 1389.0, 1389.0, 1389.0, 1389.0, 1389.0, 1389.0, 1389.0, 1389.0, 1389.0, 1389.0, 1389.0, 1389.0, 1389.0, 1389.0, 1389.0, 1389.0, 1389.0, 1389.0, 1389.0, 1389.0, 1389.0, 1389.0, 1389.0, 1389.0, 1389.0, 1389.0, 1389.0, 1389.0, 1389.0, 1389.0, 1389.0, 1389.0, 1389.0, 1389.0, 1389.0, 1389.0, 1389.0, 1389.0, 1389.0, 1389.0, 1389.0, 1389.0, 1389.0, 1389.0, 1389.0, 1389.0, 1389.0, 1389.0, 1389.0]\n"
     ]
    }
   ],
   "source": [
    "# Define iteration numbers\n",
    "n = 2\n",
    "# Set temperature reduction factor\n",
    "c = 0.5\n",
    "NO_UPDATE_TIMES = 10e4\n",
    "\n",
    "SA = []\n",
    "SA.append(get_schedule_length(np.append(initial_schedule, [0])))\n",
    "\n",
    "# Main\n",
    "best_schedule = initial_schedule\n",
    "import numpy as np\n",
    "rand_4pts = []\n",
    "for j in range(4):\n",
    "    rand_schedule = np.random.permutation(initial_schedule)\n",
    "    rand_4pts.append(get_schedule_length(np.append(rand_schedule, [0])))\n",
    "\n",
    "init_temp = np.mean(rand_4pts)\n",
    "print(f'The init_temp is: {init_temp}')\n",
    "\n",
    "temp = init_temp\n",
    "no_update_times = 0\n",
    "update_times = 0\n",
    "while((update_times<100)&(no_update_times<=NO_UPDATE_TIMES)):\n",
    "    iter = 0\n",
    "    while((iter<=n)&(no_update_times<=NO_UPDATE_TIMES)):\n",
    "        # print(f'no_update_times = {no_update_times}')\n",
    "        current_schedule = best_schedule\n",
    "\n",
    "        # randomly select an new_schedule\n",
    "        new_schedule = np.random.permutation(current_schedule)\n",
    "\n",
    "        current_schedule_distance = get_schedule_length(np.append(current_schedule, [0]))\n",
    "        new_schedule_distance = get_schedule_length(np.append(new_schedule, [0]))\n",
    "        del_f = new_schedule_distance - current_schedule_distance\n",
    "        # print(f'del_f = {del_f}')\n",
    "\n",
    "        if (del_f)<0:\n",
    "            r = np.random.uniform(0, 1, 1)\n",
    "            Prob_of_X_2 = np.exp(-del_f/(1*temp))\n",
    "            #print(f' r = {r} , $P(X_2)$ = {Prob_of_X_2}')\n",
    "            if Prob_of_X_2>r:\n",
    "                best_schedule = new_schedule\n",
    "                SA.append(float(get_schedule_length(np.append(best_schedule, [0]))))\n",
    "                # print(SA)\n",
    "                temp = c*temp\n",
    "                update_times +=1\n",
    "                no_update_times = 0\n",
    "        else:\n",
    "            no_update_times +=1\n",
    "\n",
    "        iter += 1\n",
    "\n",
    "for i in range(update_times+1, 101):\n",
    "    SA.append(float(get_schedule_length(np.append(best_schedule, [0]))))\n",
    "print(SA)"
   ],
   "metadata": {
    "collapsed": false,
    "pycharm": {
     "name": "#%%\n"
    }
   }
  },
  {
   "cell_type": "markdown",
   "source": [
    "---\n",
    "### FE plot"
   ],
   "metadata": {
    "collapsed": false,
    "pycharm": {
     "name": "#%% md\n"
    }
   }
  },
  {
   "cell_type": "code",
   "execution_count": 123,
   "outputs": [
    {
     "data": {
      "text/plain": "<Figure size 432x288 with 1 Axes>",
      "image/png": "[encoded data removed]"
     },
     "metadata": {
      "needs_background": "light"
     },
     "output_type": "display_data"
    }
   ],
   "source": [
    "import matplotlib.pyplot as plt\n",
    "plot1 = plt.stairs(RW, label='Random Walk', baseline=None)\n",
    "plot1 = plt.stairs(HC, label='Hill Climbing', baseline=None)\n",
    "plot1 = plt.stairs(TS, label='Tabular Search', baseline=None)\n",
    "\n",
    "plot1 = plt.xlabel('Iterations')\n",
    "plot1 = plt.ylabel('Travel Distances')\n",
    "plot1 = plt.title('FE plot of the comparison of three algorithms')\n",
    "# plt.xlim()\n",
    "plot1 = plt.ylim(1000, 3500)\n",
    "plot1 = plt.grid(axis='both', color='0.95')\n",
    "\n",
    "plot1 = plt.legend(loc=1)\n",
    "\n",
    "plot1 = plt.show()"
   ],
   "metadata": {
    "collapsed": false,
    "pycharm": {
     "name": "#%%\n"
    }
   }
  },
  {
   "cell_type": "code",
   "execution_count": 124,
   "outputs": [
    {
     "data": {
      "text/plain": "<Figure size 432x288 with 1 Axes>",
      "image/png": "[encoded data removed]"
     },
     "metadata": {
      "needs_background": "light"
     },
     "output_type": "display_data"
    }
   ],
   "source": [
    "plot2 = plt.stairs(RW, label='Random Walk', baseline=None)\n",
    "plot2 = plt.stairs(HC, label='Hill Climbing', baseline=None)\n",
    "plot2 = plt.stairs(TS, label='Tabular Search', baseline=None)\n",
    "plot2 = plt.stairs(SA, label='Simulated Annealing', baseline=None)\n",
    "\n",
    "plot2 = plt.xlabel('Iterations')\n",
    "plot2 = plt.ylabel('Travel Distances')\n",
    "plot2 = plt.title('FE plot of the comparison of three algorithms')\n",
    "# plt.xlim()\n",
    "plot2 = plt.ylim(1000, 3500)\n",
    "plot2 = plt.grid(axis='both', color='0.95')\n",
    "\n",
    "plot2 = plt.legend(loc=1)\n",
    "\n",
    "plot2 = plt.show()"
   ],
   "metadata": {
    "collapsed": false,
    "pycharm": {
     "name": "#%%\n"
    }
   }
  },
  {
   "cell_type": "code",
   "execution_count": 125,
   "outputs": [],
   "source": [
    "import json\n",
    "\n",
    "with open('result\\Second_Part\\RW.json', 'w') as f:\n",
    "    json.dump(RW, f)\n",
    "\n",
    "with open('result\\Second_Part\\HC.json', 'w') as f:\n",
    "    json.dump(HC, f)\n",
    "\n",
    "with open('result\\Second_Part\\TS.json', 'w') as f:\n",
    "    json.dump(TS, f)\n"
   ],
   "metadata": {
    "collapsed": false,
    "pycharm": {
     "name": "#%%\n"
    }
   }
  }
 ],
 "metadata": {
  "kernelspec": {
   "name": "pycharm-c2fc6036",
   "language": "python",
   "display_name": "PyCharm (Homework)"
  },
  "language_info": {
   "codemirror_mode": {
    "name": "ipython",
    "version": 2
   },
   "file_extension": ".py",
   "mimetype": "text/x-python",
   "name": "python",
   "nbconvert_exporter": "python",
   "pygments_lexer": "ipython2",
   "version": "2.7.6"
  }
 },
 "nbformat": 4,
 "nbformat_minor": 0
}