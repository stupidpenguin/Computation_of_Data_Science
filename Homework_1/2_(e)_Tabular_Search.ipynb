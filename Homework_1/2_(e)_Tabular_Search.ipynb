{
 "cells": [
  {
   "cell_type": "markdown",
   "source": [
    "## Initialization"
   ],
   "metadata": {
    "collapsed": false,
    "pycharm": {
     "name": "#%% md\n"
    }
   }
  },
  {
   "cell_type": "code",
   "execution_count": 62,
   "outputs": [],
   "source": [
    "best_result = 10e6"
   ],
   "metadata": {
    "collapsed": false,
    "pycharm": {
     "name": "#%%\n"
    }
   }
  },
  {
   "cell_type": "markdown",
   "source": [
    "### Data Processing"
   ],
   "metadata": {
    "collapsed": false
   }
  },
  {
   "cell_type": "code",
   "execution_count": 63,
   "outputs": [
    {
     "data": {
      "text/plain": "             Incheon  Seoul  Busan  Daegu  Daejeon  Gwangju  Suwon-si  Ulsan  \\\nIncheon          0.0   27.0  335.0  244.0    141.0    257.0      33.0  316.0   \nSeoul           27.0    0.0  330.0  237.0    144.0    268.0      31.0  307.0   \nBusan          335.0  330.0    0.0   95.0    199.0    193.0     304.0   54.0   \nDaegu          244.0  237.0   95.0    0.0    117.0    171.0     212.0   75.0   \nDaejeon        141.0  144.0  199.0  117.0      0.0    137.0     114.0  192.0   \nGwangju        257.0  268.0  193.0  171.0    137.0      0.0     238.0  222.0   \nSuwon-si        33.0   31.0  304.0  212.0    114.0    238.0       0.0  284.0   \nUlsan          316.0  307.0   54.0   75.0    192.0    222.0     284.0    0.0   \nJeonju         186.0  195.0  189.0  130.0     61.0     77.0     164.0  198.0   \nCheongju-si    115.0  113.0  221.0  130.0     36.0    173.0      84.0  205.0   \nChangwon       304.0  301.0   35.0   72.0    167.0    161.0     274.0   67.0   \nJeju-si        439.0  453.0  291.0  324.0    323.0    186.0     423.0  341.0   \nChuncheon      102.0   75.0  330.0  236.0    175.0    311.0      91.0  296.0   \nHongsung        95.0  111.0  271.0  191.0     74.0    162.0      83.0  266.0   \nMuan           275.0  290.0  233.0  215.0    171.0     44.0     260.0  265.0   \n\n             Jeonju  Cheongju-si  Changwon  Jeju-si  Chuncheon  Hongsung  \\\nIncheon       186.0        115.0     304.0    439.0      102.0      95.0   \nSeoul         195.0        113.0     301.0    453.0       75.0     111.0   \nBusan         189.0        221.0      35.0    291.0      330.0     271.0   \nDaegu         130.0        130.0      72.0    324.0      236.0     191.0   \nDaejeon        61.0         36.0     167.0    323.0      175.0      74.0   \nGwangju        77.0        173.0     161.0    186.0      311.0     162.0   \nSuwon-si      164.0         84.0     274.0    423.0       91.0      83.0   \nUlsan         198.0        205.0      67.0    341.0      296.0     266.0   \nJeonju          0.0         96.0     154.0    264.0      234.0      97.0   \nCheongju-si    96.0          0.0     190.0    359.0      139.0      74.0   \nChangwon      154.0        190.0       0.0    275.0      306.0     237.0   \nJeju-si       264.0        359.0     275.0      0.0      498.0     344.0   \nChuncheon     234.0        139.0     306.0    498.0        0.0     170.0   \nHongsung       97.0         74.0     237.0    344.0      170.0       0.0   \nMuan          111.0        205.0     202.0    165.0      340.0     180.0   \n\n              Muan  \nIncheon      275.0  \nSeoul        290.0  \nBusan        233.0  \nDaegu        215.0  \nDaejeon      171.0  \nGwangju       44.0  \nSuwon-si     260.0  \nUlsan        265.0  \nJeonju       111.0  \nCheongju-si  205.0  \nChangwon     202.0  \nJeju-si      165.0  \nChuncheon    340.0  \nHongsung     180.0  \nMuan           0.0  ",
      "text/html": "<div>\n<style scoped>\n    .dataframe tbody tr th:only-of-type {\n        vertical-align: middle;\n    }\n\n    .dataframe tbody tr th {\n        vertical-align: top;\n    }\n\n    .dataframe thead th {\n        text-align: right;\n    }\n</style>\n<table border=\"1\" class=\"dataframe\">\n  <thead>\n    <tr style=\"text-align: right;\">\n      <th></th>\n      <th>Incheon</th>\n      <th>Seoul</th>\n      <th>Busan</th>\n      <th>Daegu</th>\n      <th>Daejeon</th>\n      <th>Gwangju</th>\n      <th>Suwon-si</th>\n      <th>Ulsan</th>\n      <th>Jeonju</th>\n      <th>Cheongju-si</th>\n      <th>Changwon</th>\n      <th>Jeju-si</th>\n      <th>Chuncheon</th>\n      <th>Hongsung</th>\n      <th>Muan</th>\n    </tr>\n  </thead>\n  <tbody>\n    <tr>\n      <th>Incheon</th>\n      <td>0.0</td>\n      <td>27.0</td>\n      <td>335.0</td>\n      <td>244.0</td>\n      <td>141.0</td>\n      <td>257.0</td>\n      <td>33.0</td>\n      <td>316.0</td>\n      <td>186.0</td>\n      <td>115.0</td>\n      <td>304.0</td>\n      <td>439.0</td>\n      <td>102.0</td>\n      <td>95.0</td>\n      <td>275.0</td>\n    </tr>\n    <tr>\n      <th>Seoul</th>\n      <td>27.0</td>\n      <td>0.0</td>\n      <td>330.0</td>\n      <td>237.0</td>\n      <td>144.0</td>\n      <td>268.0</td>\n      <td>31.0</td>\n      <td>307.0</td>\n      <td>195.0</td>\n      <td>113.0</td>\n      <td>301.0</td>\n      <td>453.0</td>\n      <td>75.0</td>\n      <td>111.0</td>\n      <td>290.0</td>\n    </tr>\n    <tr>\n      <th>Busan</th>\n      <td>335.0</td>\n      <td>330.0</td>\n      <td>0.0</td>\n      <td>95.0</td>\n      <td>199.0</td>\n      <td>193.0</td>\n      <td>304.0</td>\n      <td>54.0</td>\n      <td>189.0</td>\n      <td>221.0</td>\n      <td>35.0</td>\n      <td>291.0</td>\n      <td>330.0</td>\n      <td>271.0</td>\n      <td>233.0</td>\n    </tr>\n    <tr>\n      <th>Daegu</th>\n      <td>244.0</td>\n      <td>237.0</td>\n      <td>95.0</td>\n      <td>0.0</td>\n      <td>117.0</td>\n      <td>171.0</td>\n      <td>212.0</td>\n      <td>75.0</td>\n      <td>130.0</td>\n      <td>130.0</td>\n      <td>72.0</td>\n      <td>324.0</td>\n      <td>236.0</td>\n      <td>191.0</td>\n      <td>215.0</td>\n    </tr>\n    <tr>\n      <th>Daejeon</th>\n      <td>141.0</td>\n      <td>144.0</td>\n      <td>199.0</td>\n      <td>117.0</td>\n      <td>0.0</td>\n      <td>137.0</td>\n      <td>114.0</td>\n      <td>192.0</td>\n      <td>61.0</td>\n      <td>36.0</td>\n      <td>167.0</td>\n      <td>323.0</td>\n      <td>175.0</td>\n      <td>74.0</td>\n      <td>171.0</td>\n    </tr>\n    <tr>\n      <th>Gwangju</th>\n      <td>257.0</td>\n      <td>268.0</td>\n      <td>193.0</td>\n      <td>171.0</td>\n      <td>137.0</td>\n      <td>0.0</td>\n      <td>238.0</td>\n      <td>222.0</td>\n      <td>77.0</td>\n      <td>173.0</td>\n      <td>161.0</td>\n      <td>186.0</td>\n      <td>311.0</td>\n      <td>162.0</td>\n      <td>44.0</td>\n    </tr>\n    <tr>\n      <th>Suwon-si</th>\n      <td>33.0</td>\n      <td>31.0</td>\n      <td>304.0</td>\n      <td>212.0</td>\n      <td>114.0</td>\n      <td>238.0</td>\n      <td>0.0</td>\n      <td>284.0</td>\n      <td>164.0</td>\n      <td>84.0</td>\n      <td>274.0</td>\n      <td>423.0</td>\n      <td>91.0</td>\n      <td>83.0</td>\n      <td>260.0</td>\n    </tr>\n    <tr>\n      <th>Ulsan</th>\n      <td>316.0</td>\n      <td>307.0</td>\n      <td>54.0</td>\n      <td>75.0</td>\n      <td>192.0</td>\n      <td>222.0</td>\n      <td>284.0</td>\n      <td>0.0</td>\n      <td>198.0</td>\n      <td>205.0</td>\n      <td>67.0</td>\n      <td>341.0</td>\n      <td>296.0</td>\n      <td>266.0</td>\n      <td>265.0</td>\n    </tr>\n    <tr>\n      <th>Jeonju</th>\n      <td>186.0</td>\n      <td>195.0</td>\n      <td>189.0</td>\n      <td>130.0</td>\n      <td>61.0</td>\n      <td>77.0</td>\n      <td>164.0</td>\n      <td>198.0</td>\n      <td>0.0</td>\n      <td>96.0</td>\n      <td>154.0</td>\n      <td>264.0</td>\n      <td>234.0</td>\n      <td>97.0</td>\n      <td>111.0</td>\n    </tr>\n    <tr>\n      <th>Cheongju-si</th>\n      <td>115.0</td>\n      <td>113.0</td>\n      <td>221.0</td>\n      <td>130.0</td>\n      <td>36.0</td>\n      <td>173.0</td>\n      <td>84.0</td>\n      <td>205.0</td>\n      <td>96.0</td>\n      <td>0.0</td>\n      <td>190.0</td>\n      <td>359.0</td>\n      <td>139.0</td>\n      <td>74.0</td>\n      <td>205.0</td>\n    </tr>\n    <tr>\n      <th>Changwon</th>\n      <td>304.0</td>\n      <td>301.0</td>\n      <td>35.0</td>\n      <td>72.0</td>\n      <td>167.0</td>\n      <td>161.0</td>\n      <td>274.0</td>\n      <td>67.0</td>\n      <td>154.0</td>\n      <td>190.0</td>\n      <td>0.0</td>\n      <td>275.0</td>\n      <td>306.0</td>\n      <td>237.0</td>\n      <td>202.0</td>\n    </tr>\n    <tr>\n      <th>Jeju-si</th>\n      <td>439.0</td>\n      <td>453.0</td>\n      <td>291.0</td>\n      <td>324.0</td>\n      <td>323.0</td>\n      <td>186.0</td>\n      <td>423.0</td>\n      <td>341.0</td>\n      <td>264.0</td>\n      <td>359.0</td>\n      <td>275.0</td>\n      <td>0.0</td>\n      <td>498.0</td>\n      <td>344.0</td>\n      <td>165.0</td>\n    </tr>\n    <tr>\n      <th>Chuncheon</th>\n      <td>102.0</td>\n      <td>75.0</td>\n      <td>330.0</td>\n      <td>236.0</td>\n      <td>175.0</td>\n      <td>311.0</td>\n      <td>91.0</td>\n      <td>296.0</td>\n      <td>234.0</td>\n      <td>139.0</td>\n      <td>306.0</td>\n      <td>498.0</td>\n      <td>0.0</td>\n      <td>170.0</td>\n      <td>340.0</td>\n    </tr>\n    <tr>\n      <th>Hongsung</th>\n      <td>95.0</td>\n      <td>111.0</td>\n      <td>271.0</td>\n      <td>191.0</td>\n      <td>74.0</td>\n      <td>162.0</td>\n      <td>83.0</td>\n      <td>266.0</td>\n      <td>97.0</td>\n      <td>74.0</td>\n      <td>237.0</td>\n      <td>344.0</td>\n      <td>170.0</td>\n      <td>0.0</td>\n      <td>180.0</td>\n    </tr>\n    <tr>\n      <th>Muan</th>\n      <td>275.0</td>\n      <td>290.0</td>\n      <td>233.0</td>\n      <td>215.0</td>\n      <td>171.0</td>\n      <td>44.0</td>\n      <td>260.0</td>\n      <td>265.0</td>\n      <td>111.0</td>\n      <td>205.0</td>\n      <td>202.0</td>\n      <td>165.0</td>\n      <td>340.0</td>\n      <td>180.0</td>\n      <td>0.0</td>\n    </tr>\n  </tbody>\n</table>\n</div>"
     },
     "execution_count": 63,
     "metadata": {},
     "output_type": "execute_result"
    }
   ],
   "source": [
    "import pandas as pd\n",
    "import numpy as np\n",
    "from numpy import array\n",
    "\n",
    "# data_path = Path('C:/Users/bettl/PycharmProjects/Computation_of_Data_Science/Homework_1/Korea-Distance.xlsx')\n",
    "# Label = pd.read_excel('Korea-Distance.xlsx')\n",
    "Raw_Cities_Distance = pd.read_excel('Korea-Distance.xlsx', index_col=0)\n",
    "Raw_Cities_Distance = Raw_Cities_Distance.fillna(0)\n",
    "# Sometimes, there's a bug to exclude index column of xlsx files during reading,\n",
    "# even adding the 'index_col = None' statement.\n",
    "\n",
    "# Label\n",
    "Raw_Cities_Distance\n"
   ],
   "metadata": {
    "collapsed": false,
    "pycharm": {
     "name": "#%%\n"
    }
   }
  },
  {
   "cell_type": "code",
   "execution_count": 64,
   "outputs": [],
   "source": [
    "# transform to numpy\n",
    "Cities_Distance = Raw_Cities_Distance.to_numpy()\n",
    "\n",
    "#print(Cities_Distance)\n",
    "#print(Cities_Distance.shape)\n",
    "\n",
    "# build a boolean table\n",
    "size = len(Cities_Distance)\n",
    "boolean_table = np.zeros((size, size), dtype=bool)\n",
    "for i in range(size):\n",
    "    boolean_table[0, i] = boolean_table[i, 0] = 1\n",
    "\n",
    "#print(boolean_table)"
   ],
   "metadata": {
    "collapsed": false,
    "pycharm": {
     "name": "#%%\n"
    }
   }
  },
  {
   "cell_type": "markdown",
   "source": [
    "### Generate all possible cities permutation"
   ],
   "metadata": {
    "collapsed": false,
    "pycharm": {
     "name": "#%% md\n"
    }
   }
  },
  {
   "cell_type": "code",
   "execution_count": 65,
   "outputs": [],
   "source": [
    "\n",
    "current_schedule = list(range(len(Cities_Distance)))\n",
    "#print(current_schedule)\n",
    "\n",
    "def get_permutation(current_schedule):\n",
    "    permutation = []\n",
    "    for i in range(len(current_schedule)):\n",
    "        for j in range(i+1, len(current_schedule)):\n",
    "            neighbor = current_schedule.copy()\n",
    "            neighbor[i] = current_schedule[j]\n",
    "            neighbor[j] = current_schedule[i]\n",
    "            loc = [i, j]\n",
    "            loc.extend(neighbor)\n",
    "            loc.extend([0,0])\n",
    "            permutation.append(loc)\n",
    "\n",
    "    permutation = np.array(permutation)\n",
    "\n",
    "    #print(f'new permutation generation completed! \\n shape: {permutation.shape} \\n {permutation}')\n",
    "    # print(permutation.shape)\n",
    "    return permutation"
   ],
   "metadata": {
    "collapsed": false,
    "pycharm": {
     "name": "#%%\n"
    }
   }
  },
  {
   "cell_type": "code",
   "execution_count": 66,
   "outputs": [],
   "source": [
    "def get_schedule_length(arbitrary_array):\n",
    "    #print(f'The input array is :{arbitrary_array}, len: {len(arbitrary_array)}')\n",
    "    sum = 0\n",
    "    for j in range(len(arbitrary_array)-1):\n",
    "        sum += Cities_Distance[arbitrary_array[j],arbitrary_array[j+1]]\n",
    "    return sum\n",
    "\n",
    "def get_new_schedule(permutation, best_result):\n",
    "    min = 10e6\n",
    "    store_i = 0\n",
    "    store_j = 0\n",
    "    current_schedule = []\n",
    "    for i in range(len(permutation)):\n",
    "        sum = 0\n",
    "        sum = get_schedule_length(permutation[i,2:18])\n",
    "        #for j in range(2, len(permutation[i])-2):\n",
    "        #    sum += Cities_Distance[permutation[i,j],permutation[i,j+1]]\n",
    "\n",
    "        if boolean_table[permutation[i,0], permutation[i,1]]!=1:\n",
    "            permutation[i,18] = int(sum)\n",
    "            if ((sum < min) & (sum < best_result)):\n",
    "                min = sum\n",
    "                best_result = min\n",
    "                # print(f'The best_result is : {best_result}')\n",
    "                store_i = permutation[i,0]\n",
    "                store_j = permutation[i,1]\n",
    "                current_schedule = permutation[i,2:17]\n",
    "\n",
    "    # print(f'The minimum value is at : {store_i, store_j}')\n",
    "    boolean_table[store_i, store_j] = 1\n",
    "    boolean_table[store_j, store_i] = 1\n",
    "    # print(boolean_table)\n",
    "    # print(permutation)\n",
    "    # print(f'The new schedule is: {current_schedule}')\n",
    "\n",
    "    return current_schedule, best_result"
   ],
   "metadata": {
    "collapsed": false,
    "pycharm": {
     "name": "#%%\n"
    }
   }
  },
  {
   "cell_type": "code",
   "execution_count": 67,
   "outputs": [
    {
     "name": "stdout",
     "output_type": "stream",
     "text": [
      "The best_schedule is: [ 0  1 12  9  4  8  5 14 11 10  2  7  3 13  6]\n",
      "The best_result is: 1370.0\n",
      "[2558.0, 2114.0, 1859.0, 1597.0, 1551.0, 1477.0, 1432.0, 1425.0, 1370.0, 1370.0, 1370.0, 1370.0, 1370.0, 1370.0, 1370.0, 1370.0, 1370.0, 1370.0, 1370.0, 1370.0, 1370.0, 1370.0, 1370.0, 1370.0, 1370.0, 1370.0, 1370.0, 1370.0, 1370.0, 1370.0, 1370.0, 1370.0, 1370.0, 1370.0, 1370.0, 1370.0, 1370.0, 1370.0, 1370.0, 1370.0, 1370.0, 1370.0, 1370.0, 1370.0, 1370.0, 1370.0, 1370.0, 1370.0, 1370.0, 1370.0, 1370.0, 1370.0, 1370.0, 1370.0, 1370.0, 1370.0, 1370.0, 1370.0, 1370.0, 1370.0, 1370.0, 1370.0, 1370.0, 1370.0, 1370.0, 1370.0, 1370.0, 1370.0, 1370.0, 1370.0, 1370.0, 1370.0, 1370.0, 1370.0, 1370.0, 1370.0, 1370.0, 1370.0, 1370.0, 1370.0, 1370.0, 1370.0, 1370.0, 1370.0, 1370.0, 1370.0, 1370.0, 1370.0, 1370.0, 1370.0, 1370.0, 1370.0, 1370.0, 1370.0, 1370.0, 1370.0, 1370.0, 1370.0, 1370.0, 1370.0]\n",
      "Travel distances in each iterations (100,)\n"
     ]
    },
    {
     "name": "stderr",
     "output_type": "stream",
     "text": [
      "C:\\Users\\woody\\Desktop\\(Wed_234)_Computation_of_Data_Science\\Homework\\venv\\lib\\site-packages\\ipykernel_launcher.py:7: DeprecationWarning: elementwise comparison failed; this will raise an error in the future.\n",
      "  import sys\n"
     ]
    }
   ],
   "source": [
    "TS = []\n",
    "best_schedule = current_schedule\n",
    "for i in range(100):\n",
    "    # print(f'Step:{i}')\n",
    "    permutation = get_permutation(best_schedule)\n",
    "    current_schedule, best_result = get_new_schedule(permutation, best_result)\n",
    "    if current_schedule != []:\n",
    "        best_schedule = current_schedule\n",
    "    else:\n",
    "        pass\n",
    "    best_schedule_plus_0 = np.append(best_schedule, [0])\n",
    "    TS.append(get_schedule_length(best_schedule_plus_0))\n",
    "\n",
    "# print(boolean_table)\n",
    "print(f'The best_schedule is: {best_schedule}')\n",
    "\n",
    "best_schedule = np.append(best_schedule, [0])\n",
    "best_result = get_schedule_length(best_schedule)\n",
    "print(f'The best_result is: {best_result}')\n",
    "print(TS)\n",
    "print(f'Travel distances in each iterations {np.array(TS).shape}')"
   ],
   "metadata": {
    "collapsed": false,
    "pycharm": {
     "name": "#%%\n"
    }
   }
  },
  {
   "cell_type": "markdown",
   "source": [
    "### FE plot"
   ],
   "metadata": {
    "collapsed": false,
    "pycharm": {
     "name": "#%% md\n"
    }
   }
  },
  {
   "cell_type": "code",
   "execution_count": 68,
   "outputs": [
    {
     "data": {
      "text/plain": "<Figure size 432x288 with 1 Axes>",
      "image/png": "[encoded data removed]"
     },
     "metadata": {
      "needs_background": "light"
     },
     "output_type": "display_data"
    }
   ],
   "source": [
    "import matplotlib.pyplot as plt\n",
    "\n",
    "plt.stairs(TS, label='Tabular Search')\n",
    "\n",
    "plt.xlabel('Iterations')\n",
    "plt.ylabel('Travel Distances')\n",
    "plt.title('FE plot of the comparison of three algorithms')\n",
    "# plt.text(60, .025, r'$\\mu=100,\\ \\sigma=15$')\n",
    "#plt.xlim(40, 160)\n",
    "plt.ylim(1000, 3500)\n",
    "plt.grid(axis='both', color='0.95')\n",
    "\n",
    "plt.legend()\n",
    "\n",
    "plt.show()"
   ],
   "metadata": {
    "collapsed": false,
    "pycharm": {
     "name": "#%%\n"
    }
   }
  }
 ],
 "metadata": {
  "kernelspec": {
   "name": "pycharm-c2fc6036",
   "language": "python",
   "display_name": "PyCharm (Homework)"
  },
  "language_info": {
   "codemirror_mode": {
    "name": "ipython",
    "version": 2
   },
   "file_extension": ".py",
   "mimetype": "text/x-python",
   "name": "python",
   "nbconvert_exporter": "python",
   "pygments_lexer": "ipython2",
   "version": "2.7.6"
  }
 },
 "nbformat": 4,
 "nbformat_minor": 0
}