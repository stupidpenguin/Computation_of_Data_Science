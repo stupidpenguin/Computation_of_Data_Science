{
 "cells": [
  {
   "cell_type": "markdown",
   "metadata": {
    "collapsed": true,
    "pycharm": {
     "name": "#%% md\n"
    }
   },
   "source": [
    "### Data Processing"
   ],
   "outputs": [],
   "execution_count": 1
  },
  {
   "cell_type": "code",
   "execution_count": 22,
   "outputs": [
    {
     "data": {
      "text/plain": "     Unnamed: 0  Incheon  Seoul  Busan  Daegu  Daejeon  Gwangju  Suwon-si  \\\n0       Incheon      NaN   27.0  335.0  244.0    141.0    257.0      33.0   \n1         Seoul     27.0    NaN  330.0  237.0    144.0    268.0      31.0   \n2         Busan    335.0  330.0    NaN   95.0    199.0    193.0     304.0   \n3         Daegu    244.0  237.0   95.0    NaN    117.0    171.0     212.0   \n4       Daejeon    141.0  144.0  199.0  117.0      NaN    137.0     114.0   \n5       Gwangju    257.0  268.0  193.0  171.0    137.0      NaN     238.0   \n6      Suwon-si     33.0   31.0  304.0  212.0    114.0    238.0       NaN   \n7         Ulsan    316.0  307.0   54.0   75.0    192.0    222.0     284.0   \n8        Jeonju    186.0  195.0  189.0  130.0     61.0     77.0     164.0   \n9   Cheongju-si    115.0  113.0  221.0  130.0     36.0    173.0      84.0   \n10     Changwon    304.0  301.0   35.0   72.0    167.0    161.0     274.0   \n11      Jeju-si    439.0  453.0  291.0  324.0    323.0    186.0     423.0   \n12    Chuncheon    102.0   75.0  330.0  236.0    175.0    311.0      91.0   \n13     Hongsung     95.0  111.0  271.0  191.0     74.0    162.0      83.0   \n14         Muan    275.0  290.0  233.0  215.0    171.0     44.0     260.0   \n\n    Ulsan  Jeonju  Cheongju-si  Changwon  Jeju-si  Chuncheon  Hongsung   Muan  \n0   316.0   186.0        115.0     304.0    439.0      102.0      95.0  275.0  \n1   307.0   195.0        113.0     301.0    453.0       75.0     111.0  290.0  \n2    54.0   189.0        221.0      35.0    291.0      330.0     271.0  233.0  \n3    75.0   130.0        130.0      72.0    324.0      236.0     191.0  215.0  \n4   192.0    61.0         36.0     167.0    323.0      175.0      74.0  171.0  \n5   222.0    77.0        173.0     161.0    186.0      311.0     162.0   44.0  \n6   284.0   164.0         84.0     274.0    423.0       91.0      83.0  260.0  \n7     NaN   198.0        205.0      67.0    341.0      296.0     266.0  265.0  \n8   198.0     NaN         96.0     154.0    264.0      234.0      97.0  111.0  \n9   205.0    96.0          NaN     190.0    359.0      139.0      74.0  205.0  \n10   67.0   154.0        190.0       NaN    275.0      306.0     237.0  202.0  \n11  341.0   264.0        359.0     275.0      NaN      498.0     344.0  165.0  \n12  296.0   234.0        139.0     306.0    498.0        NaN     170.0  340.0  \n13  266.0    97.0         74.0     237.0    344.0      170.0       NaN  180.0  \n14  265.0   111.0        205.0     202.0    165.0      340.0     180.0    NaN  ",
      "text/html": "<div>\n<style scoped>\n    .dataframe tbody tr th:only-of-type {\n        vertical-align: middle;\n    }\n\n    .dataframe tbody tr th {\n        vertical-align: top;\n    }\n\n    .dataframe thead th {\n        text-align: right;\n    }\n</style>\n<table border=\"1\" class=\"dataframe\">\n  <thead>\n    <tr style=\"text-align: right;\">\n      <th></th>\n      <th>Unnamed: 0</th>\n      <th>Incheon</th>\n      <th>Seoul</th>\n      <th>Busan</th>\n      <th>Daegu</th>\n      <th>Daejeon</th>\n      <th>Gwangju</th>\n      <th>Suwon-si</th>\n      <th>Ulsan</th>\n      <th>Jeonju</th>\n      <th>Cheongju-si</th>\n      <th>Changwon</th>\n      <th>Jeju-si</th>\n      <th>Chuncheon</th>\n      <th>Hongsung</th>\n      <th>Muan</th>\n    </tr>\n  </thead>\n  <tbody>\n    <tr>\n      <th>0</th>\n      <td>Incheon</td>\n      <td>NaN</td>\n      <td>27.0</td>\n      <td>335.0</td>\n      <td>244.0</td>\n      <td>141.0</td>\n      <td>257.0</td>\n      <td>33.0</td>\n      <td>316.0</td>\n      <td>186.0</td>\n      <td>115.0</td>\n      <td>304.0</td>\n      <td>439.0</td>\n      <td>102.0</td>\n      <td>95.0</td>\n      <td>275.0</td>\n    </tr>\n    <tr>\n      <th>1</th>\n      <td>Seoul</td>\n      <td>27.0</td>\n      <td>NaN</td>\n      <td>330.0</td>\n      <td>237.0</td>\n      <td>144.0</td>\n      <td>268.0</td>\n      <td>31.0</td>\n      <td>307.0</td>\n      <td>195.0</td>\n      <td>113.0</td>\n      <td>301.0</td>\n      <td>453.0</td>\n      <td>75.0</td>\n      <td>111.0</td>\n      <td>290.0</td>\n    </tr>\n    <tr>\n      <th>2</th>\n      <td>Busan</td>\n      <td>335.0</td>\n      <td>330.0</td>\n      <td>NaN</td>\n      <td>95.0</td>\n      <td>199.0</td>\n      <td>193.0</td>\n      <td>304.0</td>\n      <td>54.0</td>\n      <td>189.0</td>\n      <td>221.0</td>\n      <td>35.0</td>\n      <td>291.0</td>\n      <td>330.0</td>\n      <td>271.0</td>\n      <td>233.0</td>\n    </tr>\n    <tr>\n      <th>3</th>\n      <td>Daegu</td>\n      <td>244.0</td>\n      <td>237.0</td>\n      <td>95.0</td>\n      <td>NaN</td>\n      <td>117.0</td>\n      <td>171.0</td>\n      <td>212.0</td>\n      <td>75.0</td>\n      <td>130.0</td>\n      <td>130.0</td>\n      <td>72.0</td>\n      <td>324.0</td>\n      <td>236.0</td>\n      <td>191.0</td>\n      <td>215.0</td>\n    </tr>\n    <tr>\n      <th>4</th>\n      <td>Daejeon</td>\n      <td>141.0</td>\n      <td>144.0</td>\n      <td>199.0</td>\n      <td>117.0</td>\n      <td>NaN</td>\n      <td>137.0</td>\n      <td>114.0</td>\n      <td>192.0</td>\n      <td>61.0</td>\n      <td>36.0</td>\n      <td>167.0</td>\n      <td>323.0</td>\n      <td>175.0</td>\n      <td>74.0</td>\n      <td>171.0</td>\n    </tr>\n    <tr>\n      <th>5</th>\n      <td>Gwangju</td>\n      <td>257.0</td>\n      <td>268.0</td>\n      <td>193.0</td>\n      <td>171.0</td>\n      <td>137.0</td>\n      <td>NaN</td>\n      <td>238.0</td>\n      <td>222.0</td>\n      <td>77.0</td>\n      <td>173.0</td>\n      <td>161.0</td>\n      <td>186.0</td>\n      <td>311.0</td>\n      <td>162.0</td>\n      <td>44.0</td>\n    </tr>\n    <tr>\n      <th>6</th>\n      <td>Suwon-si</td>\n      <td>33.0</td>\n      <td>31.0</td>\n      <td>304.0</td>\n      <td>212.0</td>\n      <td>114.0</td>\n      <td>238.0</td>\n      <td>NaN</td>\n      <td>284.0</td>\n      <td>164.0</td>\n      <td>84.0</td>\n      <td>274.0</td>\n      <td>423.0</td>\n      <td>91.0</td>\n      <td>83.0</td>\n      <td>260.0</td>\n    </tr>\n    <tr>\n      <th>7</th>\n      <td>Ulsan</td>\n      <td>316.0</td>\n      <td>307.0</td>\n      <td>54.0</td>\n      <td>75.0</td>\n      <td>192.0</td>\n      <td>222.0</td>\n      <td>284.0</td>\n      <td>NaN</td>\n      <td>198.0</td>\n      <td>205.0</td>\n      <td>67.0</td>\n      <td>341.0</td>\n      <td>296.0</td>\n      <td>266.0</td>\n      <td>265.0</td>\n    </tr>\n    <tr>\n      <th>8</th>\n      <td>Jeonju</td>\n      <td>186.0</td>\n      <td>195.0</td>\n      <td>189.0</td>\n      <td>130.0</td>\n      <td>61.0</td>\n      <td>77.0</td>\n      <td>164.0</td>\n      <td>198.0</td>\n      <td>NaN</td>\n      <td>96.0</td>\n      <td>154.0</td>\n      <td>264.0</td>\n      <td>234.0</td>\n      <td>97.0</td>\n      <td>111.0</td>\n    </tr>\n    <tr>\n      <th>9</th>\n      <td>Cheongju-si</td>\n      <td>115.0</td>\n      <td>113.0</td>\n      <td>221.0</td>\n      <td>130.0</td>\n      <td>36.0</td>\n      <td>173.0</td>\n      <td>84.0</td>\n      <td>205.0</td>\n      <td>96.0</td>\n      <td>NaN</td>\n      <td>190.0</td>\n      <td>359.0</td>\n      <td>139.0</td>\n      <td>74.0</td>\n      <td>205.0</td>\n    </tr>\n    <tr>\n      <th>10</th>\n      <td>Changwon</td>\n      <td>304.0</td>\n      <td>301.0</td>\n      <td>35.0</td>\n      <td>72.0</td>\n      <td>167.0</td>\n      <td>161.0</td>\n      <td>274.0</td>\n      <td>67.0</td>\n      <td>154.0</td>\n      <td>190.0</td>\n      <td>NaN</td>\n      <td>275.0</td>\n      <td>306.0</td>\n      <td>237.0</td>\n      <td>202.0</td>\n    </tr>\n    <tr>\n      <th>11</th>\n      <td>Jeju-si</td>\n      <td>439.0</td>\n      <td>453.0</td>\n      <td>291.0</td>\n      <td>324.0</td>\n      <td>323.0</td>\n      <td>186.0</td>\n      <td>423.0</td>\n      <td>341.0</td>\n      <td>264.0</td>\n      <td>359.0</td>\n      <td>275.0</td>\n      <td>NaN</td>\n      <td>498.0</td>\n      <td>344.0</td>\n      <td>165.0</td>\n    </tr>\n    <tr>\n      <th>12</th>\n      <td>Chuncheon</td>\n      <td>102.0</td>\n      <td>75.0</td>\n      <td>330.0</td>\n      <td>236.0</td>\n      <td>175.0</td>\n      <td>311.0</td>\n      <td>91.0</td>\n      <td>296.0</td>\n      <td>234.0</td>\n      <td>139.0</td>\n      <td>306.0</td>\n      <td>498.0</td>\n      <td>NaN</td>\n      <td>170.0</td>\n      <td>340.0</td>\n    </tr>\n    <tr>\n      <th>13</th>\n      <td>Hongsung</td>\n      <td>95.0</td>\n      <td>111.0</td>\n      <td>271.0</td>\n      <td>191.0</td>\n      <td>74.0</td>\n      <td>162.0</td>\n      <td>83.0</td>\n      <td>266.0</td>\n      <td>97.0</td>\n      <td>74.0</td>\n      <td>237.0</td>\n      <td>344.0</td>\n      <td>170.0</td>\n      <td>NaN</td>\n      <td>180.0</td>\n    </tr>\n    <tr>\n      <th>14</th>\n      <td>Muan</td>\n      <td>275.0</td>\n      <td>290.0</td>\n      <td>233.0</td>\n      <td>215.0</td>\n      <td>171.0</td>\n      <td>44.0</td>\n      <td>260.0</td>\n      <td>265.0</td>\n      <td>111.0</td>\n      <td>205.0</td>\n      <td>202.0</td>\n      <td>165.0</td>\n      <td>340.0</td>\n      <td>180.0</td>\n      <td>NaN</td>\n    </tr>\n  </tbody>\n</table>\n</div>"
     },
     "execution_count": 22,
     "metadata": {},
     "output_type": "execute_result"
    }
   ],
   "source": [
    "import pandas as pd\n",
    "from pathlib import Path\n",
    "\n",
    "# data_path = Path('C:/Users/bettl/PycharmProjects/Computation_of_Data_Science/Homework_1/Korea-Distance.xlsx')\n",
    "Cities_Distance = pd.read_excel('Korea-Distance.xlsx')\n",
    "Cities_Distance"
   ],
   "metadata": {
    "collapsed": false,
    "pycharm": {
     "name": "#%%\n"
    }
   }
  },
  {
   "cell_type": "code",
   "execution_count": 22,
   "outputs": [],
   "source": [],
   "metadata": {
    "collapsed": false,
    "pycharm": {
     "name": "#%%\n"
    }
   }
  }
 ],
 "metadata": {
  "kernelspec": {
   "display_name": "Python 3",
   "language": "python",
   "name": "python3"
  },
  "language_info": {
   "codemirror_mode": {
    "name": "ipython",
    "version": 2
   },
   "file_extension": ".py",
   "mimetype": "text/x-python",
   "name": "python",
   "nbconvert_exporter": "python",
   "pygments_lexer": "ipython2",
   "version": "2.7.6"
  }
 },
 "nbformat": 4,
 "nbformat_minor": 0
}