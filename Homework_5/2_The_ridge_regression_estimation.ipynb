{
 "cells": [
  {
   "cell_type": "markdown",
   "metadata": {
    "collapsed": true,
    "pycharm": {
     "name": "#%% md\n"
    }
   },
   "source": [
    "### 1. Generating Data\n",
    "\n",
    "$y_{(\\text{n}\\times 1)} = $\n",
    "$\\text{X}_{(\\text{n}\\times\\text{p})}$\n",
    "$\\beta^{\\text{true}}_{(\\text{p}\\times\\text{1})}$\n",
    "$+\\epsilon_{(\\text{n}\\times\\text{1})}$"
   ]
  },
  {
   "cell_type": "code",
   "execution_count": 83,
   "outputs": [],
   "source": [
    "import navigator_updater.static.css\n",
    "import numpy as np\n",
    "from numpy import linalg\n",
    "np.set_printoptions(formatter={'float': lambda x: \"{0:0.6f}\".format(x)})\n",
    "\n",
    "def get_W(p):\n",
    "    list = []\n",
    "    list.append(np.zeros((p,p)))\n",
    "    list.append(np.eye(p))\n",
    "    return list\n",
    "\n",
    "def transformation(y, X, W, ev):    # ev: eigenvalue\n",
    "    # dimension of z: n+p\n",
    "    z = np.vstack((y, np.zeros((len(W),1) )))\n",
    "\n",
    "    # dimension of U: (n+p) x p\n",
    "    U = np.vstack((X, -np.sqrt(ev)*W))\n",
    "    return z, U\n",
    "\n",
    "def Initialization(n, p):\n",
    "    beta_true = np.ones((p, 1))\n",
    "    X = np.random.normal(0, 1, size=(n,p))\n",
    "    noise = np.random.normal(0, 1, size=(n, 1))\n",
    "    # print(f'beta_ture shape: {beta_true.shape}')\n",
    "    # print(X.shape)\n",
    "    # print(noise.shape)\n",
    "    y = np.matmul(X, beta_true)+noise\n",
    "    # print(y)\n",
    "    # print(y.shape)\n",
    "    return y, X"
   ],
   "metadata": {
    "collapsed": false,
    "pycharm": {
     "name": "#%%\n"
    }
   }
  },
  {
   "cell_type": "markdown",
   "source": [
    "### 2. Estimation"
   ],
   "metadata": {
    "collapsed": false,
    "pycharm": {
     "name": "#%% md\n"
    }
   }
  },
  {
   "cell_type": "code",
   "execution_count": 84,
   "outputs": [],
   "source": [
    "def Cholesky(y, X):\n",
    "    L = np.linalg.cholesky(np.matmul(np.transpose(X),X))\n",
    "    # print(L)\n",
    "\n",
    "    theta = np.matmul(np.transpose(X), y)\n",
    "    theta = np.linalg.solve(L, theta)\n",
    "\n",
    "    beta_estimate = np.linalg.solve(np.transpose(L),theta)\n",
    "    # print(f'the estimate of beta estimated by Cholesky-BFS is: \\n{beta_estimate}')\n",
    "    return beta_estimate\n",
    "\n",
    "def QR_decomposition(y,X):\n",
    "    Q, R = np.linalg.qr(X)\n",
    "    beta_estimate = np.matmul(np.transpose(Q), y)\n",
    "    beta_estimate = np.linalg.solve(R, beta_estimate)\n",
    "    # print(f'the estimate of beta estimated by QR-decomposition is: \\n{beta_estimate}')\n",
    "    return beta_estimate\n",
    "\n",
    "def SVD(y, X):\n",
    "\n",
    "    U, S, VH = linalg.svd(X)\n",
    "\n",
    "    Delta = np.zeros((len(U),len(VH)))\n",
    "    Delta[:len(S), :len(S)] = np.diag(S)\n",
    "\n",
    "    D = np.matmul(np.transpose(Delta),Delta)\n",
    "    D = np.linalg.inv(D)\n",
    "\n",
    "    ev_decomposition = np.matmul(D, VH)\n",
    "    ev_decomposition = np.matmul(np.transpose(VH),ev_decomposition)\n",
    "    beta_estimate = np.matmul(np.transpose(X),y)\n",
    "    beta_estimate = np.matmul(ev_decomposition, beta_estimate)\n",
    "\n",
    "    # print(f'the estimate of beta estimated by SVD is: \\n{beta_estimate}')\n",
    "    return beta_estimate"
   ],
   "metadata": {
    "collapsed": false,
    "pycharm": {
     "name": "#%%\n"
    }
   }
  },
  {
   "cell_type": "markdown",
   "source": [
    "#### 3. Runtime of the three algorithms\n",
    "* 其中只有p, W 改變，兩個迴圈\n"
   ],
   "metadata": {
    "collapsed": false,
    "pycharm": {
     "name": "#%% md\n"
    }
   }
  },
  {
   "cell_type": "code",
   "execution_count": 85,
   "outputs": [],
   "source": [
    "import time\n",
    "n = 1100; ev = 0.1\n",
    "p_list = [10, 1000]\n",
    "\n",
    "import pandas as pd\n",
    "\n",
    "methods = {'algorithms': [\"Cholesky\", \"QR-decomposition\", \"SVD\"]}\n",
    "table = pd.DataFrame(data=methods)\n",
    "\n",
    "for p in p_list:\n",
    "# for p in range(1, 101):\n",
    "#     p = 10**i\n",
    "    y, X = Initialization(n, p)\n",
    "    W_list = get_W(p)\n",
    "    # print(W_list)\n",
    "    for W in W_list:\n",
    "        z, U = transformation(y, X, W, ev)\n",
    "        result = []\n",
    "        start_time = time.time()\n",
    "        Cholesky(z, U)\n",
    "        Cholesky_time = time.time()-start_time\n",
    "        result.append(Cholesky_time)\n",
    "        # print(f\"Solve Ridge with Cholesky (second): {Cholesky_time}\")\n",
    "\n",
    "        start_time = time.time()\n",
    "        QR_decomposition(z, U)\n",
    "        QR_time = time.time()-start_time\n",
    "        result.append(QR_time)\n",
    "        # print(f\"Solve Ridge with QR (second): {QR_time}\")\n",
    "\n",
    "        start_time = time.time()\n",
    "        SVD(z, U)\n",
    "        SVD_time = time.time()-start_time\n",
    "        result.append(SVD_time)\n",
    "        # print(f\"Solve Ridge with SVD (second): {SVD_time}\")\n",
    "        if np.max(W) == 1:\n",
    "            matirx_type = \"I\"\n",
    "        else:\n",
    "            matirx_type = \"O\"\n",
    "        table[\"n:{n}, p:{p}, W:{matrix_type}{shape}, lambda = {ev}\".format(n=n, p=p, matrix_type=matirx_type, shape=W.shape, ev=ev)] = result"
   ],
   "metadata": {
    "collapsed": false,
    "pycharm": {
     "name": "#%%\n"
    }
   }
  },
  {
   "cell_type": "code",
   "execution_count": 86,
   "outputs": [
    {
     "data": {
      "text/plain": "         algorithms  n:1100, p:10, W:O(10, 10), lambda = 0.1  \\\n0          Cholesky                                 0.001275   \n1  QR-decomposition                                 0.001366   \n2               SVD                                 0.009798   \n\n   n:1100, p:10, W:I(10, 10), lambda = 0.1  \\\n0                                 0.000493   \n1                                 0.000495   \n2                                 0.007939   \n\n   n:1100, p:1000, W:O(1000, 1000), lambda = 0.1  \\\n0                                       0.067960   \n1                                       0.357116   \n2                                       0.795253   \n\n   n:1100, p:1000, W:I(1000, 1000), lambda = 0.1  \n0                                       0.168640  \n1                                       0.177766  \n2                                       0.800357  ",
      "text/html": "<div>\n<style scoped>\n    .dataframe tbody tr th:only-of-type {\n        vertical-align: middle;\n    }\n\n    .dataframe tbody tr th {\n        vertical-align: top;\n    }\n\n    .dataframe thead th {\n        text-align: right;\n    }\n</style>\n<table border=\"1\" class=\"dataframe\">\n  <thead>\n    <tr style=\"text-align: right;\">\n      <th></th>\n      <th>algorithms</th>\n      <th>n:1100, p:10, W:O(10, 10), lambda = 0.1</th>\n      <th>n:1100, p:10, W:I(10, 10), lambda = 0.1</th>\n      <th>n:1100, p:1000, W:O(1000, 1000), lambda = 0.1</th>\n      <th>n:1100, p:1000, W:I(1000, 1000), lambda = 0.1</th>\n    </tr>\n  </thead>\n  <tbody>\n    <tr>\n      <th>0</th>\n      <td>Cholesky</td>\n      <td>0.001275</td>\n      <td>0.000493</td>\n      <td>0.067960</td>\n      <td>0.168640</td>\n    </tr>\n    <tr>\n      <th>1</th>\n      <td>QR-decomposition</td>\n      <td>0.001366</td>\n      <td>0.000495</td>\n      <td>0.357116</td>\n      <td>0.177766</td>\n    </tr>\n    <tr>\n      <th>2</th>\n      <td>SVD</td>\n      <td>0.009798</td>\n      <td>0.007939</td>\n      <td>0.795253</td>\n      <td>0.800357</td>\n    </tr>\n  </tbody>\n</table>\n</div>"
     },
     "execution_count": 86,
     "metadata": {},
     "output_type": "execute_result"
    }
   ],
   "source": [
    "table"
   ],
   "metadata": {
    "collapsed": false,
    "pycharm": {
     "name": "#%%\n"
    }
   }
  },
  {
   "cell_type": "code",
   "execution_count": 87,
   "outputs": [
    {
     "data": {
      "text/plain": "<Figure size 432x288 with 1 Axes>",
      "image/png": "[encoded data removed]"
     },
     "metadata": {
      "needs_background": "light"
     },
     "output_type": "display_data"
    }
   ],
   "source": [
    "import matplotlib.pyplot as plt\n",
    "ax = plt.gca()\n",
    "\n",
    "table.plot(kind='line', x = 'algorithms', ax=ax)\n",
    "plt.show()"
   ],
   "metadata": {
    "collapsed": false,
    "pycharm": {
     "name": "#%%\n"
    }
   }
  },
  {
   "cell_type": "code",
   "execution_count": 88,
   "outputs": [
    {
     "data": {
      "text/plain": "array([[0.001275, 0.000493, 0.067960, 0.168640],\n       [0.001366, 0.000495, 0.357116, 0.177766],\n       [0.009798, 0.007939, 0.795253, 0.800357]])"
     },
     "execution_count": 88,
     "metadata": {},
     "output_type": "execute_result"
    }
   ],
   "source": [
    "numpy_table = table.drop(columns=[\"algorithms\"]).to_numpy()\n",
    "\n",
    "numpy_table"
   ],
   "metadata": {
    "collapsed": false,
    "pycharm": {
     "name": "#%%\n"
    }
   }
  }
 ],
 "metadata": {
  "kernelspec": {
   "display_name": "Python 3",
   "language": "python",
   "name": "python3"
  },
  "language_info": {
   "codemirror_mode": {
    "name": "ipython",
    "version": 2
   },
   "file_extension": ".py",
   "mimetype": "text/x-python",
   "name": "python",
   "nbconvert_exporter": "python",
   "pygments_lexer": "ipython2",
   "version": "2.7.6"
  }
 },
 "nbformat": 4,
 "nbformat_minor": 0
}