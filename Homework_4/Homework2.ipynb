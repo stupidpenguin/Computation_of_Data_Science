{
 "cells": [
  {
   "cell_type": "code",
   "source": [
    "CMAP = \"copper\"\n",
    "\n",
    "import pandas as pd\n",
    "import numpy as np\n",
    "import matplotlib.pyplot as plt\n",
    "from sklearn.svm import SVC\n",
    "from sklearn.metrics import confusion_matrix\n",
    "from sklearn import metrics\n",
    "from sklearn.model_selection import KFold\n",
    "from sklearn.model_selection import cross_val_score\n",
    "import seaborn as sns\n",
    "from xgboost import plot_importance\n",
    "from xgboost import XGBClassifier\n",
    "from sklearn.ensemble import AdaBoostClassifier\n",
    "from sklearn.neighbors import KNeighborsClassifier\n",
    "from sklearn.naive_bayes import GaussianNB"
   ],
   "metadata": {
    "collapsed": false,
    "pycharm": {
     "name": "#%%\n"
    }
   },
   "execution_count": null,
   "outputs": []
  },
  {
   "cell_type": "markdown",
   "source": [
    "## 目錄\n",
    "#### A. 訓練方法簡介\n",
    "#### B. 讀取資料\n",
    "#### C. 資料整理 - 統一特徵維度，切割額外測試資料集\n",
    "#### D. 特徵選取 - 以 XGBoost Model 選取特徵\n",
    "#### E. 訓練模型 - 以 SVC Model 對 CCLE 資料集做分類\n",
    "#### F. 輸出結果\n",
    "---"
   ],
   "metadata": {
    "collapsed": false
   }
  },
  {
   "cell_type": "markdown",
   "source": [
    "## A. 訓練方法簡介\n",
    "#### 手上有的資料\n",
    "##### MATH5080 - 2021 Fall\n",
    "* GDSC_PDX_Paclitaxel\n",
    "> 399 rows x 16191 columns\n",
    "* GDSC_PDX_Paclitaxel_info\n",
    "> 426 rows x 5 columns\n",
    "* CCLE_PDX_Paclitaxel\n",
    "> 469 rows x 16383 columns\n",
    "\n",
    "##### MATH5080 - 2020 Fall\n",
    "* GDSC_2014\n",
    "> 874 rows x 7964 columns\n",
    "* Docetaxel_info\n",
    "> 882 rows x 4 columns"
   ],
   "metadata": {
    "collapsed": false,
    "pycharm": {
     "name": "#%% md\n"
    }
   }
  },
  {
   "cell_type": "markdown",
   "source": [
    "---\n",
    "## B. 讀取資料\n",
    "### B-1 讀取 2021 data - GDSC_PDX_Paclitaxel"
   ],
   "metadata": {
    "collapsed": false,
    "pycharm": {
     "name": "#%% md\n"
    }
   }
  },
  {
   "cell_type": "code",
   "execution_count": 53,
   "outputs": [],
   "source": [
    "GDSC_PDX_Paclitaxel = pd.read_csv('data/GDSC_PDX_Paclitaxel.csv')\n",
    "## 重新命名 Column_0 之 index\n",
    "GDSC_PDX_Paclitaxel.columns.values[0] = \"CELL_LINE_NAME\"\n",
    "# GDSC_PDX_Paclitaxel"
   ],
   "metadata": {
    "collapsed": false,
    "pycharm": {
     "name": "#%%\n"
    }
   }
  },
  {
   "cell_type": "markdown",
   "source": [
    "---\n",
    "### B-2 讀取 2021 data - GDSC_PDF_Paclitaxel_into，並賦予 Label 。"
   ],
   "metadata": {
    "collapsed": false,
    "pycharm": {
     "name": "#%% md\n"
    }
   }
  },
  {
   "cell_type": "code",
   "execution_count": 54,
   "outputs": [],
   "source": [
    "GDSC_PDX_Paclitaxel_info = pd.read_csv('data/GDSC_PDX_Paclitaxel_info.csv', index_col=0)\n",
    "R_or_S_bool = np.asarray(GDSC_PDX_Paclitaxel_info[\"IC50\"]>0.1024)\n",
    "R_or_S = []\n",
    "for i in range(len(R_or_S_bool)):\n",
    "    if R_or_S_bool[i] == True:\n",
    "        # 0 implies R, resistant\n",
    "        R_or_S.append(0)\n",
    "    else:\n",
    "        # 1 implies S, sensitive\n",
    "        R_or_S.append(1)\n",
    "GDSC_PDX_Paclitaxel_info = GDSC_PDX_Paclitaxel_info.assign(R_or_S = R_or_S)\n",
    "# GDSC_PDX_Paclitaxel_info"
   ],
   "metadata": {
    "collapsed": false,
    "pycharm": {
     "name": "#%%\n"
    }
   }
  },
  {
   "cell_type": "markdown",
   "source": [
    "---\n",
    "### B-3 讀取 2021 data - CCLE_PDX_Paclitaxel"
   ],
   "metadata": {
    "collapsed": false,
    "pycharm": {
     "name": "#%% md\n"
    }
   }
  },
  {
   "cell_type": "code",
   "execution_count": 55,
   "outputs": [],
   "source": [
    "CCLE_PDX_Paclitaxel = pd.read_csv('data/CCLE_PDX_Paclitaxel.csv')\n",
    "## 重新命名 Column_0 之 index\n",
    "CCLE_PDX_Paclitaxel.columns.values[0] = \"CELL_LINE_NAME\"\n",
    "# CCLE_PDX_Paclitaxel"
   ],
   "metadata": {
    "collapsed": false,
    "pycharm": {
     "name": "#%%\n"
    }
   }
  },
  {
   "cell_type": "markdown",
   "source": [
    "---\n",
    "### B-4 讀取 2020 data - GDSC_2014"
   ],
   "metadata": {
    "collapsed": false,
    "pycharm": {
     "name": "#%% md\n"
    }
   }
  },
  {
   "cell_type": "code",
   "execution_count": 56,
   "outputs": [],
   "source": [
    "GDSC_2014 = pd.read_csv('old_data/GDSC_2014_Docetaxel.csv')\n",
    "GDSC_2014.columns.values[0] = \"CELL_LINE_NAME\"\n",
    "# GDSC_2014"
   ],
   "metadata": {
    "collapsed": false,
    "pycharm": {
     "name": "#%%\n"
    }
   }
  },
  {
   "cell_type": "markdown",
   "source": [
    "---\n",
    "### B-5 讀取 2020 data - Docetaxel_info，並賦予 Label。"
   ],
   "metadata": {
    "collapsed": false,
    "pycharm": {
     "name": "#%% md\n"
    }
   }
  },
  {
   "cell_type": "code",
   "execution_count": 57,
   "outputs": [],
   "source": [
    "Docetaxel_info = pd.read_csv('old_data/Docetaxel_info.csv', index_col=0)\n",
    "R_or_S_bool_for_Docetaxel_info = np.asarray(Docetaxel_info[\"IC50\"]>0.0125)\n",
    "R_or_S_for_Docetaxel_info = []\n",
    "for i in range(len(R_or_S_bool_for_Docetaxel_info)):\n",
    "    if R_or_S_bool_for_Docetaxel_info[i] == True:\n",
    "        R_or_S_for_Docetaxel_info.append(0)\n",
    "    else:\n",
    "        R_or_S_for_Docetaxel_info.append(1)\n",
    "Docetaxel_info = Docetaxel_info.assign(R_or_S = R_or_S_for_Docetaxel_info)\n",
    "\n",
    "# Docetaxel_info"
   ],
   "metadata": {
    "collapsed": false,
    "pycharm": {
     "name": "#%%\n"
    }
   }
  },
  {
   "cell_type": "markdown",
   "source": [
    "---\n",
    "## C. 資料整理\n",
    "* 將 GDSC_PDF_Paclitaxel 與 GDSC_PDX_Paclitaxel_info 合併，\n",
    "並以IC50數值依照給予之最大濃度給定資料集 label Resistant or Sensitive.\n",
    "* 我們將使用2020的資料作為額外的 test dataset， 將 GDSC_2014 與 Docetaxel_info 合併，同樣地，\n",
    "以IC50數值依照給予之最大濃度給定資料集 label Resistant or Sensitive."
   ],
   "metadata": {
    "collapsed": false,
    "pycharm": {
     "name": "#%% md\n"
    }
   }
  },
  {
   "cell_type": "markdown",
   "source": [
    "----\n",
    "### C-1 合併 GDSC_PDF_Paclitaxel 與 GDSC_PDX_Paclitaxel_info，新 dataframe 命名為 GDSC_combination"
   ],
   "metadata": {
    "collapsed": false,
    "pycharm": {
     "name": "#%% md\n"
    }
   }
  },
  {
   "cell_type": "code",
   "execution_count": 58,
   "outputs": [
    {
     "data": {
      "text/plain": "    CELL_LINE_NAME    TSPAN6      TNMD      DPM1     SCYL3  C1orf112  \\\n0           MC-CAR -1.184016  0.468235  0.485299  0.951035  0.705346   \n1          SK-ES-1  0.949128 -0.099122 -1.142175  0.221316  0.582377   \n2          8-MG-BA  0.788220  0.840168  0.628150 -1.331285 -0.248648   \n3             GB-1  0.053174 -0.648190 -0.181854 -0.633104 -0.947646   \n4        NCI-H1648  1.519261 -0.368292  0.226856 -0.179698 -0.865956   \n..             ...       ...       ...       ...       ...       ...   \n394          CL-11  0.509973  0.547057 -0.601671 -0.464114  0.005193   \n395        COR-L95 -0.206808 -1.340759 -0.545395 -0.429504 -0.561951   \n396      NCI-H2135  1.066798  0.060061 -0.570217 -0.570037 -0.342490   \n397           ME-1 -1.079919 -0.198108  0.063834  0.553150 -0.359821   \n398         ROS-50 -1.067755 -0.034873  0.821478 -0.580824  0.084179   \n\n          FGR       CFH     FUCA2      GCLC  ...  LINC00514     OR1D5  \\\n0    3.574280 -0.334766 -0.167187 -0.829344  ...  -0.504232  0.283905   \n1   -0.500133  0.163121 -1.660569 -0.434605  ...  -0.924217 -0.198564   \n2   -0.386293 -0.297668  0.815664 -0.212430  ...  -0.376219 -0.914794   \n3   -0.469195 -0.684658  0.421926 -0.905626  ...  -0.275438 -0.562004   \n4   -0.440831  1.035865  0.896539  1.694665  ...  -0.311198 -0.414697   \n..        ...       ...       ...       ...  ...        ...       ...   \n394 -0.483587 -0.443398  0.765826 -0.753786  ...   0.216259 -1.002894   \n395 -0.619859 -0.649944  0.262877  2.319067  ...  -0.736149 -1.753831   \n396 -0.252140 -0.148907  1.091669  2.366973  ...  -0.397918  0.051392   \n397 -0.325923 -0.550151  0.341530  0.670671  ...  -0.517000 -0.301867   \n398  0.963640 -0.576919 -1.231046 -0.143699  ...  -0.069726  1.472417   \n\n       ZNF234      MYH4  LINC00526  KRT18P55  TBC1D3P5  MAX_CONC_MICROMOLAR  \\\n0   -0.785013  0.443411   0.684380 -0.006255  1.037289               0.1024   \n1   -0.366830 -0.151292   0.246662 -0.534830 -0.214098               0.1024   \n2    0.283323 -0.551244  -0.333331  0.038996 -0.114577               0.1024   \n3    0.634896 -0.366795   0.442662 -1.225924  0.757517               0.1024   \n4   -0.112886 -0.841901   0.379371  1.731215 -1.545600               0.1024   \n..        ...       ...        ...       ...       ...                  ...   \n394 -1.029649  0.684973  -0.045526 -0.431420 -0.068895               0.1024   \n395 -0.127193 -0.499025   0.121546  0.148885 -0.132204               0.1024   \n396 -0.628697  0.355916   0.640426 -0.067006  1.074772               0.1024   \n397  1.009828 -0.353051  -1.128451  0.978038  1.259332               0.1024   \n398 -0.258656 -0.001025  -0.644533  0.642495  1.238364               0.1024   \n\n         IC50  R_or_S  \n0    0.026059       1  \n1    0.014512       1  \n2    0.005537       1  \n3    0.040831       1  \n4    0.005043       1  \n..        ...     ...  \n394  1.327531       0  \n395  0.188277       0  \n396  0.109464       0  \n397  0.580227       0  \n398  0.358898       0  \n\n[399 rows x 16194 columns]",
      "text/html": "<div>\n<style scoped>\n    .dataframe tbody tr th:only-of-type {\n        vertical-align: middle;\n    }\n\n    .dataframe tbody tr th {\n        vertical-align: top;\n    }\n\n    .dataframe thead th {\n        text-align: right;\n    }\n</style>\n<table border=\"1\" class=\"dataframe\">\n  <thead>\n    <tr style=\"text-align: right;\">\n      <th></th>\n      <th>CELL_LINE_NAME</th>\n      <th>TSPAN6</th>\n      <th>TNMD</th>\n      <th>DPM1</th>\n      <th>SCYL3</th>\n      <th>C1orf112</th>\n      <th>FGR</th>\n      <th>CFH</th>\n      <th>FUCA2</th>\n      <th>GCLC</th>\n      <th>...</th>\n      <th>LINC00514</th>\n      <th>OR1D5</th>\n      <th>ZNF234</th>\n      <th>MYH4</th>\n      <th>LINC00526</th>\n      <th>KRT18P55</th>\n      <th>TBC1D3P5</th>\n      <th>MAX_CONC_MICROMOLAR</th>\n      <th>IC50</th>\n      <th>R_or_S</th>\n    </tr>\n  </thead>\n  <tbody>\n    <tr>\n      <th>0</th>\n      <td>MC-CAR</td>\n      <td>-1.184016</td>\n      <td>0.468235</td>\n      <td>0.485299</td>\n      <td>0.951035</td>\n      <td>0.705346</td>\n      <td>3.574280</td>\n      <td>-0.334766</td>\n      <td>-0.167187</td>\n      <td>-0.829344</td>\n      <td>...</td>\n      <td>-0.504232</td>\n      <td>0.283905</td>\n      <td>-0.785013</td>\n      <td>0.443411</td>\n      <td>0.684380</td>\n      <td>-0.006255</td>\n      <td>1.037289</td>\n      <td>0.1024</td>\n      <td>0.026059</td>\n      <td>1</td>\n    </tr>\n    <tr>\n      <th>1</th>\n      <td>SK-ES-1</td>\n      <td>0.949128</td>\n      <td>-0.099122</td>\n      <td>-1.142175</td>\n      <td>0.221316</td>\n      <td>0.582377</td>\n      <td>-0.500133</td>\n      <td>0.163121</td>\n      <td>-1.660569</td>\n      <td>-0.434605</td>\n      <td>...</td>\n      <td>-0.924217</td>\n      <td>-0.198564</td>\n      <td>-0.366830</td>\n      <td>-0.151292</td>\n      <td>0.246662</td>\n      <td>-0.534830</td>\n      <td>-0.214098</td>\n      <td>0.1024</td>\n      <td>0.014512</td>\n      <td>1</td>\n    </tr>\n    <tr>\n      <th>2</th>\n      <td>8-MG-BA</td>\n      <td>0.788220</td>\n      <td>0.840168</td>\n      <td>0.628150</td>\n      <td>-1.331285</td>\n      <td>-0.248648</td>\n      <td>-0.386293</td>\n      <td>-0.297668</td>\n      <td>0.815664</td>\n      <td>-0.212430</td>\n      <td>...</td>\n      <td>-0.376219</td>\n      <td>-0.914794</td>\n      <td>0.283323</td>\n      <td>-0.551244</td>\n      <td>-0.333331</td>\n      <td>0.038996</td>\n      <td>-0.114577</td>\n      <td>0.1024</td>\n      <td>0.005537</td>\n      <td>1</td>\n    </tr>\n    <tr>\n      <th>3</th>\n      <td>GB-1</td>\n      <td>0.053174</td>\n      <td>-0.648190</td>\n      <td>-0.181854</td>\n      <td>-0.633104</td>\n      <td>-0.947646</td>\n      <td>-0.469195</td>\n      <td>-0.684658</td>\n      <td>0.421926</td>\n      <td>-0.905626</td>\n      <td>...</td>\n      <td>-0.275438</td>\n      <td>-0.562004</td>\n      <td>0.634896</td>\n      <td>-0.366795</td>\n      <td>0.442662</td>\n      <td>-1.225924</td>\n      <td>0.757517</td>\n      <td>0.1024</td>\n      <td>0.040831</td>\n      <td>1</td>\n    </tr>\n    <tr>\n      <th>4</th>\n      <td>NCI-H1648</td>\n      <td>1.519261</td>\n      <td>-0.368292</td>\n      <td>0.226856</td>\n      <td>-0.179698</td>\n      <td>-0.865956</td>\n      <td>-0.440831</td>\n      <td>1.035865</td>\n      <td>0.896539</td>\n      <td>1.694665</td>\n      <td>...</td>\n      <td>-0.311198</td>\n      <td>-0.414697</td>\n      <td>-0.112886</td>\n      <td>-0.841901</td>\n      <td>0.379371</td>\n      <td>1.731215</td>\n      <td>-1.545600</td>\n      <td>0.1024</td>\n      <td>0.005043</td>\n      <td>1</td>\n    </tr>\n    <tr>\n      <th>...</th>\n      <td>...</td>\n      <td>...</td>\n      <td>...</td>\n      <td>...</td>\n      <td>...</td>\n      <td>...</td>\n      <td>...</td>\n      <td>...</td>\n      <td>...</td>\n      <td>...</td>\n      <td>...</td>\n      <td>...</td>\n      <td>...</td>\n      <td>...</td>\n      <td>...</td>\n      <td>...</td>\n      <td>...</td>\n      <td>...</td>\n      <td>...</td>\n      <td>...</td>\n      <td>...</td>\n    </tr>\n    <tr>\n      <th>394</th>\n      <td>CL-11</td>\n      <td>0.509973</td>\n      <td>0.547057</td>\n      <td>-0.601671</td>\n      <td>-0.464114</td>\n      <td>0.005193</td>\n      <td>-0.483587</td>\n      <td>-0.443398</td>\n      <td>0.765826</td>\n      <td>-0.753786</td>\n      <td>...</td>\n      <td>0.216259</td>\n      <td>-1.002894</td>\n      <td>-1.029649</td>\n      <td>0.684973</td>\n      <td>-0.045526</td>\n      <td>-0.431420</td>\n      <td>-0.068895</td>\n      <td>0.1024</td>\n      <td>1.327531</td>\n      <td>0</td>\n    </tr>\n    <tr>\n      <th>395</th>\n      <td>COR-L95</td>\n      <td>-0.206808</td>\n      <td>-1.340759</td>\n      <td>-0.545395</td>\n      <td>-0.429504</td>\n      <td>-0.561951</td>\n      <td>-0.619859</td>\n      <td>-0.649944</td>\n      <td>0.262877</td>\n      <td>2.319067</td>\n      <td>...</td>\n      <td>-0.736149</td>\n      <td>-1.753831</td>\n      <td>-0.127193</td>\n      <td>-0.499025</td>\n      <td>0.121546</td>\n      <td>0.148885</td>\n      <td>-0.132204</td>\n      <td>0.1024</td>\n      <td>0.188277</td>\n      <td>0</td>\n    </tr>\n    <tr>\n      <th>396</th>\n      <td>NCI-H2135</td>\n      <td>1.066798</td>\n      <td>0.060061</td>\n      <td>-0.570217</td>\n      <td>-0.570037</td>\n      <td>-0.342490</td>\n      <td>-0.252140</td>\n      <td>-0.148907</td>\n      <td>1.091669</td>\n      <td>2.366973</td>\n      <td>...</td>\n      <td>-0.397918</td>\n      <td>0.051392</td>\n      <td>-0.628697</td>\n      <td>0.355916</td>\n      <td>0.640426</td>\n      <td>-0.067006</td>\n      <td>1.074772</td>\n      <td>0.1024</td>\n      <td>0.109464</td>\n      <td>0</td>\n    </tr>\n    <tr>\n      <th>397</th>\n      <td>ME-1</td>\n      <td>-1.079919</td>\n      <td>-0.198108</td>\n      <td>0.063834</td>\n      <td>0.553150</td>\n      <td>-0.359821</td>\n      <td>-0.325923</td>\n      <td>-0.550151</td>\n      <td>0.341530</td>\n      <td>0.670671</td>\n      <td>...</td>\n      <td>-0.517000</td>\n      <td>-0.301867</td>\n      <td>1.009828</td>\n      <td>-0.353051</td>\n      <td>-1.128451</td>\n      <td>0.978038</td>\n      <td>1.259332</td>\n      <td>0.1024</td>\n      <td>0.580227</td>\n      <td>0</td>\n    </tr>\n    <tr>\n      <th>398</th>\n      <td>ROS-50</td>\n      <td>-1.067755</td>\n      <td>-0.034873</td>\n      <td>0.821478</td>\n      <td>-0.580824</td>\n      <td>0.084179</td>\n      <td>0.963640</td>\n      <td>-0.576919</td>\n      <td>-1.231046</td>\n      <td>-0.143699</td>\n      <td>...</td>\n      <td>-0.069726</td>\n      <td>1.472417</td>\n      <td>-0.258656</td>\n      <td>-0.001025</td>\n      <td>-0.644533</td>\n      <td>0.642495</td>\n      <td>1.238364</td>\n      <td>0.1024</td>\n      <td>0.358898</td>\n      <td>0</td>\n    </tr>\n  </tbody>\n</table>\n<p>399 rows × 16194 columns</p>\n</div>"
     },
     "execution_count": 58,
     "metadata": {},
     "output_type": "execute_result"
    }
   ],
   "source": [
    "GDSC_combination = pd.merge(GDSC_PDX_Paclitaxel,\n",
    "                GDSC_PDX_Paclitaxel_info,\n",
    "                how='inner',\n",
    "                on=['CELL_LINE_NAME'])\n",
    "\n",
    "GDSC_combination"
   ],
   "metadata": {
    "collapsed": false,
    "pycharm": {
     "name": "#%%\n"
    }
   }
  },
  {
   "cell_type": "markdown",
   "source": [
    "----\n",
    "### C-2 合併 GDSC_2014 與 Docetaxel_info，新 dataframe 命名為 GDSC_2014_combination"
   ],
   "metadata": {
    "collapsed": false,
    "pycharm": {
     "name": "#%% md\n"
    }
   }
  },
  {
   "cell_type": "code",
   "execution_count": 59,
   "outputs": [
    {
     "data": {
      "text/plain": "    CELL_LINE_NAME    TSPAN6      DPM1     SCYL3       FGR       CFH  \\\n0           MC-CAR -1.769846  0.400914  1.105859  5.273548 -0.449041   \n1           PFSK-1  0.588378 -0.103290  0.166505 -0.297676  2.266208   \n2              ES5  0.823237 -0.001213  0.908039 -0.372844  0.545441   \n3              ES7  0.875342 -0.407525 -0.529472 -0.432216 -0.618602   \n4            EW-11  0.905388  0.447038  0.063828 -0.206476  1.601144   \n..             ...       ...       ...       ...       ...       ...   \n845         RCC-AB  0.496952 -0.078768 -0.204556 -0.328763  1.388162   \n846         RCC-MF  0.521452  0.070943 -1.500857 -0.383419  1.747239   \n847         KMS-11 -1.741343  0.525125  0.400613 -0.202011 -0.596353   \n848         SNU-61  0.742257  0.039385  1.755703 -0.402440 -0.415980   \n849         SNU-81  0.597196 -1.012875 -0.412703 -0.306615 -0.621229   \n\n         GCLC      NFYA    NIPAL3     LAS1L  ...    LSM14A    ZNF271  \\\n0   -0.834425  0.299299 -0.962201  0.326342  ...  0.474520 -0.188035   \n1   -1.103575  0.866417 -2.435215  0.165540  ... -0.278615 -1.101771   \n2   -0.368416  1.828252  0.018526 -0.803953  ... -0.086153  1.711127   \n3   -0.127059  1.015824 -1.367511  0.162068  ...  0.092430  1.350906   \n4    0.054866  1.564202 -2.091522 -0.161157  ... -0.377928  1.346957   \n..        ...       ...       ...       ...  ...       ...       ...   \n845 -0.058579  0.260077 -0.371476  1.858256  ... -1.838684  1.290824   \n846  0.832151 -0.686938 -1.357914 -2.077452  ... -0.095697  0.113108   \n847  0.150066  0.089001  1.278880  0.846353  ...  0.383015 -0.176005   \n848  0.078658 -1.293900 -0.620675  0.307138  ... -1.792592 -1.439352   \n849  0.687249 -0.466678  0.124130  0.387928  ... -0.900029  0.309249   \n\n         MGAM      CUX1  LINC00657       MIA  DRUG_NAME  MAX_CONC_MICROMOLAR  \\\n0    0.160920 -1.582164  -2.513445  0.071012  Docetaxel               0.0125   \n1   -0.543656 -0.274566  -0.605579 -0.506630  Docetaxel               0.0125   \n2   -0.168805 -0.160680   1.655936 -0.375607  Docetaxel               0.0125   \n3   -0.233932 -1.343521   0.569476 -0.330056  Docetaxel               0.0125   \n4   -0.370186 -1.338440   0.831166 -0.481975  Docetaxel               0.0125   \n..        ...       ...        ...       ...        ...                  ...   \n845 -0.278622 -1.255319  -0.885547 -0.396594  Docetaxel               0.0125   \n846 -0.095794 -0.116846   0.663696 -0.458881  Docetaxel               0.0125   \n847 -0.118381  0.361427  -0.410564 -0.168539  Docetaxel               0.0125   \n848  0.153641 -0.430387  -0.189739 -0.245107  Docetaxel               0.0125   \n849 -0.044480  0.105589  -1.337252 -0.428647  Docetaxel               0.0125   \n\n         IC50  R_or_S  \n0    0.007317       1  \n1    0.001761       1  \n2    0.001184       1  \n3    0.000550       1  \n4    0.001664       1  \n..        ...     ...  \n845  0.013015       0  \n846  0.026358       0  \n847  0.034812       0  \n848  0.162531       0  \n849  0.020500       0  \n\n[850 rows x 7968 columns]",
      "text/html": "<div>\n<style scoped>\n    .dataframe tbody tr th:only-of-type {\n        vertical-align: middle;\n    }\n\n    .dataframe tbody tr th {\n        vertical-align: top;\n    }\n\n    .dataframe thead th {\n        text-align: right;\n    }\n</style>\n<table border=\"1\" class=\"dataframe\">\n  <thead>\n    <tr style=\"text-align: right;\">\n      <th></th>\n      <th>CELL_LINE_NAME</th>\n      <th>TSPAN6</th>\n      <th>DPM1</th>\n      <th>SCYL3</th>\n      <th>FGR</th>\n      <th>CFH</th>\n      <th>GCLC</th>\n      <th>NFYA</th>\n      <th>NIPAL3</th>\n      <th>LAS1L</th>\n      <th>...</th>\n      <th>LSM14A</th>\n      <th>ZNF271</th>\n      <th>MGAM</th>\n      <th>CUX1</th>\n      <th>LINC00657</th>\n      <th>MIA</th>\n      <th>DRUG_NAME</th>\n      <th>MAX_CONC_MICROMOLAR</th>\n      <th>IC50</th>\n      <th>R_or_S</th>\n    </tr>\n  </thead>\n  <tbody>\n    <tr>\n      <th>0</th>\n      <td>MC-CAR</td>\n      <td>-1.769846</td>\n      <td>0.400914</td>\n      <td>1.105859</td>\n      <td>5.273548</td>\n      <td>-0.449041</td>\n      <td>-0.834425</td>\n      <td>0.299299</td>\n      <td>-0.962201</td>\n      <td>0.326342</td>\n      <td>...</td>\n      <td>0.474520</td>\n      <td>-0.188035</td>\n      <td>0.160920</td>\n      <td>-1.582164</td>\n      <td>-2.513445</td>\n      <td>0.071012</td>\n      <td>Docetaxel</td>\n      <td>0.0125</td>\n      <td>0.007317</td>\n      <td>1</td>\n    </tr>\n    <tr>\n      <th>1</th>\n      <td>PFSK-1</td>\n      <td>0.588378</td>\n      <td>-0.103290</td>\n      <td>0.166505</td>\n      <td>-0.297676</td>\n      <td>2.266208</td>\n      <td>-1.103575</td>\n      <td>0.866417</td>\n      <td>-2.435215</td>\n      <td>0.165540</td>\n      <td>...</td>\n      <td>-0.278615</td>\n      <td>-1.101771</td>\n      <td>-0.543656</td>\n      <td>-0.274566</td>\n      <td>-0.605579</td>\n      <td>-0.506630</td>\n      <td>Docetaxel</td>\n      <td>0.0125</td>\n      <td>0.001761</td>\n      <td>1</td>\n    </tr>\n    <tr>\n      <th>2</th>\n      <td>ES5</td>\n      <td>0.823237</td>\n      <td>-0.001213</td>\n      <td>0.908039</td>\n      <td>-0.372844</td>\n      <td>0.545441</td>\n      <td>-0.368416</td>\n      <td>1.828252</td>\n      <td>0.018526</td>\n      <td>-0.803953</td>\n      <td>...</td>\n      <td>-0.086153</td>\n      <td>1.711127</td>\n      <td>-0.168805</td>\n      <td>-0.160680</td>\n      <td>1.655936</td>\n      <td>-0.375607</td>\n      <td>Docetaxel</td>\n      <td>0.0125</td>\n      <td>0.001184</td>\n      <td>1</td>\n    </tr>\n    <tr>\n      <th>3</th>\n      <td>ES7</td>\n      <td>0.875342</td>\n      <td>-0.407525</td>\n      <td>-0.529472</td>\n      <td>-0.432216</td>\n      <td>-0.618602</td>\n      <td>-0.127059</td>\n      <td>1.015824</td>\n      <td>-1.367511</td>\n      <td>0.162068</td>\n      <td>...</td>\n      <td>0.092430</td>\n      <td>1.350906</td>\n      <td>-0.233932</td>\n      <td>-1.343521</td>\n      <td>0.569476</td>\n      <td>-0.330056</td>\n      <td>Docetaxel</td>\n      <td>0.0125</td>\n      <td>0.000550</td>\n      <td>1</td>\n    </tr>\n    <tr>\n      <th>4</th>\n      <td>EW-11</td>\n      <td>0.905388</td>\n      <td>0.447038</td>\n      <td>0.063828</td>\n      <td>-0.206476</td>\n      <td>1.601144</td>\n      <td>0.054866</td>\n      <td>1.564202</td>\n      <td>-2.091522</td>\n      <td>-0.161157</td>\n      <td>...</td>\n      <td>-0.377928</td>\n      <td>1.346957</td>\n      <td>-0.370186</td>\n      <td>-1.338440</td>\n      <td>0.831166</td>\n      <td>-0.481975</td>\n      <td>Docetaxel</td>\n      <td>0.0125</td>\n      <td>0.001664</td>\n      <td>1</td>\n    </tr>\n    <tr>\n      <th>...</th>\n      <td>...</td>\n      <td>...</td>\n      <td>...</td>\n      <td>...</td>\n      <td>...</td>\n      <td>...</td>\n      <td>...</td>\n      <td>...</td>\n      <td>...</td>\n      <td>...</td>\n      <td>...</td>\n      <td>...</td>\n      <td>...</td>\n      <td>...</td>\n      <td>...</td>\n      <td>...</td>\n      <td>...</td>\n      <td>...</td>\n      <td>...</td>\n      <td>...</td>\n      <td>...</td>\n    </tr>\n    <tr>\n      <th>845</th>\n      <td>RCC-AB</td>\n      <td>0.496952</td>\n      <td>-0.078768</td>\n      <td>-0.204556</td>\n      <td>-0.328763</td>\n      <td>1.388162</td>\n      <td>-0.058579</td>\n      <td>0.260077</td>\n      <td>-0.371476</td>\n      <td>1.858256</td>\n      <td>...</td>\n      <td>-1.838684</td>\n      <td>1.290824</td>\n      <td>-0.278622</td>\n      <td>-1.255319</td>\n      <td>-0.885547</td>\n      <td>-0.396594</td>\n      <td>Docetaxel</td>\n      <td>0.0125</td>\n      <td>0.013015</td>\n      <td>0</td>\n    </tr>\n    <tr>\n      <th>846</th>\n      <td>RCC-MF</td>\n      <td>0.521452</td>\n      <td>0.070943</td>\n      <td>-1.500857</td>\n      <td>-0.383419</td>\n      <td>1.747239</td>\n      <td>0.832151</td>\n      <td>-0.686938</td>\n      <td>-1.357914</td>\n      <td>-2.077452</td>\n      <td>...</td>\n      <td>-0.095697</td>\n      <td>0.113108</td>\n      <td>-0.095794</td>\n      <td>-0.116846</td>\n      <td>0.663696</td>\n      <td>-0.458881</td>\n      <td>Docetaxel</td>\n      <td>0.0125</td>\n      <td>0.026358</td>\n      <td>0</td>\n    </tr>\n    <tr>\n      <th>847</th>\n      <td>KMS-11</td>\n      <td>-1.741343</td>\n      <td>0.525125</td>\n      <td>0.400613</td>\n      <td>-0.202011</td>\n      <td>-0.596353</td>\n      <td>0.150066</td>\n      <td>0.089001</td>\n      <td>1.278880</td>\n      <td>0.846353</td>\n      <td>...</td>\n      <td>0.383015</td>\n      <td>-0.176005</td>\n      <td>-0.118381</td>\n      <td>0.361427</td>\n      <td>-0.410564</td>\n      <td>-0.168539</td>\n      <td>Docetaxel</td>\n      <td>0.0125</td>\n      <td>0.034812</td>\n      <td>0</td>\n    </tr>\n    <tr>\n      <th>848</th>\n      <td>SNU-61</td>\n      <td>0.742257</td>\n      <td>0.039385</td>\n      <td>1.755703</td>\n      <td>-0.402440</td>\n      <td>-0.415980</td>\n      <td>0.078658</td>\n      <td>-1.293900</td>\n      <td>-0.620675</td>\n      <td>0.307138</td>\n      <td>...</td>\n      <td>-1.792592</td>\n      <td>-1.439352</td>\n      <td>0.153641</td>\n      <td>-0.430387</td>\n      <td>-0.189739</td>\n      <td>-0.245107</td>\n      <td>Docetaxel</td>\n      <td>0.0125</td>\n      <td>0.162531</td>\n      <td>0</td>\n    </tr>\n    <tr>\n      <th>849</th>\n      <td>SNU-81</td>\n      <td>0.597196</td>\n      <td>-1.012875</td>\n      <td>-0.412703</td>\n      <td>-0.306615</td>\n      <td>-0.621229</td>\n      <td>0.687249</td>\n      <td>-0.466678</td>\n      <td>0.124130</td>\n      <td>0.387928</td>\n      <td>...</td>\n      <td>-0.900029</td>\n      <td>0.309249</td>\n      <td>-0.044480</td>\n      <td>0.105589</td>\n      <td>-1.337252</td>\n      <td>-0.428647</td>\n      <td>Docetaxel</td>\n      <td>0.0125</td>\n      <td>0.020500</td>\n      <td>0</td>\n    </tr>\n  </tbody>\n</table>\n<p>850 rows × 7968 columns</p>\n</div>"
     },
     "execution_count": 59,
     "metadata": {},
     "output_type": "execute_result"
    }
   ],
   "source": [
    "GDSC_2014_combination = pd.merge(GDSC_2014, Docetaxel_info,\n",
    "                                 how= 'inner',\n",
    "                                 on=['CELL_LINE_NAME'])\n",
    "GDSC_2014_combination"
   ],
   "metadata": {
    "collapsed": false,
    "pycharm": {
     "name": "#%%\n"
    }
   }
  },
  {
   "cell_type": "markdown",
   "source": [
    "----\n",
    "### C-3 統一資料特徵維度\n",
    "* 因為新資料的特徵數約在16K個左右，而舊資料約在8K個左右，\n",
    "為了能用舊資料當做「額外的」測試資料集，對新舊資料的特徵數取交集。\n",
    "特徵數量將會剩下 7397 個。"
   ],
   "metadata": {
    "collapsed": false,
    "pycharm": {
     "name": "#%% md\n"
    }
   }
  },
  {
   "cell_type": "code",
   "execution_count": 60,
   "outputs": [],
   "source": [
    "Columns_Intersection = GDSC_combination.columns.intersection(GDSC_2014_combination.columns)\n",
    "reduced_GDSC_combination = GDSC_combination[Columns_Intersection]\n",
    "reduced_GDSC_combination_label = reduced_GDSC_combination[[\"R_or_S\"]]\n"
   ],
   "metadata": {
    "collapsed": false,
    "pycharm": {
     "name": "#%%\n"
    }
   }
  },
  {
   "cell_type": "code",
   "execution_count": 61,
   "outputs": [],
   "source": [
    "reduced_GDSC_2014_combination = GDSC_2014_combination[Columns_Intersection]\n",
    "reduced_GDSC_2014_combination_label = reduced_GDSC_2014_combination[[\"R_or_S\"]]"
   ],
   "metadata": {
    "collapsed": false,
    "pycharm": {
     "name": "#%%\n"
    }
   }
  },
  {
   "cell_type": "code",
   "execution_count": 62,
   "outputs": [
    {
     "data": {
      "text/plain": "                             CELL_LINE_NAME     AADAC      AAK1      AAMP  \\\n0                            22RV1_PROSTATE -0.910305  1.059669  1.800366   \n1             42MGBA_CENTRAL_NERVOUS_SYSTEM  0.240822  0.919266  1.698643   \n2                        5637_URINARY_TRACT  0.604709  0.943323  1.714220   \n3                        639V_URINARY_TRACT -0.131686  0.862144  1.718465   \n4    697_HAEMATOPOIETIC_AND_LYMPHOID_TISSUE -1.028292  0.952772  1.714692   \n..                                      ...       ...       ...       ...   \n464                   SKCO1_LARGE_INTESTINE  0.350356  0.845674  1.892350   \n465                            SNU449_LIVER  1.020768  0.929154  1.911862   \n466                             T47D_BREAST  0.272479  1.075537  2.041909   \n467                            UACC257_SKIN -0.022571  0.808529  1.804789   \n468                          VMRCRCW_KIDNEY  0.619091  1.096185  1.922396   \n\n        AANAT  AASDHPPT      AASS      AATF      AATK      ABAT  ...  \\\n0    0.484152  1.678559  1.231932  1.637326  0.729291  0.829308  ...   \n1   -0.106071  1.497530  1.068400  1.541296  0.213760  1.004570  ...   \n2    0.377315  1.578729  0.915447  1.792307  0.161015  0.384492  ...   \n3    0.314810  1.489511  1.294921  1.670130  0.081030  0.788602  ...   \n4    0.024173  1.495832  0.908060  1.699985 -0.052819  0.804242  ...   \n..        ...       ...       ...       ...       ...       ...  ...   \n464  0.875659  1.548170  0.014423  1.708979  1.297864  0.866179  ...   \n465  0.355400  1.696582  1.296588  1.855629  0.338856  0.505960  ...   \n466  0.889515  1.813404  1.085800  1.907328  0.963900  1.620551  ...   \n467 -0.221039  1.698608  1.270826  1.726392  1.061603  0.283742  ...   \n468  0.694786  1.489037  0.426592  1.622962  0.691373  0.941375  ...   \n\n         WSB2     WSCD2       WT1      WTAP      WWC1      WWOX      WWP1  \\\n0    1.823990 -0.910305  0.951089  1.521684  1.631582  0.964826  1.417611   \n1    1.712191 -0.065696  0.906099  1.433959  0.993361  0.841848  1.282522   \n2    1.593100 -0.138881  1.047318  1.463047  1.570181  0.989993  1.410864   \n3    1.460887 -1.087801  0.983263  1.395224  1.271053 -0.164323  1.368473   \n4    1.417104 -1.028292  1.236954  1.508107  0.331719  1.191023  1.335067   \n..        ...       ...       ...       ...       ...       ...       ...   \n464  1.711971 -0.889931 -0.238024  1.575199  1.546265  0.928405  1.558230   \n465  1.644270 -0.862985  0.035921  1.597778  1.485911  1.202976  1.637519   \n466  1.940682 -0.001260  1.215961  1.661030  1.815180  1.379566  1.706726   \n467  1.756444 -1.018997  0.830341  1.286546  1.151934  1.152997  1.315930   \n468  1.738499 -0.827025  1.190662  1.520398  1.719063  1.224632  1.514797   \n\n         WWP2     WWTR1      XAF1  \n0    1.420964  1.132964  0.036481  \n1    1.232678  1.358025  0.804841  \n2    1.295599  1.239702  1.030290  \n3    1.115155  1.246357  0.580831  \n4    1.288845  0.891905  1.037151  \n..        ...       ...       ...  \n464  1.466095  1.266036  0.133136  \n465  1.401277  1.828233  0.226257  \n466  1.657003  1.570593  0.354965  \n467  1.253381  1.402175 -0.005438  \n468  1.361650  1.822998  1.326480  \n\n[469 rows x 7397 columns]",
      "text/html": "<div>\n<style scoped>\n    .dataframe tbody tr th:only-of-type {\n        vertical-align: middle;\n    }\n\n    .dataframe tbody tr th {\n        vertical-align: top;\n    }\n\n    .dataframe thead th {\n        text-align: right;\n    }\n</style>\n<table border=\"1\" class=\"dataframe\">\n  <thead>\n    <tr style=\"text-align: right;\">\n      <th></th>\n      <th>CELL_LINE_NAME</th>\n      <th>AADAC</th>\n      <th>AAK1</th>\n      <th>AAMP</th>\n      <th>AANAT</th>\n      <th>AASDHPPT</th>\n      <th>AASS</th>\n      <th>AATF</th>\n      <th>AATK</th>\n      <th>ABAT</th>\n      <th>...</th>\n      <th>WSB2</th>\n      <th>WSCD2</th>\n      <th>WT1</th>\n      <th>WTAP</th>\n      <th>WWC1</th>\n      <th>WWOX</th>\n      <th>WWP1</th>\n      <th>WWP2</th>\n      <th>WWTR1</th>\n      <th>XAF1</th>\n    </tr>\n  </thead>\n  <tbody>\n    <tr>\n      <th>0</th>\n      <td>22RV1_PROSTATE</td>\n      <td>-0.910305</td>\n      <td>1.059669</td>\n      <td>1.800366</td>\n      <td>0.484152</td>\n      <td>1.678559</td>\n      <td>1.231932</td>\n      <td>1.637326</td>\n      <td>0.729291</td>\n      <td>0.829308</td>\n      <td>...</td>\n      <td>1.823990</td>\n      <td>-0.910305</td>\n      <td>0.951089</td>\n      <td>1.521684</td>\n      <td>1.631582</td>\n      <td>0.964826</td>\n      <td>1.417611</td>\n      <td>1.420964</td>\n      <td>1.132964</td>\n      <td>0.036481</td>\n    </tr>\n    <tr>\n      <th>1</th>\n      <td>42MGBA_CENTRAL_NERVOUS_SYSTEM</td>\n      <td>0.240822</td>\n      <td>0.919266</td>\n      <td>1.698643</td>\n      <td>-0.106071</td>\n      <td>1.497530</td>\n      <td>1.068400</td>\n      <td>1.541296</td>\n      <td>0.213760</td>\n      <td>1.004570</td>\n      <td>...</td>\n      <td>1.712191</td>\n      <td>-0.065696</td>\n      <td>0.906099</td>\n      <td>1.433959</td>\n      <td>0.993361</td>\n      <td>0.841848</td>\n      <td>1.282522</td>\n      <td>1.232678</td>\n      <td>1.358025</td>\n      <td>0.804841</td>\n    </tr>\n    <tr>\n      <th>2</th>\n      <td>5637_URINARY_TRACT</td>\n      <td>0.604709</td>\n      <td>0.943323</td>\n      <td>1.714220</td>\n      <td>0.377315</td>\n      <td>1.578729</td>\n      <td>0.915447</td>\n      <td>1.792307</td>\n      <td>0.161015</td>\n      <td>0.384492</td>\n      <td>...</td>\n      <td>1.593100</td>\n      <td>-0.138881</td>\n      <td>1.047318</td>\n      <td>1.463047</td>\n      <td>1.570181</td>\n      <td>0.989993</td>\n      <td>1.410864</td>\n      <td>1.295599</td>\n      <td>1.239702</td>\n      <td>1.030290</td>\n    </tr>\n    <tr>\n      <th>3</th>\n      <td>639V_URINARY_TRACT</td>\n      <td>-0.131686</td>\n      <td>0.862144</td>\n      <td>1.718465</td>\n      <td>0.314810</td>\n      <td>1.489511</td>\n      <td>1.294921</td>\n      <td>1.670130</td>\n      <td>0.081030</td>\n      <td>0.788602</td>\n      <td>...</td>\n      <td>1.460887</td>\n      <td>-1.087801</td>\n      <td>0.983263</td>\n      <td>1.395224</td>\n      <td>1.271053</td>\n      <td>-0.164323</td>\n      <td>1.368473</td>\n      <td>1.115155</td>\n      <td>1.246357</td>\n      <td>0.580831</td>\n    </tr>\n    <tr>\n      <th>4</th>\n      <td>697_HAEMATOPOIETIC_AND_LYMPHOID_TISSUE</td>\n      <td>-1.028292</td>\n      <td>0.952772</td>\n      <td>1.714692</td>\n      <td>0.024173</td>\n      <td>1.495832</td>\n      <td>0.908060</td>\n      <td>1.699985</td>\n      <td>-0.052819</td>\n      <td>0.804242</td>\n      <td>...</td>\n      <td>1.417104</td>\n      <td>-1.028292</td>\n      <td>1.236954</td>\n      <td>1.508107</td>\n      <td>0.331719</td>\n      <td>1.191023</td>\n      <td>1.335067</td>\n      <td>1.288845</td>\n      <td>0.891905</td>\n      <td>1.037151</td>\n    </tr>\n    <tr>\n      <th>...</th>\n      <td>...</td>\n      <td>...</td>\n      <td>...</td>\n      <td>...</td>\n      <td>...</td>\n      <td>...</td>\n      <td>...</td>\n      <td>...</td>\n      <td>...</td>\n      <td>...</td>\n      <td>...</td>\n      <td>...</td>\n      <td>...</td>\n      <td>...</td>\n      <td>...</td>\n      <td>...</td>\n      <td>...</td>\n      <td>...</td>\n      <td>...</td>\n      <td>...</td>\n      <td>...</td>\n    </tr>\n    <tr>\n      <th>464</th>\n      <td>SKCO1_LARGE_INTESTINE</td>\n      <td>0.350356</td>\n      <td>0.845674</td>\n      <td>1.892350</td>\n      <td>0.875659</td>\n      <td>1.548170</td>\n      <td>0.014423</td>\n      <td>1.708979</td>\n      <td>1.297864</td>\n      <td>0.866179</td>\n      <td>...</td>\n      <td>1.711971</td>\n      <td>-0.889931</td>\n      <td>-0.238024</td>\n      <td>1.575199</td>\n      <td>1.546265</td>\n      <td>0.928405</td>\n      <td>1.558230</td>\n      <td>1.466095</td>\n      <td>1.266036</td>\n      <td>0.133136</td>\n    </tr>\n    <tr>\n      <th>465</th>\n      <td>SNU449_LIVER</td>\n      <td>1.020768</td>\n      <td>0.929154</td>\n      <td>1.911862</td>\n      <td>0.355400</td>\n      <td>1.696582</td>\n      <td>1.296588</td>\n      <td>1.855629</td>\n      <td>0.338856</td>\n      <td>0.505960</td>\n      <td>...</td>\n      <td>1.644270</td>\n      <td>-0.862985</td>\n      <td>0.035921</td>\n      <td>1.597778</td>\n      <td>1.485911</td>\n      <td>1.202976</td>\n      <td>1.637519</td>\n      <td>1.401277</td>\n      <td>1.828233</td>\n      <td>0.226257</td>\n    </tr>\n    <tr>\n      <th>466</th>\n      <td>T47D_BREAST</td>\n      <td>0.272479</td>\n      <td>1.075537</td>\n      <td>2.041909</td>\n      <td>0.889515</td>\n      <td>1.813404</td>\n      <td>1.085800</td>\n      <td>1.907328</td>\n      <td>0.963900</td>\n      <td>1.620551</td>\n      <td>...</td>\n      <td>1.940682</td>\n      <td>-0.001260</td>\n      <td>1.215961</td>\n      <td>1.661030</td>\n      <td>1.815180</td>\n      <td>1.379566</td>\n      <td>1.706726</td>\n      <td>1.657003</td>\n      <td>1.570593</td>\n      <td>0.354965</td>\n    </tr>\n    <tr>\n      <th>467</th>\n      <td>UACC257_SKIN</td>\n      <td>-0.022571</td>\n      <td>0.808529</td>\n      <td>1.804789</td>\n      <td>-0.221039</td>\n      <td>1.698608</td>\n      <td>1.270826</td>\n      <td>1.726392</td>\n      <td>1.061603</td>\n      <td>0.283742</td>\n      <td>...</td>\n      <td>1.756444</td>\n      <td>-1.018997</td>\n      <td>0.830341</td>\n      <td>1.286546</td>\n      <td>1.151934</td>\n      <td>1.152997</td>\n      <td>1.315930</td>\n      <td>1.253381</td>\n      <td>1.402175</td>\n      <td>-0.005438</td>\n    </tr>\n    <tr>\n      <th>468</th>\n      <td>VMRCRCW_KIDNEY</td>\n      <td>0.619091</td>\n      <td>1.096185</td>\n      <td>1.922396</td>\n      <td>0.694786</td>\n      <td>1.489037</td>\n      <td>0.426592</td>\n      <td>1.622962</td>\n      <td>0.691373</td>\n      <td>0.941375</td>\n      <td>...</td>\n      <td>1.738499</td>\n      <td>-0.827025</td>\n      <td>1.190662</td>\n      <td>1.520398</td>\n      <td>1.719063</td>\n      <td>1.224632</td>\n      <td>1.514797</td>\n      <td>1.361650</td>\n      <td>1.822998</td>\n      <td>1.326480</td>\n    </tr>\n  </tbody>\n</table>\n<p>469 rows × 7397 columns</p>\n</div>"
     },
     "execution_count": 62,
     "metadata": {},
     "output_type": "execute_result"
    }
   ],
   "source": [
    "Columns_Intersection_2 = CCLE_PDX_Paclitaxel.columns.intersection(reduced_GDSC_combination.columns)\n",
    "reduced_CCLE_PDF_Paclitaxel = CCLE_PDX_Paclitaxel[Columns_Intersection_2]\n",
    "reduced_CCLE_PDF_Paclitaxel"
   ],
   "metadata": {
    "collapsed": false,
    "pycharm": {
     "name": "#%%\n"
    }
   }
  },
  {
   "cell_type": "code",
   "execution_count": 106,
   "outputs": [],
   "source": [
    "reduced_GDSC_combination = reduced_GDSC_combination[Columns_Intersection_2]\n",
    "# 把做 columns intersection 時去除的 Label 加回來。\n",
    "reduced_GDSC_combination = reduced_GDSC_combination.assign(R_or_S = reduced_GDSC_combination_label)\n",
    "# reduced_GDSC_combination"
   ],
   "metadata": {
    "collapsed": false,
    "pycharm": {
     "name": "#%%\n"
    }
   }
  },
  {
   "cell_type": "code",
   "execution_count": 105,
   "outputs": [],
   "source": [
    "reduced_GDSC_2014_combination = reduced_GDSC_2014_combination[Columns_Intersection_2]\n",
    "reduced_GDSC_2014_combination = reduced_GDSC_2014_combination.assign(R_or_S = reduced_GDSC_2014_combination_label)\n",
    "# reduced_GDSC_2014_combination"
   ],
   "metadata": {
    "collapsed": false,
    "pycharm": {
     "name": "#%%\n"
    }
   }
  },
  {
   "cell_type": "markdown",
   "source": [
    "----\n",
    "### C-4 取舊資料對新資料的差集，作為額外測試資料集\n",
    "* 舊資料有 850 種細胞珠，而新資料僅有 399 種細胞珠。\n",
    "* 我使用新資料(2021)作為訓練資料集，\n",
    "而去除舊資料(2020)中與新資料(2021)中重複的細胞珠作為測試資料集。\n",
    "我們可以在待會發現，即便訓練資料 少於 測試資料 的情況下 (train：test = 4：5)，\n",
    "我使用的訓練模型仍然達到不錯的預測結果。\n",
    "* 額外測試資料集 dataframe 名稱命名為 extra_test_dataset，內有 531 個細胞珠。"
   ],
   "metadata": {
    "collapsed": false,
    "pycharm": {
     "name": "#%% md\n"
    }
   }
  },
  {
   "cell_type": "code",
   "execution_count": 107,
   "outputs": [
    {
     "data": {
      "text/plain": "     R_or_S\n1         1\n7         1\n8         1\n9         1\n10        1\n..      ...\n354       0\n370       0\n377       0\n383       0\n389       0\n\n[531 rows x 1 columns]",
      "text/html": "<div>\n<style scoped>\n    .dataframe tbody tr th:only-of-type {\n        vertical-align: middle;\n    }\n\n    .dataframe tbody tr th {\n        vertical-align: top;\n    }\n\n    .dataframe thead th {\n        text-align: right;\n    }\n</style>\n<table border=\"1\" class=\"dataframe\">\n  <thead>\n    <tr style=\"text-align: right;\">\n      <th></th>\n      <th>R_or_S</th>\n    </tr>\n  </thead>\n  <tbody>\n    <tr>\n      <th>1</th>\n      <td>1</td>\n    </tr>\n    <tr>\n      <th>7</th>\n      <td>1</td>\n    </tr>\n    <tr>\n      <th>8</th>\n      <td>1</td>\n    </tr>\n    <tr>\n      <th>9</th>\n      <td>1</td>\n    </tr>\n    <tr>\n      <th>10</th>\n      <td>1</td>\n    </tr>\n    <tr>\n      <th>...</th>\n      <td>...</td>\n    </tr>\n    <tr>\n      <th>354</th>\n      <td>0</td>\n    </tr>\n    <tr>\n      <th>370</th>\n      <td>0</td>\n    </tr>\n    <tr>\n      <th>377</th>\n      <td>0</td>\n    </tr>\n    <tr>\n      <th>383</th>\n      <td>0</td>\n    </tr>\n    <tr>\n      <th>389</th>\n      <td>0</td>\n    </tr>\n  </tbody>\n</table>\n<p>531 rows × 1 columns</p>\n</div>"
     },
     "execution_count": 107,
     "metadata": {},
     "output_type": "execute_result"
    }
   ],
   "source": [
    "extra_test_dataset = reduced_GDSC_2014_combination.append(reduced_GDSC_combination)\n",
    "extra_test_dataset = extra_test_dataset.drop_duplicates(subset=['CELL_LINE_NAME'], keep=False)\n",
    "extra_test_dataset_label = extra_test_dataset[[\"R_or_S\"]]\n",
    "extra_test_dataset_label"
   ],
   "metadata": {
    "collapsed": false,
    "pycharm": {
     "name": "#%%\n"
    }
   }
  },
  {
   "cell_type": "markdown",
   "source": [
    "---\n",
    "## D. 特徵選取(Features Selection)\n",
    "\n",
    "### D-1. 以 XGBoost 篩選特徵\n",
    "* XGBoost 是一種 隨機森林 演算法。\n",
    "* 使用 XGBoost 模型計算各個特徵的 F-score，並保留 F-score 較高的特徵（不得小於最大F-score 5%）。"
   ],
   "metadata": {
    "collapsed": false,
    "pycharm": {
     "name": "#%% md\n"
    }
   }
  },
  {
   "cell_type": "code",
   "execution_count": 87,
   "outputs": [
    {
     "name": "stdout",
     "output_type": "stream",
     "text": [
      "\n",
      "列出前15個高 F-score 的特徵供參考：\n"
     ]
    },
    {
     "data": {
      "text/plain": "<AxesSubplot:title={'center':'Feature importance'}, xlabel='F score', ylabel='Features'>"
     },
     "execution_count": 87,
     "metadata": {},
     "output_type": "execute_result"
    },
    {
     "data": {
      "text/plain": "<Figure size 432x288 with 1 Axes>",
      "image/png": "[encoded data removed]"
     },
     "metadata": {
      "needs_background": "light"
     },
     "output_type": "display_data"
    }
   ],
   "source": [
    "train_data = reduced_GDSC_combination.drop(labels=['CELL_LINE_NAME', 'R_or_S'], axis=1)\n",
    "train_data_label = reduced_GDSC_combination[['R_or_S']]\n",
    "XGBoost_Model = XGBClassifier()\n",
    "XGBoost_Model.fit(train_data, train_data_label.values.ravel())\n",
    "# print(f'Accuracy on training datset: {XGBoost_Model.score(train_data, train_data_label)}')\n",
    "\n",
    "print(f'\\n列出前15個高 F-score 的特徵供參考：')\n",
    "plot_importance(XGBoost_Model, max_num_features=15)"
   ],
   "metadata": {
    "collapsed": false,
    "pycharm": {
     "name": "#%%\n"
    }
   }
  },
  {
   "cell_type": "code",
   "execution_count": 102,
   "outputs": [
    {
     "name": "stdout",
     "output_type": "stream",
     "text": [
      "使用 XGBoost 所篩選的特徵數量： (157,) 個\n"
     ]
    }
   ],
   "source": [
    "feature_importances = XGBoost_Model.feature_importances_\n",
    "# print(f'Features importance of AdaBoost Model: {feature_importances}')\n",
    "max = np.max(feature_importances)\n",
    "for i in range(len(feature_importances)):\n",
    "    feature_importances[i] = feature_importances[i]/max\n",
    "\n",
    "list_of_selected_features = []\n",
    "for i in range(len(feature_importances)):\n",
    "    if(feature_importances[i]>0.05):\n",
    "        list_of_selected_features.append(i)\n",
    "\n",
    "print(f'使用 XGBoost 所篩選的特徵數量： {np.array(list_of_selected_features).shape} 個')"
   ],
   "metadata": {
    "collapsed": false,
    "pycharm": {
     "name": "#%%\n"
    }
   }
  },
  {
   "cell_type": "markdown",
   "source": [
    "----\n",
    "### D-2. 依照 XGBoost 選取的特徵，對資料的特徵做篩選"
   ],
   "metadata": {
    "collapsed": false,
    "pycharm": {
     "name": "#%% md\n"
    }
   }
  },
  {
   "cell_type": "code",
   "execution_count": 68,
   "outputs": [
    {
     "data": {
      "text/plain": "         AAK1     AANAT    ABCA12     ABCA8     ABCB9     ACSL3     ADCY3  \\\n0    1.906648  0.231733  2.813247  0.637695 -0.501102 -1.534140  0.338478   \n1   -0.518761 -0.353989 -0.180749  0.549058 -0.388767 -0.490171 -0.611932   \n2    1.321418 -0.422776 -0.480170 -0.531381  0.785510  0.114270 -2.765978   \n3    0.730875 -0.296530 -0.458694 -0.770474  0.435712 -0.141656 -0.428404   \n4   -1.248406 -0.206162  3.027371 -0.609428 -0.064114 -0.220128  0.481954   \n..        ...       ...       ...       ...       ...       ...       ...   \n394  0.533980 -0.106597 -0.226162 -0.433817 -0.285253 -1.363012  0.827192   \n395 -1.152426 -0.779573  0.229263 -0.871816 -0.954654 -0.088226 -0.131277   \n396  0.497909 -0.013291 -0.224135  0.208550  0.898023 -0.023965  0.534647   \n397 -0.486149  0.123253 -0.166654 -0.074542 -0.158834 -4.091931  1.715548   \n398 -0.978163  0.090919 -0.427232 -0.234380 -0.060715 -1.758468  0.280150   \n\n      ANKRD28    ANKRD7     ANXA2  ...      TBCE    TFAP2A        TG  \\\n0    0.208419 -0.073431 -0.737749  ... -1.430388 -0.491455  0.040077   \n1   -2.622099  3.951780  0.254189  ...  0.554503 -0.687135  2.857665   \n2    0.264479  0.120262  0.951149  ... -1.033059 -0.752377 -0.054410   \n3    2.235626 -0.669939  1.011461  ... -0.403718 -0.733698 -0.087447   \n4   -0.317234 -0.746926  1.124553  ... -0.907040  0.013984 -0.452085   \n..        ...       ...       ...  ...       ...       ...       ...   \n394 -0.006552 -0.772947  1.011091  ... -1.706686 -0.738530 -0.431270   \n395 -0.270070 -0.845781 -1.645165  ... -2.965395 -0.829874 -0.515783   \n396 -0.715295 -0.130239  0.741091  ...  1.108938 -0.330397 -0.209784   \n397  0.044058 -0.282445 -2.113900  ... -0.208406 -0.215968  0.211222   \n398  0.318896 -0.612660 -1.377588  ... -0.311791 -0.482889  0.367394   \n\n         TNP1  TOR1AIP1      TPPP     TRAT1    TRIM13    UBAP2L     VSTM4  \n0   -0.326072  1.178487 -1.054148  1.927292 -0.165726 -0.029658  0.345551  \n1    0.165545 -0.802704 -0.320889 -0.201853  0.097872  1.357111 -0.637556  \n2   -0.938835  0.404184 -0.760587 -0.239611 -0.880414  0.180943  0.340385  \n3   -0.605880  0.022829 -0.714646 -0.279524 -0.413871 -0.971468 -1.747553  \n4   -0.405926 -1.431098 -0.665738 -0.263522 -0.665278 -1.858388 -1.061413  \n..        ...       ...       ...       ...       ...       ...       ...  \n394 -0.298217 -0.091488 -0.731939 -0.180040 -0.794680 -0.586292 -0.785630  \n395 -0.407248 -0.144628  0.697741 -0.408224 -2.478160  0.017733 -0.412977  \n396  0.613250  0.857054 -0.132528 -0.083345 -0.799773  0.565049 -0.215327  \n397  2.027927  0.795323 -0.450778 -0.284392  1.654560  0.489153  0.768470  \n398  0.594206 -1.366024 -0.294787 -0.197068  0.301505  1.783652  2.079054  \n\n[399 rows x 157 columns]",
      "text/html": "<div>\n<style scoped>\n    .dataframe tbody tr th:only-of-type {\n        vertical-align: middle;\n    }\n\n    .dataframe tbody tr th {\n        vertical-align: top;\n    }\n\n    .dataframe thead th {\n        text-align: right;\n    }\n</style>\n<table border=\"1\" class=\"dataframe\">\n  <thead>\n    <tr style=\"text-align: right;\">\n      <th></th>\n      <th>AAK1</th>\n      <th>AANAT</th>\n      <th>ABCA12</th>\n      <th>ABCA8</th>\n      <th>ABCB9</th>\n      <th>ACSL3</th>\n      <th>ADCY3</th>\n      <th>ANKRD28</th>\n      <th>ANKRD7</th>\n      <th>ANXA2</th>\n      <th>...</th>\n      <th>TBCE</th>\n      <th>TFAP2A</th>\n      <th>TG</th>\n      <th>TNP1</th>\n      <th>TOR1AIP1</th>\n      <th>TPPP</th>\n      <th>TRAT1</th>\n      <th>TRIM13</th>\n      <th>UBAP2L</th>\n      <th>VSTM4</th>\n    </tr>\n  </thead>\n  <tbody>\n    <tr>\n      <th>0</th>\n      <td>1.906648</td>\n      <td>0.231733</td>\n      <td>2.813247</td>\n      <td>0.637695</td>\n      <td>-0.501102</td>\n      <td>-1.534140</td>\n      <td>0.338478</td>\n      <td>0.208419</td>\n      <td>-0.073431</td>\n      <td>-0.737749</td>\n      <td>...</td>\n      <td>-1.430388</td>\n      <td>-0.491455</td>\n      <td>0.040077</td>\n      <td>-0.326072</td>\n      <td>1.178487</td>\n      <td>-1.054148</td>\n      <td>1.927292</td>\n      <td>-0.165726</td>\n      <td>-0.029658</td>\n      <td>0.345551</td>\n    </tr>\n    <tr>\n      <th>1</th>\n      <td>-0.518761</td>\n      <td>-0.353989</td>\n      <td>-0.180749</td>\n      <td>0.549058</td>\n      <td>-0.388767</td>\n      <td>-0.490171</td>\n      <td>-0.611932</td>\n      <td>-2.622099</td>\n      <td>3.951780</td>\n      <td>0.254189</td>\n      <td>...</td>\n      <td>0.554503</td>\n      <td>-0.687135</td>\n      <td>2.857665</td>\n      <td>0.165545</td>\n      <td>-0.802704</td>\n      <td>-0.320889</td>\n      <td>-0.201853</td>\n      <td>0.097872</td>\n      <td>1.357111</td>\n      <td>-0.637556</td>\n    </tr>\n    <tr>\n      <th>2</th>\n      <td>1.321418</td>\n      <td>-0.422776</td>\n      <td>-0.480170</td>\n      <td>-0.531381</td>\n      <td>0.785510</td>\n      <td>0.114270</td>\n      <td>-2.765978</td>\n      <td>0.264479</td>\n      <td>0.120262</td>\n      <td>0.951149</td>\n      <td>...</td>\n      <td>-1.033059</td>\n      <td>-0.752377</td>\n      <td>-0.054410</td>\n      <td>-0.938835</td>\n      <td>0.404184</td>\n      <td>-0.760587</td>\n      <td>-0.239611</td>\n      <td>-0.880414</td>\n      <td>0.180943</td>\n      <td>0.340385</td>\n    </tr>\n    <tr>\n      <th>3</th>\n      <td>0.730875</td>\n      <td>-0.296530</td>\n      <td>-0.458694</td>\n      <td>-0.770474</td>\n      <td>0.435712</td>\n      <td>-0.141656</td>\n      <td>-0.428404</td>\n      <td>2.235626</td>\n      <td>-0.669939</td>\n      <td>1.011461</td>\n      <td>...</td>\n      <td>-0.403718</td>\n      <td>-0.733698</td>\n      <td>-0.087447</td>\n      <td>-0.605880</td>\n      <td>0.022829</td>\n      <td>-0.714646</td>\n      <td>-0.279524</td>\n      <td>-0.413871</td>\n      <td>-0.971468</td>\n      <td>-1.747553</td>\n    </tr>\n    <tr>\n      <th>4</th>\n      <td>-1.248406</td>\n      <td>-0.206162</td>\n      <td>3.027371</td>\n      <td>-0.609428</td>\n      <td>-0.064114</td>\n      <td>-0.220128</td>\n      <td>0.481954</td>\n      <td>-0.317234</td>\n      <td>-0.746926</td>\n      <td>1.124553</td>\n      <td>...</td>\n      <td>-0.907040</td>\n      <td>0.013984</td>\n      <td>-0.452085</td>\n      <td>-0.405926</td>\n      <td>-1.431098</td>\n      <td>-0.665738</td>\n      <td>-0.263522</td>\n      <td>-0.665278</td>\n      <td>-1.858388</td>\n      <td>-1.061413</td>\n    </tr>\n    <tr>\n      <th>...</th>\n      <td>...</td>\n      <td>...</td>\n      <td>...</td>\n      <td>...</td>\n      <td>...</td>\n      <td>...</td>\n      <td>...</td>\n      <td>...</td>\n      <td>...</td>\n      <td>...</td>\n      <td>...</td>\n      <td>...</td>\n      <td>...</td>\n      <td>...</td>\n      <td>...</td>\n      <td>...</td>\n      <td>...</td>\n      <td>...</td>\n      <td>...</td>\n      <td>...</td>\n      <td>...</td>\n    </tr>\n    <tr>\n      <th>394</th>\n      <td>0.533980</td>\n      <td>-0.106597</td>\n      <td>-0.226162</td>\n      <td>-0.433817</td>\n      <td>-0.285253</td>\n      <td>-1.363012</td>\n      <td>0.827192</td>\n      <td>-0.006552</td>\n      <td>-0.772947</td>\n      <td>1.011091</td>\n      <td>...</td>\n      <td>-1.706686</td>\n      <td>-0.738530</td>\n      <td>-0.431270</td>\n      <td>-0.298217</td>\n      <td>-0.091488</td>\n      <td>-0.731939</td>\n      <td>-0.180040</td>\n      <td>-0.794680</td>\n      <td>-0.586292</td>\n      <td>-0.785630</td>\n    </tr>\n    <tr>\n      <th>395</th>\n      <td>-1.152426</td>\n      <td>-0.779573</td>\n      <td>0.229263</td>\n      <td>-0.871816</td>\n      <td>-0.954654</td>\n      <td>-0.088226</td>\n      <td>-0.131277</td>\n      <td>-0.270070</td>\n      <td>-0.845781</td>\n      <td>-1.645165</td>\n      <td>...</td>\n      <td>-2.965395</td>\n      <td>-0.829874</td>\n      <td>-0.515783</td>\n      <td>-0.407248</td>\n      <td>-0.144628</td>\n      <td>0.697741</td>\n      <td>-0.408224</td>\n      <td>-2.478160</td>\n      <td>0.017733</td>\n      <td>-0.412977</td>\n    </tr>\n    <tr>\n      <th>396</th>\n      <td>0.497909</td>\n      <td>-0.013291</td>\n      <td>-0.224135</td>\n      <td>0.208550</td>\n      <td>0.898023</td>\n      <td>-0.023965</td>\n      <td>0.534647</td>\n      <td>-0.715295</td>\n      <td>-0.130239</td>\n      <td>0.741091</td>\n      <td>...</td>\n      <td>1.108938</td>\n      <td>-0.330397</td>\n      <td>-0.209784</td>\n      <td>0.613250</td>\n      <td>0.857054</td>\n      <td>-0.132528</td>\n      <td>-0.083345</td>\n      <td>-0.799773</td>\n      <td>0.565049</td>\n      <td>-0.215327</td>\n    </tr>\n    <tr>\n      <th>397</th>\n      <td>-0.486149</td>\n      <td>0.123253</td>\n      <td>-0.166654</td>\n      <td>-0.074542</td>\n      <td>-0.158834</td>\n      <td>-4.091931</td>\n      <td>1.715548</td>\n      <td>0.044058</td>\n      <td>-0.282445</td>\n      <td>-2.113900</td>\n      <td>...</td>\n      <td>-0.208406</td>\n      <td>-0.215968</td>\n      <td>0.211222</td>\n      <td>2.027927</td>\n      <td>0.795323</td>\n      <td>-0.450778</td>\n      <td>-0.284392</td>\n      <td>1.654560</td>\n      <td>0.489153</td>\n      <td>0.768470</td>\n    </tr>\n    <tr>\n      <th>398</th>\n      <td>-0.978163</td>\n      <td>0.090919</td>\n      <td>-0.427232</td>\n      <td>-0.234380</td>\n      <td>-0.060715</td>\n      <td>-1.758468</td>\n      <td>0.280150</td>\n      <td>0.318896</td>\n      <td>-0.612660</td>\n      <td>-1.377588</td>\n      <td>...</td>\n      <td>-0.311791</td>\n      <td>-0.482889</td>\n      <td>0.367394</td>\n      <td>0.594206</td>\n      <td>-1.366024</td>\n      <td>-0.294787</td>\n      <td>-0.197068</td>\n      <td>0.301505</td>\n      <td>1.783652</td>\n      <td>2.079054</td>\n    </tr>\n  </tbody>\n</table>\n<p>399 rows × 157 columns</p>\n</div>"
     },
     "execution_count": 68,
     "metadata": {},
     "output_type": "execute_result"
    }
   ],
   "source": [
    "fs_GDSC_combination = reduced_GDSC_combination[reduced_GDSC_combination.columns[list_of_selected_features]]\n",
    "fs_GDSC_combination"
   ],
   "metadata": {
    "collapsed": false,
    "pycharm": {
     "name": "#%%\n"
    }
   }
  },
  {
   "cell_type": "code",
   "execution_count": 103,
   "outputs": [],
   "source": [
    "fs_extra_test_dataset = extra_test_dataset[extra_test_dataset.columns[list_of_selected_features]]\n",
    "# fs_extra_test_dataset"
   ],
   "metadata": {
    "collapsed": false,
    "pycharm": {
     "name": "#%%\n"
    }
   }
  },
  {
   "cell_type": "code",
   "execution_count": 104,
   "outputs": [],
   "source": [
    "fs_CCLE_PDF_Paclitaxel = reduced_CCLE_PDF_Paclitaxel[reduced_CCLE_PDF_Paclitaxel.columns[list_of_selected_features]]\n",
    "# fs_CCLE_PDF_Paclitaxel"
   ],
   "metadata": {
    "collapsed": false,
    "pycharm": {
     "name": "#%%\n"
    }
   }
  },
  {
   "cell_type": "markdown",
   "source": [
    "----\n",
    "## E. 訓練模型\n",
    "* 篩選特徵後，使用不同模型重新訓練，並觀察其在 額外測試資料集 上的結果\n",
    "\n",
    "### E-1. 使用 SVM 訓練"
   ],
   "metadata": {
    "collapsed": false,
    "pycharm": {
     "name": "#%% md\n"
    }
   }
  },
  {
   "cell_type": "code",
   "execution_count": 71,
   "outputs": [
    {
     "name": "stderr",
     "output_type": "stream",
     "text": [
      "C:\\ProgramData\\Anaconda3\\lib\\site-packages\\sklearn\\utils\\validation.py:63: DataConversionWarning: A column-vector y was passed when a 1d array was expected. Please change the shape of y to (n_samples, ), for example using ravel().\n",
      "  return f(*args, **kwargs)\n"
     ]
    },
    {
     "data": {
      "text/plain": "<Figure size 432x288 with 2 Axes>",
      "image/png": "[encoded data removed]"
     },
     "metadata": {
      "needs_background": "light"
     },
     "output_type": "display_data"
    }
   ],
   "source": [
    "SVC_Model = SVC()\n",
    "SVC_Model.fit(fs_GDSC_combination, reduced_GDSC_combination_label)\n",
    "SVC_result = SVC_Model.predict(fs_extra_test_dataset)\n",
    "SVC_score = SVC_Model.score(fs_extra_test_dataset, extra_test_dataset_label)\n",
    "SVC_score = np.around(SVC_score, decimals=3)\n",
    "\n",
    "SVC_cm = confusion_matrix(extra_test_dataset_label, SVC_result)\n",
    "sns.heatmap(SVC_cm, square=True, annot=True, cmap=CMAP, cbar=True, fmt=\"\")\n",
    "SVC_plot = plt.xlabel(\"Prediction\")\n",
    "SVC_plot = plt.ylabel(\"Label\")\n",
    "SVC_plot = plt.title(f\"SVC - Confusion Matrix\\n with accuracy: {SVC_score}\")\n",
    "\n",
    "plt.show(SVC_plot)"
   ],
   "metadata": {
    "collapsed": false,
    "pycharm": {
     "name": "#%%\n"
    }
   }
  },
  {
   "cell_type": "code",
   "execution_count": 72,
   "outputs": [
    {
     "data": {
      "text/plain": "<Figure size 432x288 with 1 Axes>",
      "image/png": "[encoded data removed]"
     },
     "metadata": {
      "needs_background": "light"
     },
     "output_type": "display_data"
    }
   ],
   "source": [
    "metrics.plot_roc_curve(SVC_Model, fs_extra_test_dataset, extra_test_dataset_label)\n",
    "plt.title(\"SVC - ROC Curve\")\n",
    "plt.show()"
   ],
   "metadata": {
    "collapsed": false,
    "pycharm": {
     "name": "#%%\n"
    }
   }
  },
  {
   "cell_type": "markdown",
   "source": [
    "----\n",
    "### E-2. 使用 Adaboost 訓練\n"
   ],
   "metadata": {
    "collapsed": false,
    "pycharm": {
     "name": "#%% md\n"
    }
   }
  },
  {
   "cell_type": "code",
   "execution_count": 73,
   "outputs": [
    {
     "name": "stderr",
     "output_type": "stream",
     "text": [
      "C:\\ProgramData\\Anaconda3\\lib\\site-packages\\sklearn\\utils\\validation.py:63: DataConversionWarning: A column-vector y was passed when a 1d array was expected. Please change the shape of y to (n_samples, ), for example using ravel().\n",
      "  return f(*args, **kwargs)\n"
     ]
    },
    {
     "data": {
      "text/plain": "<Figure size 432x288 with 2 Axes>",
      "image/png": "[encoded data removed]"
     },
     "metadata": {
      "needs_background": "light"
     },
     "output_type": "display_data"
    }
   ],
   "source": [
    "AdaBoost_Model = AdaBoostClassifier()\n",
    "AdaBoost_Model.fit(fs_GDSC_combination, reduced_GDSC_combination_label)\n",
    "AdaBoost_result = AdaBoost_Model.predict(fs_extra_test_dataset)\n",
    "AdaBoost_score = AdaBoost_Model.score(fs_extra_test_dataset, extra_test_dataset_label)\n",
    "AdaBoost_score = np.around(AdaBoost_score, decimals=3)\n",
    "\n",
    "AdaBoost_cm = confusion_matrix(extra_test_dataset_label, AdaBoost_result)\n",
    "sns.heatmap(AdaBoost_cm, square=True, annot=True, cmap=CMAP, cbar=True, fmt=\"\")\n",
    "AdaBoost_plot = plt.xlabel(\"Prediction\")\n",
    "AdaBoost_plot = plt.ylabel(\"Label\")\n",
    "AdaBoost_plot = plt.title(f\"AdaBoost - Confusion Matrix\\n with accuracy: {AdaBoost_score}\")\n",
    "plt.show(AdaBoost_plot)"
   ],
   "metadata": {
    "collapsed": false,
    "pycharm": {
     "name": "#%%\n"
    }
   }
  },
  {
   "cell_type": "code",
   "execution_count": 74,
   "outputs": [
    {
     "data": {
      "text/plain": "<Figure size 432x288 with 1 Axes>",
      "image/png": "[encoded data removed]"
     },
     "metadata": {
      "needs_background": "light"
     },
     "output_type": "display_data"
    }
   ],
   "source": [
    "metrics.plot_roc_curve(AdaBoost_Model, fs_extra_test_dataset, extra_test_dataset_label)\n",
    "plt.title(\"AdaBoost - ROC Curve\")\n",
    "plt.show()"
   ],
   "metadata": {
    "collapsed": false,
    "pycharm": {
     "name": "#%%\n"
    }
   }
  },
  {
   "cell_type": "markdown",
   "source": [
    "----\n",
    "### E-3. 使用 KNN 訓練"
   ],
   "metadata": {
    "collapsed": false,
    "pycharm": {
     "name": "#%% md\n"
    }
   }
  },
  {
   "cell_type": "code",
   "execution_count": 75,
   "outputs": [
    {
     "name": "stderr",
     "output_type": "stream",
     "text": [
      "C:\\ProgramData\\Anaconda3\\lib\\site-packages\\sklearn\\neighbors\\_classification.py:179: DataConversionWarning: A column-vector y was passed when a 1d array was expected. Please change the shape of y to (n_samples,), for example using ravel().\n",
      "  return self._fit(X, y)\n"
     ]
    },
    {
     "data": {
      "text/plain": "<Figure size 432x288 with 2 Axes>",
      "image/png": "[encoded data removed]"
     },
     "metadata": {
      "needs_background": "light"
     },
     "output_type": "display_data"
    }
   ],
   "source": [
    "KNN_Model = KNeighborsClassifier(n_neighbors=3)\n",
    "\n",
    "KNN_Model.fit(fs_GDSC_combination, reduced_GDSC_combination_label)\n",
    "KNN_result = KNN_Model.predict(fs_extra_test_dataset)\n",
    "KNN_score = KNN_Model.score(fs_extra_test_dataset, extra_test_dataset_label)\n",
    "KNN_score = np.around(KNN_score, decimals=3)\n",
    "KNN_cm = confusion_matrix(extra_test_dataset_label, KNN_result)\n",
    "sns.heatmap(AdaBoost_cm, square=True, annot=True, cmap=CMAP, cbar=True, fmt=\"\")\n",
    "KNN_plot = plt.xlabel(\"Prediction\")\n",
    "KNN_plot = plt.ylabel(\"Label\")\n",
    "KNN_plot = plt.title(f\"KNN - Confusion Matrix\\n with accuracy: {KNN_score}\")\n",
    "\n",
    "plt.show(KNN_plot)"
   ],
   "metadata": {
    "collapsed": false,
    "pycharm": {
     "name": "#%%\n"
    }
   }
  },
  {
   "cell_type": "code",
   "execution_count": 76,
   "outputs": [
    {
     "data": {
      "text/plain": "<Figure size 432x288 with 1 Axes>",
      "image/png": "[encoded data removed]"
     },
     "metadata": {
      "needs_background": "light"
     },
     "output_type": "display_data"
    }
   ],
   "source": [
    "metrics.plot_roc_curve(KNN_Model, fs_extra_test_dataset, extra_test_dataset_label)\n",
    "plt.title(\"KNN - ROC Curve\")\n",
    "plt.show()"
   ],
   "metadata": {
    "collapsed": false,
    "pycharm": {
     "name": "#%%\n"
    }
   }
  },
  {
   "cell_type": "markdown",
   "source": [
    "----\n",
    "### E-4. 使用 Gaussian Naive Bayes 訓練"
   ],
   "metadata": {
    "collapsed": false,
    "pycharm": {
     "name": "#%% md\n"
    }
   }
  },
  {
   "cell_type": "code",
   "execution_count": 77,
   "outputs": [
    {
     "name": "stderr",
     "output_type": "stream",
     "text": [
      "C:\\ProgramData\\Anaconda3\\lib\\site-packages\\sklearn\\utils\\validation.py:63: DataConversionWarning: A column-vector y was passed when a 1d array was expected. Please change the shape of y to (n_samples, ), for example using ravel().\n",
      "  return f(*args, **kwargs)\n"
     ]
    },
    {
     "data": {
      "text/plain": "<Figure size 432x288 with 2 Axes>",
      "image/png": "[encoded data removed]"
     },
     "metadata": {
      "needs_background": "light"
     },
     "output_type": "display_data"
    }
   ],
   "source": [
    "NB_Model = GaussianNB()\n",
    "\n",
    "NB_Model.fit(fs_GDSC_combination, reduced_GDSC_combination_label)\n",
    "NB_score = NB_Model.score(fs_extra_test_dataset, extra_test_dataset_label)\n",
    "NB_score = np.around(NB_score, decimals=3)\n",
    "NB_result = NB_Model.predict(fs_extra_test_dataset)\n",
    "\n",
    "NB_cm = confusion_matrix(extra_test_dataset_label, NB_result)\n",
    "sns.heatmap(NB_cm, square=True, annot=True, cmap=CMAP, cbar=True, fmt=\"\")\n",
    "NB_plot = plt.xlabel(\"Prediction\")\n",
    "NB_plot = plt.ylabel(\"Label\")\n",
    "NB_plot = plt.title(f\"Naive Bayes - Confusion Matrix\\n with accuracy: {NB_score}\")\n",
    "plt.show(NB_plot)"
   ],
   "metadata": {
    "collapsed": false,
    "pycharm": {
     "name": "#%%\n"
    }
   }
  },
  {
   "cell_type": "code",
   "execution_count": 78,
   "outputs": [
    {
     "data": {
      "text/plain": "<Figure size 432x288 with 1 Axes>",
      "image/png": "[encoded data removed]"
     },
     "metadata": {
      "needs_background": "light"
     },
     "output_type": "display_data"
    }
   ],
   "source": [
    "NB_ROC = metrics.plot_roc_curve(NB_Model, fs_extra_test_dataset, extra_test_dataset_label)\n",
    "plt.title(\"Naive Bayes - ROC Curve\")\n",
    "plt.show(NB_ROC)"
   ],
   "metadata": {
    "collapsed": false,
    "pycharm": {
     "name": "#%%\n"
    }
   }
  },
  {
   "cell_type": "markdown",
   "source": [
    "---\n",
    "## F. 輸出結果 - 選定SVC模型做預測\n",
    "* 上述四個模型中，SVC表現最好，我們使用此模型來輸出 CCLE_PDX_Paclitaxel 的預測值。\n",
    "\n",
    "----\n",
    "### F-1. K-fold 交叉驗證\n",
    "* 將 k 設為 5，做交叉驗證，測試模型性能。"
   ],
   "metadata": {
    "collapsed": false,
    "pycharm": {
     "name": "#%% md\n"
    }
   }
  },
  {
   "cell_type": "code",
   "execution_count": 80,
   "outputs": [
    {
     "name": "stdout",
     "output_type": "stream",
     "text": [
      "[0.75  0.713 0.812 0.7   0.709]\n"
     ]
    }
   ],
   "source": [
    "kfold = KFold(n_splits=5, shuffle=True)\n",
    "kfold_results = cross_val_score(SVC_Model, fs_GDSC_combination,\n",
    "                                reduced_GDSC_combination_label.values.ravel(),\n",
    "                                cv=kfold)\n",
    "print(kfold_results)"
   ],
   "metadata": {
    "collapsed": false,
    "pycharm": {
     "name": "#%%\n"
    }
   }
  },
  {
   "cell_type": "markdown",
   "source": [
    "----\n",
    "### F-2 對 CCLE 中細胞珠進行預測（分類）"
   ],
   "metadata": {
    "collapsed": false,
    "pycharm": {
     "name": "#%% md\n"
    }
   }
  },
  {
   "cell_type": "code",
   "execution_count": 97,
   "outputs": [
    {
     "data": {
      "text/plain": "                             CELL_LINE_NAME Label\n0                            22RV1_PROSTATE     S\n1             42MGBA_CENTRAL_NERVOUS_SYSTEM     S\n2                        5637_URINARY_TRACT     S\n3                        639V_URINARY_TRACT     S\n4    697_HAEMATOPOIETIC_AND_LYMPHOID_TISSUE     S\n..                                      ...   ...\n464                   SKCO1_LARGE_INTESTINE     S\n465                            SNU449_LIVER     S\n466                             T47D_BREAST     S\n467                            UACC257_SKIN     S\n468                          VMRCRCW_KIDNEY     S\n\n[469 rows x 2 columns]",
      "text/html": "<div>\n<style scoped>\n    .dataframe tbody tr th:only-of-type {\n        vertical-align: middle;\n    }\n\n    .dataframe tbody tr th {\n        vertical-align: top;\n    }\n\n    .dataframe thead th {\n        text-align: right;\n    }\n</style>\n<table border=\"1\" class=\"dataframe\">\n  <thead>\n    <tr style=\"text-align: right;\">\n      <th></th>\n      <th>CELL_LINE_NAME</th>\n      <th>Label</th>\n    </tr>\n  </thead>\n  <tbody>\n    <tr>\n      <th>0</th>\n      <td>22RV1_PROSTATE</td>\n      <td>S</td>\n    </tr>\n    <tr>\n      <th>1</th>\n      <td>42MGBA_CENTRAL_NERVOUS_SYSTEM</td>\n      <td>S</td>\n    </tr>\n    <tr>\n      <th>2</th>\n      <td>5637_URINARY_TRACT</td>\n      <td>S</td>\n    </tr>\n    <tr>\n      <th>3</th>\n      <td>639V_URINARY_TRACT</td>\n      <td>S</td>\n    </tr>\n    <tr>\n      <th>4</th>\n      <td>697_HAEMATOPOIETIC_AND_LYMPHOID_TISSUE</td>\n      <td>S</td>\n    </tr>\n    <tr>\n      <th>...</th>\n      <td>...</td>\n      <td>...</td>\n    </tr>\n    <tr>\n      <th>464</th>\n      <td>SKCO1_LARGE_INTESTINE</td>\n      <td>S</td>\n    </tr>\n    <tr>\n      <th>465</th>\n      <td>SNU449_LIVER</td>\n      <td>S</td>\n    </tr>\n    <tr>\n      <th>466</th>\n      <td>T47D_BREAST</td>\n      <td>S</td>\n    </tr>\n    <tr>\n      <th>467</th>\n      <td>UACC257_SKIN</td>\n      <td>S</td>\n    </tr>\n    <tr>\n      <th>468</th>\n      <td>VMRCRCW_KIDNEY</td>\n      <td>S</td>\n    </tr>\n  </tbody>\n</table>\n<p>469 rows × 2 columns</p>\n</div>"
     },
     "execution_count": 97,
     "metadata": {},
     "output_type": "execute_result"
    }
   ],
   "source": [
    "CCLE_result = SVC_Model.predict(fs_CCLE_PDF_Paclitaxel)\n",
    "Label = []\n",
    "for i in range(len(CCLE_result)):\n",
    "    if CCLE_result[i] == 0:\n",
    "        Label.append(\"R\")\n",
    "    else:\n",
    "        Label.append(\"S\")\n",
    "CCLE_PDX_Paclitaxel_result = CCLE_PDX_Paclitaxel.assign(Label = Label)\n",
    "CCLE_PDX_Paclitaxel_result = CCLE_PDX_Paclitaxel_result[[\"CELL_LINE_NAME\", \"Label\"]]\n",
    "CCLE_PDX_Paclitaxel_result_pure_label = CCLE_PDX_Paclitaxel_result[[\"Label\"]]\n",
    "CCLE_PDX_Paclitaxel_result"
   ],
   "metadata": {
    "collapsed": false,
    "pycharm": {
     "name": "#%%\n"
    }
   }
  },
  {
   "cell_type": "markdown",
   "source": [
    "----\n",
    "\n",
    "### F-3 將結果輸出為 CSV file\n",
    "* 我分別輸出兩個 CSV 檔案，一個檔案包含 細胞珠名稱 與對應的 R/S 分類結果；另一個檔案中則僅有 分類結果，方便事後核對。"
   ],
   "metadata": {
    "collapsed": false,
    "pycharm": {
     "name": "#%% md\n"
    }
   }
  },
  {
   "cell_type": "code",
   "execution_count": 101,
   "outputs": [],
   "source": [
    "CCLE_PDX_Paclitaxel_result.to_csv(\"classification_result/result_with_header_and_index.csv\")\n",
    "CCLE_PDX_Paclitaxel_result_pure_label.to_csv(\"classification_result/pure_label.csv\", index=False, header=None)"
   ],
   "metadata": {
    "collapsed": false,
    "pycharm": {
     "name": "#%%\n"
    }
   }
  }
 ],
 "metadata": {
  "kernelspec": {
   "display_name": "Python 3",
   "language": "python",
   "name": "python3"
  },
  "language_info": {
   "codemirror_mode": {
    "name": "ipython",
    "version": 2
   },
   "file_extension": ".py",
   "mimetype": "text/x-python",
   "name": "python",
   "nbconvert_exporter": "python",
   "pygments_lexer": "ipython2",
   "version": "2.7.6"
  }
 },
 "nbformat": 4,
 "nbformat_minor": 0
}